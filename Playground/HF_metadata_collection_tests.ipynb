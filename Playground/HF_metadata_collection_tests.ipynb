{
 "cells": [
  {
   "cell_type": "markdown",
   "metadata": {},
   "source": [
    "# How to collect data from HF repository\n",
    "\n",
    "The idea is to get familiarize with the HF API to extract data from ML repositories.\n",
    "Is important to realize that relevant metadata basically can be found in the readme.MD file."
   ]
  },
  {
   "cell_type": "code",
   "execution_count": 42,
   "metadata": {},
   "outputs": [],
   "source": [
    "from huggingface_hub import hf_hub_download\n",
    "from huggingface_hub import ModelCard\n",
    "from huggingface_hub import HfApi\n",
    "from huggingface_hub.hf_api import RepoFile, RepoFolder\n",
    "from huggingface_hub.utils import EntryNotFoundError\n",
    "import matplotlib.pyplot as plt\n",
    "import requests\n",
    "import datetime\n",
    "from collections import defaultdict"
   ]
  },
  {
   "cell_type": "markdown",
   "metadata": {},
   "source": [
    "### Download a specific file\n",
    "\n",
    "In the quickstart guide of the [Hugging Face Hub API](https://huggingface.co/docs/huggingface_hub/v0.8.0/en/quick-start), there is an example on how to retrieve particular documents from the ML repository.  "
   ]
  },
  {
   "cell_type": "code",
   "execution_count": 2,
   "metadata": {},
   "outputs": [
    {
     "data": {
      "application/vnd.jupyter.widget-view+json": {
       "model_id": "cccba9d363d245fa931c6caf92a44fbc",
       "version_major": 2,
       "version_minor": 0
      },
      "text/plain": [
       "README.md:   0%|          | 0.00/5.36k [00:00<?, ?B/s]"
      ]
     },
     "metadata": {},
     "output_type": "display_data"
    },
    {
     "data": {
      "text/plain": [
       "'/root/.cache/huggingface/hub/models--google--pegasus-xsum/snapshots/8d8ffc158a3bee9fbb03afacdfc347c823c5ec8b/README.md'"
      ]
     },
     "execution_count": 2,
     "metadata": {},
     "output_type": "execute_result"
    }
   ],
   "source": [
    "hf_hub_download(repo_id=\"google/pegasus-xsum\", filename=\"README.md\")"
   ]
  },
  {
   "cell_type": "markdown",
   "metadata": {},
   "source": [
    "Now, we would like to pick where is the document being downloaded. Even check if we can bring it to memory right away.\n",
    "\n",
    "For the first problem we have the following [documentation](https://huggingface.co/docs/huggingface_hub/main/en/guides/download). We can use the `local_dir=\"path/to/folder\"` attribute of the `hf_hub_download` function."
   ]
  },
  {
   "cell_type": "markdown",
   "metadata": {},
   "source": [
    "### Model cards\n",
    "Even better than the above, there are ways to only query the Model card metadata that is usually on the README.md file, using the [ModelCard](https://huggingface.co/docs/huggingface_hub/main/en/guides/model-cards) function. \n",
    "\n",
    "Now the problem with this approach is clear, not all the metadata can be found on the Model card, a lot of useful information can be extracted from the README.md file.\n",
    "\n",
    "Even with the previous setback in can said that this functionality really helps to proccess the data better. \n",
    "\n",
    "Now I don't know if it is worth to spend one of the 10k limited requests we have every minute on a preprocessing step. "
   ]
  },
  {
   "cell_type": "code",
   "execution_count": 3,
   "metadata": {},
   "outputs": [
    {
     "name": "stdout",
     "output_type": "stream",
     "text": [
      "\n",
      "### Pegasus Models\n",
      "See Docs: [here](https://huggingface.co/transformers/master/model_doc/pegasus.html)\n",
      "\n",
      "Original TF 1 code [here](https://github.com/google-research/pegasus)\n",
      "\n",
      "Authors: Jingqing Zhang, Yao Zhao, Mohammad Saleh and Peter J. Liu on Dec 18, 2019\n",
      "\n",
      "Maintained by: [@sshleifer](https://twitter.com/sam_shleifer)\n",
      "\n",
      "Task: Summarization\n",
      "\n",
      "The following is copied from the authors' README.\n",
      "\n",
      "# Mixed & Stochastic Checkpoints\n",
      "\n",
      "We train a pegasus model with sampled gap sentence ratios on both C4 and HugeNews, and stochastically sample important sentences. The updated the results are reported in this table.\n",
      "\n",
      "| dataset | C4 | HugeNews | Mixed & Stochastic|\n",
      "| ---- | ---- | ---- | ----|\n",
      "| xsum | 45.20/22.06/36.99 | 47.21/24.56/39.25 | 47.60/24.83/39.64|\n",
      "| cnn_dailymail | 43.90/21.20/40.76 | 44.17/21.47/41.11 | 44.16/21.56/41.30|\n",
      "| newsroom | 45.07/33.39/41.28 | 45.15/33.51/41.33 | 45.98/34.20/42.18|\n",
      "| multi_news | 46.74/17.95/24.26 | 47.52/18.72/24.91 | 47.65/18.75/24.95|\n",
      "| gigaword | 38.75/19.96/36.14 | 39.12/19.86/36.24 | 39.65/20.47/36.76|\n",
      "| wikihow | 43.07/19.70/34.79 | 41.35/18.51/33.42 | 46.39/22.12/38.41 *|\n",
      "| reddit_tifu | 26.54/8.94/21.64 | 26.63/9.01/21.60 | 27.99/9.81/22.94|\n",
      "| big_patent | 53.63/33.16/42.25 | 53.41/32.89/42.07 | 52.29/33.08/41.66 *|\n",
      "| arxiv | 44.70/17.27/25.80 | 44.67/17.18/25.73 | 44.21/16.95/25.67|\n",
      "| pubmed | 45.49/19.90/27.69 | 45.09/19.56/27.42 | 45.97/20.15/28.25|\n",
      "| aeslc | 37.69/21.85/36.84 | 37.40/21.22/36.45 | 37.68/21.25/36.51|\n",
      "| billsum | 57.20/39.56/45.80 | 57.31/40.19/45.82 | 59.67/41.58/47.59|\n",
      "\n",
      "The \"Mixed & Stochastic\" model has the following changes:\n",
      "- trained on both C4 and HugeNews (dataset mixture is weighted by their number of examples). \n",
      "- trained for 1.5M instead of 500k (we observe slower convergence on pretraining perplexity).\n",
      "- the model uniformly sample a gap sentence ratio between 15% and 45%.\n",
      "- importance sentences are sampled using a 20% uniform noise to importance scores.\n",
      "- the sentencepiece tokenizer is updated to be able to encode newline character.\n",
      "\n",
      "\n",
      "(*) the numbers of wikihow and big_patent datasets are not comparable because of change in tokenization and data:\n",
      "- wikihow dataset contains newline characters which is useful for paragraph segmentation, the C4 and HugeNews model's sentencepiece tokenizer doesn't encode newline and loose this information.\n",
      "- we update the BigPatent dataset to preserve casing, some format cleanings are also changed, please refer to change in TFDS.\n",
      "\n",
      "\n",
      "The \"Mixed & Stochastic\" model has the following changes (from pegasus-large in the paper):\n",
      "\n",
      "\n",
      "trained on both C4 and HugeNews (dataset mixture is weighted by their number of examples).\n",
      "trained for 1.5M instead of 500k (we observe slower convergence on pretraining perplexity).\n",
      "the model uniformly sample a gap sentence ratio between 15% and 45%.\n",
      "importance sentences are sampled using a 20% uniform noise to importance scores.\n",
      "the sentencepiece tokenizer is updated to be able to encode newline character.\n",
      "\n",
      "\n",
      "Citation\n",
      "```\n",
      "\n",
      "\n",
      "@misc{zhang2019pegasus,\n",
      "    title={PEGASUS: Pre-training with Extracted Gap-sentences for Abstractive Summarization},\n",
      "    author={Jingqing Zhang and Yao Zhao and Mohammad Saleh and Peter J. Liu},\n",
      "    year={2019},\n",
      "    eprint={1912.08777},\n",
      "    archivePrefix={arXiv},\n",
      "    primaryClass={cs.CL}\n",
      "}\n",
      "```\n"
     ]
    }
   ],
   "source": [
    "card = ModelCard.load('google/pegasus-xsum')\n",
    "\n",
    "#Get the textual part of the README.md file of the model \n",
    "print(card.text)"
   ]
  },
  {
   "cell_type": "code",
   "execution_count": 4,
   "metadata": {},
   "outputs": [
    {
     "name": "stdout",
     "output_type": "stream",
     "text": [
      "language: en\n",
      "tags:\n",
      "- summarization\n",
      "model-index:\n",
      "- name: google/pegasus-xsum\n",
      "  results:\n",
      "  - task:\n",
      "      type: summarization\n",
      "      name: Summarization\n",
      "    dataset:\n",
      "      name: samsum\n",
      "      type: samsum\n",
      "      config: samsum\n",
      "      split: train\n",
      "    metrics:\n",
      "    - type: rouge\n",
      "      value: 21.8096\n",
      "      name: ROUGE-1\n",
      "      verified: true\n",
      "    - type: rouge\n",
      "      value: 4.2525\n",
      "      name: ROUGE-2\n",
      "      verified: true\n",
      "    - type: rouge\n",
      "      value: 17.4469\n",
      "      name: ROUGE-L\n",
      "      verified: true\n",
      "    - type: rouge\n",
      "      value: 18.8907\n",
      "      name: ROUGE-LSUM\n",
      "      verified: true\n",
      "    - type: loss\n",
      "      value: 3.0317161083221436\n",
      "      name: loss\n",
      "      verified: true\n",
      "    - type: gen_len\n",
      "      value: 20.3122\n",
      "      name: gen_len\n",
      "      verified: true\n",
      "  - task:\n",
      "      type: summarization\n",
      "      name: Summarization\n",
      "    dataset:\n",
      "      name: xsum\n",
      "      type: xsum\n",
      "      config: default\n",
      "      split: test\n",
      "    metrics:\n",
      "    - type: rouge\n",
      "      value: 46.8623\n",
      "      name: ROUGE-1\n",
      "      verified: true\n",
      "    - type: rouge\n",
      "      value: 24.4533\n",
      "      name: ROUGE-2\n",
      "      verified: true\n",
      "    - type: rouge\n",
      "      value: 39.0548\n",
      "      name: ROUGE-L\n",
      "      verified: true\n",
      "    - type: rouge\n",
      "      value: 39.0994\n",
      "      name: ROUGE-LSUM\n",
      "      verified: true\n",
      "    - type: loss\n",
      "      value: 1.5717021226882935\n",
      "      name: loss\n",
      "      verified: true\n",
      "    - type: gen_len\n",
      "      value: 22.8821\n",
      "      name: gen_len\n",
      "      verified: true\n",
      "  - task:\n",
      "      type: summarization\n",
      "      name: Summarization\n",
      "    dataset:\n",
      "      name: cnn_dailymail\n",
      "      type: cnn_dailymail\n",
      "      config: 3.0.0\n",
      "      split: test\n",
      "    metrics:\n",
      "    - type: rouge\n",
      "      value: 22.2062\n",
      "      name: ROUGE-1\n",
      "      verified: true\n",
      "    - type: rouge\n",
      "      value: 7.6701\n",
      "      name: ROUGE-2\n",
      "      verified: true\n",
      "    - type: rouge\n",
      "      value: 15.4046\n",
      "      name: ROUGE-L\n",
      "      verified: true\n",
      "    - type: rouge\n",
      "      value: 19.2182\n",
      "      name: ROUGE-LSUM\n",
      "      verified: true\n",
      "    - type: loss\n",
      "      value: 2.681241273880005\n",
      "      name: loss\n",
      "      verified: true\n",
      "    - type: gen_len\n",
      "      value: 25.0234\n",
      "      name: gen_len\n",
      "      verified: true\n"
     ]
    }
   ],
   "source": [
    "#Get the metadata part of README.md file of the model \n",
    "print(card.data)"
   ]
  },
  {
   "cell_type": "markdown",
   "metadata": {},
   "source": [
    "` card.data ` : Returns a ModelCardData instance with the model card’s metadata. \n",
    "Call `.to_dict()` on this instance to get the representation as a dictionary."
   ]
  },
  {
   "cell_type": "code",
   "execution_count": 5,
   "metadata": {},
   "outputs": [
    {
     "name": "stdout",
     "output_type": "stream",
     "text": [
      "{'language': 'en', 'tags': ['summarization'], 'model-index': [{'name': 'google/pegasus-xsum', 'results': [{'task': {'type': 'summarization', 'name': 'Summarization'}, 'dataset': {'name': 'samsum', 'type': 'samsum', 'config': 'samsum', 'split': 'train'}, 'metrics': [{'type': 'rouge', 'value': 21.8096, 'name': 'ROUGE-1', 'verified': True}, {'type': 'rouge', 'value': 4.2525, 'name': 'ROUGE-2', 'verified': True}, {'type': 'rouge', 'value': 17.4469, 'name': 'ROUGE-L', 'verified': True}, {'type': 'rouge', 'value': 18.8907, 'name': 'ROUGE-LSUM', 'verified': True}, {'type': 'loss', 'value': 3.0317161083221436, 'name': 'loss', 'verified': True}, {'type': 'gen_len', 'value': 20.3122, 'name': 'gen_len', 'verified': True}]}, {'task': {'type': 'summarization', 'name': 'Summarization'}, 'dataset': {'name': 'xsum', 'type': 'xsum', 'config': 'default', 'split': 'test'}, 'metrics': [{'type': 'rouge', 'value': 46.8623, 'name': 'ROUGE-1', 'verified': True}, {'type': 'rouge', 'value': 24.4533, 'name': 'ROUGE-2', 'verified': True}, {'type': 'rouge', 'value': 39.0548, 'name': 'ROUGE-L', 'verified': True}, {'type': 'rouge', 'value': 39.0994, 'name': 'ROUGE-LSUM', 'verified': True}, {'type': 'loss', 'value': 1.5717021226882935, 'name': 'loss', 'verified': True}, {'type': 'gen_len', 'value': 22.8821, 'name': 'gen_len', 'verified': True}]}, {'task': {'type': 'summarization', 'name': 'Summarization'}, 'dataset': {'name': 'cnn_dailymail', 'type': 'cnn_dailymail', 'config': '3.0.0', 'split': 'test'}, 'metrics': [{'type': 'rouge', 'value': 22.2062, 'name': 'ROUGE-1', 'verified': True}, {'type': 'rouge', 'value': 7.6701, 'name': 'ROUGE-2', 'verified': True}, {'type': 'rouge', 'value': 15.4046, 'name': 'ROUGE-L', 'verified': True}, {'type': 'rouge', 'value': 19.2182, 'name': 'ROUGE-LSUM', 'verified': True}, {'type': 'loss', 'value': 2.681241273880005, 'name': 'loss', 'verified': True}, {'type': 'gen_len', 'value': 25.0234, 'name': 'gen_len', 'verified': True}]}]}]}\n"
     ]
    }
   ],
   "source": [
    "print(card.data.to_dict())"
   ]
  },
  {
   "cell_type": "markdown",
   "metadata": {},
   "source": [
    "### Model card Format\n",
    "\n",
    "Information about the **format and fields** of the default template of the structured section of the Metadacard can be found [here](https://github.com/huggingface/huggingface_hub/blob/main/src/huggingface_hub/templates/modelcard_template.md).\n",
    "\n",
    "- A sample of the format explanation:\n",
    "\n",
    "    ``` markdown\n",
    "    ---\n",
    "    # For reference on model card metadata, see the spec: https://github.com/huggingface/hub-docs/blob/main/modelcard.md?plain=1\n",
    "    # Doc / guide: https://huggingface.co/docs/hub/model-cards\n",
    "    {{ card_data }}\n",
    "    ---\n",
    "\n",
    "    # Model Card for {{ model_id | default(\"Model ID\", true) }}\n",
    "\n",
    "    <!-- Provide a quick summary of what the model is/does. -->\n",
    "\n",
    "    {{ model_summary | default(\"\", true) }}\n",
    "\n",
    "    ## Model Details\n",
    "\n",
    "    ### Model Description\n",
    "\n",
    "    <!-- Provide a longer summary of what this model is. -->\n",
    "\n",
    "    {{ model_description | default(\"\", true) }}\n",
    "\n",
    "    - **Developed by:** {{ developers | default(\"[More Information Needed]\", true)}}\n",
    "    - **Funded by [optional]:** {{ funded_by | default(\"[More Information Needed]\", true)}}\n",
    "    - **Shared by [optional]:** {{ shared_by | default(\"[More Information Needed]\", true)}}\n",
    "    - **Model type:** {{ model_type | default(\"[More Information Needed]\", true)}}\n",
    "    - **Language(s) (NLP):** {{ language | default(\"[More Information Needed]\", true)}}\n",
    "    - **License:** {{ license | default(\"[More Information Needed]\", true)}}\n",
    "    - **Finetuned from model [optional]:** {{ base_model | default(\"[More Information Needed]\", true)}}\n",
    "    ```\n",
    "\n",
    "- The API provides an easy way to set this fields:\n",
    "\n",
    "    ``` python\n",
    "    # Using the Default Template\n",
    "    card_data = ModelCardData(\n",
    "        language='en',\n",
    "        license='mit',\n",
    "        library_name='timm',\n",
    "        tags=['image-classification', 'resnet'],\n",
    "        datasets=['beans'],\n",
    "        metrics=['accuracy'],\n",
    "    )\n",
    "    ```\n",
    "\n"
   ]
  },
  {
   "cell_type": "markdown",
   "metadata": {},
   "source": [
    "### List models\n",
    "\n",
    "Now the next step is how to get the names of the model repositories. After that, it would be nice to figure out a way to get the names of models based on a time period.\n",
    "\n",
    "Let's explore the [list_models](https://huggingface.co/docs/huggingface_hub/main/en/package_reference/hf_api#huggingface_hub.HfApi.list_models) function.\n",
    "\n",
    "We can access relevant information of the model by using the properties of the [ModelInfo](https://huggingface.co/docs/huggingface_hub/main/en/package_reference/hf_api#huggingface_hub.hf_api.ModelInfo) Object."
   ]
  },
  {
   "cell_type": "code",
   "execution_count": 6,
   "metadata": {},
   "outputs": [
    {
     "name": "stdout",
     "output_type": "stream",
     "text": [
      "albert/albert-base-v1 2022-03-02 23:29:04+00:00\n",
      "albert/albert-base-v2 2022-03-02 23:29:04+00:00\n",
      "albert/albert-large-v1 2022-03-02 23:29:04+00:00\n",
      "albert/albert-large-v2 2022-03-02 23:29:04+00:00\n",
      "albert/albert-xlarge-v1 2022-03-02 23:29:04+00:00\n"
     ]
    }
   ],
   "source": [
    "api = HfApi()\n",
    "\n",
    "# List all models\n",
    "model_list = api.list_models()\n",
    "\n",
    "i = 5\n",
    "\n",
    "for model in model_list:\n",
    "    if(i==0):\n",
    "        break\n",
    "    i-=1\n",
    "    print(model.id ,model.created_at)"
   ]
  },
  {
   "cell_type": "markdown",
   "metadata": {},
   "source": [
    "#### Order in the lists\n",
    "\n",
    "After around 30000 of the initial models, different dates start to appear, and they look to be orderd in an accedent pattern.\n",
    "The initial date appears to be 2022-03-02 23:29:04+00:00, and then another batch with 2022-03-02 23:29:05+00:00 appears as well.\n",
    "Retreiving the general information from each model seems to be fast."
   ]
  },
  {
   "cell_type": "code",
   "execution_count": 7,
   "metadata": {},
   "outputs": [
    {
     "name": "stdout",
     "output_type": "stream",
     "text": [
      "{datetime.datetime(2022, 3, 2, 23, 29, 4, tzinfo=datetime.timezone.utc), datetime.datetime(2022, 3, 2, 23, 29, 5, tzinfo=datetime.timezone.utc)}\n",
      "2\n"
     ]
    }
   ],
   "source": [
    "model_list = api.list_models()\n",
    "i = 30000\n",
    "unique_dates = set()\n",
    "for model in model_list:\n",
    "    if(i==0):\n",
    "        break\n",
    "    i-=1\n",
    "    unique_dates.add(model.created_at)\n",
    "\n",
    "print(unique_dates)\n",
    "print(len(unique_dates))"
   ]
  },
  {
   "cell_type": "code",
   "execution_count": 8,
   "metadata": {},
   "outputs": [
    {
     "name": "stdout",
     "output_type": "stream",
     "text": [
      "932\n",
      "['2022-03-09 13:30:22+00:00', '2022-03-03 15:53:14+00:00', '2022-03-04 12:49:07+00:00', '2022-03-07 00:22:21+00:00', '2022-03-08 14:22:06+00:00', '2022-03-03 04:53:15+00:00', '2022-03-11 20:09:49+00:00', '2022-03-06 20:35:13+00:00', '2022-03-05 20:52:57+00:00', '2022-03-07 09:51:17+00:00']\n"
     ]
    }
   ],
   "source": [
    "model_list = api.list_models()\n",
    "i = 31000\n",
    "unique_dates = set()\n",
    "for model in model_list:\n",
    "    if(i==0):\n",
    "        break\n",
    "    i-=1\n",
    "    unique_dates.add(model.created_at)\n",
    "\n",
    "print(len(unique_dates))\n",
    "last_10_dates = list(unique_dates)[-10:]\n",
    "print([str(x) for x in last_10_dates])"
   ]
  },
  {
   "cell_type": "markdown",
   "metadata": {},
   "source": [
    "### Combine the methods\n",
    "\n",
    "We can apply the knowledge of the model cards to the list of model information we got in the last section.\n",
    "\n",
    "The [`ModelInfo`](https://huggingface.co/docs/huggingface_hub/main/en/package_reference/hf_api#huggingface_hub.hf_api.ModelInfo) object returned by [`list_models()`](https://huggingface.co/docs/huggingface_hub/v0.5.1/en/package_reference/hf_api#huggingface_hub.HfApi.list_models) has the following restrictions:\n",
    "\n",
    "    Most attributes of this class are optional. This is because the data returned by the Hub depends on the query made. In general, the more specific the query, the more information is returned. On the contrary, when listing models using list_models() only a subset of the attributes are returned.\n",
    "\n",
    "The above means that, the data from the model card is not brought when the `list_models()` method is called."
   ]
  },
  {
   "cell_type": "code",
   "execution_count": 9,
   "metadata": {},
   "outputs": [],
   "source": [
    "model_list = api.list_models()\n",
    "i = 3\n",
    "found_metadata_list = []\n",
    "\n",
    "for model in model_list:\n",
    "    if(i==0):\n",
    "        break\n",
    "    if(model.card_data!=None):\n",
    "        found_metadata_list.append(model)\n",
    "        print(model.id)\n",
    "        print(model.card_data)\n",
    "        i-=1"
   ]
  },
  {
   "cell_type": "markdown",
   "metadata": {},
   "source": [
    "The solution is to use the ModelCard.load() function to bring the metadata information.\n",
    "Here an error occurs where, if the model does not have a model card, the function throws the following:\n",
    "```cmd\n",
    "    EntryNotFoundError: 404 Client Error. (Request ID: Root=1-65bab81f-55f2b8de5181a4be4982085b;0edd9b55-c840-4d40-a05e-d03930f3addf)\n",
    "\n",
    "    Entry Not Found for url: https://huggingface.co/zhuqing/bert-base-uncased-mumsnet-all-0/resolve/main/README.md.\n",
    "```\n",
    "\n",
    "You need to import the error from the HF utils libraries and handle it."
   ]
  },
  {
   "cell_type": "code",
   "execution_count": 10,
   "metadata": {},
   "outputs": [
    {
     "name": "stdout",
     "output_type": "stream",
     "text": [
      "Error loading model card, no model card found for zhuqing/roberta-large-uncased-exp3-parent\n",
      "Error loading model card, no model card found for zhuqing/test\n",
      "Error loading model card, no model card found for zhuqing/v1-theme1\n",
      "Error loading model card, no model card found for zhuqing/v1-theme2\n",
      "Error loading model card, no model card found for zichju/Eelai\n"
     ]
    },
    {
     "data": {
      "application/vnd.jupyter.widget-view+json": {
       "model_id": "6c92a7a11eb145c78f40d2a208cc3f74",
       "version_major": 2,
       "version_minor": 0
      },
      "text/plain": [
       "README.md:   0%|          | 0.00/1.83k [00:00<?, ?B/s]"
      ]
     },
     "metadata": {},
     "output_type": "display_data"
    },
    {
     "name": "stderr",
     "output_type": "stream",
     "text": [
      "Repo card metadata block was not found. Setting CardData to empty.\n"
     ]
    },
    {
     "name": "stdout",
     "output_type": "stream",
     "text": [
      "\n",
      "ziedsb19/tunbert_zied\n",
      "{'language': 'en', 'tags': ['summarization'], 'model-index': [{'name': 'google/pegasus-xsum', 'results': [{'task': {'type': 'summarization', 'name': 'Summarization'}, 'dataset': {'name': 'samsum', 'type': 'samsum', 'config': 'samsum', 'split': 'train'}, 'metrics': [{'type': 'rouge', 'value': 21.8096, 'name': 'ROUGE-1', 'verified': True}, {'type': 'rouge', 'value': 4.2525, 'name': 'ROUGE-2', 'verified': True}, {'type': 'rouge', 'value': 17.4469, 'name': 'ROUGE-L', 'verified': True}, {'type': 'rouge', 'value': 18.8907, 'name': 'ROUGE-LSUM', 'verified': True}, {'type': 'loss', 'value': 3.0317161083221436, 'name': 'loss', 'verified': True}, {'type': 'gen_len', 'value': 20.3122, 'name': 'gen_len', 'verified': True}]}, {'task': {'type': 'summarization', 'name': 'Summarization'}, 'dataset': {'name': 'xsum', 'type': 'xsum', 'config': 'default', 'split': 'test'}, 'metrics': [{'type': 'rouge', 'value': 46.8623, 'name': 'ROUGE-1', 'verified': True}, {'type': 'rouge', 'value': 24.4533, 'name': 'ROUGE-2', 'verified': True}, {'type': 'rouge', 'value': 39.0548, 'name': 'ROUGE-L', 'verified': True}, {'type': 'rouge', 'value': 39.0994, 'name': 'ROUGE-LSUM', 'verified': True}, {'type': 'loss', 'value': 1.5717021226882935, 'name': 'loss', 'verified': True}, {'type': 'gen_len', 'value': 22.8821, 'name': 'gen_len', 'verified': True}]}, {'task': {'type': 'summarization', 'name': 'Summarization'}, 'dataset': {'name': 'cnn_dailymail', 'type': 'cnn_dailymail', 'config': '3.0.0', 'split': 'test'}, 'metrics': [{'type': 'rouge', 'value': 22.2062, 'name': 'ROUGE-1', 'verified': True}, {'type': 'rouge', 'value': 7.6701, 'name': 'ROUGE-2', 'verified': True}, {'type': 'rouge', 'value': 15.4046, 'name': 'ROUGE-L', 'verified': True}, {'type': 'rouge', 'value': 19.2182, 'name': 'ROUGE-LSUM', 'verified': True}, {'type': 'loss', 'value': 2.681241273880005, 'name': 'loss', 'verified': True}, {'type': 'gen_len', 'value': 25.0234, 'name': 'gen_len', 'verified': True}]}]}]}\n",
      "Error loading model card, no model card found for zimeczeq/jojo\n",
      "Error loading model card, no model card found for ziming/bert-finetuned-ner\n",
      "Error loading model card, no model card found for Elomeno/recommender\n"
     ]
    },
    {
     "data": {
      "application/vnd.jupyter.widget-view+json": {
       "model_id": "19080635f5b140e199677ffed1e57123",
       "version_major": 2,
       "version_minor": 0
      },
      "text/plain": [
       "README.md:   0%|          | 0.00/57.0 [00:00<?, ?B/s]"
      ]
     },
     "metadata": {},
     "output_type": "display_data"
    },
    {
     "name": "stdout",
     "output_type": "stream",
     "text": [
      "\n",
      "zinary/DialoGPT-small-rick-new\n",
      "{'language': 'en', 'tags': ['summarization'], 'model-index': [{'name': 'google/pegasus-xsum', 'results': [{'task': {'type': 'summarization', 'name': 'Summarization'}, 'dataset': {'name': 'samsum', 'type': 'samsum', 'config': 'samsum', 'split': 'train'}, 'metrics': [{'type': 'rouge', 'value': 21.8096, 'name': 'ROUGE-1', 'verified': True}, {'type': 'rouge', 'value': 4.2525, 'name': 'ROUGE-2', 'verified': True}, {'type': 'rouge', 'value': 17.4469, 'name': 'ROUGE-L', 'verified': True}, {'type': 'rouge', 'value': 18.8907, 'name': 'ROUGE-LSUM', 'verified': True}, {'type': 'loss', 'value': 3.0317161083221436, 'name': 'loss', 'verified': True}, {'type': 'gen_len', 'value': 20.3122, 'name': 'gen_len', 'verified': True}]}, {'task': {'type': 'summarization', 'name': 'Summarization'}, 'dataset': {'name': 'xsum', 'type': 'xsum', 'config': 'default', 'split': 'test'}, 'metrics': [{'type': 'rouge', 'value': 46.8623, 'name': 'ROUGE-1', 'verified': True}, {'type': 'rouge', 'value': 24.4533, 'name': 'ROUGE-2', 'verified': True}, {'type': 'rouge', 'value': 39.0548, 'name': 'ROUGE-L', 'verified': True}, {'type': 'rouge', 'value': 39.0994, 'name': 'ROUGE-LSUM', 'verified': True}, {'type': 'loss', 'value': 1.5717021226882935, 'name': 'loss', 'verified': True}, {'type': 'gen_len', 'value': 22.8821, 'name': 'gen_len', 'verified': True}]}, {'task': {'type': 'summarization', 'name': 'Summarization'}, 'dataset': {'name': 'cnn_dailymail', 'type': 'cnn_dailymail', 'config': '3.0.0', 'split': 'test'}, 'metrics': [{'type': 'rouge', 'value': 22.2062, 'name': 'ROUGE-1', 'verified': True}, {'type': 'rouge', 'value': 7.6701, 'name': 'ROUGE-2', 'verified': True}, {'type': 'rouge', 'value': 15.4046, 'name': 'ROUGE-L', 'verified': True}, {'type': 'rouge', 'value': 19.2182, 'name': 'ROUGE-LSUM', 'verified': True}, {'type': 'loss', 'value': 2.681241273880005, 'name': 'loss', 'verified': True}, {'type': 'gen_len', 'value': 25.0234, 'name': 'gen_len', 'verified': True}]}]}]}\n",
      "Error loading model card, no model card found for zinary/DialoGPT-small-rick_v2\n",
      "Error loading model card, no model card found for ziqingyang/XLMRobertaBaseForPAWSX-en\n"
     ]
    },
    {
     "data": {
      "application/vnd.jupyter.widget-view+json": {
       "model_id": "4af4b615ce41428cae71fde1f2015128",
       "version_major": 2,
       "version_minor": 0
      },
      "text/plain": [
       "README.md:   0%|          | 0.00/31.0 [00:00<?, ?B/s]"
      ]
     },
     "metadata": {},
     "output_type": "display_data"
    },
    {
     "name": "stdout",
     "output_type": "stream",
     "text": [
      "\n",
      "ziqingyang/XLMRobertaBaseForXNLI-en\n",
      "{'language': 'en', 'tags': ['summarization'], 'model-index': [{'name': 'google/pegasus-xsum', 'results': [{'task': {'type': 'summarization', 'name': 'Summarization'}, 'dataset': {'name': 'samsum', 'type': 'samsum', 'config': 'samsum', 'split': 'train'}, 'metrics': [{'type': 'rouge', 'value': 21.8096, 'name': 'ROUGE-1', 'verified': True}, {'type': 'rouge', 'value': 4.2525, 'name': 'ROUGE-2', 'verified': True}, {'type': 'rouge', 'value': 17.4469, 'name': 'ROUGE-L', 'verified': True}, {'type': 'rouge', 'value': 18.8907, 'name': 'ROUGE-LSUM', 'verified': True}, {'type': 'loss', 'value': 3.0317161083221436, 'name': 'loss', 'verified': True}, {'type': 'gen_len', 'value': 20.3122, 'name': 'gen_len', 'verified': True}]}, {'task': {'type': 'summarization', 'name': 'Summarization'}, 'dataset': {'name': 'xsum', 'type': 'xsum', 'config': 'default', 'split': 'test'}, 'metrics': [{'type': 'rouge', 'value': 46.8623, 'name': 'ROUGE-1', 'verified': True}, {'type': 'rouge', 'value': 24.4533, 'name': 'ROUGE-2', 'verified': True}, {'type': 'rouge', 'value': 39.0548, 'name': 'ROUGE-L', 'verified': True}, {'type': 'rouge', 'value': 39.0994, 'name': 'ROUGE-LSUM', 'verified': True}, {'type': 'loss', 'value': 1.5717021226882935, 'name': 'loss', 'verified': True}, {'type': 'gen_len', 'value': 22.8821, 'name': 'gen_len', 'verified': True}]}, {'task': {'type': 'summarization', 'name': 'Summarization'}, 'dataset': {'name': 'cnn_dailymail', 'type': 'cnn_dailymail', 'config': '3.0.0', 'split': 'test'}, 'metrics': [{'type': 'rouge', 'value': 22.2062, 'name': 'ROUGE-1', 'verified': True}, {'type': 'rouge', 'value': 7.6701, 'name': 'ROUGE-2', 'verified': True}, {'type': 'rouge', 'value': 15.4046, 'name': 'ROUGE-L', 'verified': True}, {'type': 'rouge', 'value': 19.2182, 'name': 'ROUGE-LSUM', 'verified': True}, {'type': 'loss', 'value': 2.681241273880005, 'name': 'loss', 'verified': True}, {'type': 'gen_len', 'value': 25.0234, 'name': 'gen_len', 'verified': True}]}]}]}\n"
     ]
    }
   ],
   "source": [
    "model_list = api.list_models()\n",
    "i = 3\n",
    "start = 30000\n",
    "found_metadata_list = []\n",
    "\n",
    "for model in model_list:\n",
    "    if(start>0):\n",
    "        start-=1\n",
    "        continue\n",
    "    \n",
    "    if(i==0):\n",
    "        break\n",
    "    \n",
    "    model_card_data = None\n",
    "    try:\n",
    "        model_card_data = ModelCard.load(model.id)\n",
    "    except EntryNotFoundError:\n",
    "        print(f\"Error loading model card, no model card found for {model.id}\")\n",
    "    \n",
    "    if(model_card_data!=None):\n",
    "        print()\n",
    "        print(model.id)\n",
    "        print(card.data.to_dict())\n",
    "        i-=1"
   ]
  },
  {
   "cell_type": "markdown",
   "metadata": {},
   "source": [
    "### Faster downloads\n",
    "If you are running on a machine with high bandwidth, you can increase your download speed with [hf_transfer](https://github.com/huggingface/hf_transfer), a Rust-based library developed to speed up file transfers with the Hub. To enable it:\n",
    "\n",
    "- Specify the hf_transfer extra when installing huggingface_hub (e.g. pip install huggingface_hub[hf_transfer]).\n",
    "- Set HF_HUB_ENABLE_HF_TRANSFER=1 as an environment variable.\n",
    "\n",
    "Test will have to be made to actually determine how worth it it is to use this feature, given that the README.md files weight between 3KB to 10KB."
   ]
  },
  {
   "cell_type": "markdown",
   "metadata": {},
   "source": [
    "# Hugging Face Platform user usage.\n",
    "\n",
    "## Models creation curve\n",
    "\n",
    "The idea is to visualize the growth curve of models creation in the Hugging Face platform."
   ]
  },
  {
   "cell_type": "code",
   "execution_count": 11,
   "metadata": {},
   "outputs": [
    {
     "data": {
      "image/png": "[encoded data removed]",
      "text/plain": [
       "<Figure size 640x480 with 1 Axes>"
      ]
     },
     "metadata": {},
     "output_type": "display_data"
    }
   ],
   "source": [
    "api = HfApi()\n",
    "model_list = api.list_models()\n",
    "i = 1000000\n",
    "start = 0\n",
    "dates = []\n",
    "counts = []\n",
    "\n",
    "for model in model_list:\n",
    "  if start > 0:\n",
    "    start -= 1\n",
    "    continue\n",
    "  \n",
    "  if i == 0:\n",
    "    break\n",
    "\n",
    "  date = model.created_at\n",
    "  dates.append(date)\n",
    "\n",
    "  i -= 1\n",
    "  counts.append(len(dates))\n",
    "\n",
    "plt.plot(dates, counts)\n",
    "plt.xlabel('Date')\n",
    "plt.ylabel('Cumulative Model Count')\n",
    "plt.title('Hugging Face Model Cumulative Growth Over Time')\n",
    "plt.xticks(rotation=45)\n",
    "plt.tight_layout()\n",
    "plt.show()"
   ]
  },
  {
   "cell_type": "code",
   "execution_count": 12,
   "metadata": {},
   "outputs": [
    {
     "data": {
      "image/png": "[encoded data removed]",
      "text/plain": [
       "<Figure size 640x480 with 1 Axes>"
      ]
     },
     "metadata": {},
     "output_type": "display_data"
    }
   ],
   "source": [
    "api = HfApi()\n",
    "model_list = api.list_models()\n",
    "i = 1000000\n",
    "start = 0\n",
    "\n",
    "dates = []\n",
    "daily_counts_dict = defaultdict(int)\n",
    "\n",
    "for model in model_list:\n",
    "  if start > 0:\n",
    "    start -= 1\n",
    "    continue\n",
    "  \n",
    "  if i == 0:\n",
    "    break\n",
    "\n",
    "  date = model.created_at\n",
    "  daily_counts_dict[date.strftime(\"%Y-%m\")] += 1 # Add 1 for each model\n",
    "  i-=1\n",
    "  \n",
    "dates = []\n",
    "daily_counts_list = []\n",
    "for date, count in daily_counts_dict.items():\n",
    "  dates.append(date)\n",
    "  daily_counts_list.append(count)\n",
    "  \n",
    "plt.plot(dates, daily_counts_list)\n",
    "plt.xlabel('Date')\n",
    "plt.ylabel('New Models') \n",
    "plt.title('Hugging Face Model Creation per month')\n",
    "plt.xticks(rotation=45)\n",
    "\n",
    "plt.yscale('log')\n",
    "\n",
    "plt.tight_layout()\n",
    "plt.show()"
   ]
  },
  {
   "cell_type": "markdown",
   "metadata": {},
   "source": [
    "## Models being updated\n",
    "\n",
    "The idea is to visualize how many models are being updated.\n",
    "\n",
    "In the following graph will see how many models were last updated per month.\n",
    "\n",
    "The first thing that changes from the previous graph is that we are using the `full = True` parameter in the [`api.list_models()`](https://huggingface.co/docs/huggingface_hub/v0.5.1/en/package_reference/hf_api#huggingface_hub.HfApi.list_models) function, that parameter allows us to bring more information about the models, including the last update date and other files that are not that light.\n",
    "\n",
    "The second thing that changes is that we are using the `limit` parameter to bring X amount of models at a time.\n",
    "\n",
    "While trying to use the ```api.list_models(limit=250000, full = True)```python function we found a problem with the amount of data a request can bring. \n",
    "\n",
    "```cmd\n",
    "    IncompleteRead: IncompleteRead(15015817 bytes read, 278169 more expected)\n",
    "```"
   ]
  },
  {
   "cell_type": "code",
   "execution_count": 13,
   "metadata": {},
   "outputs": [],
   "source": [
    "api = HfApi()\n",
    "i = 2000 \n",
    "model_list = list(api.list_models(limit=i,full=True))\n",
    "start = 0\n",
    "\n",
    "dates = []\n",
    "daily_counts_dict = defaultdict(int)\n",
    "number_of_models_not_modified = 0\n",
    "\n",
    "for model in model_list:\n",
    "  if start > 0:\n",
    "    start -= 1\n",
    "    continue\n",
    "  \n",
    "  if i == 0:\n",
    "    break\n",
    "\n",
    "  date_created = model.created_at\n",
    "  date_modified = model.last_modified\n",
    "  if date_modified != None and date_modified!= date_created:\n",
    "    daily_counts_dict[date_modified.strftime(\"%Y-%m\")] += 1 # Add 1 for each model\n",
    "  else:\n",
    "    number_of_models_not_modified += 1\n",
    "  \n",
    "  i-=1\n",
    "  \n",
    "dates = []\n",
    "daily_counts_list = []\n",
    "sorted_daily_counts_dict = sorted(daily_counts_dict.items(), key=lambda x: x[0])\n",
    "\n",
    "for date, count in sorted_daily_counts_dict:\n",
    "  dates.append(date)\n",
    "  daily_counts_list.append(count)"
   ]
  },
  {
   "cell_type": "code",
   "execution_count": 14,
   "metadata": {},
   "outputs": [
    {
     "name": "stdout",
     "output_type": "stream",
     "text": [
      "0\n"
     ]
    },
    {
     "data": {
      "image/png": "[encoded data removed]",
      "text/plain": [
       "<Figure size 640x480 with 1 Axes>"
      ]
     },
     "metadata": {},
     "output_type": "display_data"
    }
   ],
   "source": [
    "import matplotlib.ticker as mtick\n",
    "\n",
    "print(number_of_models_not_modified)\n",
    "plt.plot(dates, daily_counts_list)\n",
    "plt.xlabel('Date')\n",
    "plt.ylabel('# of Models updated') \n",
    "plt.title('Hugging Face Last model update per month')\n",
    "plt.xticks(rotation=45)\n",
    "ax = plt.gca()  \n",
    "ax.xaxis.set_major_locator(mtick.MultipleLocator(5))\n",
    "\n",
    "# plt.yscale('log')\n",
    "\n",
    "plt.tight_layout()\n",
    "plt.show()"
   ]
  },
  {
   "cell_type": "markdown",
   "metadata": {},
   "source": [
    "The problem with the above graph is that the models that are brought are ordered based in the creation time in acending order and the limit on the amount of models that can be brougt because of the `full = true` parameter. When using the `full=true` parameter a lot of files about the model are brought and that makes the errors that we have seen before appear.\n",
    "\n",
    "Now the trick is to use a filter to bring batches of models based on the last modified date, and for that we can use the `sort=\"last_modified\"` parameter and the `direction=1` parameter to control the order of the requests. When we use the `sort=\"last_modified\"` parameter the objects in the response will also include the last modified date of the model without the need of bringing all the other unnecessary files."
   ]
  },
  {
   "cell_type": "code",
   "execution_count": 15,
   "metadata": {},
   "outputs": [],
   "source": [
    "i = 250000\n",
    "\n",
    "model_list_back = []\n",
    "model_list_back = list(api.list_models(limit=i,sort=\"last_modified\",direction=1))\n",
    "model_list_front = list(api.list_models(limit=i,sort=\"last_modified\",direction=-1))\n",
    "\n",
    "model_list = model_list_back + model_list_front\n",
    "\n",
    "dates = []\n",
    "daily_counts_dict = defaultdict(int)\n",
    "number_of_models_not_modified = 0\n",
    "\n",
    "for model in model_list:\n",
    "\n",
    "  date_created = model.created_at\n",
    "  date_modified = model.last_modified\n",
    "  if date_modified != None and date_modified!= date_created:\n",
    "    daily_counts_dict[date_modified.strftime(\"%Y-%m\")] += 1 # Add 1 for each model\n",
    "  else:\n",
    "    number_of_models_not_modified += 1\n",
    "  \n",
    "  i-=1\n",
    "  \n",
    "dates = []\n",
    "daily_counts_list = []\n",
    "sorted_daily_counts_dict = sorted(daily_counts_dict.items(), key=lambda x: x[0])\n",
    "\n",
    "for date, count in sorted_daily_counts_dict:\n",
    "  dates.append(date)\n",
    "  daily_counts_list.append(count)"
   ]
  },
  {
   "cell_type": "code",
   "execution_count": 16,
   "metadata": {},
   "outputs": [
    {
     "name": "stdout",
     "output_type": "stream",
     "text": [
      "# of models not modified:  75634\n"
     ]
    },
    {
     "data": {
      "image/png": "[encoded data removed]",
      "text/plain": [
       "<Figure size 640x480 with 1 Axes>"
      ]
     },
     "metadata": {},
     "output_type": "display_data"
    }
   ],
   "source": [
    "import matplotlib.ticker as mtick\n",
    "\n",
    "print(\"# of models not modified: \", number_of_models_not_modified)\n",
    "plt.plot(dates, daily_counts_list)\n",
    "plt.xlabel('Date')\n",
    "plt.ylabel('# of Models updated') \n",
    "plt.title('Hugging Face Last model update per month')\n",
    "plt.xticks(rotation=45)\n",
    "ax = plt.gca()  \n",
    "ax.xaxis.set_major_locator(mtick.MultipleLocator(3))\n",
    "\n",
    "# plt.yscale('log')\n",
    "\n",
    "plt.tight_layout()\n",
    "plt.show()"
   ]
  },
  {
   "cell_type": "markdown",
   "metadata": {},
   "source": [
    "## Check the last modified dates on files \n",
    "\n",
    "Accessing metadata about file creation or modification dates is not supported on the HF platform as of the 2/16/2024.\n",
    "\n",
    "This slows down the identification of models that need to update their metadata. But we can identify models that were modified during the waiting period.\n",
    "\n",
    "Now we need to figure out a way to not process old metadata files, there are two options:\n",
    "- Store the metadata files of all models in the HF platform and compare them before starting any of the processing. This solution implies an agregated cost for storage in the infrastructure. The calculation on the amount of storage needed has been done before in the [TDD file](https://docs.google.com/document/d/1aczsHqJ5xxc9Gdd9wC_sfutz1yVUgNJ7WttuSl3SsXU/edit?usp=sharing) of the project and amounts to about 10GB.\n",
    "\n",
    "- Process the metadata and check that the information is not repeated in the database. This option implies a cost for the processing of the metadata, and slowing down the process of the models that need to update their metadata. To be fare low latency is not required, but we don't want to make the process slower if it is not necessary."
   ]
  },
  {
   "cell_type": "markdown",
   "metadata": {},
   "source": [
    "# Getting models data in chronological order\n",
    "Now, with everything that we have researched so far, let's put it all together."
   ]
  },
  {
   "cell_type": "code",
   "execution_count": 17,
   "metadata": {},
   "outputs": [
    {
     "name": "stdout",
     "output_type": "stream",
     "text": [
      "Error loading model card, no model card found for nsugianto/detr-resnet50_finetuned_lstabledetv1s9_lsdocelementdetv1type2_session3\n"
     ]
    },
    {
     "data": {
      "application/vnd.jupyter.widget-view+json": {
       "model_id": "cf94386800cf451aa8d4229fe2655c18",
       "version_major": 2,
       "version_minor": 0
      },
      "text/plain": [
       "README.md:   0%|          | 0.00/643 [00:00<?, ?B/s]"
      ]
     },
     "metadata": {},
     "output_type": "display_data"
    },
    {
     "name": "stdout",
     "output_type": "stream",
     "text": [
      "\n",
      "##############################################\n",
      "2024-04-09 07:47:55+00:00\n",
      "salene96x/openthaigpt-7b-4bit\n",
      "{'language': 'en', 'tags': ['summarization'], 'model-index': [{'name': 'google/pegasus-xsum', 'results': [{'task': {'type': 'summarization', 'name': 'Summarization'}, 'dataset': {'name': 'samsum', 'type': 'samsum', 'config': 'samsum', 'split': 'train'}, 'metrics': [{'type': 'rouge', 'value': 21.8096, 'name': 'ROUGE-1', 'verified': True}, {'type': 'rouge', 'value': 4.2525, 'name': 'ROUGE-2', 'verified': True}, {'type': 'rouge', 'value': 17.4469, 'name': 'ROUGE-L', 'verified': True}, {'type': 'rouge', 'value': 18.8907, 'name': 'ROUGE-LSUM', 'verified': True}, {'type': 'loss', 'value': 3.0317161083221436, 'name': 'loss', 'verified': True}, {'type': 'gen_len', 'value': 20.3122, 'name': 'gen_len', 'verified': True}]}, {'task': {'type': 'summarization', 'name': 'Summarization'}, 'dataset': {'name': 'xsum', 'type': 'xsum', 'config': 'default', 'split': 'test'}, 'metrics': [{'type': 'rouge', 'value': 46.8623, 'name': 'ROUGE-1', 'verified': True}, {'type': 'rouge', 'value': 24.4533, 'name': 'ROUGE-2', 'verified': True}, {'type': 'rouge', 'value': 39.0548, 'name': 'ROUGE-L', 'verified': True}, {'type': 'rouge', 'value': 39.0994, 'name': 'ROUGE-LSUM', 'verified': True}, {'type': 'loss', 'value': 1.5717021226882935, 'name': 'loss', 'verified': True}, {'type': 'gen_len', 'value': 22.8821, 'name': 'gen_len', 'verified': True}]}, {'task': {'type': 'summarization', 'name': 'Summarization'}, 'dataset': {'name': 'cnn_dailymail', 'type': 'cnn_dailymail', 'config': '3.0.0', 'split': 'test'}, 'metrics': [{'type': 'rouge', 'value': 22.2062, 'name': 'ROUGE-1', 'verified': True}, {'type': 'rouge', 'value': 7.6701, 'name': 'ROUGE-2', 'verified': True}, {'type': 'rouge', 'value': 15.4046, 'name': 'ROUGE-L', 'verified': True}, {'type': 'rouge', 'value': 19.2182, 'name': 'ROUGE-LSUM', 'verified': True}, {'type': 'loss', 'value': 2.681241273880005, 'name': 'loss', 'verified': True}, {'type': 'gen_len', 'value': 25.0234, 'name': 'gen_len', 'verified': True}]}]}]}\n",
      "\n",
      "##############################################\n",
      "Error loading model card, no model card found for ArunkumarDhanraj/photostudio\n",
      "Error loading model card, no model card found for nsugianto/detr-resnet50_finetuned_nganimalsceneactivitydetv1_session22\n",
      "Error loading model card, no model card found for lanzv/ClinicalBERTPRQAB_15_mincls\n",
      "Error loading model card, no model card found for kellybaby/distilgpt2-finetuned-wikitext2\n",
      "Error loading model card, no model card found for raincandy-u/Quark-464M-v0.2\n"
     ]
    },
    {
     "data": {
      "application/vnd.jupyter.widget-view+json": {
       "model_id": "2198aad94f17485c98f1aa16e7b522b5",
       "version_major": 2,
       "version_minor": 0
      },
      "text/plain": [
       "README.md:   0%|          | 0.00/28.0 [00:00<?, ?B/s]"
      ]
     },
     "metadata": {},
     "output_type": "display_data"
    },
    {
     "name": "stdout",
     "output_type": "stream",
     "text": [
      "\n",
      "##############################################\n",
      "2024-04-09 07:47:31+00:00\n",
      "csukuangfj/sherpa-onnx-libs\n",
      "{'language': 'en', 'tags': ['summarization'], 'model-index': [{'name': 'google/pegasus-xsum', 'results': [{'task': {'type': 'summarization', 'name': 'Summarization'}, 'dataset': {'name': 'samsum', 'type': 'samsum', 'config': 'samsum', 'split': 'train'}, 'metrics': [{'type': 'rouge', 'value': 21.8096, 'name': 'ROUGE-1', 'verified': True}, {'type': 'rouge', 'value': 4.2525, 'name': 'ROUGE-2', 'verified': True}, {'type': 'rouge', 'value': 17.4469, 'name': 'ROUGE-L', 'verified': True}, {'type': 'rouge', 'value': 18.8907, 'name': 'ROUGE-LSUM', 'verified': True}, {'type': 'loss', 'value': 3.0317161083221436, 'name': 'loss', 'verified': True}, {'type': 'gen_len', 'value': 20.3122, 'name': 'gen_len', 'verified': True}]}, {'task': {'type': 'summarization', 'name': 'Summarization'}, 'dataset': {'name': 'xsum', 'type': 'xsum', 'config': 'default', 'split': 'test'}, 'metrics': [{'type': 'rouge', 'value': 46.8623, 'name': 'ROUGE-1', 'verified': True}, {'type': 'rouge', 'value': 24.4533, 'name': 'ROUGE-2', 'verified': True}, {'type': 'rouge', 'value': 39.0548, 'name': 'ROUGE-L', 'verified': True}, {'type': 'rouge', 'value': 39.0994, 'name': 'ROUGE-LSUM', 'verified': True}, {'type': 'loss', 'value': 1.5717021226882935, 'name': 'loss', 'verified': True}, {'type': 'gen_len', 'value': 22.8821, 'name': 'gen_len', 'verified': True}]}, {'task': {'type': 'summarization', 'name': 'Summarization'}, 'dataset': {'name': 'cnn_dailymail', 'type': 'cnn_dailymail', 'config': '3.0.0', 'split': 'test'}, 'metrics': [{'type': 'rouge', 'value': 22.2062, 'name': 'ROUGE-1', 'verified': True}, {'type': 'rouge', 'value': 7.6701, 'name': 'ROUGE-2', 'verified': True}, {'type': 'rouge', 'value': 15.4046, 'name': 'ROUGE-L', 'verified': True}, {'type': 'rouge', 'value': 19.2182, 'name': 'ROUGE-LSUM', 'verified': True}, {'type': 'loss', 'value': 2.681241273880005, 'name': 'loss', 'verified': True}, {'type': 'gen_len', 'value': 25.0234, 'name': 'gen_len', 'verified': True}]}]}]}\n",
      "\n",
      "##############################################\n",
      "Error loading model card, no model card found for junejae/nemo_bert_ko_v6\n",
      "Error loading model card, no model card found for Seanxh/TTS9\n",
      "Error loading model card, no model card found for MooBai/distilroberta-base-finetuned-wikitext2\n",
      "Error loading model card, no model card found for hoangphu7122002ai/codeLlama_text2sql_word\n"
     ]
    },
    {
     "data": {
      "application/vnd.jupyter.widget-view+json": {
       "model_id": "539ba3d7bdfc4e9884386ab09589207c",
       "version_major": 2,
       "version_minor": 0
      },
      "text/plain": [
       "README.md:   0%|          | 0.00/101 [00:00<?, ?B/s]"
      ]
     },
     "metadata": {},
     "output_type": "display_data"
    },
    {
     "name": "stderr",
     "output_type": "stream",
     "text": [
      "Repo card metadata block was not found. Setting CardData to empty.\n"
     ]
    },
    {
     "name": "stdout",
     "output_type": "stream",
     "text": [
      "\n",
      "##############################################\n",
      "2024-04-09 07:47:07+00:00\n",
      "Xrunner/melotts\n",
      "{'language': 'en', 'tags': ['summarization'], 'model-index': [{'name': 'google/pegasus-xsum', 'results': [{'task': {'type': 'summarization', 'name': 'Summarization'}, 'dataset': {'name': 'samsum', 'type': 'samsum', 'config': 'samsum', 'split': 'train'}, 'metrics': [{'type': 'rouge', 'value': 21.8096, 'name': 'ROUGE-1', 'verified': True}, {'type': 'rouge', 'value': 4.2525, 'name': 'ROUGE-2', 'verified': True}, {'type': 'rouge', 'value': 17.4469, 'name': 'ROUGE-L', 'verified': True}, {'type': 'rouge', 'value': 18.8907, 'name': 'ROUGE-LSUM', 'verified': True}, {'type': 'loss', 'value': 3.0317161083221436, 'name': 'loss', 'verified': True}, {'type': 'gen_len', 'value': 20.3122, 'name': 'gen_len', 'verified': True}]}, {'task': {'type': 'summarization', 'name': 'Summarization'}, 'dataset': {'name': 'xsum', 'type': 'xsum', 'config': 'default', 'split': 'test'}, 'metrics': [{'type': 'rouge', 'value': 46.8623, 'name': 'ROUGE-1', 'verified': True}, {'type': 'rouge', 'value': 24.4533, 'name': 'ROUGE-2', 'verified': True}, {'type': 'rouge', 'value': 39.0548, 'name': 'ROUGE-L', 'verified': True}, {'type': 'rouge', 'value': 39.0994, 'name': 'ROUGE-LSUM', 'verified': True}, {'type': 'loss', 'value': 1.5717021226882935, 'name': 'loss', 'verified': True}, {'type': 'gen_len', 'value': 22.8821, 'name': 'gen_len', 'verified': True}]}, {'task': {'type': 'summarization', 'name': 'Summarization'}, 'dataset': {'name': 'cnn_dailymail', 'type': 'cnn_dailymail', 'config': '3.0.0', 'split': 'test'}, 'metrics': [{'type': 'rouge', 'value': 22.2062, 'name': 'ROUGE-1', 'verified': True}, {'type': 'rouge', 'value': 7.6701, 'name': 'ROUGE-2', 'verified': True}, {'type': 'rouge', 'value': 15.4046, 'name': 'ROUGE-L', 'verified': True}, {'type': 'rouge', 'value': 19.2182, 'name': 'ROUGE-LSUM', 'verified': True}, {'type': 'loss', 'value': 2.681241273880005, 'name': 'loss', 'verified': True}, {'type': 'gen_len', 'value': 25.0234, 'name': 'gen_len', 'verified': True}]}]}]}\n",
      "\n",
      "##############################################\n"
     ]
    }
   ],
   "source": [
    "model_retreival_limit = 500\n",
    "model_list = list(api.list_models(limit=model_retreival_limit,sort=\"last_modified\",direction=-1))\n",
    "\n",
    "cnt_models_to_process = 3\n",
    "found_metadata_list = []\n",
    "\n",
    "for model in model_list:\n",
    "    \n",
    "    if(cnt_models_to_process==0):\n",
    "        break\n",
    "    \n",
    "    model_card_data = None\n",
    "    try:\n",
    "        model_card_data = ModelCard.load(model.id)\n",
    "    except EntryNotFoundError:\n",
    "        print(f\"Error loading model card, no model card found for {model.id}\")\n",
    "    \n",
    "    if(model_card_data!=None):\n",
    "        print(\"\\n##############################################\")\n",
    "        print(model.last_modified)\n",
    "        print(model.id)\n",
    "        print(card.data.to_dict())\n",
    "        print(\"\\n##############################################\")\n",
    "        \n",
    "        cnt_models_to_process-=1"
   ]
  },
  {
   "cell_type": "markdown",
   "metadata": {},
   "source": [
    "## Get the number of downloads of a model\n",
    "\n",
    "You can query their API directly by using the following link format\n",
    "```\n",
    "https://huggingface.co/api/models/openai/clip-vit-large-patch14?expand[]=downloads&expand[]=downloadsAllTime\n",
    "```"
   ]
  },
  {
   "cell_type": "code",
   "execution_count": 18,
   "metadata": {},
   "outputs": [
    {
     "name": "stdout",
     "output_type": "stream",
     "text": [
      "Successfully retrieved data:\n",
      "{'_id': '621ffdc136468d709f17ea63', 'id': 'openai/clip-vit-large-patch14', 'downloads': 52240270, 'downloadsAllTime': 426036045}\n"
     ]
    }
   ],
   "source": [
    "def http_request_to_dict(url):\n",
    "    \n",
    "    try:\n",
    "        response = requests.get(url)\n",
    "        response.raise_for_status()  # Raise an exception for non-2xx status codes\n",
    "\n",
    "        # Handle various response content types\n",
    "        if response.headers.get('Content-Type', '').startswith('application/json'):\n",
    "            return response.json()  # Parse as JSON\n",
    "\n",
    "        # Handle other content types or return raw content if parsing fails\n",
    "        return response.text\n",
    "\n",
    "    except requests.exceptions.RequestException as e:\n",
    "        print(f\"Error making HTTP request: {e}\")\n",
    "        return None\n",
    "try:\n",
    "    response_dict = http_request_to_dict(\"https://huggingface.co/api/models/openai/clip-vit-large-patch14?expand[]=downloads&expand[]=downloadsAllTime\")\n",
    "    if response_dict:\n",
    "        print(\"Successfully retrieved data:\")\n",
    "        print(response_dict)\n",
    "    else:\n",
    "        print(\"Failed to retrieve data.\")\n",
    "except Exception as e:  # Catch generic exceptions for overall error reporting\n",
    "    print(f\"An unexpected error occurred: {e}\")"
   ]
  },
  {
   "cell_type": "code",
   "execution_count": 19,
   "metadata": {},
   "outputs": [
    {
     "name": "stdout",
     "output_type": "stream",
     "text": [
      "\n",
      "##############################################\n",
      "nsugianto\n",
      "detr-resnet50_finetuned_lstabledetv1s9_lsdocelementdetv1type2_session3\n",
      "{'_id': '6614b4a07d4a713618387b47', 'id': 'nsugianto/detr-resnet50_finetuned_lstabledetv1s9_lsdocelementdetv1type2_session3', 'downloads': 0, 'downloadsAllTime': 0}\n",
      "\n",
      "##############################################\n",
      "\n",
      "##############################################\n",
      "salene96x\n",
      "openthaigpt-7b-4bit\n",
      "{'_id': '6614efb17de7824887826a85', 'id': 'salene96x/openthaigpt-7b-4bit', 'downloads': 0, 'downloadsAllTime': 0}\n",
      "\n",
      "##############################################\n",
      "\n",
      "##############################################\n",
      "ArunkumarDhanraj\n",
      "photostudio\n",
      "{'_id': '6613bc3ff93a4bb37eac8923', 'id': 'ArunkumarDhanraj/photostudio', 'downloads': 0, 'downloadsAllTime': 0}\n",
      "\n",
      "##############################################\n"
     ]
    }
   ],
   "source": [
    "model_retreival_limit = 500\n",
    "model_list = list(api.list_models(limit=model_retreival_limit,sort=\"last_modified\",direction=-1))\n",
    "\n",
    "cnt_models_to_process = 3\n",
    "found_metadata_list = []\n",
    "\n",
    "for model in model_list:\n",
    "    \n",
    "    if(cnt_models_to_process==0):\n",
    "        break\n",
    "    \n",
    "    response_dict = None\n",
    "    try:\n",
    "        model_id_split = model.id.split(\"/\")\n",
    "        user_tag = model_id_split[0]\n",
    "        model_name = model_id_split[1]\n",
    "        query_downloads_url = f\"https://huggingface.co/api/models/{user_tag}/{model_name}?expand[]=downloads&expand[]=downloadsAllTime\" \n",
    "        response_dict = http_request_to_dict(query_downloads_url)\n",
    "    except EntryNotFoundError:\n",
    "        print(f\"No model card found for {model.id}\")\n",
    "    except Exception as e:\n",
    "        print(f\"An unexpected error occurred: {e}\")\n",
    "    \n",
    "    if(response_dict!=None):\n",
    "        print(\"\\n##############################################\")\n",
    "        print(user_tag)\n",
    "        print(model_name)\n",
    "        print(response_dict)\n",
    "        print(\"\\n##############################################\")\n",
    "        \n",
    "        cnt_models_to_process-=1"
   ]
  },
  {
   "cell_type": "markdown",
   "metadata": {},
   "source": [
    "## Retrieval of models documents"
   ]
  },
  {
   "cell_type": "code",
   "execution_count": 25,
   "metadata": {},
   "outputs": [
    {
     "name": "stdout",
     "output_type": "stream",
     "text": [
      "['.gitattributes', '64-8bits.tflite', '64-fp16.tflite', '64.tflite', 'README.md', 'config.json', 'flax_model.msgpack', 'generation_config.json', 'merges.txt', 'model.safetensors', 'onnx/config.json', 'onnx/decoder_model.onnx', 'onnx/decoder_model_merged.onnx', 'onnx/decoder_with_past_model.onnx', 'onnx/generation_config.json', 'onnx/merges.txt', 'onnx/special_tokens_map.json', 'onnx/tokenizer.json', 'onnx/tokenizer_config.json', 'onnx/vocab.json', 'pytorch_model.bin', 'rust_model.ot', 'tf_model.h5', 'tokenizer.json', 'tokenizer_config.json', 'vocab.json']\n"
     ]
    }
   ],
   "source": [
    "model_file_information = api.list_repo_files(\"gpt2\")\n",
    "print(model_file_information)"
   ]
  },
  {
   "cell_type": "code",
   "execution_count": 29,
   "metadata": {},
   "outputs": [
    {
     "name": "stdout",
     "output_type": "stream",
     "text": [
      "RepoFolder(path='onnx', tree_id='d03ec5ec179df58241d27d55f92a674f5f44197f', last_commit=None)\n",
      " \n",
      "RepoFile(path='.gitattributes', size=445, blob_id='602b71f15d40ed68c5f96330e3f3175a76a32126', lfs=None, last_commit=None, security=None)\n",
      " \n",
      "RepoFile(path='64-8bits.tflite', size=125162496, blob_id='90e59f00f62c654b1a88a5f127dff14df4611cdc', lfs=BlobLfsInfo(size=125162496, sha256='c966da3b74697803352ca7c6f2f220e7090a557b619de9da0c6b34d89f7825c1', pointer_size=134), last_commit=None, security=None)\n",
      " \n",
      "RepoFile(path='64-fp16.tflite', size=248269688, blob_id='741986b58f10d46bb8c2e664da2be9f5aad7f9ea', lfs=BlobLfsInfo(size=248269688, sha256='1ceafd82e733dd4b21570b2a86cf27556a983041806c033a55d086e0ed782cd3', pointer_size=134), last_commit=None, security=None)\n",
      " \n",
      "RepoFile(path='64.tflite', size=495791932, blob_id='ea581de86d796a5029e515ea575b9665782cc9d3', lfs=BlobLfsInfo(size=495791932, sha256='cfcd510b239d90b71ee87d4e57a5a8c2d55b2a941e5d9fe5852298268ddbe61b', pointer_size=134), last_commit=None, security=None)\n",
      " \n",
      "RepoFile(path='README.md', size=8092, blob_id='a16a55fda99d2f2e7b69cce5cf93ff4ad3049930', lfs=None, last_commit=None, security=None)\n",
      " \n",
      "RepoFile(path='config.json', size=665, blob_id='10c66461e4c109db5a2196bff4bb59be30396ed8', lfs=None, last_commit=None, security=None)\n",
      " \n",
      "RepoFile(path='flax_model.msgpack', size=497764120, blob_id='4d5d6829670cef6f69ea4c8bfee1c25fff1d9d95', lfs=BlobLfsInfo(size=497764120, sha256='192e8257ae9e8f796f764630f4a488a6a16d1461762d62b49ef7405df951a283', pointer_size=134), last_commit=None, security=None)\n",
      " \n",
      "RepoFile(path='generation_config.json', size=124, blob_id='3dc481ecc3b2c47a06ab4e20dba9d7f4b447bdf3', lfs=None, last_commit=None, security=None)\n",
      " \n",
      "RepoFile(path='merges.txt', size=456318, blob_id='226b0752cac7789c48f0cb3ec53eda48b7be36cc', lfs=None, last_commit=None, security=None)\n",
      " \n",
      "RepoFile(path='model.safetensors', size=548105171, blob_id='44b36d6e32d13c8fb28b0feab0ac8bfefa7efeda', lfs=BlobLfsInfo(size=548105171, sha256='248dfc3911869ec493c76e65bf2fcf7f615828b0254c12b473182f0f81d3a707', pointer_size=134), last_commit=None, security=None)\n",
      " \n",
      "RepoFile(path='pytorch_model.bin', size=548118077, blob_id='11f855591b3269c74652daee461f96fc238875ed', lfs=BlobLfsInfo(size=548118077, sha256='7c5d3f4b8b76583b422fcb9189ad6c89d5d97a094541ce8932dce3ecabde1421', pointer_size=134), last_commit=None, security=None)\n",
      " \n",
      "RepoFile(path='rust_model.ot', size=702517648, blob_id='cdec8ac7bc3c7e04961bce43fc494eccdc1fc8b8', lfs=BlobLfsInfo(size=702517648, sha256='adf0adedbf4016b249550f866c66a3b3a3d09c8b3b3a1f6e5e9a265d94e0270e', pointer_size=134), last_commit=None, security=None)\n",
      " \n",
      "RepoFile(path='tf_model.h5', size=497933648, blob_id='50a2bb89fbc2f5217ad429ff9605e9f1ab02f70f', lfs=BlobLfsInfo(size=497933648, sha256='d08c1307f7dfae6f878e0a2ca5715d587d2640530db8ef96fc0c1fc474dd9fee', pointer_size=134), last_commit=None, security=None)\n",
      " \n",
      "RepoFile(path='tokenizer.json', size=1355256, blob_id='4b988bccc9dc5adacd403c00b4704976196548f8', lfs=None, last_commit=None, security=None)\n",
      " \n",
      "RepoFile(path='tokenizer_config.json', size=26, blob_id='be4d21d94f3b4687e5a54d84bf6ab46ed0f8defd', lfs=None, last_commit=None, security=None)\n",
      " \n",
      "RepoFile(path='vocab.json', size=1042301, blob_id='1f1d9aaca301414e7f6c9396df506798ff4eb9a6', lfs=None, last_commit=None, security=None)\n",
      " \n"
     ]
    }
   ],
   "source": [
    "model_tree_file_information = api.list_repo_tree(\"gpt2\")\n",
    "for x in list(model_tree_file_information):\n",
    "    print(x)\n",
    "    print(\" \")"
   ]
  },
  {
   "cell_type": "markdown",
   "metadata": {},
   "source": [
    "* Get even more information about a repo’s tree (last commit and files’ security scan results). But it comes with time limitations:\n",
    "    * expand (bool, optional, defaults to False) — Whether to fetch more information about the tree’s files and folders (e.g. last commit and files’ security scan results). This operation is more expensive for the server so only 50 results are returned per page (instead of 1000). As pagination is implemented in huggingface_hub, this is transparent for you except for the time it takes to get the results."
   ]
  },
  {
   "cell_type": "code",
   "execution_count": 48,
   "metadata": {},
   "outputs": [
    {
     "name": "stdout",
     "output_type": "stream",
     "text": [
      "FILE\n",
      "RepoFile(path='.gitattributes', size=391, blob_id='ae8c63daedbd4206d7d40126955d4e6ab1c80f8f', lfs=None, last_commit=LastCommitInfo(oid='877b84a8f93f2d619faa2a6e514a32beef88ab0a', title='allow flax', date=datetime.datetime(2021, 5, 23, 8, 42, 2, tzinfo=datetime.timezone.utc)), security=BlobSecurityInfo(safe=True, av_scan={'virusFound': False, 'virusNames': None}, pickle_import_scan=None))\n",
      "FILE\n",
      "RepoFile(path='README.md', size=391, blob_id='43bd404b159de6fba7c2f4d3264347668d43af25', lfs=None, last_commit=LastCommitInfo(oid='c7a2e68263d13db10671379c23cf2a8ea0e12789', title='Specify language as `en` (#2)', date=datetime.datetime(2022, 9, 5, 20, 10, 54, tzinfo=datetime.timezone.utc)), security=BlobSecurityInfo(safe=True, av_scan={'virusFound': False, 'virusNames': None}, pickle_import_scan=None))\n",
      "FILE\n",
      "RepoFile(path='config.json', size=554, blob_id='2f9618c3a19b9a61add74f70bfb121335aeef666', lfs=None, last_commit=LastCommitInfo(oid='f7ab41cbe000b32cf939a56c51f9e00c78d8941c', title='Make model recognized as `text-generation`? (#1)', date=datetime.datetime(2022, 9, 5, 20, 10, 6, tzinfo=datetime.timezone.utc)), security=BlobSecurityInfo(safe=True, av_scan={'virusFound': False, 'virusNames': None}, pickle_import_scan=None))\n",
      "FILE\n",
      "RepoFile(path='flax_model.msgpack', size=497764107, blob_id='8095a62ccb4d806da7666fcda07467e2d150218e', lfs=BlobLfsInfo(size=497764107, sha256='d88b0d6a6ff9c3f8151f9d3228f57092aaea997f09af009eefd7373a77b5abb9', pointer_size=134), last_commit=LastCommitInfo(oid='894a9adde21d9a3e3843e6d5aeaaf01875c7fade', title='upload flax model', date=datetime.datetime(2021, 5, 23, 8, 42, 23, tzinfo=datetime.timezone.utc)), security=BlobSecurityInfo(safe=True, av_scan={'virusFound': False, 'virusNames': None}, pickle_import_scan=None))\n",
      "FILE\n",
      "RepoFile(path='merges.txt', size=456318, blob_id='226b0752cac7789c48f0cb3ec53eda48b7be36cc', lfs=None, last_commit=LastCommitInfo(oid='8ec24b917a63619228a0fe4ef20050af828ae172', title='Update merges.txt', date=datetime.datetime(2020, 2, 5, 16, 31, 24, tzinfo=datetime.timezone.utc)), security=BlobSecurityInfo(safe=True, av_scan={'virusFound': False, 'virusNames': None}, pickle_import_scan=None))\n",
      "FILE\n",
      "RepoFile(path='pytorch_model.bin', size=548123560, blob_id='64eaa9c526867e404b68f2c5d66fd78e27026523', lfs=BlobLfsInfo(size=548123560, sha256='9be78edb5b928eba33aa88f431551348f7466ba9f5ef3daf1d552398722a5436', pointer_size=134), last_commit=LastCommitInfo(oid='fda19404d694a9c80b8911a8fcd25354584192b7', title='Update pytorch_model.bin', date=datetime.datetime(2020, 2, 5, 16, 30, 55, tzinfo=datetime.timezone.utc)), security=BlobSecurityInfo(safe=True, av_scan={'virusFound': False, 'virusNames': None}, pickle_import_scan=None))\n",
      "FILE\n",
      "RepoFile(path='vocab.json', size=898669, blob_id='b00361fece0387ca34b4b8b8539ed830d644dbeb', lfs=None, last_commit=LastCommitInfo(oid='372d33d255dc64d99f5607c1fc5828ae671ef455', title='Update vocab.json', date=datetime.datetime(2020, 2, 5, 16, 30, 54, tzinfo=datetime.timezone.utc)), security=BlobSecurityInfo(safe=True, av_scan={'virusFound': False, 'virusNames': None}, pickle_import_scan=None))\n"
     ]
    }
   ],
   "source": [
    "model_tree_file_information = api.list_repo_tree(\"lysandre/arxiv-nlp\", expand=True)\n",
    "for x in list(model_tree_file_information):\n",
    "    if isinstance(x,RepoFolder):\n",
    "        print(\"FOLDER\")\n",
    "        print(x)\n",
    "    if isinstance(x,RepoFile):\n",
    "        print(\"FILE\")\n",
    "        print(x)"
   ]
  },
  {
   "cell_type": "markdown",
   "metadata": {},
   "source": [
    "* You can even enter recursively to the files inside folders\n",
    "    * recursive (bool, optional, defaults to False) — Whether to list tree’s files and folders recursively."
   ]
  },
  {
   "cell_type": "code",
   "execution_count": 51,
   "metadata": {},
   "outputs": [
    {
     "name": "stdout",
     "output_type": "stream",
     "text": [
      "FOLDER\n",
      "RepoFolder(path='onnx', tree_id='d03ec5ec179df58241d27d55f92a674f5f44197f', last_commit=None)\n",
      "FILE\n",
      "RepoFile(path='.gitattributes', size=445, blob_id='602b71f15d40ed68c5f96330e3f3175a76a32126', lfs=None, last_commit=None, security=None)\n",
      "FILE\n",
      "RepoFile(path='64-8bits.tflite', size=125162496, blob_id='90e59f00f62c654b1a88a5f127dff14df4611cdc', lfs=BlobLfsInfo(size=125162496, sha256='c966da3b74697803352ca7c6f2f220e7090a557b619de9da0c6b34d89f7825c1', pointer_size=134), last_commit=None, security=None)\n",
      "FILE\n",
      "RepoFile(path='64-fp16.tflite', size=248269688, blob_id='741986b58f10d46bb8c2e664da2be9f5aad7f9ea', lfs=BlobLfsInfo(size=248269688, sha256='1ceafd82e733dd4b21570b2a86cf27556a983041806c033a55d086e0ed782cd3', pointer_size=134), last_commit=None, security=None)\n",
      "FILE\n",
      "RepoFile(path='64.tflite', size=495791932, blob_id='ea581de86d796a5029e515ea575b9665782cc9d3', lfs=BlobLfsInfo(size=495791932, sha256='cfcd510b239d90b71ee87d4e57a5a8c2d55b2a941e5d9fe5852298268ddbe61b', pointer_size=134), last_commit=None, security=None)\n",
      "FILE\n",
      "RepoFile(path='README.md', size=8092, blob_id='a16a55fda99d2f2e7b69cce5cf93ff4ad3049930', lfs=None, last_commit=None, security=None)\n",
      "FILE\n",
      "RepoFile(path='config.json', size=665, blob_id='10c66461e4c109db5a2196bff4bb59be30396ed8', lfs=None, last_commit=None, security=None)\n",
      "FILE\n",
      "RepoFile(path='flax_model.msgpack', size=497764120, blob_id='4d5d6829670cef6f69ea4c8bfee1c25fff1d9d95', lfs=BlobLfsInfo(size=497764120, sha256='192e8257ae9e8f796f764630f4a488a6a16d1461762d62b49ef7405df951a283', pointer_size=134), last_commit=None, security=None)\n",
      "FILE\n",
      "RepoFile(path='generation_config.json', size=124, blob_id='3dc481ecc3b2c47a06ab4e20dba9d7f4b447bdf3', lfs=None, last_commit=None, security=None)\n",
      "FILE\n",
      "RepoFile(path='merges.txt', size=456318, blob_id='226b0752cac7789c48f0cb3ec53eda48b7be36cc', lfs=None, last_commit=None, security=None)\n",
      "FILE\n",
      "RepoFile(path='model.safetensors', size=548105171, blob_id='44b36d6e32d13c8fb28b0feab0ac8bfefa7efeda', lfs=BlobLfsInfo(size=548105171, sha256='248dfc3911869ec493c76e65bf2fcf7f615828b0254c12b473182f0f81d3a707', pointer_size=134), last_commit=None, security=None)\n",
      "FILE\n",
      "RepoFile(path='onnx/config.json', size=879, blob_id='00bc2ad81dcdd043bf8490fdbd7cd82629fab389', lfs=None, last_commit=None, security=None)\n",
      "FILE\n",
      "RepoFile(path='onnx/decoder_model.onnx', size=653665842, blob_id='d1e0f6797a98e4710ae4c6928bd19440cf39bfbc', lfs=BlobLfsInfo(size=653665842, sha256='e3fc9615868ff8f5e0429b892a0f6ca692784ba6c4ca31c4e9ee8218e7cce34f', pointer_size=134), last_commit=None, security=None)\n",
      "FILE\n",
      "RepoFile(path='onnx/decoder_model_merged.onnx', size=655189339, blob_id='4e08d5f61950167c49b79778f789cefb63721505', lfs=BlobLfsInfo(size=655189339, sha256='e6fc046fe5a7cfeeb8bb3c7d4c1b6a8bd90ced7339a75d5567957e3bc9d48abe', pointer_size=134), last_commit=None, security=None)\n",
      "FILE\n",
      "RepoFile(path='onnx/decoder_with_past_model.onnx', size=653672649, blob_id='27ce06e65620c241b5ae8eab8f6022812749a498', lfs=BlobLfsInfo(size=653672649, sha256='570d958241de81f12d82a8358dfc0b408a7bf44ff2bd10ac4a97dab24a8118db', pointer_size=134), last_commit=None, security=None)\n",
      "FILE\n",
      "RepoFile(path='onnx/generation_config.json', size=119, blob_id='30989900f4cebe446d28b25c9593001c7ef2853a', lfs=None, last_commit=None, security=None)\n",
      "FILE\n",
      "RepoFile(path='onnx/merges.txt', size=456318, blob_id='226b0752cac7789c48f0cb3ec53eda48b7be36cc', lfs=None, last_commit=None, security=None)\n",
      "FILE\n",
      "RepoFile(path='onnx/special_tokens_map.json', size=99, blob_id='0204ed10c186a4c7c68f55dff8f26087a45898d6', lfs=None, last_commit=None, security=None)\n",
      "FILE\n",
      "RepoFile(path='onnx/tokenizer.json', size=2107653, blob_id='5de8effbe407429dce1f3ad068cd1bbd215d3a5c', lfs=None, last_commit=None, security=None)\n",
      "FILE\n",
      "RepoFile(path='onnx/tokenizer_config.json', size=234, blob_id='546efe6d18ae2ad7758d0c9ef51cacdb81c8dc9d', lfs=None, last_commit=None, security=None)\n",
      "FILE\n",
      "RepoFile(path='onnx/vocab.json', size=798156, blob_id='84ef7fb594b5c0979e48bdeddb60a0adef33df0b', lfs=None, last_commit=None, security=None)\n",
      "FILE\n",
      "RepoFile(path='pytorch_model.bin', size=548118077, blob_id='11f855591b3269c74652daee461f96fc238875ed', lfs=BlobLfsInfo(size=548118077, sha256='7c5d3f4b8b76583b422fcb9189ad6c89d5d97a094541ce8932dce3ecabde1421', pointer_size=134), last_commit=None, security=None)\n",
      "FILE\n",
      "RepoFile(path='rust_model.ot', size=702517648, blob_id='cdec8ac7bc3c7e04961bce43fc494eccdc1fc8b8', lfs=BlobLfsInfo(size=702517648, sha256='adf0adedbf4016b249550f866c66a3b3a3d09c8b3b3a1f6e5e9a265d94e0270e', pointer_size=134), last_commit=None, security=None)\n",
      "FILE\n",
      "RepoFile(path='tf_model.h5', size=497933648, blob_id='50a2bb89fbc2f5217ad429ff9605e9f1ab02f70f', lfs=BlobLfsInfo(size=497933648, sha256='d08c1307f7dfae6f878e0a2ca5715d587d2640530db8ef96fc0c1fc474dd9fee', pointer_size=134), last_commit=None, security=None)\n",
      "FILE\n",
      "RepoFile(path='tokenizer.json', size=1355256, blob_id='4b988bccc9dc5adacd403c00b4704976196548f8', lfs=None, last_commit=None, security=None)\n",
      "FILE\n",
      "RepoFile(path='tokenizer_config.json', size=26, blob_id='be4d21d94f3b4687e5a54d84bf6ab46ed0f8defd', lfs=None, last_commit=None, security=None)\n",
      "FILE\n",
      "RepoFile(path='vocab.json', size=1042301, blob_id='1f1d9aaca301414e7f6c9396df506798ff4eb9a6', lfs=None, last_commit=None, security=None)\n"
     ]
    }
   ],
   "source": [
    "model_tree_file_information = api.list_repo_tree(\"gpt2\", recursive=True)\n",
    "for x in list(model_tree_file_information):\n",
    "    if isinstance(x,RepoFolder):\n",
    "        print(\"FOLDER\")\n",
    "        print(x)\n",
    "    if isinstance(x,RepoFile):\n",
    "        print(\"FILE\")\n",
    "        print(x)"
   ]
  },
  {
   "cell_type": "markdown",
   "metadata": {},
   "source": [
    "### Calculate the weight of a repository"
   ]
  },
  {
   "cell_type": "code",
   "execution_count": 59,
   "metadata": {},
   "outputs": [
    {
     "name": "stdout",
     "output_type": "stream",
     "text": [
      "\n",
      " Model size in bytes:  5632417295\n",
      "\n",
      " Model size in Gbytes:  5.632417295\n"
     ]
    }
   ],
   "source": [
    "import math\n",
    "model_repo_weight = 0\n",
    "model_tree_file_information = api.list_repo_tree(\"gpt2\", recursive=True)\n",
    "for x in list(model_tree_file_information):\n",
    "    if isinstance(x,RepoFile):\n",
    "        #The weight of each file is in Bytes.\n",
    "        model_repo_weight += x.size\n",
    "print(\"\\n Model size in bytes: \",model_repo_weight)\n",
    "print(\"\\n Model size in Gbytes: \",model_repo_weight/(math.pow(10,9)))"
   ]
  },
  {
   "cell_type": "markdown",
   "metadata": {},
   "source": [
    "## Exploring commit information\n",
    "\n",
    "Found an interesting link in [https://huggingface.co/docs/huggingface_hub/v0.22.2/en/package_reference/hf_api#huggingface_hub.HfApi.list_repo_commits](https://huggingface.co/docs/huggingface_hub/v0.22.2/en/package_reference/hf_api#huggingface_hub.HfApi.list_repo_commits)\n",
    "To list all the commits on a repository."
   ]
  },
  {
   "cell_type": "code",
   "execution_count": 22,
   "metadata": {},
   "outputs": [
    {
     "name": "stdout",
     "output_type": "stream",
     "text": [
      "GitCommitInfo(commit_id='607a30d783dfa663caf39e06633721c8d4cfcd7e', authors=['lysandre'], created_at=datetime.datetime(2024, 2, 19, 10, 57, 45, tzinfo=datetime.timezone.utc), title='Adds the tokenizer configuration file (#80)', message='\\n\\n\\n- Adds tokenizer_config.json file (db6d57930088fb63e52c010bd9ac77c955ac55e7)\\n\\n', formatted_title=None, formatted_message=None)\n"
     ]
    }
   ],
   "source": [
    "initial_commit = api.list_repo_commits(\"gpt2\")[0]\n",
    "print(initial_commit)"
   ]
  },
  {
   "cell_type": "code",
   "execution_count": null,
   "metadata": {},
   "outputs": [],
   "source": []
  }
 ],
 "metadata": {
  "kernelspec": {
   "display_name": "Python 3 (ipykernel)",
   "language": "python",
   "name": "python3"
  },
  "language_info": {
   "codemirror_mode": {
    "name": "ipython",
    "version": 3
   },
   "file_extension": ".py",
   "mimetype": "text/x-python",
   "name": "python",
   "nbconvert_exporter": "python",
   "pygments_lexer": "ipython3",
   "version": "3.8.10"
  }
 },
 "nbformat": 4,
 "nbformat_minor": 4
}
