{
 "cells": [
  {
   "cell_type": "code",
   "execution_count": 2,
   "metadata": {},
   "outputs": [],
   "source": [
    "import os\n",
    "import mysql.connector\n",
    "\n",
    "# Access environment variable directly (may raise KeyError if not set)\n",
    "database_name = os.environ['MYSQL_DATABASE']\n",
    "user = os.environ['MYSQL_USER']\n",
    "password = os.environ['MYSQL_PASSWORD']\n",
    "\n",
    "mydb = mysql.connector.connect(\n",
    "  host=\"mysql\",  # Use service name from docker-compose\n",
    "  user=user,\n",
    "  password=password,\n",
    "  database=database_name\n",
    ")\n",
    "\n",
    "mycursor = mydb.cursor()"
   ]
  },
  {
   "cell_type": "code",
   "execution_count": 3,
   "metadata": {},
   "outputs": [],
   "source": [
    "# Define your table schema\n",
    "sql = \"\"\"CREATE TABLE IF NOT EXISTS users (\n",
    "  id INT AUTO_INCREMENT PRIMARY KEY,\n",
    "  username VARCHAR(255) NOT NULL,\n",
    "  email VARCHAR(255) NOT NULL UNIQUE\n",
    ")\"\"\"\n",
    "\n",
    "mycursor.execute(sql)"
   ]
  },
  {
   "cell_type": "code",
   "execution_count": 4,
   "metadata": {},
   "outputs": [],
   "source": [
    "sql = \"INSERT INTO users (username, email) VALUES (%s, %s)\"\n",
    "val = (\"John Doe\", \"johndoe@example.com\")\n",
    "mycursor.execute(sql, val)\n",
    "\n",
    "# Insert multiple rows at once using executemany\n",
    "sql = \"INSERT INTO users (username, email) VALUES (%s, %s)\"\n",
    "val = [\n",
    "  (\"Jane Doe\", \"janedoe@example.com\"),\n",
    "  (\"Peter Smith\", \"petersmith@example.com\"),\n",
    "]\n",
    "mycursor.executemany(sql, val)\n",
    "\n",
    "mydb.commit()  # Commit changes to the database"
   ]
  },
  {
   "cell_type": "code",
   "execution_count": null,
   "metadata": {},
   "outputs": [],
   "source": [
    "\n",
    "\n"
   ]
  }
 ],
 "metadata": {
  "kernelspec": {
   "display_name": "Python 3 (ipykernel)",
   "language": "python",
   "name": "python3"
  },
  "language_info": {
   "codemirror_mode": {
    "name": "ipython",
    "version": 3
   },
   "file_extension": ".py",
   "mimetype": "text/x-python",
   "name": "python",
   "nbconvert_exporter": "python",
   "pygments_lexer": "ipython3",
   "version": "3.8.10"
  }
 },
 "nbformat": 4,
 "nbformat_minor": 4
}
