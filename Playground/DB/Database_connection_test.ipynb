{
 "cells": [
  {
   "cell_type": "markdown",
   "metadata": {},
   "source": [
    "## Connection to a SQL database"
   ]
  },
  {
   "cell_type": "code",
   "execution_count": null,
   "metadata": {},
   "outputs": [],
   "source": [
    "import os\n",
    "import mysql.connector\n",
    "\n",
    "# Access environment variable directly (may raise KeyError if not set)\n",
    "database_name = os.environ['MYSQL_DATABASE']\n",
    "user = os.environ['MYSQL_USER']\n",
    "password = os.environ['MYSQL_PASSWORD']\n",
    "\n",
    "mydb = mysql.connector.connect(\n",
    "  host=\"mysql\",  # Use service name from docker-compose\n",
    "  user=user,\n",
    "  password=password,\n",
    "  database=database_name\n",
    ")\n",
    "\n",
    "mycursor = mydb.cursor()"
   ]
  },
  {
   "cell_type": "code",
   "execution_count": 3,
   "metadata": {},
   "outputs": [],
   "source": [
    "# Define your table schema\n",
    "sql = \"\"\"CREATE TABLE IF NOT EXISTS users (\n",
    "  id INT AUTO_INCREMENT PRIMARY KEY,\n",
    "  username VARCHAR(255) NOT NULL,\n",
    "  email VARCHAR(255) NOT NULL UNIQUE\n",
    ")\"\"\"\n",
    "\n",
    "mycursor.execute(sql)"
   ]
  },
  {
   "cell_type": "code",
   "execution_count": 4,
   "metadata": {},
   "outputs": [],
   "source": [
    "sql = \"INSERT INTO users (username, email) VALUES (%s, %s)\"\n",
    "val = (\"John Doe\", \"johndoe@example.com\")\n",
    "mycursor.execute(sql, val)\n",
    "\n",
    "# Insert multiple rows at once using executemany\n",
    "sql = \"INSERT INTO users (username, email) VALUES (%s, %s)\"\n",
    "val = [\n",
    "  (\"Jane Doe\", \"janedoe@example.com\"),\n",
    "  (\"Peter Smith\", \"petersmith@example.com\"),\n",
    "]\n",
    "mycursor.executemany(sql, val)\n",
    "\n",
    "mydb.commit()  # Commit changes to the database"
   ]
  },
  {
   "cell_type": "markdown",
   "metadata": {},
   "source": [
    "## Conecction to a Virtuoso Triple Store"
   ]
  },
  {
   "cell_type": "code",
   "execution_count": 1,
   "metadata": {},
   "outputs": [
    {
     "ename": "PluginException",
     "evalue": "No plugin registered for (Virtuoso, <class 'rdflib.store.Store'>)",
     "output_type": "error",
     "traceback": [
      "\u001b[0;31m---------------------------------------------------------------------------\u001b[0m",
      "\u001b[0;31mKeyError\u001b[0m                                  Traceback (most recent call last)",
      "File \u001b[0;32m/usr/local/lib/python3.8/dist-packages/rdflib/plugin.py:132\u001b[0m, in \u001b[0;36mget\u001b[0;34m(name, kind)\u001b[0m\n\u001b[1;32m    131\u001b[0m \u001b[38;5;28;01mtry\u001b[39;00m:\n\u001b[0;32m--> 132\u001b[0m     p: Plugin[PluginT] \u001b[38;5;241m=\u001b[39m \u001b[43m_plugins\u001b[49m\u001b[43m[\u001b[49m\u001b[43m(\u001b[49m\u001b[43mname\u001b[49m\u001b[43m,\u001b[49m\u001b[43m \u001b[49m\u001b[43mkind\u001b[49m\u001b[43m)\u001b[49m\u001b[43m]\u001b[49m\n\u001b[1;32m    133\u001b[0m \u001b[38;5;28;01mexcept\u001b[39;00m \u001b[38;5;167;01mKeyError\u001b[39;00m:\n",
      "\u001b[0;31mKeyError\u001b[0m: ('Virtuoso', <class 'rdflib.store.Store'>)",
      "\nDuring handling of the above exception, another exception occurred:\n",
      "\u001b[0;31mPluginException\u001b[0m                           Traceback (most recent call last)",
      "Cell \u001b[0;32mIn[1], line 15\u001b[0m\n\u001b[1;32m     12\u001b[0m dsn \u001b[38;5;241m=\u001b[39m \u001b[38;5;124m\"\u001b[39m\u001b[38;5;124mVOS;UID=\u001b[39m\u001b[38;5;132;01m%s\u001b[39;00m\u001b[38;5;124m;PWD=\u001b[39m\u001b[38;5;132;01m%s\u001b[39;00m\u001b[38;5;124m;HOST=\u001b[39m\u001b[38;5;132;01m%s\u001b[39;00m\u001b[38;5;124m;PORT=\u001b[39m\u001b[38;5;132;01m%s\u001b[39;00m\u001b[38;5;124m\"\u001b[39m \u001b[38;5;241m%\u001b[39m (username, password, host, port) \n\u001b[1;32m     14\u001b[0m \u001b[38;5;66;03m# Create Virtuoso store object\u001b[39;00m\n\u001b[0;32m---> 15\u001b[0m Virtuoso \u001b[38;5;241m=\u001b[39m \u001b[43mplugin\u001b[49m\u001b[43m(\u001b[49m\u001b[38;5;124;43m\"\u001b[39;49m\u001b[38;5;124;43mVirtuoso\u001b[39;49m\u001b[38;5;124;43m\"\u001b[39;49m\u001b[43m,\u001b[49m\u001b[43m \u001b[49m\u001b[43mStore\u001b[49m\u001b[43m)\u001b[49m\n\u001b[1;32m     16\u001b[0m graph \u001b[38;5;241m=\u001b[39m Graph(Virtuoso(dsn))\n",
      "File \u001b[0;32m/usr/local/lib/python3.8/dist-packages/rdflib/plugin.py:134\u001b[0m, in \u001b[0;36mget\u001b[0;34m(name, kind)\u001b[0m\n\u001b[1;32m    132\u001b[0m     p: Plugin[PluginT] \u001b[38;5;241m=\u001b[39m _plugins[(name, kind)]\n\u001b[1;32m    133\u001b[0m \u001b[38;5;28;01mexcept\u001b[39;00m \u001b[38;5;167;01mKeyError\u001b[39;00m:\n\u001b[0;32m--> 134\u001b[0m     \u001b[38;5;28;01mraise\u001b[39;00m PluginException(\u001b[38;5;124m\"\u001b[39m\u001b[38;5;124mNo plugin registered for (\u001b[39m\u001b[38;5;132;01m%s\u001b[39;00m\u001b[38;5;124m, \u001b[39m\u001b[38;5;132;01m%s\u001b[39;00m\u001b[38;5;124m)\u001b[39m\u001b[38;5;124m\"\u001b[39m \u001b[38;5;241m%\u001b[39m (name, kind))\n\u001b[1;32m    135\u001b[0m \u001b[38;5;28;01mreturn\u001b[39;00m p\u001b[38;5;241m.\u001b[39mgetClass()\n",
      "\u001b[0;31mPluginException\u001b[0m: No plugin registered for (Virtuoso, <class 'rdflib.store.Store'>)"
     ]
    }
   ],
   "source": [
    "from rdflib.graph import ConjunctiveGraph as Graph\n",
    "from rdflib.store import Store\n",
    "from rdflib.plugin import get as plugin\n",
    "from rdflib.term import URIRef, Literal\n",
    "\n",
    "# DSN with connection details\n",
    "# Virtuoso connection details\n",
    "username = \"dba\"\n",
    "password = \"dba\"\n",
    "host = \"virtuoso\"\n",
    "port = 8890\n",
    "dsn = \"VOS;UID=%s;PWD=%s;HOST=%s;PORT=%s\" % (username, password, host, port) \n",
    "\n",
    "# Create Virtuoso store object\n",
    "Virtuoso = plugin(\"Virtuoso\", Store)\n",
    "graph = Graph(Virtuoso(dsn))"
   ]
  },
  {
   "cell_type": "code",
   "execution_count": null,
   "metadata": {},
   "outputs": [],
   "source": [
    "# Define resources\n",
    "subject = URIRef(\"http://example.com/resource1\")\n",
    "predicate = URIRef(\"http://www.w3.org/1999/02/22-rdf-syntax-ns#type\")\n",
    "object = URIRef(\"http://example.com/ClassA\")\n",
    "\n",
    "# Add triple to the graph\n",
    "graph.add((subject, predicate, object))\n",
    "\n",
    "# Commit changes to Virtuoso\n",
    "graph.commit()"
   ]
  }
 ],
 "metadata": {
  "kernelspec": {
   "display_name": "Python 3 (ipykernel)",
   "language": "python",
   "name": "python3"
  },
  "language_info": {
   "codemirror_mode": {
    "name": "ipython",
    "version": 3
   },
   "file_extension": ".py",
   "mimetype": "text/x-python",
   "name": "python",
   "nbconvert_exporter": "python",
   "pygments_lexer": "ipython3",
   "version": "3.8.10"
  }
 },
 "nbformat": 4,
 "nbformat_minor": 4
}
