{
 "cells": [
  {
   "cell_type": "markdown",
   "metadata": {},
   "source": [
    "## Connection to a SQL database"
   ]
  },
  {
   "cell_type": "code",
   "execution_count": null,
   "metadata": {},
   "outputs": [],
   "source": [
    "import os\n",
    "import mysql.connector\n",
    "\n",
    "# Access environment variable directly (may raise KeyError if not set)\n",
    "database_name = os.environ['MYSQL_DATABASE']\n",
    "user = os.environ['MYSQL_USER']\n",
    "password = os.environ['MYSQL_PASSWORD']\n",
    "\n",
    "mydb = mysql.connector.connect(\n",
    "  host=\"mysql\",  # Use service name from docker-compose\n",
    "  user=user,\n",
    "  password=password,\n",
    "  database=database_name\n",
    ")\n",
    "\n",
    "mycursor = mydb.cursor()"
   ]
  },
  {
   "cell_type": "code",
   "execution_count": 3,
   "metadata": {},
   "outputs": [],
   "source": [
    "# Define your table schema\n",
    "sql = \"\"\"CREATE TABLE IF NOT EXISTS users (\n",
    "  id INT AUTO_INCREMENT PRIMARY KEY,\n",
    "  username VARCHAR(255) NOT NULL,\n",
    "  email VARCHAR(255) NOT NULL UNIQUE\n",
    ")\"\"\"\n",
    "\n",
    "mycursor.execute(sql)"
   ]
  },
  {
   "cell_type": "code",
   "execution_count": 4,
   "metadata": {},
   "outputs": [],
   "source": [
    "sql = \"INSERT INTO users (username, email) VALUES (%s, %s)\"\n",
    "val = (\"John Doe\", \"johndoe@example.com\")\n",
    "mycursor.execute(sql, val)\n",
    "\n",
    "# Insert multiple rows at once using executemany\n",
    "sql = \"INSERT INTO users (username, email) VALUES (%s, %s)\"\n",
    "val = [\n",
    "  (\"Jane Doe\", \"janedoe@example.com\"),\n",
    "  (\"Peter Smith\", \"petersmith@example.com\"),\n",
    "]\n",
    "mycursor.executemany(sql, val)\n",
    "\n",
    "mydb.commit()  # Commit changes to the database"
   ]
  },
  {
   "cell_type": "markdown",
   "metadata": {},
   "source": [
    "## Conecction to a Virtuoso Triple Store"
   ]
  },
  {
   "cell_type": "code",
   "execution_count": 1,
   "metadata": {},
   "outputs": [
    {
     "ename": "PluginException",
     "evalue": "No plugin registered for (Virtuoso, <class 'rdflib.store.Store'>)",
     "output_type": "error",
     "traceback": [
      "\u001b[0;31m---------------------------------------------------------------------------\u001b[0m",
      "\u001b[0;31mKeyError\u001b[0m                                  Traceback (most recent call last)",
      "File \u001b[0;32m/usr/local/lib/python3.8/dist-packages/rdflib/plugin.py:132\u001b[0m, in \u001b[0;36mget\u001b[0;34m(name, kind)\u001b[0m\n\u001b[1;32m    131\u001b[0m \u001b[38;5;28;01mtry\u001b[39;00m:\n\u001b[0;32m--> 132\u001b[0m     p: Plugin[PluginT] \u001b[38;5;241m=\u001b[39m \u001b[43m_plugins\u001b[49m\u001b[43m[\u001b[49m\u001b[43m(\u001b[49m\u001b[43mname\u001b[49m\u001b[43m,\u001b[49m\u001b[43m \u001b[49m\u001b[43mkind\u001b[49m\u001b[43m)\u001b[49m\u001b[43m]\u001b[49m\n\u001b[1;32m    133\u001b[0m \u001b[38;5;28;01mexcept\u001b[39;00m \u001b[38;5;167;01mKeyError\u001b[39;00m:\n",
      "\u001b[0;31mKeyError\u001b[0m: ('Virtuoso', <class 'rdflib.store.Store'>)",
      "\nDuring handling of the above exception, another exception occurred:\n",
      "\u001b[0;31mPluginException\u001b[0m                           Traceback (most recent call last)",
      "Cell \u001b[0;32mIn[1], line 15\u001b[0m\n\u001b[1;32m     12\u001b[0m dsn \u001b[38;5;241m=\u001b[39m \u001b[38;5;124m\"\u001b[39m\u001b[38;5;124mVOS;UID=\u001b[39m\u001b[38;5;132;01m%s\u001b[39;00m\u001b[38;5;124m;PWD=\u001b[39m\u001b[38;5;132;01m%s\u001b[39;00m\u001b[38;5;124m;HOST=\u001b[39m\u001b[38;5;132;01m%s\u001b[39;00m\u001b[38;5;124m;PORT=\u001b[39m\u001b[38;5;132;01m%s\u001b[39;00m\u001b[38;5;124m\"\u001b[39m \u001b[38;5;241m%\u001b[39m (username, password, host, port) \n\u001b[1;32m     14\u001b[0m \u001b[38;5;66;03m# Create Virtuoso store object\u001b[39;00m\n\u001b[0;32m---> 15\u001b[0m Virtuoso \u001b[38;5;241m=\u001b[39m \u001b[43mplugin\u001b[49m\u001b[43m(\u001b[49m\u001b[38;5;124;43m\"\u001b[39;49m\u001b[38;5;124;43mVirtuoso\u001b[39;49m\u001b[38;5;124;43m\"\u001b[39;49m\u001b[43m,\u001b[49m\u001b[43m \u001b[49m\u001b[43mStore\u001b[49m\u001b[43m)\u001b[49m\n\u001b[1;32m     16\u001b[0m graph \u001b[38;5;241m=\u001b[39m Graph(Virtuoso(dsn))\n",
      "File \u001b[0;32m/usr/local/lib/python3.8/dist-packages/rdflib/plugin.py:134\u001b[0m, in \u001b[0;36mget\u001b[0;34m(name, kind)\u001b[0m\n\u001b[1;32m    132\u001b[0m     p: Plugin[PluginT] \u001b[38;5;241m=\u001b[39m _plugins[(name, kind)]\n\u001b[1;32m    133\u001b[0m \u001b[38;5;28;01mexcept\u001b[39;00m \u001b[38;5;167;01mKeyError\u001b[39;00m:\n\u001b[0;32m--> 134\u001b[0m     \u001b[38;5;28;01mraise\u001b[39;00m PluginException(\u001b[38;5;124m\"\u001b[39m\u001b[38;5;124mNo plugin registered for (\u001b[39m\u001b[38;5;132;01m%s\u001b[39;00m\u001b[38;5;124m, \u001b[39m\u001b[38;5;132;01m%s\u001b[39;00m\u001b[38;5;124m)\u001b[39m\u001b[38;5;124m\"\u001b[39m \u001b[38;5;241m%\u001b[39m (name, kind))\n\u001b[1;32m    135\u001b[0m \u001b[38;5;28;01mreturn\u001b[39;00m p\u001b[38;5;241m.\u001b[39mgetClass()\n",
      "\u001b[0;31mPluginException\u001b[0m: No plugin registered for (Virtuoso, <class 'rdflib.store.Store'>)"
     ]
    }
   ],
   "source": [
    "from rdflib.graph import ConjunctiveGraph as Graph\n",
    "from rdflib.store import Store\n",
    "from rdflib.plugin import get as plugin\n",
    "from rdflib.term import URIRef, Literal\n",
    "\n",
    "# DSN with connection details\n",
    "# Virtuoso connection details\n",
    "username = \"dba\"\n",
    "password = \"dba\"\n",
    "host = \"virtuoso\"\n",
    "port = 8890\n",
    "dsn = \"VOS;UID=%s;PWD=%s;HOST=%s;PORT=%s\" % (username, password, host, port) \n",
    "\n",
    "# Create Virtuoso store object\n",
    "Virtuoso = plugin(\"Virtuoso\", Store)\n",
    "graph = Graph(Virtuoso(dsn))"
   ]
  },
  {
   "cell_type": "code",
   "execution_count": null,
   "metadata": {},
   "outputs": [],
   "source": [
    "# Define resources\n",
    "subject = URIRef(\"http://example.com/resource1\")\n",
    "predicate = URIRef(\"http://www.w3.org/1999/02/22-rdf-syntax-ns#type\")\n",
    "object = URIRef(\"http://example.com/ClassA\")\n",
    "\n",
    "# Add triple to the graph\n",
    "graph.add((subject, predicate, object))\n",
    "\n",
    "# Commit changes to Virtuoso\n",
    "graph.commit()"
   ]
  },
  {
   "cell_type": "markdown",
   "metadata": {},
   "source": [
    "## Connection to a Anzograph DB"
   ]
  },
  {
   "cell_type": "markdown",
   "metadata": {},
   "source": [
    "### Aproach 1"
   ]
  },
  {
   "cell_type": "code",
   "execution_count": 61,
   "metadata": {},
   "outputs": [
    {
     "data": {
      "text/plain": [
       "<Graph identifier=http://example.com/graph1 (<class 'rdflib.graph.Graph'>)>"
      ]
     },
     "execution_count": 61,
     "metadata": {},
     "output_type": "execute_result"
    }
   ],
   "source": [
    "import rdflib.plugins.stores.sparqlstore as sprql_store\n",
    "from rdflib import Namespace ,Graph, URIRef, Literal, BNode, store\n",
    "from rdflib.namespace import FOAF, RDF\n",
    "from rdflib.plugins.stores import sparqlstore\n",
    "from rdflib.graph import DATASET_DEFAULT_GRAPH_ID as default\n",
    "\n",
    "\n",
    "store = sparqlstore.SPARQLUpdateStore()\n",
    "query_endpoint = 'http://anzograph:7070/sparql'\n",
    "update_endpoint = 'http://anzograph:7070/sparql'\n",
    "store.open((query_endpoint, update_endpoint))\n",
    "\n",
    "# Define example namespace.\n",
    "ex = Namespace(\"http://example_asdsfdas.org/\")\n",
    "\n",
    "# Define a node.\n",
    "node = (ex.me, RDF.type, FOAF.Person)\n",
    "\n",
    "# Open a graph in the open store and set identifier to default graph ID.\n",
    "graph = Graph(store, identifier=\"http://example.com/graph1\")\n",
    "\n",
    "# Add node to graph.\n",
    "graph.add(node)"
   ]
  },
  {
   "cell_type": "code",
   "execution_count": 64,
   "metadata": {},
   "outputs": [
    {
     "name": "stdout",
     "output_type": "stream",
     "text": [
      "Predicates:  \n",
      "(rdflib.term.URIRef('http://example.com/my#NewObject'), rdflib.term.Literal('1', datatype=rdflib.term.URIRef('http://www.w3.org/2001/XMLSchema#long')))\n",
      "(rdflib.term.URIRef('http://example.com/my#NewObject2'), rdflib.term.Literal('1', datatype=rdflib.term.URIRef('http://www.w3.org/2001/XMLSchema#long')))\n",
      "(rdflib.term.URIRef('http://example.com/my#NewObject1'), rdflib.term.Literal('1', datatype=rdflib.term.URIRef('http://www.w3.org/2001/XMLSchema#long')))\n",
      "(rdflib.term.URIRef('http://example_asdsfdas.org/me'), rdflib.term.Literal('1', datatype=rdflib.term.URIRef('http://www.w3.org/2001/XMLSchema#long')))\n",
      "Graphs:  \n",
      "(rdflib.term.URIRef('http://example.com/graph1'), rdflib.term.Literal('4', datatype=rdflib.term.URIRef('http://www.w3.org/2001/XMLSchema#long')))\n"
     ]
    }
   ],
   "source": [
    "result = graph.query(\"\"\" SELECT ?s (COUNT(*) as ?count)\n",
    "WHERE {\n",
    "\t\t?s ?p ?o\n",
    "}\n",
    "GROUP BY ?s\n",
    "ORDER BY DESC(?count)\"\"\")\n",
    "print(\"Predicates:  \")\n",
    "for row in result:\n",
    "    print(row)\n",
    "\n",
    "\n",
    "result = g.query(\"\"\" SELECT ?g (COUNT(*) as ?count)\n",
    "WHERE {\n",
    "\tgraph ?g{\n",
    "\t\t?s ?p ?o\n",
    "\t}\n",
    "}\n",
    "GROUP BY ?g\n",
    "ORDER BY DESC(?count)\"\"\")\n",
    "print(\"Graphs:  \")\n",
    "for row in result:\n",
    "    print(row)"
   ]
  },
  {
   "cell_type": "code",
   "execution_count": 67,
   "metadata": {},
   "outputs": [
    {
     "name": "stdout",
     "output_type": "stream",
     "text": [
      "x:\n",
      "y:\n",
      "After update:\n",
      "x:\n",
      "z:\n",
      "y:\n",
      "After second update:\n",
      "x: a c:\n",
      "z: a c:\n",
      "y: a d:\n"
     ]
    }
   ],
   "source": [
    "graph3 = Graph(store, identifier=\"http://example.com/graph3\")\n",
    "\n",
    "graph3.parse(\n",
    "    data=\"\"\"\n",
    "        <x:> a <c:> .\n",
    "        <y:> a <c:> .\n",
    "    \"\"\",\n",
    "    format=\"turtle\"\n",
    ")\n",
    "\n",
    "# Select all the things (s) that are of type (rdf:type) c:\n",
    "qres = graph3.query(\"\"\"SELECT ?s WHERE { ?s a <c:> }\"\"\")\n",
    "\n",
    "for row in qres:\n",
    "    print(f\"{row.s}\")\n",
    "# prints:\n",
    "# x:\n",
    "# y:\n",
    "\n",
    "# Add in a new triple using SPARQL UPDATE\n",
    "graph3.update(\"\"\"INSERT DATA { <z:> a <c:> }\"\"\")\n",
    "\n",
    "# Select all the things (s) that are of type (rdf:type) c:\n",
    "qres = graph3.query(\"\"\"SELECT ?s WHERE { ?s a <c:> }\"\"\")\n",
    "\n",
    "print(\"After update:\")\n",
    "for row in qres:\n",
    "    print(f\"{row.s}\")\n",
    "# prints:\n",
    "# x:\n",
    "# y:\n",
    "# z:\n",
    "\n",
    "# Change type of <y:> from <c:> to <d:>\n",
    "graph3.update(\"\"\"\n",
    "         DELETE { <y:> a <c:> }\n",
    "         INSERT { <y:> a <d:> }\n",
    "         WHERE { <y:> a <c:> }\n",
    "         \"\"\")\n",
    "print(\"After second update:\")\n",
    "qres = graph3.query(\"\"\"SELECT ?s ?o WHERE { ?s a ?o }\"\"\")\n",
    "for row in qres:\n",
    "    print(f\"{row.s} a {row.o}\")\n",
    "# prints:\n",
    "# x: a c:\n",
    "# z: a c:\n",
    "# y: a d:"
   ]
  },
  {
   "cell_type": "markdown",
   "metadata": {},
   "source": [
    "### Aproach 2"
   ]
  },
  {
   "cell_type": "code",
   "execution_count": 59,
   "metadata": {},
   "outputs": [
    {
     "name": "stdout",
     "output_type": "stream",
     "text": [
      "Predicates:  \n",
      "(rdflib.term.URIRef('http://example.org/me'), rdflib.term.Literal('1', datatype=rdflib.term.URIRef('http://www.w3.org/2001/XMLSchema#long')))\n",
      "(rdflib.term.URIRef('http://example.com/book1'), rdflib.term.Literal('1', datatype=rdflib.term.URIRef('http://www.w3.org/2001/XMLSchema#long')))\n",
      "(rdflib.term.URIRef('http://example_asdsfdas.org/me'), rdflib.term.Literal('1', datatype=rdflib.term.URIRef('http://www.w3.org/2001/XMLSchema#long')))\n",
      "(rdflib.term.URIRef('x:'), rdflib.term.Literal('1', datatype=rdflib.term.URIRef('http://www.w3.org/2001/XMLSchema#long')))\n",
      "(rdflib.term.URIRef('y:'), rdflib.term.Literal('1', datatype=rdflib.term.URIRef('http://www.w3.org/2001/XMLSchema#long')))\n",
      "Graphs:  \n",
      "(rdflib.term.URIRef('http://example.com/graph1'), rdflib.term.Literal('4', datatype=rdflib.term.URIRef('http://www.w3.org/2001/XMLSchema#long')))\n"
     ]
    }
   ],
   "source": [
    "import rdflib\n",
    "import rdflib.plugins.stores.sparqlstore as sprql_store\n",
    "from rdflib import Graph, URIRef, Literal, BNode, store\n",
    "from rdflib.namespace import FOAF, RDF\n",
    "\n",
    "store = sprql_store.SPARQLStore(\"http://anzograph:7070/sparql\")\n",
    "g = Graph(store=store)\n",
    "\n",
    "result = g.query(\"\"\" SELECT ?s (COUNT(*) as ?count)\n",
    "WHERE {\n",
    "\t\t?s ?p ?o\n",
    "}\n",
    "GROUP BY ?s\n",
    "ORDER BY DESC(?count)\"\"\")\n",
    "print(\"Predicates:  \")\n",
    "for row in result:\n",
    "    print(row)\n",
    "\n",
    "result = g.query(\"\"\" SELECT ?g (COUNT(*) as ?count)\n",
    "WHERE {\n",
    "\tgraph ?g{\n",
    "\t\t?s ?p ?o\n",
    "\t}\n",
    "}\n",
    "GROUP BY ?g\n",
    "ORDER BY DESC(?count)\"\"\")\n",
    "print(\"Graphs:  \")\n",
    "for row in result:\n",
    "    print(row)"
   ]
  },
  {
   "cell_type": "code",
   "execution_count": 55,
   "metadata": {},
   "outputs": [
    {
     "ename": "HTTPError",
     "evalue": "HTTP Error 400: Bad Request",
     "output_type": "error",
     "traceback": [
      "\u001b[0;31m---------------------------------------------------------------------------\u001b[0m",
      "\u001b[0;31mHTTPError\u001b[0m                                 Traceback (most recent call last)",
      "Cell \u001b[0;32mIn[55], line 19\u001b[0m\n\u001b[1;32m      1\u001b[0m g\u001b[38;5;241m.\u001b[39mparse(\n\u001b[1;32m      2\u001b[0m     data\u001b[38;5;241m=\u001b[39m\u001b[38;5;124m\"\"\"\u001b[39m\n\u001b[1;32m      3\u001b[0m \u001b[38;5;124m        <x:> a <c:> .\u001b[39m\n\u001b[0;32m   (...)\u001b[0m\n\u001b[1;32m      6\u001b[0m     \u001b[38;5;28mformat\u001b[39m\u001b[38;5;241m=\u001b[39m\u001b[38;5;124m\"\u001b[39m\u001b[38;5;124mturtle\u001b[39m\u001b[38;5;124m\"\u001b[39m\n\u001b[1;32m      7\u001b[0m )\n\u001b[1;32m      9\u001b[0m \u001b[38;5;66;03m# Select all the things (s) that are of type (rdf:type) c:\u001b[39;00m\n\u001b[1;32m     10\u001b[0m \u001b[38;5;66;03m# qres = g.query(\"\"\"SELECT ?s WHERE { ?s a <c:> }\"\"\")\u001b[39;00m\n\u001b[1;32m     11\u001b[0m \n\u001b[0;32m   (...)\u001b[0m\n\u001b[1;32m     17\u001b[0m \n\u001b[1;32m     18\u001b[0m \u001b[38;5;66;03m# Add in a new triple using SPARQL UPDATE\u001b[39;00m\n\u001b[0;32m---> 19\u001b[0m \u001b[43mg\u001b[49m\u001b[38;5;241;43m.\u001b[39;49m\u001b[43mupdate\u001b[49m\u001b[43m(\u001b[49m\u001b[38;5;124;43m\"\"\"\u001b[39;49m\u001b[38;5;124;43m \u001b[39;49m\n\u001b[1;32m     20\u001b[0m \u001b[38;5;124;43mPREFIX my: <http://example.com/my#>  # Replace with your actual prefix\u001b[39;49m\n\u001b[1;32m     21\u001b[0m \n\u001b[1;32m     22\u001b[0m \u001b[38;5;124;43mINSERT DATA \u001b[39;49m\u001b[38;5;124;43m{\u001b[39;49m\n\u001b[1;32m     23\u001b[0m \u001b[38;5;124;43m  GRAPH <http://example.com/graph2> \u001b[39;49m\u001b[38;5;124;43m{\u001b[39;49m\n\u001b[1;32m     24\u001b[0m \u001b[38;5;124;43m    my:NewObject1 my:newProperty \u001b[39;49m\u001b[38;5;124;43m\"\u001b[39;49m\u001b[38;5;124;43mNew Value 1\u001b[39;49m\u001b[38;5;124;43m\"\u001b[39;49m\u001b[38;5;124;43m .\u001b[39;49m\n\u001b[1;32m     25\u001b[0m \u001b[38;5;124;43m    my:NewObject2 my:anotherProperty \u001b[39;49m\u001b[38;5;124;43m\"\u001b[39;49m\u001b[38;5;124;43mAnother Value 2\u001b[39;49m\u001b[38;5;124;43m\"\u001b[39;49m\u001b[38;5;124;43m .\u001b[39;49m\n\u001b[1;32m     26\u001b[0m \u001b[38;5;124;43m  }\u001b[39;49m\n\u001b[1;32m     27\u001b[0m \u001b[38;5;124;43m};\u001b[39;49m\n\u001b[1;32m     28\u001b[0m \u001b[38;5;124;43m\"\"\"\u001b[39;49m\u001b[43m)\u001b[49m\n\u001b[1;32m     30\u001b[0m \u001b[38;5;66;03m# Select all the things (s) that are of type (rdf:type) c:\u001b[39;00m\n\u001b[1;32m     31\u001b[0m qres \u001b[38;5;241m=\u001b[39m g\u001b[38;5;241m.\u001b[39mquery(\u001b[38;5;124m\"\"\"\u001b[39m\u001b[38;5;124mSELECT ?s WHERE \u001b[39m\u001b[38;5;124m{\u001b[39m\u001b[38;5;124m ?s a <c:> }\u001b[39m\u001b[38;5;124m\"\"\"\u001b[39m)\n",
      "File \u001b[0;32m/usr/local/lib/python3.10/dist-packages/rdflib/graph.py:1597\u001b[0m, in \u001b[0;36mGraph.update\u001b[0;34m(self, update_object, processor, initNs, initBindings, use_store_provided, **kwargs)\u001b[0m\n\u001b[1;32m   1595\u001b[0m \u001b[38;5;28;01mif\u001b[39;00m \u001b[38;5;28mhasattr\u001b[39m(\u001b[38;5;28mself\u001b[39m\u001b[38;5;241m.\u001b[39mstore, \u001b[38;5;124m\"\u001b[39m\u001b[38;5;124mupdate\u001b[39m\u001b[38;5;124m\"\u001b[39m) \u001b[38;5;129;01mand\u001b[39;00m use_store_provided:\n\u001b[1;32m   1596\u001b[0m     \u001b[38;5;28;01mtry\u001b[39;00m:\n\u001b[0;32m-> 1597\u001b[0m         \u001b[38;5;28;01mreturn\u001b[39;00m \u001b[38;5;28;43mself\u001b[39;49m\u001b[38;5;241;43m.\u001b[39;49m\u001b[43mstore\u001b[49m\u001b[38;5;241;43m.\u001b[39;49m\u001b[43mupdate\u001b[49m\u001b[43m(\u001b[49m\n\u001b[1;32m   1598\u001b[0m \u001b[43m            \u001b[49m\u001b[43mupdate_object\u001b[49m\u001b[43m,\u001b[49m\n\u001b[1;32m   1599\u001b[0m \u001b[43m            \u001b[49m\u001b[43minitNs\u001b[49m\u001b[43m,\u001b[49m\n\u001b[1;32m   1600\u001b[0m \u001b[43m            \u001b[49m\u001b[43minitBindings\u001b[49m\u001b[43m,\u001b[49m\n\u001b[1;32m   1601\u001b[0m \u001b[43m            \u001b[49m\u001b[38;5;28;43mself\u001b[39;49m\u001b[38;5;241;43m.\u001b[39;49m\u001b[43mdefault_union\u001b[49m\u001b[43m \u001b[49m\u001b[38;5;129;43;01mand\u001b[39;49;00m\u001b[43m \u001b[49m\u001b[38;5;124;43m\"\u001b[39;49m\u001b[38;5;124;43m__UNION__\u001b[39;49m\u001b[38;5;124;43m\"\u001b[39;49m\u001b[43m \u001b[49m\u001b[38;5;129;43;01mor\u001b[39;49;00m\u001b[43m \u001b[49m\u001b[38;5;28;43mself\u001b[39;49m\u001b[38;5;241;43m.\u001b[39;49m\u001b[43midentifier\u001b[49m\u001b[43m,\u001b[49m\n\u001b[1;32m   1602\u001b[0m \u001b[43m            \u001b[49m\u001b[38;5;241;43m*\u001b[39;49m\u001b[38;5;241;43m*\u001b[39;49m\u001b[43mkwargs\u001b[49m\u001b[43m,\u001b[49m\n\u001b[1;32m   1603\u001b[0m \u001b[43m        \u001b[49m\u001b[43m)\u001b[49m\n\u001b[1;32m   1604\u001b[0m     \u001b[38;5;28;01mexcept\u001b[39;00m \u001b[38;5;167;01mNotImplementedError\u001b[39;00m:\n\u001b[1;32m   1605\u001b[0m         \u001b[38;5;28;01mpass\u001b[39;00m  \u001b[38;5;66;03m# store has no own implementation\u001b[39;00m\n",
      "File \u001b[0;32m/usr/local/lib/python3.10/dist-packages/rdflib/plugins/stores/sparqlstore.py:894\u001b[0m, in \u001b[0;36mSPARQLUpdateStore.update\u001b[0;34m(self, query, initNs, initBindings, queryGraph, DEBUG)\u001b[0m\n\u001b[1;32m    892\u001b[0m \u001b[38;5;28mself\u001b[39m\u001b[38;5;241m.\u001b[39m_transaction()\u001b[38;5;241m.\u001b[39mappend(query)\n\u001b[1;32m    893\u001b[0m \u001b[38;5;28;01mif\u001b[39;00m \u001b[38;5;28mself\u001b[39m\u001b[38;5;241m.\u001b[39mautocommit:\n\u001b[0;32m--> 894\u001b[0m     \u001b[38;5;28;43mself\u001b[39;49m\u001b[38;5;241;43m.\u001b[39;49m\u001b[43mcommit\u001b[49m\u001b[43m(\u001b[49m\u001b[43m)\u001b[49m\n",
      "File \u001b[0;32m/usr/local/lib/python3.10/dist-packages/rdflib/plugins/stores/sparqlstore.py:726\u001b[0m, in \u001b[0;36mSPARQLUpdateStore.commit\u001b[0;34m(self)\u001b[0m\n\u001b[1;32m    720\u001b[0m \u001b[38;5;250m\u001b[39m\u001b[38;5;124;03m\"\"\"add(), addN(), and remove() are transactional to reduce overhead of many small edits.\u001b[39;00m\n\u001b[1;32m    721\u001b[0m \u001b[38;5;124;03mRead and update() calls will automatically commit any outstanding edits.\u001b[39;00m\n\u001b[1;32m    722\u001b[0m \u001b[38;5;124;03mThis should behave as expected most of the time, except that alternating writes\u001b[39;00m\n\u001b[1;32m    723\u001b[0m \u001b[38;5;124;03mand reads can degenerate to the original call-per-triple situation that originally existed.\u001b[39;00m\n\u001b[1;32m    724\u001b[0m \u001b[38;5;124;03m\"\"\"\u001b[39;00m\n\u001b[1;32m    725\u001b[0m \u001b[38;5;28;01mif\u001b[39;00m \u001b[38;5;28mself\u001b[39m\u001b[38;5;241m.\u001b[39m_edits \u001b[38;5;129;01mand\u001b[39;00m \u001b[38;5;28mlen\u001b[39m(\u001b[38;5;28mself\u001b[39m\u001b[38;5;241m.\u001b[39m_edits) \u001b[38;5;241m>\u001b[39m \u001b[38;5;241m0\u001b[39m:\n\u001b[0;32m--> 726\u001b[0m     \u001b[38;5;28;43mself\u001b[39;49m\u001b[38;5;241;43m.\u001b[39;49m\u001b[43m_update\u001b[49m\u001b[43m(\u001b[49m\u001b[38;5;124;43m\"\u001b[39;49m\u001b[38;5;130;43;01m\\n\u001b[39;49;00m\u001b[38;5;124;43m;\u001b[39;49m\u001b[38;5;130;43;01m\\n\u001b[39;49;00m\u001b[38;5;124;43m\"\u001b[39;49m\u001b[38;5;241;43m.\u001b[39;49m\u001b[43mjoin\u001b[49m\u001b[43m(\u001b[49m\u001b[38;5;28;43mself\u001b[39;49m\u001b[38;5;241;43m.\u001b[39;49m\u001b[43m_edits\u001b[49m\u001b[43m)\u001b[49m\u001b[43m)\u001b[49m\n\u001b[1;32m    727\u001b[0m     \u001b[38;5;28mself\u001b[39m\u001b[38;5;241m.\u001b[39m_edits \u001b[38;5;241m=\u001b[39m \u001b[38;5;28;01mNone\u001b[39;00m\n",
      "File \u001b[0;32m/usr/local/lib/python3.10/dist-packages/rdflib/plugins/stores/sparqlstore.py:821\u001b[0m, in \u001b[0;36mSPARQLUpdateStore._update\u001b[0;34m(self, update)\u001b[0m\n\u001b[1;32m    818\u001b[0m \u001b[38;5;28;01mdef\u001b[39;00m \u001b[38;5;21m_update\u001b[39m(\u001b[38;5;28mself\u001b[39m, update):\n\u001b[1;32m    819\u001b[0m     \u001b[38;5;28mself\u001b[39m\u001b[38;5;241m.\u001b[39m_updates \u001b[38;5;241m+\u001b[39m\u001b[38;5;241m=\u001b[39m \u001b[38;5;241m1\u001b[39m\n\u001b[0;32m--> 821\u001b[0m     \u001b[43mSPARQLConnector\u001b[49m\u001b[38;5;241;43m.\u001b[39;49m\u001b[43mupdate\u001b[49m\u001b[43m(\u001b[49m\u001b[38;5;28;43mself\u001b[39;49m\u001b[43m,\u001b[49m\u001b[43m \u001b[49m\u001b[43mupdate\u001b[49m\u001b[43m)\u001b[49m\n",
      "File \u001b[0;32m/usr/local/lib/python3.10/dist-packages/rdflib/plugins/stores/sparqlconnector.py:183\u001b[0m, in \u001b[0;36mSPARQLConnector.update\u001b[0;34m(self, query, default_graph, named_graph)\u001b[0m\n\u001b[1;32m    180\u001b[0m args[\u001b[38;5;124m\"\u001b[39m\u001b[38;5;124mheaders\u001b[39m\u001b[38;5;124m\"\u001b[39m]\u001b[38;5;241m.\u001b[39mupdate(headers)\n\u001b[1;32m    182\u001b[0m qsa \u001b[38;5;241m=\u001b[39m \u001b[38;5;124m\"\u001b[39m\u001b[38;5;124m?\u001b[39m\u001b[38;5;124m\"\u001b[39m \u001b[38;5;241m+\u001b[39m urlencode(args[\u001b[38;5;124m\"\u001b[39m\u001b[38;5;124mparams\u001b[39m\u001b[38;5;124m\"\u001b[39m])\n\u001b[0;32m--> 183\u001b[0m res \u001b[38;5;241m=\u001b[39m \u001b[43murlopen\u001b[49m\u001b[43m(\u001b[49m\u001b[43m  \u001b[49m\u001b[38;5;66;43;03m# noqa: F841\u001b[39;49;00m\n\u001b[1;32m    184\u001b[0m \u001b[43m    \u001b[49m\u001b[43mRequest\u001b[49m\u001b[43m(\u001b[49m\n\u001b[1;32m    185\u001b[0m \u001b[43m        \u001b[49m\u001b[38;5;28;43mself\u001b[39;49m\u001b[38;5;241;43m.\u001b[39;49m\u001b[43mupdate_endpoint\u001b[49m\u001b[43m \u001b[49m\u001b[38;5;241;43m+\u001b[39;49m\u001b[43m \u001b[49m\u001b[43mqsa\u001b[49m\u001b[43m,\u001b[49m\u001b[43m \u001b[49m\u001b[43mdata\u001b[49m\u001b[38;5;241;43m=\u001b[39;49m\u001b[43mquery\u001b[49m\u001b[38;5;241;43m.\u001b[39;49m\u001b[43mencode\u001b[49m\u001b[43m(\u001b[49m\u001b[43m)\u001b[49m\u001b[43m,\u001b[49m\u001b[43m \u001b[49m\u001b[43mheaders\u001b[49m\u001b[38;5;241;43m=\u001b[39;49m\u001b[43margs\u001b[49m\u001b[43m[\u001b[49m\u001b[38;5;124;43m\"\u001b[39;49m\u001b[38;5;124;43mheaders\u001b[39;49m\u001b[38;5;124;43m\"\u001b[39;49m\u001b[43m]\u001b[49m\n\u001b[1;32m    186\u001b[0m \u001b[43m    \u001b[49m\u001b[43m)\u001b[49m\n\u001b[1;32m    187\u001b[0m \u001b[43m\u001b[49m\u001b[43m)\u001b[49m\n",
      "File \u001b[0;32m/usr/lib/python3.10/urllib/request.py:216\u001b[0m, in \u001b[0;36murlopen\u001b[0;34m(url, data, timeout, cafile, capath, cadefault, context)\u001b[0m\n\u001b[1;32m    214\u001b[0m \u001b[38;5;28;01melse\u001b[39;00m:\n\u001b[1;32m    215\u001b[0m     opener \u001b[38;5;241m=\u001b[39m _opener\n\u001b[0;32m--> 216\u001b[0m \u001b[38;5;28;01mreturn\u001b[39;00m \u001b[43mopener\u001b[49m\u001b[38;5;241;43m.\u001b[39;49m\u001b[43mopen\u001b[49m\u001b[43m(\u001b[49m\u001b[43murl\u001b[49m\u001b[43m,\u001b[49m\u001b[43m \u001b[49m\u001b[43mdata\u001b[49m\u001b[43m,\u001b[49m\u001b[43m \u001b[49m\u001b[43mtimeout\u001b[49m\u001b[43m)\u001b[49m\n",
      "File \u001b[0;32m/usr/lib/python3.10/urllib/request.py:525\u001b[0m, in \u001b[0;36mOpenerDirector.open\u001b[0;34m(self, fullurl, data, timeout)\u001b[0m\n\u001b[1;32m    523\u001b[0m \u001b[38;5;28;01mfor\u001b[39;00m processor \u001b[38;5;129;01min\u001b[39;00m \u001b[38;5;28mself\u001b[39m\u001b[38;5;241m.\u001b[39mprocess_response\u001b[38;5;241m.\u001b[39mget(protocol, []):\n\u001b[1;32m    524\u001b[0m     meth \u001b[38;5;241m=\u001b[39m \u001b[38;5;28mgetattr\u001b[39m(processor, meth_name)\n\u001b[0;32m--> 525\u001b[0m     response \u001b[38;5;241m=\u001b[39m \u001b[43mmeth\u001b[49m\u001b[43m(\u001b[49m\u001b[43mreq\u001b[49m\u001b[43m,\u001b[49m\u001b[43m \u001b[49m\u001b[43mresponse\u001b[49m\u001b[43m)\u001b[49m\n\u001b[1;32m    527\u001b[0m \u001b[38;5;28;01mreturn\u001b[39;00m response\n",
      "File \u001b[0;32m/usr/lib/python3.10/urllib/request.py:634\u001b[0m, in \u001b[0;36mHTTPErrorProcessor.http_response\u001b[0;34m(self, request, response)\u001b[0m\n\u001b[1;32m    631\u001b[0m \u001b[38;5;66;03m# According to RFC 2616, \"2xx\" code indicates that the client's\u001b[39;00m\n\u001b[1;32m    632\u001b[0m \u001b[38;5;66;03m# request was successfully received, understood, and accepted.\u001b[39;00m\n\u001b[1;32m    633\u001b[0m \u001b[38;5;28;01mif\u001b[39;00m \u001b[38;5;129;01mnot\u001b[39;00m (\u001b[38;5;241m200\u001b[39m \u001b[38;5;241m<\u001b[39m\u001b[38;5;241m=\u001b[39m code \u001b[38;5;241m<\u001b[39m \u001b[38;5;241m300\u001b[39m):\n\u001b[0;32m--> 634\u001b[0m     response \u001b[38;5;241m=\u001b[39m \u001b[38;5;28;43mself\u001b[39;49m\u001b[38;5;241;43m.\u001b[39;49m\u001b[43mparent\u001b[49m\u001b[38;5;241;43m.\u001b[39;49m\u001b[43merror\u001b[49m\u001b[43m(\u001b[49m\n\u001b[1;32m    635\u001b[0m \u001b[43m        \u001b[49m\u001b[38;5;124;43m'\u001b[39;49m\u001b[38;5;124;43mhttp\u001b[39;49m\u001b[38;5;124;43m'\u001b[39;49m\u001b[43m,\u001b[49m\u001b[43m \u001b[49m\u001b[43mrequest\u001b[49m\u001b[43m,\u001b[49m\u001b[43m \u001b[49m\u001b[43mresponse\u001b[49m\u001b[43m,\u001b[49m\u001b[43m \u001b[49m\u001b[43mcode\u001b[49m\u001b[43m,\u001b[49m\u001b[43m \u001b[49m\u001b[43mmsg\u001b[49m\u001b[43m,\u001b[49m\u001b[43m \u001b[49m\u001b[43mhdrs\u001b[49m\u001b[43m)\u001b[49m\n\u001b[1;32m    637\u001b[0m \u001b[38;5;28;01mreturn\u001b[39;00m response\n",
      "File \u001b[0;32m/usr/lib/python3.10/urllib/request.py:563\u001b[0m, in \u001b[0;36mOpenerDirector.error\u001b[0;34m(self, proto, *args)\u001b[0m\n\u001b[1;32m    561\u001b[0m \u001b[38;5;28;01mif\u001b[39;00m http_err:\n\u001b[1;32m    562\u001b[0m     args \u001b[38;5;241m=\u001b[39m (\u001b[38;5;28mdict\u001b[39m, \u001b[38;5;124m'\u001b[39m\u001b[38;5;124mdefault\u001b[39m\u001b[38;5;124m'\u001b[39m, \u001b[38;5;124m'\u001b[39m\u001b[38;5;124mhttp_error_default\u001b[39m\u001b[38;5;124m'\u001b[39m) \u001b[38;5;241m+\u001b[39m orig_args\n\u001b[0;32m--> 563\u001b[0m     \u001b[38;5;28;01mreturn\u001b[39;00m \u001b[38;5;28;43mself\u001b[39;49m\u001b[38;5;241;43m.\u001b[39;49m\u001b[43m_call_chain\u001b[49m\u001b[43m(\u001b[49m\u001b[38;5;241;43m*\u001b[39;49m\u001b[43margs\u001b[49m\u001b[43m)\u001b[49m\n",
      "File \u001b[0;32m/usr/lib/python3.10/urllib/request.py:496\u001b[0m, in \u001b[0;36mOpenerDirector._call_chain\u001b[0;34m(self, chain, kind, meth_name, *args)\u001b[0m\n\u001b[1;32m    494\u001b[0m \u001b[38;5;28;01mfor\u001b[39;00m handler \u001b[38;5;129;01min\u001b[39;00m handlers:\n\u001b[1;32m    495\u001b[0m     func \u001b[38;5;241m=\u001b[39m \u001b[38;5;28mgetattr\u001b[39m(handler, meth_name)\n\u001b[0;32m--> 496\u001b[0m     result \u001b[38;5;241m=\u001b[39m \u001b[43mfunc\u001b[49m\u001b[43m(\u001b[49m\u001b[38;5;241;43m*\u001b[39;49m\u001b[43margs\u001b[49m\u001b[43m)\u001b[49m\n\u001b[1;32m    497\u001b[0m     \u001b[38;5;28;01mif\u001b[39;00m result \u001b[38;5;129;01mis\u001b[39;00m \u001b[38;5;129;01mnot\u001b[39;00m \u001b[38;5;28;01mNone\u001b[39;00m:\n\u001b[1;32m    498\u001b[0m         \u001b[38;5;28;01mreturn\u001b[39;00m result\n",
      "File \u001b[0;32m/usr/lib/python3.10/urllib/request.py:643\u001b[0m, in \u001b[0;36mHTTPDefaultErrorHandler.http_error_default\u001b[0;34m(self, req, fp, code, msg, hdrs)\u001b[0m\n\u001b[1;32m    642\u001b[0m \u001b[38;5;28;01mdef\u001b[39;00m \u001b[38;5;21mhttp_error_default\u001b[39m(\u001b[38;5;28mself\u001b[39m, req, fp, code, msg, hdrs):\n\u001b[0;32m--> 643\u001b[0m     \u001b[38;5;28;01mraise\u001b[39;00m HTTPError(req\u001b[38;5;241m.\u001b[39mfull_url, code, msg, hdrs, fp)\n",
      "\u001b[0;31mHTTPError\u001b[0m: HTTP Error 400: Bad Request"
     ]
    }
   ],
   "source": [
    "g.parse(\n",
    "    data=\"\"\"\n",
    "        <x:> a <c:> .\n",
    "        <y:> a <c:> .\n",
    "    \"\"\",\n",
    "    format=\"turtle\"\n",
    ")\n",
    "\n",
    "# Select all the things (s) that are of type (rdf:type) c:\n",
    "qres = g.query(\"\"\"SELECT ?s WHERE { ?s a <c:> }\"\"\")\n",
    "\n",
    "for row in qres:\n",
    "    print(f\"{row.s}\")\n",
    "# prints:\n",
    "# x:\n",
    "# y:\n",
    "\n",
    "# Add in a new triple using SPARQL UPDATE\n",
    "g.update(\"\"\"INSERT DATA { <z:> a <c:> }\"\"\")\n",
    "\n",
    "# Select all the things (s) that are of type (rdf:type) c:\n",
    "qres = g.query(\"\"\"SELECT ?s WHERE { ?s a <c:> }\"\"\")\n",
    "\n",
    "print(\"After update:\")\n",
    "for row in qres:\n",
    "    print(f\"{row.s}\")\n",
    "# prints:\n",
    "# x:\n",
    "# y:\n",
    "# z:\n",
    "\n",
    "# Change type of <y:> from <c:> to <d:>\n",
    "g.update(\"\"\"\n",
    "         DELETE { <y:> a <c:> }\n",
    "         INSERT { <y:> a <d:> }\n",
    "         WHERE { <y:> a <c:> }\n",
    "         \"\"\")\n",
    "print(\"After second update:\")\n",
    "qres = g.query(\"\"\"SELECT ?s ?o WHERE { ?s a ?o }\"\"\")\n",
    "for row in qres:\n",
    "    print(f\"{row.s} a {row.o}\")\n",
    "# prints:\n",
    "# x: a c:\n",
    "# z: a c:\n",
    "# y: a d:"
   ]
  },
  {
   "cell_type": "markdown",
   "metadata": {},
   "source": [
    "### Aproach 3"
   ]
  },
  {
   "cell_type": "code",
   "execution_count": 27,
   "metadata": {},
   "outputs": [
    {
     "name": "stdout",
     "output_type": "stream",
     "text": [
      "                             g  count\n",
      "0  <http://example.com/graph1>      3\n"
     ]
    }
   ],
   "source": [
    "import azg3\n",
    "\n",
    "result = azg3.create_dataframe(\"anzograph:7070\" , \"\"\" SELECT ?g (COUNT(*) as ?count)\n",
    "WHERE {\n",
    "\tgraph ?g{\n",
    "\t\t?s ?p ?o\n",
    "\t}\n",
    "}\n",
    "GROUP BY ?g\n",
    "ORDER BY DESC(?count)\"\"\")\n",
    "\n",
    "print(result)"
   ]
  },
  {
   "cell_type": "code",
   "execution_count": 26,
   "metadata": {},
   "outputs": [
    {
     "name": "stdout",
     "output_type": "stream",
     "text": [
      "b''\n"
     ]
    }
   ],
   "source": [
    "result = azg3.run_query(\"anzograph:7070\" , \"\"\" \n",
    "PREFIX my: <http://example.com/my#>  # Replace with your actual prefix\n",
    "\n",
    "INSERT DATA {\n",
    "  GRAPH <http://example.com/graph1> {\n",
    "    my:NewObject1 my:newProperty \"New Value 1\" .\n",
    "    my:NewObject2 my:anotherProperty \"Another Value 2\" .\n",
    "  }\n",
    "};\n",
    "\"\"\")\n",
    "\n",
    "print (result)"
   ]
  },
  {
   "cell_type": "code",
   "execution_count": 22,
   "metadata": {},
   "outputs": [
    {
     "name": "stdout",
     "output_type": "stream",
     "text": [
      "b''\n"
     ]
    }
   ],
   "source": [
    "result = azg3.run_query(\"anzograph:7070\" , \"\"\" \n",
    "INSERT DATA {\n",
    "  <http://example.com/book1> <http://purl.org/dc/elements/1.1/title> \"Introduction to SPARQL\" .\n",
    "}\n",
    "\"\"\"                          \n",
    ")\n",
    "print(result)"
   ]
  },
  {
   "cell_type": "code",
   "execution_count": 33,
   "metadata": {},
   "outputs": [
    {
     "name": "stdout",
     "output_type": "stream",
     "text": [
      "                                  s  count\n",
      "0  <http://example_asdsfdas.org/me>      1\n",
      "1        <http://example.com/book1>      1\n",
      "2           <http://example.org/me>      1\n"
     ]
    }
   ],
   "source": [
    "result = azg3.create_dataframe(\"anzograph:7070\" , \"\"\" SELECT ?s (COUNT(*) as ?count)\n",
    "WHERE {\n",
    "\t\t?s ?p ?o\n",
    "}\n",
    "GROUP BY ?s\n",
    "ORDER BY DESC(?count)\"\"\")\n",
    "\n",
    "print(result)\n"
   ]
  },
  {
   "cell_type": "code",
   "execution_count": null,
   "metadata": {},
   "outputs": [],
   "source": [
    "result = azg3.create_dataframe(\"anzograph:7070\" , \"\"\" SELECT ?s (COUNT(*) as ?count)\n",
    "WHERE {\n",
    "\t\t?s ?p ?o\n",
    "}\n",
    "GROUP BY ?s\n",
    "ORDER BY DESC(?count)\"\"\")\n",
    "\n",
    "print(result)"
   ]
  }
 ],
 "metadata": {
  "kernelspec": {
   "display_name": "Python 3 (ipykernel)",
   "language": "python",
   "name": "python3"
  },
  "language_info": {
   "codemirror_mode": {
    "name": "ipython",
    "version": 3
   },
   "file_extension": ".py",
   "mimetype": "text/x-python",
   "name": "python",
   "nbconvert_exporter": "python",
   "pygments_lexer": "ipython3",
   "version": "3.10.12"
  }
 },
 "nbformat": 4,
 "nbformat_minor": 4
}
