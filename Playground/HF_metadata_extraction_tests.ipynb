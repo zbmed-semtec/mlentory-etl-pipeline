{
 "cells": [
  {
   "cell_type": "markdown",
   "metadata": {},
   "source": [
    "# How to extract particular data from txt files. "
   ]
  },
  {
   "cell_type": "code",
   "execution_count": 20,
   "metadata": {},
   "outputs": [],
   "source": [
    "from transformers import pipeline\n",
    "from datasets import load_dataset\n",
    "import pandas as pd"
   ]
  },
  {
   "cell_type": "code",
   "execution_count": 30,
   "metadata": {},
   "outputs": [
    {
     "name": "stdout",
     "output_type": "stream",
     "text": [
      "Answer: Paris\n",
      "Confidence score: 0.9864407777786255\n"
     ]
    }
   ],
   "source": [
    "\n",
    "# Define your question and context (text passage)\n",
    "question = \"What is the capital of France?\"\n",
    "context = \"\"\"France is a country located in Western Europe. \n",
    "             The capital of France is Paris. It is a major global city \n",
    "             and a center for finance, diplomacy, and culture.\"\"\"\n",
    "\n",
    "# Load the QA pipeline with a pre-trained model\n",
    "qa_pipeline =  pipeline(\"question-answering\", model=\"Intel/dynamic_tinybert\")\n",
    "\n",
    "# Perform the QA task\n",
    "answer = qa_pipeline({\"question\": question, \"context\": context})\n",
    "\n",
    "# Print the answer\n",
    "print(f\"Answer: {answer['answer']}\")\n",
    "print(f\"Confidence score: {answer['score']}\")"
   ]
  },
  {
   "cell_type": "code",
   "execution_count": 25,
   "metadata": {},
   "outputs": [],
   "source": [
    "dataset_models = load_dataset(\"librarian-bots/model_cards_with_metadata\")['train']"
   ]
  },
  {
   "cell_type": "code",
   "execution_count": 26,
   "metadata": {},
   "outputs": [
    {
     "name": "stdout",
     "output_type": "stream",
     "text": [
      "---\n",
      "language: \n",
      "  - es\n",
      "library_name: pysentimiento\n",
      "\n",
      "tags:\n",
      "  - twitter\n",
      "  - sentiment-analysis\n",
      "\n",
      "---\n",
      "# Sentiment Analysis in Spanish\n",
      "## robertuito-sentiment-analysis\n",
      "\n",
      "Repository: [https://github.com/pysentimiento/pysentimiento/](https://github.com/finiteautomata/pysentimiento/)\n",
      "\n",
      "\n",
      "Model trained with TASS 2020 corpus (around ~5k tweets) of several dialects of Spanish. Base model is [RoBERTuito](https://github.com/pysentimiento/robertuito), a RoBERTa model trained in Spanish tweets.\n",
      "\n",
      "Uses `POS`, `NEG`, `NEU` labels.\n",
      "\n",
      "## Usage\n",
      "\n",
      "Use it directly with [pysentimiento](https://github.com/pysentimiento/pysentimiento)\n",
      "\n",
      "```python\n",
      "from pysentimiento import create_analyzer\n",
      "analyzer = create_analyzer(task=\"sentiment\", lang=\"es\")\n",
      "\n",
      "analyzer.predict(\"Qué gran jugador es Messi\")\n",
      "# returns AnalyzerOutput(output=POS, probas={POS: 0.998, NEG: 0.002, NEU: 0.000})\n",
      "```\n",
      "\n",
      "\n",
      "## Results\n",
      "\n",
      "Results for the four tasks evaluated in `pysentimiento`. Results are expressed as Macro F1 scores\n",
      "\n",
      "\n",
      "| model         | emotion       | hate_speech   | irony         | sentiment     |\n",
      "|:--------------|:--------------|:--------------|:--------------|:--------------|\n",
      "| robertuito    | 0.560 ± 0.010 | 0.759 ± 0.007 | 0.739 ± 0.005 | 0.705 ± 0.003 |\n",
      "| roberta       | 0.527 ± 0.015 | 0.741 ± 0.012 | 0.721 ± 0.008 | 0.670 ± 0.006 |\n",
      "| bertin        | 0.524 ± 0.007 | 0.738 ± 0.007 | 0.713 ± 0.012 | 0.666 ± 0.005 |\n",
      "| beto_uncased  | 0.532 ± 0.012 | 0.727 ± 0.016 | 0.701 ± 0.007 | 0.651 ± 0.006 |\n",
      "| beto_cased    | 0.516 ± 0.012 | 0.724 ± 0.012 | 0.705 ± 0.009 | 0.662 ± 0.005 |\n",
      "| mbert_uncased | 0.493 ± 0.010 | 0.718 ± 0.011 | 0.681 ± 0.010 | 0.617 ± 0.003 |\n",
      "| biGRU         | 0.264 ± 0.007 | 0.592 ± 0.018 | 0.631 ± 0.011 | 0.585 ± 0.011 |\n",
      "\n",
      "\n",
      "Note that for Hate Speech, these are the results for Semeval 2019, Task 5 Subtask B\n",
      "\n",
      "## Citation\n",
      "\n",
      "If you use this model in your research, please cite pysentimiento and RoBERTuito papers:\n",
      "\n",
      "```\n",
      "@misc{perez2021pysentimiento,\n",
      "      title={pysentimiento: A Python Toolkit for Sentiment Analysis and SocialNLP tasks},\n",
      "      author={Juan Manuel Pérez and Juan Carlos Giudici and Franco Luque},\n",
      "      year={2021},\n",
      "      eprint={2106.09462},\n",
      "      archivePrefix={arXiv},\n",
      "      primaryClass={cs.CL}\n",
      "}\n",
      "@inproceedings{perez-etal-2022-robertuito,\n",
      "    title = \"{R}o{BERT}uito: a pre-trained language model for social media text in {S}panish\",\n",
      "    author = \"P{\\'e}rez, Juan Manuel  and\n",
      "      Furman, Dami{\\'a}n Ariel  and\n",
      "      Alonso Alemany, Laura  and\n",
      "      Luque, Franco M.\",\n",
      "    booktitle = \"Proceedings of the Thirteenth Language Resources and Evaluation Conference\",\n",
      "    month = jun,\n",
      "    year = \"2022\",\n",
      "    address = \"Marseille, France\",\n",
      "    publisher = \"European Language Resources Association\",\n",
      "    url = \"https://aclanthology.org/2022.lrec-1.785\",\n",
      "    pages = \"7235--7243\",\n",
      "    abstract = \"Since BERT appeared, Transformer language models and transfer learning have become state-of-the-art for natural language processing tasks. Recently, some works geared towards pre-training specially-crafted models for particular domains, such as scientific papers, medical documents, user-generated texts, among others. These domain-specific models have been shown to improve performance significantly in most tasks; however, for languages other than English, such models are not widely available. In this work, we present RoBERTuito, a pre-trained language model for user-generated text in Spanish, trained on over 500 million tweets. Experiments on a benchmark of tasks involving user-generated text showed that RoBERTuito outperformed other pre-trained language models in Spanish. In addition to this, our model has some cross-lingual abilities, achieving top results for English-Spanish tasks of the Linguistic Code-Switching Evaluation benchmark (LinCE) and also competitive performance against monolingual models in English Twitter tasks. To facilitate further research, we make RoBERTuito publicly available at the HuggingFace model hub together with the dataset used to pre-train it.\",\n",
      "}\n",
      "\n",
      "@inproceedings{garcia2020overview,\n",
      "  title={Overview of TASS 2020: Introducing emotion detection},\n",
      "  author={Garc{\\'\\i}a-Vega, Manuel and D{\\'\\i}az-Galiano, MC and Garc{\\'\\i}a-Cumbreras, MA and Del Arco, FMP and Montejo-R{\\'a}ez, A and Jim{\\'e}nez-Zafra, SM and Mart{\\'\\i}nez C{\\'a}mara, E and Aguilar, CA and Cabezudo, MAS and Chiruzzo, L and others},\n",
      "  booktitle={Proceedings of the Iberian Languages Evaluation Forum (IberLEF 2020) Co-Located with 36th Conference of the Spanish Society for Natural Language Processing (SEPLN 2020), M{\\'a}laga, Spain},\n",
      "  pages={163--170},\n",
      "  year={2020}\n",
      "}\n",
      "```\n"
     ]
    }
   ],
   "source": [
    "context = dataset_models[\"card\"][0]\n",
    "print(context)"
   ]
  },
  {
   "cell_type": "code",
   "execution_count": 23,
   "metadata": {},
   "outputs": [
    {
     "name": "stdout",
     "output_type": "stream",
     "text": [
      "Predicted Answer: finance, diplomacy, and culture\n",
      "Confidence score: 0.4139981269836426\n"
     ]
    }
   ],
   "source": [
    "question = 'What datasets was the model trained on?'\n",
    "\n",
    "# Perform the QA task using the pipeline\n",
    "predicted_answer = qa_pipeline({\"question\": question, \"context\": context})\n",
    "\n",
    "# Print original answer and predicted answer with confidence score \n",
    "# print(f\"Original Answer: {answer['text']}\")\n",
    "print(f\"Predicted Answer: {predicted_answer['answer']}\")\n",
    "print(f\"Confidence score: {predicted_answer['score']}\")"
   ]
  },
  {
   "cell_type": "code",
   "execution_count": 23,
   "metadata": {},
   "outputs": [
    {
     "name": "stdout",
     "output_type": "stream",
     "text": [
      "Predicted Answer: Juan Manuel Pérez and Juan Carlos Giudici and Franco Luque\n",
      "Confidence score: 0.861379861831665\n"
     ]
    }
   ],
   "source": [
    "question = 'Who are the authors of the model?'\n",
    "\n",
    "# Perform the QA task using the pipeline\n",
    "predicted_answer = qa_pipeline({\"question\": question, \"context\": context})\n",
    "\n",
    "# Print original answer and predicted answer with confidence score \n",
    "# print(f\"Original Answer: {answer['text']}\")\n",
    "print(f\"Predicted Answer: {predicted_answer['answer']}\")\n",
    "print(f\"Confidence score: {predicted_answer['score']}\")"
   ]
  },
  {
   "cell_type": "markdown",
   "metadata": {},
   "source": [
    "## Creating a processing pipeline\n",
    "\n",
    "Process the data from the HF metadata dataset.\n",
    "\n",
    "* Get the questions we want to answer from Huggingface metadata."
   ]
  },
  {
   "cell_type": "code",
   "execution_count": 14,
   "metadata": {},
   "outputs": [
    {
     "name": "stdout",
     "output_type": "stream",
     "text": [
      "['What is the name of the model?']\n",
      "['Who created/uploaded the model?']\n",
      "['When was the model created/uploaded?']\n",
      "['What tasks can the model solve?']\n",
      "['What datasets was the model trained on?']\n",
      "['What was the split distribution for the datasets?']\n",
      "['What datasets were used to finetune the model?']\n",
      "['What datasets were used to retrain the model?']\n",
      "['What model is used as the base model?']\n",
      "['What evaluation metrics were used?']\n",
      "['What were the values of the evaluation metrics?']\n",
      "['What hyperparameters were optimized during the training process?']\n",
      "['What hyperparameters were selected?']\n",
      "['What publications are related to the model?']\n",
      "['Where is the model deployed?']\n",
      "['What use license is associated with the model?']\n"
     ]
    }
   ],
   "source": [
    "questions = pd.read_csv(\"questions.tsv\",sep='\\t').values.tolist()\n",
    "for q in questions:\n",
    "    print(q)"
   ]
  },
  {
   "cell_type": "code",
   "execution_count": 9,
   "metadata": {},
   "outputs": [
    {
     "name": "stdout",
     "output_type": "stream",
     "text": [
      "                                            modelId          author  \\\n",
      "0       pysentimiento/robertuito-sentiment-analysis   pysentimiento   \n",
      "1  cardiffnlp/twitter-roberta-base-sentiment-latest      cardiffnlp   \n",
      "2     jonatasgrosman/wav2vec2-large-xlsr-53-english  jonatasgrosman   \n",
      "3                     openai/clip-vit-large-patch14          openai   \n",
      "4                     google-bert/bert-base-uncased     google-bert   \n",
      "\n",
      "              last_modified  downloads  likes   library_name  \\\n",
      "0 2024-02-27 20:46:41+00:00  164331420     49  pysentimiento   \n",
      "1 2023-05-28 05:45:10+00:00  132882703    345   transformers   \n",
      "2 2023-03-25 10:56:55+00:00   56836440    391   transformers   \n",
      "3 2023-09-15 15:49:35+00:00   44628976   1036   transformers   \n",
      "4 2024-02-19 11:06:12+00:00   38927964   1440   transformers   \n",
      "\n",
      "                                                tags  \\\n",
      "0  [pysentimiento, pytorch, tf, safetensors, robe...   \n",
      "1  [transformers, pytorch, tf, roberta, text-clas...   \n",
      "2  [transformers, pytorch, jax, safetensors, wav2...   \n",
      "3  [transformers, pytorch, tf, jax, safetensors, ...   \n",
      "4  [transformers, pytorch, tf, jax, rust, coreml,...   \n",
      "\n",
      "                     pipeline_tag                 createdAt  \\\n",
      "0                            None 2022-03-02 23:29:05+00:00   \n",
      "1             text-classification 2022-03-15 01:21:58+00:00   \n",
      "2    automatic-speech-recognition 2022-03-02 23:29:05+00:00   \n",
      "3  zero-shot-image-classification 2022-03-02 23:29:05+00:00   \n",
      "4                       fill-mask 2022-03-02 23:29:04+00:00   \n",
      "\n",
      "                                                card  \n",
      "0  ---\\nlanguage: \\n  - es\\nlibrary_name: pysenti...  \n",
      "1  ---\\nlanguage: en\\nwidget:\\n- text: Covid case...  \n",
      "2  ---\\nlanguage: en\\ndatasets:\\n- common_voice\\n...  \n",
      "3  ---\\ntags:\\n- vision\\nwidget:\\n- src: https://...  \n",
      "4  ---\\nlanguage: en\\ntags:\\n- exbert\\nlicense: a...  \n"
     ]
    }
   ],
   "source": [
    "dataset = load_dataset(\"librarian-bots/model_cards_with_metadata\")['train']\n",
    "HF_df = dataset.to_pandas()\n",
    "print(df.head())"
   ]
  },
  {
   "cell_type": "markdown",
   "metadata": {},
   "source": [
    "* Get tag information to extract data and answer some of the questions "
   ]
  },
  {
   "cell_type": "code",
   "execution_count": 10,
   "metadata": {},
   "outputs": [
    {
     "name": "stdout",
     "output_type": "stream",
     "text": [
      "40585\n"
     ]
    }
   ],
   "source": [
    "#Counting the unique number of tags\n",
    "all_tags_set = set()\n",
    "for index, row in HF_df.iterrows():\n",
    "    tags = row['tags']\n",
    "    for tag in tags:\n",
    "        all_tags_set.add(tag)\n",
    "print(len(all_tags_set))"
   ]
  },
  {
   "cell_type": "markdown",
   "metadata": {},
   "source": [
    "From the tags we can get the following information:\n",
    "* The task they are performing\n",
    "* The libraries that were used to train the model\n",
    "* The datasets used to train the model\n",
    "* The languages that the model can handle\n",
    "* The Licenses under which the model can be use. \n",
    "* Other type of tags.\n"
   ]
  },
  {
   "cell_type": "code",
   "execution_count": 38,
   "metadata": {},
   "outputs": [
    {
     "name": "stdout",
     "output_type": "stream",
     "text": [
      "tags\n",
      "custom_code\n",
      "Merge\n",
      "Inference Endpoints\n",
      "Carbon Emissions\n",
      "Eval Results\n",
      "text-generation-inference\n",
      "8-bit precision\n",
      "4-bit precision\n",
      "AutoTrain Compatible\n",
      "Has a Space\n",
      "Mixture of Experts\n"
     ]
    }
   ],
   "source": [
    "#Getting the other tags\n",
    "tags_other = [val[0] for val in pd.read_csv(\"tags_other.tsv\",sep='\\t').values.tolist()]\n",
    "tags_other = set(tags_other)\n",
    "for tag in tags_other:\n",
    "    print(tag)"
   ]
  },
  {
   "cell_type": "code",
   "execution_count": 44,
   "metadata": {},
   "outputs": [
    {
     "name": "stdout",
     "output_type": "stream",
     "text": [
      "as\n",
      "tr\n",
      "bs\n",
      "ja\n",
      "fi\n",
      "ar\n",
      "sn\n",
      "be\n",
      "mk\n",
      "te\n",
      "mr\n",
      "id\n",
      "tt\n",
      "mg\n",
      "cs\n",
      "tl\n",
      "en\n",
      "kn\n",
      "th\n",
      "ba\n",
      "hi\n",
      "ru\n",
      "bn\n",
      "ha\n",
      "bo\n",
      "is\n",
      "uk\n",
      "az\n",
      "ta\n",
      "eu\n",
      "ro\n",
      "da\n",
      "vi\n",
      "am\n",
      "hu\n",
      "ko\n",
      "ln\n",
      "it\n",
      "ps\n",
      "fo\n",
      "km\n",
      "ms\n",
      "ka\n",
      "lt\n",
      "es\n",
      "br\n",
      "ne\n",
      "uz\n",
      "cy\n",
      "sv\n",
      "sr\n",
      "he\n",
      "haw\n",
      "sl\n",
      "de\n",
      "jw\n",
      "mi\n",
      "sw\n",
      "pl\n",
      "la\n",
      "yue\n",
      "pa\n",
      "kk\n",
      "sd\n",
      "hr\n",
      "el\n",
      "sk\n",
      "su\n",
      "nl\n",
      "mt\n",
      "ca\n",
      "si\n",
      "ml\n",
      "gu\n",
      "sa\n",
      "ur\n",
      "mn\n",
      "yi\n",
      "tg\n",
      "lv\n",
      "et\n",
      "so\n",
      "af\n",
      "gl\n",
      "fr\n",
      "oc\n",
      "ht\n",
      "pt\n",
      "fa\n",
      "my\n",
      "zh\n",
      "nn\n",
      "tk\n",
      "lb\n",
      "bg\n",
      "yo\n",
      "lo\n",
      "sq\n",
      "hy\n"
     ]
    }
   ],
   "source": [
    "#Getting the language tags\n",
    "tags_language = [val[0] for val in pd.read_csv(\"tags_language.tsv\",sep='\\t').values.tolist()]\n",
    "tags_language = set(tags_language)\n",
    "for tag in tags_language:\n",
    "    print(tag)"
   ]
  },
  {
   "cell_type": "code",
   "execution_count": 46,
   "metadata": {},
   "outputs": [
    {
     "name": "stdout",
     "output_type": "stream",
     "text": [
      "Fairseq\n",
      "PEFT\n",
      "setfit\n",
      "Adapters\n",
      "timm\n",
      "MLX\n",
      "SpanMarker\n",
      "Rust\n",
      "PyTorch\n",
      "TensorFlow\n",
      "ml-agents\n",
      "Keras\n",
      "Flair\n",
      "PaddlePaddle\n",
      "NeMo\n",
      "Safetensors\n",
      "Stanza\n",
      "OpenCLIP\n",
      "Habana\n",
      "Graphcore\n",
      "fastText\n",
      "Diffusers\n",
      "JAX\n",
      "TensorBoard\n",
      "Transformers.js\n",
      "ESPnet\n",
      "pythae\n",
      "pyannote.audio\n",
      "stable-baselines3\n",
      "BERTopic\n",
      "Scikit-learn\n",
      "sample-factory\n",
      "Core ML\n",
      "Joblib\n",
      "AllenNLP\n",
      "fastai\n",
      "ONNX\n",
      "speechbrain\n",
      "OpenVINO\n",
      "paddlenlp\n",
      "TF Lite\n",
      "Transformers\n",
      "spaCy\n",
      "sentence-transformers\n",
      "Asteroid\n",
      "unity-sentis\n",
      "GGUF\n"
     ]
    }
   ],
   "source": [
    "#Getting the library tags\n",
    "tags_libraries = [val[0] for val in pd.read_csv(\"tags_libraries.tsv\",sep='\\t').values.tolist()]\n",
    "tags_libraries = set(tags_libraries)\n",
    "for tag in tags_libraries:\n",
    "    print(tag)"
   ]
  },
  {
   "cell_type": "code",
   "execution_count": 47,
   "metadata": {},
   "outputs": [
    {
     "name": "stdout",
     "output_type": "stream",
     "text": [
      "Table Question Answering\n",
      "Image Feature Extraction\n",
      "Text-to-Speech\n",
      "Document Question Answering\n",
      "Image-to-Text\n",
      "Text-to-Image\n",
      "Sentence Similarity\n",
      "Image-to-Video\n",
      "Translation\n",
      "Graph Machine Learning\n",
      "Image Segmentation\n",
      "Audio Classification\n",
      "Object Detection\n",
      "Text2Text Generation\n",
      "Unconditional Image Generation\n",
      "Depth Estimation\n",
      "Image-to-3D\n",
      "Summarization\n",
      "Zero-Shot Object Detection\n",
      "Text-to-Video\n",
      "Audio-to-Audio\n",
      "Token Classification\n",
      "Reinforcement Learning\n",
      "Automatic Speech Recognition\n",
      "Tabular Classification\n",
      "Text Generation\n",
      "Text-to-3D\n",
      "Image-Text-to-Text\n",
      "Mask Generation\n",
      "Image Classification\n",
      "Zero-Shot Classification\n",
      "Fill-Mask\n",
      "Robotics\n",
      "Zero-Shot Image Classification\n",
      "Tabular Regression\n",
      "Text Classification\n",
      "Visual Question Answering\n",
      "Question Answering\n",
      "Feature Extraction\n",
      "Video Classification\n",
      "Voice Activity Detection\n",
      "Text-to-Audio\n"
     ]
    }
   ],
   "source": [
    "#Getting the task tags\n",
    "tags_task = [val[0] for val in pd.read_csv(\"tags_task.tsv\",sep='\\t').values.tolist()]\n",
    "tags_task = set(tags_task)\n",
    "for tag in tags_task:\n",
    "    print(tag)"
   ]
  },
  {
   "cell_type": "code",
   "execution_count": 39,
   "metadata": {},
   "outputs": [
    {
     "name": "stdout",
     "output_type": "stream",
     "text": [
      "itinerai/us_places\n",
      "Qqcf16426/mangaupdates\n",
      "CATIE-AQ/bisect_fr_prompt_textual_merging\n",
      "CyberHarem/sheffield_kantaicollection\n",
      "LexiconShiftInnovations/SinhalaWikipediaArticles\n"
     ]
    }
   ],
   "source": [
    "#Getting the dataset tags\n",
    "dataset_datasets = load_dataset(\"librarian-bots/dataset_cards_with_metadata\")['train']\n",
    "tags_dataset = set(dataset_datasets[\"datasetId\"])\n",
    "i = 5\n",
    "for tag in tags_dataset:\n",
    "    if(i==0):\n",
    "        break\n",
    "    print(tag)\n",
    "    i-=1"
   ]
  },
  {
   "cell_type": "markdown",
   "metadata": {},
   "source": [
    "* Now let's set up the questions we want the model to answer"
   ]
  },
  {
   "cell_type": "code",
   "execution_count": null,
   "metadata": {},
   "outputs": [],
   "source": []
  }
 ],
 "metadata": {
  "kernelspec": {
   "display_name": "Python 3 (ipykernel)",
   "language": "python",
   "name": "python3"
  },
  "language_info": {
   "codemirror_mode": {
    "name": "ipython",
    "version": 3
   },
   "file_extension": ".py",
   "mimetype": "text/x-python",
   "name": "python",
   "nbconvert_exporter": "python",
   "pygments_lexer": "ipython3",
   "version": "3.8.10"
  }
 },
 "nbformat": 4,
 "nbformat_minor": 4
}
