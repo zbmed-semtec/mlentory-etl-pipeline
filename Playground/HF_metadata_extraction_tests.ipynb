{
 "cells": [
  {
   "cell_type": "markdown",
   "metadata": {},
   "source": [
    "# How to extract particular data from txt files. "
   ]
  },
  {
   "cell_type": "code",
   "execution_count": 4,
   "metadata": {},
   "outputs": [],
   "source": [
    "from transformers import pipeline\n",
    "from datasets import load_dataset"
   ]
  },
  {
   "cell_type": "code",
   "execution_count": 17,
   "metadata": {},
   "outputs": [
    {
     "data": {
      "application/vnd.jupyter.widget-view+json": {
       "model_id": "88451a7de6304d86b8495d0e756ef22b",
       "version_major": 2,
       "version_minor": 0
      },
      "text/plain": [
       "config.json:   0%|          | 0.00/743 [00:00<?, ?B/s]"
      ]
     },
     "metadata": {},
     "output_type": "display_data"
    },
    {
     "data": {
      "application/vnd.jupyter.widget-view+json": {
       "model_id": "aae599ea07864462894f67fb8935fffe",
       "version_major": 2,
       "version_minor": 0
      },
      "text/plain": [
       "pytorch_model.bin:   0%|          | 0.00/268M [00:00<?, ?B/s]"
      ]
     },
     "metadata": {},
     "output_type": "display_data"
    },
    {
     "data": {
      "application/vnd.jupyter.widget-view+json": {
       "model_id": "fff6f9300e1849a9a1e111dbeb723e3b",
       "version_major": 2,
       "version_minor": 0
      },
      "text/plain": [
       "tokenizer_config.json:   0%|          | 0.00/351 [00:00<?, ?B/s]"
      ]
     },
     "metadata": {},
     "output_type": "display_data"
    },
    {
     "data": {
      "application/vnd.jupyter.widget-view+json": {
       "model_id": "bcbd122655514264a3cf6bcbd7e25ecc",
       "version_major": 2,
       "version_minor": 0
      },
      "text/plain": [
       "vocab.txt:   0%|          | 0.00/232k [00:00<?, ?B/s]"
      ]
     },
     "metadata": {},
     "output_type": "display_data"
    },
    {
     "data": {
      "application/vnd.jupyter.widget-view+json": {
       "model_id": "bf1724f3b3d7483aad41a4e4a57e0359",
       "version_major": 2,
       "version_minor": 0
      },
      "text/plain": [
       "tokenizer.json:   0%|          | 0.00/466k [00:00<?, ?B/s]"
      ]
     },
     "metadata": {},
     "output_type": "display_data"
    },
    {
     "data": {
      "application/vnd.jupyter.widget-view+json": {
       "model_id": "a9ec69c97a074dc782b28a137777ff64",
       "version_major": 2,
       "version_minor": 0
      },
      "text/plain": [
       "special_tokens_map.json:   0%|          | 0.00/112 [00:00<?, ?B/s]"
      ]
     },
     "metadata": {},
     "output_type": "display_data"
    },
    {
     "name": "stdout",
     "output_type": "stream",
     "text": [
      "Answer: Paris\n",
      "Confidence score: 0.9864407777786255\n"
     ]
    }
   ],
   "source": [
    "# Define your question and context (text passage)\n",
    "question = \"What is the capital of France?\"\n",
    "context = \"\"\"France is a country located in Western Europe. \n",
    "             The capital of France is Paris. It is a major global city \n",
    "             and a center for finance, diplomacy, and culture.\"\"\"\n",
    "\n",
    "# Load the QA pipeline with a pre-trained model\n",
    "qa_pipeline = qa_pipeline = pipeline(\"question-answering\", model=\"Intel/dynamic_tinybert\")\n",
    "\n",
    "# Perform the QA task\n",
    "answer = qa_pipeline({\"question\": question, \"context\": context})\n",
    "\n",
    "# Print the answer\n",
    "print(f\"Answer: {answer['answer']}\")\n",
    "print(f\"Confidence score: {answer['score']}\")"
   ]
  },
  {
   "cell_type": "code",
   "execution_count": 10,
   "metadata": {},
   "outputs": [],
   "source": [
    "dataset = load_dataset(\"librarian-bots/model_cards_with_metadata\")['train']"
   ]
  },
  {
   "cell_type": "code",
   "execution_count": 19,
   "metadata": {},
   "outputs": [
    {
     "name": "stdout",
     "output_type": "stream",
     "text": [
      "---\n",
      "language: \n",
      "  - es\n",
      "library_name: pysentimiento\n",
      "\n",
      "tags:\n",
      "  - twitter\n",
      "  - sentiment-analysis\n",
      "\n",
      "---\n",
      "# Sentiment Analysis in Spanish\n",
      "## robertuito-sentiment-analysis\n",
      "\n",
      "Repository: [https://github.com/pysentimiento/pysentimiento/](https://github.com/finiteautomata/pysentimiento/)\n",
      "\n",
      "\n",
      "Model trained with TASS 2020 corpus (around ~5k tweets) of several dialects of Spanish. Base model is [RoBERTuito](https://github.com/pysentimiento/robertuito), a RoBERTa model trained in Spanish tweets.\n",
      "\n",
      "Uses `POS`, `NEG`, `NEU` labels.\n",
      "\n",
      "## Usage\n",
      "\n",
      "Use it directly with [pysentimiento](https://github.com/pysentimiento/pysentimiento)\n",
      "\n",
      "```python\n",
      "from pysentimiento import create_analyzer\n",
      "analyzer = create_analyzer(task=\"sentiment\", lang=\"es\")\n",
      "\n",
      "analyzer.predict(\"Qué gran jugador es Messi\")\n",
      "# returns AnalyzerOutput(output=POS, probas={POS: 0.998, NEG: 0.002, NEU: 0.000})\n",
      "```\n",
      "\n",
      "\n",
      "## Results\n",
      "\n",
      "Results for the four tasks evaluated in `pysentimiento`. Results are expressed as Macro F1 scores\n",
      "\n",
      "\n",
      "| model         | emotion       | hate_speech   | irony         | sentiment     |\n",
      "|:--------------|:--------------|:--------------|:--------------|:--------------|\n",
      "| robertuito    | 0.560 ± 0.010 | 0.759 ± 0.007 | 0.739 ± 0.005 | 0.705 ± 0.003 |\n",
      "| roberta       | 0.527 ± 0.015 | 0.741 ± 0.012 | 0.721 ± 0.008 | 0.670 ± 0.006 |\n",
      "| bertin        | 0.524 ± 0.007 | 0.738 ± 0.007 | 0.713 ± 0.012 | 0.666 ± 0.005 |\n",
      "| beto_uncased  | 0.532 ± 0.012 | 0.727 ± 0.016 | 0.701 ± 0.007 | 0.651 ± 0.006 |\n",
      "| beto_cased    | 0.516 ± 0.012 | 0.724 ± 0.012 | 0.705 ± 0.009 | 0.662 ± 0.005 |\n",
      "| mbert_uncased | 0.493 ± 0.010 | 0.718 ± 0.011 | 0.681 ± 0.010 | 0.617 ± 0.003 |\n",
      "| biGRU         | 0.264 ± 0.007 | 0.592 ± 0.018 | 0.631 ± 0.011 | 0.585 ± 0.011 |\n",
      "\n",
      "\n",
      "Note that for Hate Speech, these are the results for Semeval 2019, Task 5 Subtask B\n",
      "\n",
      "## Citation\n",
      "\n",
      "If you use this model in your research, please cite pysentimiento and RoBERTuito papers:\n",
      "\n",
      "```\n",
      "@misc{perez2021pysentimiento,\n",
      "      title={pysentimiento: A Python Toolkit for Sentiment Analysis and SocialNLP tasks},\n",
      "      author={Juan Manuel Pérez and Juan Carlos Giudici and Franco Luque},\n",
      "      year={2021},\n",
      "      eprint={2106.09462},\n",
      "      archivePrefix={arXiv},\n",
      "      primaryClass={cs.CL}\n",
      "}\n",
      "@inproceedings{perez-etal-2022-robertuito,\n",
      "    title = \"{R}o{BERT}uito: a pre-trained language model for social media text in {S}panish\",\n",
      "    author = \"P{\\'e}rez, Juan Manuel  and\n",
      "      Furman, Dami{\\'a}n Ariel  and\n",
      "      Alonso Alemany, Laura  and\n",
      "      Luque, Franco M.\",\n",
      "    booktitle = \"Proceedings of the Thirteenth Language Resources and Evaluation Conference\",\n",
      "    month = jun,\n",
      "    year = \"2022\",\n",
      "    address = \"Marseille, France\",\n",
      "    publisher = \"European Language Resources Association\",\n",
      "    url = \"https://aclanthology.org/2022.lrec-1.785\",\n",
      "    pages = \"7235--7243\",\n",
      "    abstract = \"Since BERT appeared, Transformer language models and transfer learning have become state-of-the-art for natural language processing tasks. Recently, some works geared towards pre-training specially-crafted models for particular domains, such as scientific papers, medical documents, user-generated texts, among others. These domain-specific models have been shown to improve performance significantly in most tasks; however, for languages other than English, such models are not widely available. In this work, we present RoBERTuito, a pre-trained language model for user-generated text in Spanish, trained on over 500 million tweets. Experiments on a benchmark of tasks involving user-generated text showed that RoBERTuito outperformed other pre-trained language models in Spanish. In addition to this, our model has some cross-lingual abilities, achieving top results for English-Spanish tasks of the Linguistic Code-Switching Evaluation benchmark (LinCE) and also competitive performance against monolingual models in English Twitter tasks. To facilitate further research, we make RoBERTuito publicly available at the HuggingFace model hub together with the dataset used to pre-train it.\",\n",
      "}\n",
      "\n",
      "@inproceedings{garcia2020overview,\n",
      "  title={Overview of TASS 2020: Introducing emotion detection},\n",
      "  author={Garc{\\'\\i}a-Vega, Manuel and D{\\'\\i}az-Galiano, MC and Garc{\\'\\i}a-Cumbreras, MA and Del Arco, FMP and Montejo-R{\\'a}ez, A and Jim{\\'e}nez-Zafra, SM and Mart{\\'\\i}nez C{\\'a}mara, E and Aguilar, CA and Cabezudo, MAS and Chiruzzo, L and others},\n",
      "  booktitle={Proceedings of the Iberian Languages Evaluation Forum (IberLEF 2020) Co-Located with 36th Conference of the Spanish Society for Natural Language Processing (SEPLN 2020), M{\\'a}laga, Spain},\n",
      "  pages={163--170},\n",
      "  year={2020}\n",
      "}\n",
      "```\n"
     ]
    }
   ],
   "source": [
    "context = dataset[\"card\"][0]\n",
    "print(context)"
   ]
  },
  {
   "cell_type": "code",
   "execution_count": 24,
   "metadata": {},
   "outputs": [
    {
     "name": "stdout",
     "output_type": "stream",
     "text": [
      "Predicted Answer: TASS 2020 corpus\n",
      "Confidence score: 0.2816251814365387\n"
     ]
    }
   ],
   "source": [
    "question = 'What datasets was the model trained on?'\n",
    "\n",
    "# Perform the QA task using the pipeline\n",
    "predicted_answer = qa_pipeline({\"question\": question, \"context\": context})\n",
    "\n",
    "# Print original answer and predicted answer with confidence score \n",
    "# print(f\"Original Answer: {answer['text']}\")\n",
    "print(f\"Predicted Answer: {predicted_answer['answer']}\")\n",
    "print(f\"Confidence score: {predicted_answer['score']}\")"
   ]
  },
  {
   "cell_type": "code",
   "execution_count": 23,
   "metadata": {},
   "outputs": [
    {
     "name": "stdout",
     "output_type": "stream",
     "text": [
      "Predicted Answer: Juan Manuel Pérez and Juan Carlos Giudici and Franco Luque\n",
      "Confidence score: 0.861379861831665\n"
     ]
    }
   ],
   "source": [
    "question = 'Who are the authors of the model?'\n",
    "\n",
    "# Perform the QA task using the pipeline\n",
    "predicted_answer = qa_pipeline({\"question\": question, \"context\": context})\n",
    "\n",
    "# Print original answer and predicted answer with confidence score \n",
    "# print(f\"Original Answer: {answer['text']}\")\n",
    "print(f\"Predicted Answer: {predicted_answer['answer']}\")\n",
    "print(f\"Confidence score: {predicted_answer['score']}\")"
   ]
  },
  {
   "cell_type": "code",
   "execution_count": null,
   "metadata": {},
   "outputs": [],
   "source": []
  }
 ],
 "metadata": {
  "kernelspec": {
   "display_name": "Python 3 (ipykernel)",
   "language": "python",
   "name": "python3"
  },
  "language_info": {
   "codemirror_mode": {
    "name": "ipython",
    "version": 3
   },
   "file_extension": ".py",
   "mimetype": "text/x-python",
   "name": "python",
   "nbconvert_exporter": "python",
   "pygments_lexer": "ipython3",
   "version": "3.8.10"
  }
 },
 "nbformat": 4,
 "nbformat_minor": 4
}
