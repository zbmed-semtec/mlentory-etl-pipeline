{
 "cells": [
  {
   "cell_type": "code",
   "execution_count": 39,
   "metadata": {},
   "outputs": [],
   "source": [
    "import requests\n",
    "from datasets import load_dataset\n",
    "from huggingface_hub import hf_api, ModelCard\n",
    "from huggingface_hub.utils import EntryNotFoundError\n",
    "import pandas as pd\n",
    "import matplotlib.pyplot as plt\n",
    "import rich\n",
    "import random"
   ]
  },
  {
   "cell_type": "code",
   "execution_count": 3,
   "metadata": {},
   "outputs": [],
   "source": [
    "api = hf_api.HfApi()"
   ]
  },
  {
   "cell_type": "code",
   "execution_count": 4,
   "metadata": {},
   "outputs": [
    {
     "data": {
      "text/html": [
       "<pre style=\"white-space:pre;overflow-x:auto;line-height:normal;font-family:Menlo,'DejaVu Sans Mono',consolas,'Courier New',monospace\"><span style=\"color: #000080; text-decoration-color: #000080\">╭────────── </span><span style=\"color: #000080; text-decoration-color: #000080; font-weight: bold\">&lt;</span><span style=\"color: #ff00ff; text-decoration-color: #ff00ff; font-weight: bold\">bound</span><span style=\"color: #000000; text-decoration-color: #000000\"> method HfApi.list_models of &lt;huggingface_hub.hf_api.HfApi object at </span><span style=\"color: #008080; text-decoration-color: #008080; font-weight: bold\">0x7f0fa5856940</span><span style=\"color: #000000; text-decoration-color: #000000\">&gt;</span><span style=\"color: #000080; text-decoration-color: #000080; font-weight: bold\">&gt;</span><span style=\"color: #000080; text-decoration-color: #000080\"> ──────────╮</span>\n",
       "<span style=\"color: #000080; text-decoration-color: #000080\">│</span> <span style=\"color: #00ffff; text-decoration-color: #00ffff; font-style: italic\">def </span><span style=\"color: #800000; text-decoration-color: #800000; font-weight: bold\">HfApi.list_models</span><span style=\"font-weight: bold\">(</span>*, filter: <span style=\"color: #008000; text-decoration-color: #008000\">'Union[ModelFilter, str, Iterable[str], None]'</span> = <span style=\"color: #800080; text-decoration-color: #800080; font-style: italic\">None</span>, author: <span style=\"color: #008000; text-decoration-color: #008000\">'Optional[str]'</span> <span style=\"color: #000080; text-decoration-color: #000080\">│</span>\n",
       "<span style=\"color: #000080; text-decoration-color: #000080\">│</span> = <span style=\"color: #800080; text-decoration-color: #800080; font-style: italic\">None</span>, library: <span style=\"color: #008000; text-decoration-color: #008000\">'Optional[Union[str, List[str]]]'</span> = <span style=\"color: #800080; text-decoration-color: #800080; font-style: italic\">None</span>, language: <span style=\"color: #008000; text-decoration-color: #008000\">'Optional[Union[str, List[str]]]'</span> = <span style=\"color: #800080; text-decoration-color: #800080; font-style: italic\">None</span>,  <span style=\"color: #000080; text-decoration-color: #000080\">│</span>\n",
       "<span style=\"color: #000080; text-decoration-color: #000080\">│</span> model_name: <span style=\"color: #008000; text-decoration-color: #008000\">'Optional[str]'</span> = <span style=\"color: #800080; text-decoration-color: #800080; font-style: italic\">None</span>, task: <span style=\"color: #008000; text-decoration-color: #008000\">'Optional[Union[str, List[str]]]'</span> = <span style=\"color: #800080; text-decoration-color: #800080; font-style: italic\">None</span>, trained_dataset:            <span style=\"color: #000080; text-decoration-color: #000080\">│</span>\n",
       "<span style=\"color: #000080; text-decoration-color: #000080\">│</span> <span style=\"color: #008000; text-decoration-color: #008000\">'Optional[Union[str, List[str]]]'</span> = <span style=\"color: #800080; text-decoration-color: #800080; font-style: italic\">None</span>, tags: <span style=\"color: #008000; text-decoration-color: #008000\">'Optional[Union[str, List[str]]]'</span> = <span style=\"color: #800080; text-decoration-color: #800080; font-style: italic\">None</span>, search:               <span style=\"color: #000080; text-decoration-color: #000080\">│</span>\n",
       "<span style=\"color: #000080; text-decoration-color: #000080\">│</span> <span style=\"color: #008000; text-decoration-color: #008000\">'Optional[str]'</span> = <span style=\"color: #800080; text-decoration-color: #800080; font-style: italic\">None</span>, emissions_thresholds: <span style=\"color: #008000; text-decoration-color: #008000\">'Optional[Tuple[float, float]]'</span> = <span style=\"color: #800080; text-decoration-color: #800080; font-style: italic\">None</span>, sort:                     <span style=\"color: #000080; text-decoration-color: #000080\">│</span>\n",
       "<span style=\"color: #000080; text-decoration-color: #000080\">│</span> <span style=\"color: #008000; text-decoration-color: #008000\">\"Union[Literal['last_modified'], str, None]\"</span> = <span style=\"color: #800080; text-decoration-color: #800080; font-style: italic\">None</span>, direction: <span style=\"color: #008000; text-decoration-color: #008000\">'Optional[Literal[-1]]'</span> = <span style=\"color: #800080; text-decoration-color: #800080; font-style: italic\">None</span>, limit:          <span style=\"color: #000080; text-decoration-color: #000080\">│</span>\n",
       "<span style=\"color: #000080; text-decoration-color: #000080\">│</span> <span style=\"color: #008000; text-decoration-color: #008000\">'Optional[int]'</span> = <span style=\"color: #800080; text-decoration-color: #800080; font-style: italic\">None</span>, full: <span style=\"color: #008000; text-decoration-color: #008000\">'Optional[bool]'</span> = <span style=\"color: #800080; text-decoration-color: #800080; font-style: italic\">None</span>, cardData: <span style=\"color: #008000; text-decoration-color: #008000\">'bool'</span> = <span style=\"color: #ff0000; text-decoration-color: #ff0000; font-style: italic\">False</span>, fetch_config: <span style=\"color: #008000; text-decoration-color: #008000\">'bool'</span> = <span style=\"color: #ff0000; text-decoration-color: #ff0000; font-style: italic\">False</span>,  <span style=\"color: #000080; text-decoration-color: #000080\">│</span>\n",
       "<span style=\"color: #000080; text-decoration-color: #000080\">│</span> token: <span style=\"color: #008000; text-decoration-color: #008000\">'Union[bool, str, None]'</span> = <span style=\"color: #800080; text-decoration-color: #800080; font-style: italic\">None</span>, pipeline_tag: <span style=\"color: #008000; text-decoration-color: #008000\">'Optional[str]'</span> = <span style=\"color: #800080; text-decoration-color: #800080; font-style: italic\">None</span><span style=\"font-weight: bold\">)</span> -&gt; <span style=\"color: #008000; text-decoration-color: #008000\">'Iterable[ModelInfo]'</span>:         <span style=\"color: #000080; text-decoration-color: #000080\">│</span>\n",
       "<span style=\"color: #000080; text-decoration-color: #000080\">│</span>                                                                                                                 <span style=\"color: #000080; text-decoration-color: #000080\">│</span>\n",
       "<span style=\"color: #000080; text-decoration-color: #000080\">│</span> <span style=\"color: #008080; text-decoration-color: #008080\">List models hosted on the Huggingface Hub, given some filters.</span>                                                  <span style=\"color: #000080; text-decoration-color: #000080\">│</span>\n",
       "<span style=\"color: #000080; text-decoration-color: #000080\">│</span>                                                                                                                 <span style=\"color: #000080; text-decoration-color: #000080\">│</span>\n",
       "<span style=\"color: #000080; text-decoration-color: #000080\">│</span> <span style=\"color: #008080; text-decoration-color: #008080; font-weight: bold\">28</span><span style=\"font-style: italic\"> attribute(s) not shown.</span> Run <span style=\"color: #800080; text-decoration-color: #800080; font-weight: bold\">inspect</span><span style=\"font-weight: bold\">(</span>inspect<span style=\"font-weight: bold\">)</span> for options.                                                    <span style=\"color: #000080; text-decoration-color: #000080\">│</span>\n",
       "<span style=\"color: #000080; text-decoration-color: #000080\">╰─────────────────────────────────────────────────────────────────────────────────────────────────────────────────╯</span>\n",
       "</pre>\n"
      ],
      "text/plain": [
       "\u001b[34m╭─\u001b[0m\u001b[34m─────────\u001b[0m\u001b[34m \u001b[0m\u001b[1;34m<\u001b[0m\u001b[1;95mbound\u001b[0m\u001b[39m method HfApi.list_models of <huggingface_hub.hf_api.HfApi object at \u001b[0m\u001b[1;36m0x7f0fa5856940\u001b[0m\u001b[39m>\u001b[0m\u001b[1;34m>\u001b[0m\u001b[34m \u001b[0m\u001b[34m─────────\u001b[0m\u001b[34m─╮\u001b[0m\n",
       "\u001b[34m│\u001b[0m \u001b[3;96mdef \u001b[0m\u001b[1;31mHfApi.list_models\u001b[0m\u001b[1m(\u001b[0m*, filter: \u001b[32m'Union\u001b[0m\u001b[32m[\u001b[0m\u001b[32mModelFilter, str, Iterable\u001b[0m\u001b[32m[\u001b[0m\u001b[32mstr\u001b[0m\u001b[32m]\u001b[0m\u001b[32m, None\u001b[0m\u001b[32m]\u001b[0m\u001b[32m'\u001b[0m = \u001b[3;35mNone\u001b[0m, author: \u001b[32m'Optional\u001b[0m\u001b[32m[\u001b[0m\u001b[32mstr\u001b[0m\u001b[32m]\u001b[0m\u001b[32m'\u001b[0m \u001b[34m│\u001b[0m\n",
       "\u001b[34m│\u001b[0m = \u001b[3;35mNone\u001b[0m, library: \u001b[32m'Optional\u001b[0m\u001b[32m[\u001b[0m\u001b[32mUnion\u001b[0m\u001b[32m[\u001b[0m\u001b[32mstr, List\u001b[0m\u001b[32m[\u001b[0m\u001b[32mstr\u001b[0m\u001b[32m]\u001b[0m\u001b[32m]\u001b[0m\u001b[32m]\u001b[0m\u001b[32m'\u001b[0m = \u001b[3;35mNone\u001b[0m, language: \u001b[32m'Optional\u001b[0m\u001b[32m[\u001b[0m\u001b[32mUnion\u001b[0m\u001b[32m[\u001b[0m\u001b[32mstr, List\u001b[0m\u001b[32m[\u001b[0m\u001b[32mstr\u001b[0m\u001b[32m]\u001b[0m\u001b[32m]\u001b[0m\u001b[32m]\u001b[0m\u001b[32m'\u001b[0m = \u001b[3;35mNone\u001b[0m,  \u001b[34m│\u001b[0m\n",
       "\u001b[34m│\u001b[0m model_name: \u001b[32m'Optional\u001b[0m\u001b[32m[\u001b[0m\u001b[32mstr\u001b[0m\u001b[32m]\u001b[0m\u001b[32m'\u001b[0m = \u001b[3;35mNone\u001b[0m, task: \u001b[32m'Optional\u001b[0m\u001b[32m[\u001b[0m\u001b[32mUnion\u001b[0m\u001b[32m[\u001b[0m\u001b[32mstr, List\u001b[0m\u001b[32m[\u001b[0m\u001b[32mstr\u001b[0m\u001b[32m]\u001b[0m\u001b[32m]\u001b[0m\u001b[32m]\u001b[0m\u001b[32m'\u001b[0m = \u001b[3;35mNone\u001b[0m, trained_dataset:            \u001b[34m│\u001b[0m\n",
       "\u001b[34m│\u001b[0m \u001b[32m'Optional\u001b[0m\u001b[32m[\u001b[0m\u001b[32mUnion\u001b[0m\u001b[32m[\u001b[0m\u001b[32mstr, List\u001b[0m\u001b[32m[\u001b[0m\u001b[32mstr\u001b[0m\u001b[32m]\u001b[0m\u001b[32m]\u001b[0m\u001b[32m]\u001b[0m\u001b[32m'\u001b[0m = \u001b[3;35mNone\u001b[0m, tags: \u001b[32m'Optional\u001b[0m\u001b[32m[\u001b[0m\u001b[32mUnion\u001b[0m\u001b[32m[\u001b[0m\u001b[32mstr, List\u001b[0m\u001b[32m[\u001b[0m\u001b[32mstr\u001b[0m\u001b[32m]\u001b[0m\u001b[32m]\u001b[0m\u001b[32m]\u001b[0m\u001b[32m'\u001b[0m = \u001b[3;35mNone\u001b[0m, search:               \u001b[34m│\u001b[0m\n",
       "\u001b[34m│\u001b[0m \u001b[32m'Optional\u001b[0m\u001b[32m[\u001b[0m\u001b[32mstr\u001b[0m\u001b[32m]\u001b[0m\u001b[32m'\u001b[0m = \u001b[3;35mNone\u001b[0m, emissions_thresholds: \u001b[32m'Optional\u001b[0m\u001b[32m[\u001b[0m\u001b[32mTuple\u001b[0m\u001b[32m[\u001b[0m\u001b[32mfloat, float\u001b[0m\u001b[32m]\u001b[0m\u001b[32m]\u001b[0m\u001b[32m'\u001b[0m = \u001b[3;35mNone\u001b[0m, sort:                     \u001b[34m│\u001b[0m\n",
       "\u001b[34m│\u001b[0m \u001b[32m\"Union\u001b[0m\u001b[32m[\u001b[0m\u001b[32mLiteral\u001b[0m\u001b[32m[\u001b[0m\u001b[32m'last_modified'\u001b[0m\u001b[32m]\u001b[0m\u001b[32m, str, None\u001b[0m\u001b[32m]\u001b[0m\u001b[32m\"\u001b[0m = \u001b[3;35mNone\u001b[0m, direction: \u001b[32m'Optional\u001b[0m\u001b[32m[\u001b[0m\u001b[32mLiteral\u001b[0m\u001b[32m[\u001b[0m\u001b[32m-1\u001b[0m\u001b[32m]\u001b[0m\u001b[32m]\u001b[0m\u001b[32m'\u001b[0m = \u001b[3;35mNone\u001b[0m, limit:          \u001b[34m│\u001b[0m\n",
       "\u001b[34m│\u001b[0m \u001b[32m'Optional\u001b[0m\u001b[32m[\u001b[0m\u001b[32mint\u001b[0m\u001b[32m]\u001b[0m\u001b[32m'\u001b[0m = \u001b[3;35mNone\u001b[0m, full: \u001b[32m'Optional\u001b[0m\u001b[32m[\u001b[0m\u001b[32mbool\u001b[0m\u001b[32m]\u001b[0m\u001b[32m'\u001b[0m = \u001b[3;35mNone\u001b[0m, cardData: \u001b[32m'bool'\u001b[0m = \u001b[3;91mFalse\u001b[0m, fetch_config: \u001b[32m'bool'\u001b[0m = \u001b[3;91mFalse\u001b[0m,  \u001b[34m│\u001b[0m\n",
       "\u001b[34m│\u001b[0m token: \u001b[32m'Union\u001b[0m\u001b[32m[\u001b[0m\u001b[32mbool, str, None\u001b[0m\u001b[32m]\u001b[0m\u001b[32m'\u001b[0m = \u001b[3;35mNone\u001b[0m, pipeline_tag: \u001b[32m'Optional\u001b[0m\u001b[32m[\u001b[0m\u001b[32mstr\u001b[0m\u001b[32m]\u001b[0m\u001b[32m'\u001b[0m = \u001b[3;35mNone\u001b[0m\u001b[1m)\u001b[0m -> \u001b[32m'Iterable\u001b[0m\u001b[32m[\u001b[0m\u001b[32mModelInfo\u001b[0m\u001b[32m]\u001b[0m\u001b[32m'\u001b[0m:         \u001b[34m│\u001b[0m\n",
       "\u001b[34m│\u001b[0m                                                                                                                 \u001b[34m│\u001b[0m\n",
       "\u001b[34m│\u001b[0m \u001b[36mList models hosted on the Huggingface Hub, given some filters.\u001b[0m                                                  \u001b[34m│\u001b[0m\n",
       "\u001b[34m│\u001b[0m                                                                                                                 \u001b[34m│\u001b[0m\n",
       "\u001b[34m│\u001b[0m \u001b[1;36m28\u001b[0m\u001b[3m attribute(s) not shown.\u001b[0m Run \u001b[1;35minspect\u001b[0m\u001b[1m(\u001b[0minspect\u001b[1m)\u001b[0m for options.                                                    \u001b[34m│\u001b[0m\n",
       "\u001b[34m╰─────────────────────────────────────────────────────────────────────────────────────────────────────────────────╯\u001b[0m\n"
      ]
     },
     "metadata": {},
     "output_type": "display_data"
    }
   ],
   "source": [
    "rich.inspect(api.list_models)"
   ]
  },
  {
   "cell_type": "code",
   "execution_count": 5,
   "metadata": {},
   "outputs": [],
   "source": [
    "hub_datasets = list(iter(api.list_datasets(limit=None, filter=None, full=True)))"
   ]
  },
  {
   "cell_type": "code",
   "execution_count": 6,
   "metadata": {},
   "outputs": [],
   "source": [
    "hub_models = list(iter(api.list_models(limit=None, filter=None, full=True)))"
   ]
  },
  {
   "cell_type": "code",
   "execution_count": 7,
   "metadata": {},
   "outputs": [
    {
     "data": {
      "text/plain": [
       "ModelInfo(id='albert/albert-base-v1', author='albert', sha='082438ba120d36b97b9288772a41144e941705b9', created_at=datetime.datetime(2022, 3, 2, 23, 29, 4, tzinfo=datetime.timezone.utc), last_modified=datetime.datetime(2024, 2, 19, 10, 57, 35, tzinfo=datetime.timezone.utc), private=False, gated=False, disabled=None, downloads=13582, likes=7, library_name='transformers', tags=['transformers', 'pytorch', 'tf', 'safetensors', 'albert', 'fill-mask', 'exbert', 'en', 'dataset:bookcorpus', 'dataset:wikipedia', 'arxiv:1909.11942', 'license:apache-2.0', 'autotrain_compatible', 'endpoints_compatible', 'region:us'], pipeline_tag='fill-mask', mask_token=None, card_data=None, widget_data=None, model_index=None, config=None, transformers_info=None, siblings=[RepoSibling(rfilename='.gitattributes', size=None, blob_id=None, lfs=None), RepoSibling(rfilename='README.md', size=None, blob_id=None, lfs=None), RepoSibling(rfilename='config.json', size=None, blob_id=None, lfs=None), RepoSibling(rfilename='model.safetensors', size=None, blob_id=None, lfs=None), RepoSibling(rfilename='pytorch_model.bin', size=None, blob_id=None, lfs=None), RepoSibling(rfilename='spiece.model', size=None, blob_id=None, lfs=None), RepoSibling(rfilename='tf_model.h5', size=None, blob_id=None, lfs=None), RepoSibling(rfilename='tokenizer.json', size=None, blob_id=None, lfs=None), RepoSibling(rfilename='tokenizer_config.json', size=None, blob_id=None, lfs=None), RepoSibling(rfilename='with-prefix-tf_model.h5', size=None, blob_id=None, lfs=None)], spaces=None, safetensors=None)"
      ]
     },
     "execution_count": 7,
     "metadata": {},
     "output_type": "execute_result"
    }
   ],
   "source": [
    "hub_models[0]"
   ]
  },
  {
   "cell_type": "code",
   "execution_count": 8,
   "metadata": {},
   "outputs": [],
   "source": [
    "hub_item_dict = []\n",
    "for item in hub_models:\n",
    "        data = item.__dict__\n",
    "        hub_item_dict.append(data)"
   ]
  },
  {
   "cell_type": "code",
   "execution_count": 17,
   "metadata": {},
   "outputs": [
    {
     "data": {
      "application/vnd.jupyter.widget-view+json": {
       "model_id": "d1d97cf6262c41a8b5b66804123eab1b",
       "version_major": 2,
       "version_minor": 0
      },
      "text/plain": [
       "Downloading readme:   0%|          | 0.00/5.89k [00:00<?, ?B/s]"
      ]
     },
     "metadata": {},
     "output_type": "display_data"
    },
    {
     "data": {
      "application/vnd.jupyter.widget-view+json": {
       "model_id": "4d631622d8a6415ca5f5bee8f5cdc4b1",
       "version_major": 2,
       "version_minor": 0
      },
      "text/plain": [
       "Downloading data:   0%|          | 0.00/250M [00:00<?, ?B/s]"
      ]
     },
     "metadata": {},
     "output_type": "display_data"
    },
    {
     "data": {
      "application/vnd.jupyter.widget-view+json": {
       "model_id": "dd91054f27c547ae874220167dd26537",
       "version_major": 2,
       "version_minor": 0
      },
      "text/plain": [
       "Downloading data:   0%|          | 0.00/105M [00:00<?, ?B/s]"
      ]
     },
     "metadata": {},
     "output_type": "display_data"
    },
    {
     "data": {
      "application/vnd.jupyter.widget-view+json": {
       "model_id": "d56028e17a2844bab06a2e8ef41c7b80",
       "version_major": 2,
       "version_minor": 0
      },
      "text/plain": [
       "Downloading data:   0%|          | 0.00/85.2M [00:00<?, ?B/s]"
      ]
     },
     "metadata": {},
     "output_type": "display_data"
    },
    {
     "data": {
      "application/vnd.jupyter.widget-view+json": {
       "model_id": "83d428dd4c094e6f83e1347e19641710",
       "version_major": 2,
       "version_minor": 0
      },
      "text/plain": [
       "Generating train split:   0%|          | 0/747434 [00:00<?, ? examples/s]"
      ]
     },
     "metadata": {},
     "output_type": "display_data"
    }
   ],
   "source": [
    "# df = pd.DataFrame.from_dict(hub_item_dict)\n",
    "df = load_dataset(\"librarian-bots/model_cards_with_metadata\")['train'].to_pandas()"
   ]
  },
  {
   "cell_type": "code",
   "execution_count": 18,
   "metadata": {},
   "outputs": [
    {
     "data": {
      "text/plain": [
       "Index(['modelId', 'author', 'last_modified', 'downloads', 'likes',\n",
       "       'library_name', 'tags', 'pipeline_tag', 'createdAt', 'card'],\n",
       "      dtype='object')"
      ]
     },
     "execution_count": 18,
     "metadata": {},
     "output_type": "execute_result"
    }
   ],
   "source": [
    "df.columns"
   ]
  },
  {
   "cell_type": "code",
   "execution_count": 19,
   "metadata": {},
   "outputs": [
    {
     "data": {
      "text/plain": [
       "array(['transformers', 'pytorch', 'tf', 'jax', 'safetensors', 'bert',\n",
       "       'fill-mask', 'exbert', 'en', 'dataset:bookcorpus',\n",
       "       'dataset:wikipedia', 'arxiv:1810.04805', 'license:apache-2.0',\n",
       "       'autotrain_compatible', 'endpoints_compatible', 'region:us'],\n",
       "      dtype=object)"
      ]
     },
     "execution_count": 19,
     "metadata": {},
     "output_type": "execute_result"
    }
   ],
   "source": [
    "df.loc[30, \"tags\"]"
   ]
  },
  {
   "cell_type": "code",
   "execution_count": 21,
   "metadata": {},
   "outputs": [
    {
     "name": "stdout",
     "output_type": "stream",
     "text": [
      "---\n",
      "language: en\n",
      "tags:\n",
      "- exbert\n",
      "license: apache-2.0\n",
      "datasets:\n",
      "- bookcorpus\n",
      "- wikipedia\n",
      "---\n",
      "\n",
      "# BERT base model (cased)\n",
      "\n",
      "Pretrained model on English language using a masked language modeling (MLM) objective. It was introduced in\n",
      "[this paper](https://arxiv.org/abs/1810.04805) and first released in\n",
      "[this repository](https://github.com/google-research/bert). This model is case-sensitive: it makes a difference between\n",
      "english and English.\n",
      "\n",
      "Disclaimer: The team releasing BERT did not write a model card for this model so this model card has been written by\n",
      "the Hugging Face team.\n",
      "\n",
      "## Model description\n",
      "\n",
      "BERT is a transformers model pretrained on a large corpus of English data in a self-supervised fashion. This means it\n",
      "was pretrained on the raw texts only, with no humans labelling them in any way (which is why it can use lots of\n",
      "publicly available data) with an automatic process to generate inputs and labels from those texts. More precisely, it\n",
      "was pretrained with two objectives:\n",
      "\n",
      "- Masked language modeling (MLM): taking a sentence, the model randomly masks 15% of the words in the input then run\n",
      "  the entire masked sentence through the model and has to predict the masked words. This is different from traditional\n",
      "  recurrent neural networks (RNNs) that usually see the words one after the other, or from autoregressive models like\n",
      "  GPT which internally mask the future tokens. It allows the model to learn a bidirectional representation of the\n",
      "  sentence.\n",
      "- Next sentence prediction (NSP): the models concatenates two masked sentences as inputs during pretraining. Sometimes\n",
      "  they correspond to sentences that were next to each other in the original text, sometimes not. The model then has to\n",
      "  predict if the two sentences were following each other or not.\n",
      "\n",
      "This way, the model learns an inner representation of the English language that can then be used to extract features\n",
      "useful for downstream tasks: if you have a dataset of labeled sentences for instance, you can train a standard\n",
      "classifier using the features produced by the BERT model as inputs.\n",
      "\n",
      "## Intended uses & limitations\n",
      "\n",
      "You can use the raw model for either masked language modeling or next sentence prediction, but it's mostly intended to\n",
      "be fine-tuned on a downstream task. See the [model hub](https://huggingface.co/models?filter=bert) to look for\n",
      "fine-tuned versions on a task that interests you.\n",
      "\n",
      "Note that this model is primarily aimed at being fine-tuned on tasks that use the whole sentence (potentially masked)\n",
      "to make decisions, such as sequence classification, token classification or question answering. For tasks such as text\n",
      "generation you should look at model like GPT2.\n",
      "\n",
      "### How to use\n",
      "\n",
      "You can use this model directly with a pipeline for masked language modeling:\n",
      "\n",
      "```python\n",
      ">>> from transformers import pipeline\n",
      ">>> unmasker = pipeline('fill-mask', model='bert-base-cased')\n",
      ">>> unmasker(\"Hello I'm a [MASK] model.\")\n",
      "\n",
      "[{'sequence': \"[CLS] Hello I'm a fashion model. [SEP]\",\n",
      "  'score': 0.09019174426794052,\n",
      "  'token': 4633,\n",
      "  'token_str': 'fashion'},\n",
      " {'sequence': \"[CLS] Hello I'm a new model. [SEP]\",\n",
      "  'score': 0.06349995732307434,\n",
      "  'token': 1207,\n",
      "  'token_str': 'new'},\n",
      " {'sequence': \"[CLS] Hello I'm a male model. [SEP]\",\n",
      "  'score': 0.06228214129805565,\n",
      "  'token': 2581,\n",
      "  'token_str': 'male'},\n",
      " {'sequence': \"[CLS] Hello I'm a professional model. [SEP]\",\n",
      "  'score': 0.0441727414727211,\n",
      "  'token': 1848,\n",
      "  'token_str': 'professional'},\n",
      " {'sequence': \"[CLS] Hello I'm a super model. [SEP]\",\n",
      "  'score': 0.03326151892542839,\n",
      "  'token': 7688,\n",
      "  'token_str': 'super'}]\n",
      "```\n",
      "\n",
      "Here is how to use this model to get the features of a given text in PyTorch:\n",
      "\n",
      "```python\n",
      "from transformers import BertTokenizer, BertModel\n",
      "tokenizer = BertTokenizer.from_pretrained('bert-base-cased')\n",
      "model = BertModel.from_pretrained(\"bert-base-cased\")\n",
      "text = \"Replace me by any text you'd like.\"\n",
      "encoded_input = tokenizer(text, return_tensors='pt')\n",
      "output = model(**encoded_input)\n",
      "```\n",
      "\n",
      "and in TensorFlow:\n",
      "\n",
      "```python\n",
      "from transformers import BertTokenizer, TFBertModel\n",
      "tokenizer = BertTokenizer.from_pretrained('bert-base-cased')\n",
      "model = TFBertModel.from_pretrained(\"bert-base-cased\")\n",
      "text = \"Replace me by any text you'd like.\"\n",
      "encoded_input = tokenizer(text, return_tensors='tf')\n",
      "output = model(encoded_input)\n",
      "```\n",
      "\n",
      "### Limitations and bias\n",
      "\n",
      "Even if the training data used for this model could be characterized as fairly neutral, this model can have biased\n",
      "predictions:\n",
      "\n",
      "```python\n",
      ">>> from transformers import pipeline\n",
      ">>> unmasker = pipeline('fill-mask', model='bert-base-cased')\n",
      ">>> unmasker(\"The man worked as a [MASK].\")\n",
      "\n",
      "[{'sequence': '[CLS] The man worked as a lawyer. [SEP]',\n",
      "  'score': 0.04804691672325134,\n",
      "  'token': 4545,\n",
      "  'token_str': 'lawyer'},\n",
      " {'sequence': '[CLS] The man worked as a waiter. [SEP]',\n",
      "  'score': 0.037494491785764694,\n",
      "  'token': 17989,\n",
      "  'token_str': 'waiter'},\n",
      " {'sequence': '[CLS] The man worked as a cop. [SEP]',\n",
      "  'score': 0.035512614995241165,\n",
      "  'token': 9947,\n",
      "  'token_str': 'cop'},\n",
      " {'sequence': '[CLS] The man worked as a detective. [SEP]',\n",
      "  'score': 0.031271643936634064,\n",
      "  'token': 9140,\n",
      "  'token_str': 'detective'},\n",
      " {'sequence': '[CLS] The man worked as a doctor. [SEP]',\n",
      "  'score': 0.027423162013292313,\n",
      "  'token': 3995,\n",
      "  'token_str': 'doctor'}]\n",
      "\n",
      ">>> unmasker(\"The woman worked as a [MASK].\")\n",
      "\n",
      "[{'sequence': '[CLS] The woman worked as a nurse. [SEP]',\n",
      "  'score': 0.16927455365657806,\n",
      "  'token': 7439,\n",
      "  'token_str': 'nurse'},\n",
      " {'sequence': '[CLS] The woman worked as a waitress. [SEP]',\n",
      "  'score': 0.1501094549894333,\n",
      "  'token': 15098,\n",
      "  'token_str': 'waitress'},\n",
      " {'sequence': '[CLS] The woman worked as a maid. [SEP]',\n",
      "  'score': 0.05600163713097572,\n",
      "  'token': 13487,\n",
      "  'token_str': 'maid'},\n",
      " {'sequence': '[CLS] The woman worked as a housekeeper. [SEP]',\n",
      "  'score': 0.04838843643665314,\n",
      "  'token': 26458,\n",
      "  'token_str': 'housekeeper'},\n",
      " {'sequence': '[CLS] The woman worked as a cook. [SEP]',\n",
      "  'score': 0.029980547726154327,\n",
      "  'token': 9834,\n",
      "  'token_str': 'cook'}]\n",
      "```\n",
      "\n",
      "This bias will also affect all fine-tuned versions of this model.\n",
      "\n",
      "## Training data\n",
      "\n",
      "The BERT model was pretrained on [BookCorpus](https://yknzhu.wixsite.com/mbweb), a dataset consisting of 11,038\n",
      "unpublished books and [English Wikipedia](https://en.wikipedia.org/wiki/English_Wikipedia) (excluding lists, tables and\n",
      "headers).\n",
      "\n",
      "## Training procedure\n",
      "\n",
      "### Preprocessing\n",
      "\n",
      "The texts are tokenized using WordPiece and a vocabulary size of 30,000. The inputs of the model are then of the form:\n",
      "\n",
      "```\n",
      "[CLS] Sentence A [SEP] Sentence B [SEP]\n",
      "```\n",
      "\n",
      "With probability 0.5, sentence A and sentence B correspond to two consecutive sentences in the original corpus and in\n",
      "the other cases, it's another random sentence in the corpus. Note that what is considered a sentence here is a\n",
      "consecutive span of text usually longer than a single sentence. The only constrain is that the result with the two\n",
      "\"sentences\" has a combined length of less than 512 tokens.\n",
      "\n",
      "The details of the masking procedure for each sentence are the following:\n",
      "- 15% of the tokens are masked.\n",
      "- In 80% of the cases, the masked tokens are replaced by `[MASK]`.\n",
      "- In 10% of the cases, the masked tokens are replaced by a random token (different) from the one they replace.\n",
      "- In the 10% remaining cases, the masked tokens are left as is.\n",
      "\n",
      "### Pretraining\n",
      "\n",
      "The model was trained on 4 cloud TPUs in Pod configuration (16 TPU chips total) for one million steps with a batch size\n",
      "of 256. The sequence length was limited to 128 tokens for 90% of the steps and 512 for the remaining 10%. The optimizer\n",
      "used is Adam with a learning rate of 1e-4, \\\\(\\beta_{1} = 0.9\\\\) and \\\\(\\beta_{2} = 0.999\\\\), a weight decay of 0.01,\n",
      "learning rate warmup for 10,000 steps and linear decay of the learning rate after.\n",
      "\n",
      "## Evaluation results\n",
      "\n",
      "When fine-tuned on downstream tasks, this model achieves the following results:\n",
      "\n",
      "Glue test results:\n",
      "\n",
      "| Task | MNLI-(m/mm) | QQP  | QNLI | SST-2 | CoLA | STS-B | MRPC | RTE  | Average |\n",
      "|:----:|:-----------:|:----:|:----:|:-----:|:----:|:-----:|:----:|:----:|:-------:|\n",
      "|      | 84.6/83.4   | 71.2 | 90.5 | 93.5  | 52.1 | 85.8  | 88.9 | 66.4 | 79.6    |\n",
      "\n",
      "\n",
      "### BibTeX entry and citation info\n",
      "\n",
      "```bibtex\n",
      "@article{DBLP:journals/corr/abs-1810-04805,\n",
      "  author    = {Jacob Devlin and\n",
      "               Ming{-}Wei Chang and\n",
      "               Kenton Lee and\n",
      "               Kristina Toutanova},\n",
      "  title     = {{BERT:} Pre-training of Deep Bidirectional Transformers for Language\n",
      "               Understanding},\n",
      "  journal   = {CoRR},\n",
      "  volume    = {abs/1810.04805},\n",
      "  year      = {2018},\n",
      "  url       = {http://arxiv.org/abs/1810.04805},\n",
      "  archivePrefix = {arXiv},\n",
      "  eprint    = {1810.04805},\n",
      "  timestamp = {Tue, 30 Oct 2018 20:39:56 +0100},\n",
      "  biburl    = {https://dblp.org/rec/journals/corr/abs-1810-04805.bib},\n",
      "  bibsource = {dblp computer science bibliography, https://dblp.org}\n",
      "}\n",
      "```\n",
      "\n",
      "<a href=\"https://huggingface.co/exbert/?model=bert-base-cased\">\n",
      "\t<img width=\"300px\" src=\"https://cdn-media.huggingface.co/exbert/button.png\">\n",
      "</a>\n",
      "\n"
     ]
    }
   ],
   "source": [
    "#Check that the labels are inside the readme file\n",
    "print(df.loc[30,\"card\"])"
   ]
  },
  {
   "cell_type": "code",
   "execution_count": 25,
   "metadata": {},
   "outputs": [
    {
     "name": "stdout",
     "output_type": "stream",
     "text": [
      "{'datasets': ['bookcorpus', 'wikipedia'], 'language': 'en', 'license': 'apache-2.0', 'tags': ['exbert']}\n"
     ]
    }
   ],
   "source": [
    "card = ModelCard.load(df.loc[30,\"modelId\"]).data.to_dict()\n",
    "print(card)"
   ]
  },
  {
   "cell_type": "code",
   "execution_count": 26,
   "metadata": {},
   "outputs": [
    {
     "name": "stdout",
     "output_type": "stream",
     "text": [
      "bookcorpus\n",
      "wikipedia\n",
      "en\n",
      "apache-2.0\n",
      "exbert\n"
     ]
    }
   ],
   "source": [
    "#Go through the card dictionary\n",
    "for item in card.items():\n",
    "    if type(item[1]) is list:\n",
    "        for i in item[1]:\n",
    "            print(i)\n",
    "    else:\n",
    "        print(item[1])"
   ]
  },
  {
   "cell_type": "code",
   "execution_count": 43,
   "metadata": {},
   "outputs": [
    {
     "data": {
      "application/vnd.jupyter.widget-view+json": {
       "model_id": "3e5e8fe5c3394917b2574f463f659f30",
       "version_major": 2,
       "version_minor": 0
      },
      "text/plain": [
       "README.md:   0%|          | 0.00/15.9k [00:00<?, ?B/s]"
      ]
     },
     "metadata": {},
     "output_type": "display_data"
    },
    {
     "name": "stdout",
     "output_type": "stream",
     "text": [
      "ModelId: lllyasviel/control_v11p_sd15_inpaint\n",
      "Tags not in card: \n",
      " ['diffusers', 'safetensors', '2302.05543']\n",
      "\n",
      "Card: \n",
      " base_model: runwayml/stable-diffusion-v1-5\n",
      "license: openrail\n",
      "tags:\n",
      "- art\n",
      "- controlnet\n",
      "- stable-diffusion\n",
      "- controlnet-v1-1\n",
      "- image-to-image\n",
      "duplicated_from: ControlNet-1-1-preview/control_v11p_sd15_inpaint\n"
     ]
    },
    {
     "data": {
      "application/vnd.jupyter.widget-view+json": {
       "model_id": "d8d5356843e84574a2974d566238e944",
       "version_major": 2,
       "version_minor": 0
      },
      "text/plain": [
       "README.md:   0%|          | 0.00/635 [00:00<?, ?B/s]"
      ]
     },
     "metadata": {},
     "output_type": "display_data"
    },
    {
     "name": "stdout",
     "output_type": "stream",
     "text": [
      "ModelId: onefish51/dog_w_prior-preservation\n",
      "Tags not in card: \n",
      " []\n",
      "\n",
      "Card: \n",
      " base_model: /data2/home/tyu/stable_diffusion/diffusers/stable-diffusion-v1-4\n",
      "license: creativeml-openrail-m\n",
      "tags:\n",
      "- stable-diffusion\n",
      "- stable-diffusion-diffusers\n",
      "- text-to-image\n",
      "- diffusers\n",
      "- lora\n",
      "inference: true\n"
     ]
    },
    {
     "data": {
      "application/vnd.jupyter.widget-view+json": {
       "model_id": "4ac9a975044d435ab8e4768e92a0a0b0",
       "version_major": 2,
       "version_minor": 0
      },
      "text/plain": [
       "README.md:   0%|          | 0.00/816 [00:00<?, ?B/s]"
      ]
     },
     "metadata": {},
     "output_type": "display_data"
    },
    {
     "name": "stdout",
     "output_type": "stream",
     "text": [
      "ModelId: Helsinki-NLP/opus-mt-ht-fr\n",
      "Tags not in card: \n",
      " ['transformers', 'pytorch', 'tf', 'marian', 'text2text-generation', 'ht', 'fr', 'autotrain_compatible', 'endpoints_compatible', 'us']\n",
      "\n",
      "Card: \n",
      " license: apache-2.0\n",
      "tags:\n",
      "- translation\n",
      "Error loading model card, no model card found for\n",
      "ModelId: QuantFactory/internlm2_5-7b-chat-GGUF\n",
      "Tags not in card: \n",
      " ['gguf', 'us']\n",
      "\n",
      "Card: \n",
      " license: apache-2.0\n",
      "tags:\n",
      "- translation\n"
     ]
    },
    {
     "data": {
      "application/vnd.jupyter.widget-view+json": {
       "model_id": "0f25b96847184961a4de4ee3480757dd",
       "version_major": 2,
       "version_minor": 0
      },
      "text/plain": [
       "README.md:   0%|          | 0.00/5.17k [00:00<?, ?B/s]"
      ]
     },
     "metadata": {},
     "output_type": "display_data"
    },
    {
     "name": "stdout",
     "output_type": "stream",
     "text": [
      "ModelId: snunlp/KLUE-RoBERTa-Large-SNUExtended\n",
      "Tags not in card: \n",
      " ['safetensors', 'roberta', 'feature-extraction', '1910.09700', 'endpoints_compatible', 'text-embeddings-inference', 'us']\n",
      "\n",
      "Card: \n",
      " library_name: transformers\n",
      "tags: []\n"
     ]
    },
    {
     "data": {
      "application/vnd.jupyter.widget-view+json": {
       "model_id": "3759a27f26864bd78d885ff3dd7a0f0d",
       "version_major": 2,
       "version_minor": 0
      },
      "text/plain": [
       "README.md:   0%|          | 0.00/1.21k [00:00<?, ?B/s]"
      ]
     },
     "metadata": {},
     "output_type": "display_data"
    },
    {
     "name": "stdout",
     "output_type": "stream",
     "text": [
      "ModelId: tutrinh/catcch-pilot-model-2\n",
      "Tags not in card: \n",
      " ['tensorboard', 'safetensors', 'us']\n",
      "\n",
      "Card: \n",
      " base_model: mistralai/Mistral-7B-Instruct-v0.2\n",
      "library_name: peft\n",
      "license: apache-2.0\n",
      "tags:\n",
      "- generated_from_trainer\n",
      "model-index:\n",
      "- name: huggingface_out\n",
      "  results: []\n",
      "Error loading model card, no model card found for\n",
      "ModelId: Jeska/VaccinChatSentenceClassifierDutch\n",
      "Tags not in card: \n",
      " ['transformers', 'pytorch', 'tensorboard', 'bert', 'text-classification', 'autotrain_compatible', 'endpoints_compatible', 'us']\n",
      "\n",
      "Card: \n",
      " base_model: mistralai/Mistral-7B-Instruct-v0.2\n",
      "library_name: peft\n",
      "license: apache-2.0\n",
      "tags:\n",
      "- generated_from_trainer\n",
      "model-index:\n",
      "- name: huggingface_out\n",
      "  results: []\n"
     ]
    },
    {
     "data": {
      "application/vnd.jupyter.widget-view+json": {
       "model_id": "67172d0a378b4e718760bd246805d091",
       "version_major": 2,
       "version_minor": 0
      },
      "text/plain": [
       "README.md:   0%|          | 0.00/847 [00:00<?, ?B/s]"
      ]
     },
     "metadata": {},
     "output_type": "display_data"
    },
    {
     "name": "stdout",
     "output_type": "stream",
     "text": [
      "ModelId: MarkBW/cinematic-style-xl\n",
      "Tags not in card: \n",
      " []\n",
      "\n",
      "Card: \n",
      " base_model: stabilityai/stable-diffusion-xl-base-1.0\n",
      "tags:\n",
      "- text-to-image\n",
      "- stable-diffusion\n",
      "- lora\n",
      "- diffusers\n",
      "- template:sd-lora\n",
      "widget:\n",
      "- text: \"UNICODE\\0\\0D\\0a\\0r\\0k\\0 \\0F\\0a\\0n\\0t\\0a\\0s\\0y\\0 \\0A\\0r\\0t\\0 \\0o\\0f\\0 \\0 \\0\\\n",
      "    <\\0l\\0o\\0r\\0a\\0:\\0C\\0i\\0n\\0e\\0m\\0a\\0t\\0i\\0c\\0 \\0H\\0o\\0l\\0l\\0y\\0w\\0o\\0o\\0d\\0 \\0\\\n",
      "    F\\0i\\0l\\0m\\0:\\01\\0.\\05\\0>\\0\"\n",
      "  output:\n",
      "    url: images/00450-2279182498.jpeg\n",
      "instance_prompt: Cinematic Hollywood Film, Cinematic Hollywood Film style\n"
     ]
    },
    {
     "data": {
      "application/vnd.jupyter.widget-view+json": {
       "model_id": "1b26df6b9ae148df88403967cd4210ef",
       "version_major": 2,
       "version_minor": 0
      },
      "text/plain": [
       "README.md:   0%|          | 0.00/2.22k [00:00<?, ?B/s]"
      ]
     },
     "metadata": {},
     "output_type": "display_data"
    },
    {
     "name": "stdout",
     "output_type": "stream",
     "text": [
      "ModelId: KaibaZax/MCC\n",
      "Tags not in card: \n",
      " []\n",
      "\n",
      "Card: \n",
      " base_model: runwayml/stable-diffusion-v1-5\n",
      "license: unknown\n",
      "tags:\n",
      "- text-to-image\n",
      "- stable-diffusion\n",
      "- lora\n",
      "- diffusers\n",
      "- template:sd-lora\n",
      "widget:\n",
      "- text: Amelia\n",
      "  output:\n",
      "    url: images/DADE8E2605E536E42EE74F3E45618133A34AA464DBE61D24BF0AE4E750669EBC.jpg\n",
      "- text: Jessie\n",
      "  output:\n",
      "    url: images/29A6CEC2B135070B14C2008B6FE5230ECD91A6303614912DAB59F1E84252964A.jpg\n",
      "- text: Kimberly\n",
      "  output:\n",
      "    url: images/15C55224FFF20855B0856BEF8DEC1D2A321335177E34C6E27D4A094BB659E5DE.jpg\n",
      "- text: Sandy\n",
      "  output:\n",
      "    url: images/FEFE2D7642128FA160FF50A6A60DDCE28C1E7962374C612447A6D5A5B15D629A.jpg\n",
      "- text: Amelia\n",
      "  output:\n",
      "    url: images/9CB611B6BA1D1D3452463AF7A169F4661E8A3B4998ECE22949AF49CAD0081725.jpg\n",
      "- text: Vanessa\n",
      "  output:\n",
      "    url: images/AA48592695B13C315B49F8C4BC60CB206BEB96BFABF3DF383B01201F401B86C1.jpg\n",
      "- text: Amelia\n",
      "  output:\n",
      "    url: images/B4DE05F90047CC25DE45951535513DC4D5B8E9601EFF086B5EAD41388BD559FB.jpg\n",
      "- text: Deloris\n",
      "  output:\n",
      "    url: images/21051DD1BDBC19FCD55F7D3F2B8103E12A19A022F2F1978445D154660E6F152F.jpg\n",
      "- text: Kimberly\n",
      "  output:\n",
      "    url: images/3612FE8F0A6FFBD044CAABF933FCB75C57151E45E6C3DECE0F1A2C9B63B55B5B.jpg\n",
      "- text: Jessie\n",
      "  output:\n",
      "    url: images/B1446F0998FF4CCE61EEEDB0DC65BB210A3E512403758DCAF3649ABFADFDC892.jpg\n",
      "- text: Vanessa\n",
      "  output:\n",
      "    url: images/7B601327421A7FE83CE07CA4FF2E0B6D16EC243684634F42A884467EDADD2532.jpg\n",
      "- text: Sandy\n",
      "  output:\n",
      "    url: images/5717CE47271AF3799933C7645DFF7C961699B0F6EF4BB5B9E3CD8BF47A74FD21.jpg\n",
      "instance_prompt: Amelia, Deloris, Jessie, Kimberly, Sandy, Vanessa\n"
     ]
    },
    {
     "data": {
      "application/vnd.jupyter.widget-view+json": {
       "model_id": "719ea04e297640c0b525b13eb85605f7",
       "version_major": 2,
       "version_minor": 0
      },
      "text/plain": [
       "README.md:   0%|          | 0.00/5.13k [00:00<?, ?B/s]"
      ]
     },
     "metadata": {},
     "output_type": "display_data"
    },
    {
     "name": "stdout",
     "output_type": "stream",
     "text": [
      "ModelId: DionTimmer/controlnet_qrcode\n",
      "Tags not in card: \n",
      " ['diffusers', 'safetensors']\n",
      "\n",
      "Card: \n",
      " language:\n",
      "- en\n",
      "license: openrail++\n",
      "tags:\n",
      "- stable-diffusion\n",
      "- controlnet\n"
     ]
    }
   ],
   "source": [
    "# create a list of random integers between 0 and 100000\n",
    "idx_list = [random.randint(0, 100000) for i in range(10)]\n",
    "# idx_list = [1]\n",
    "\n",
    "for id in idx_list:\n",
    "    dump_tags = df.loc[id, \"tags\"]\n",
    "    # yml_tags = []\n",
    "    try:\n",
    "        card = str(ModelCard.load(df.loc[id,\"modelId\"]).data)\n",
    "    except EntryNotFoundError:\n",
    "        print(f\"Error loading model card, no model card found for {df.loc[id, 'modelId']}\")\n",
    "        \n",
    "    tags_not_in_card = []\n",
    "    for tag in dump_tags:\n",
    "        if \":\" in tag:\n",
    "            tag = tag.split(\":\")[1]\n",
    "        if tag not in card:\n",
    "            all_dump_tags = False\n",
    "            tags_not_in_card.append(tag)\n",
    "    print(f\"ModelId: {df.loc[id, 'modelId']}\")\n",
    "    print(\"Tags not in card: \\n\",tags_not_in_card)\n",
    "    print(\"\\nCard: \\n\",card)\n",
    "        \n",
    "    # print(card)\n",
    "    "
   ]
  },
  {
   "cell_type": "code",
   "execution_count": 47,
   "metadata": {},
   "outputs": [],
   "source": [
    "# Going throug the tag types\n",
    "\n",
    "response = requests.get(\n",
    "  \"https://huggingface.co/api/models-tags-by-type\",\n",
    "  params={},\n",
    "  headers={}\n",
    ")\n",
    "tags = response.json()"
   ]
  },
  {
   "cell_type": "code",
   "execution_count": 51,
   "metadata": {},
   "outputs": [
    {
     "data": {
      "text/html": [
       "<pre style=\"white-space:pre;overflow-x:auto;line-height:normal;font-family:Menlo,'DejaVu Sans Mono',consolas,'Courier New',monospace\"><span style=\"color: #000080; text-decoration-color: #000080\">╭────────────────────────────────────────── </span><span style=\"color: #000080; text-decoration-color: #000080; font-weight: bold\">&lt;</span><span style=\"color: #ff00ff; text-decoration-color: #ff00ff; font-weight: bold\">class</span><span style=\"color: #000000; text-decoration-color: #000000\"> </span><span style=\"color: #008000; text-decoration-color: #008000\">'list'</span><span style=\"color: #000080; text-decoration-color: #000080; font-weight: bold\">&gt;</span><span style=\"color: #000080; text-decoration-color: #000080\"> ───────────────────────────────────────────╮</span>\n",
       "<span style=\"color: #000080; text-decoration-color: #000080\">│</span> <span style=\"color: #008080; text-decoration-color: #008080\">Built-in mutable sequence.</span>                                                                          <span style=\"color: #000080; text-decoration-color: #000080\">│</span>\n",
       "<span style=\"color: #000080; text-decoration-color: #000080\">│</span>                                                                                                     <span style=\"color: #000080; text-decoration-color: #000080\">│</span>\n",
       "<span style=\"color: #000080; text-decoration-color: #000080\">│</span> <span style=\"color: #008000; text-decoration-color: #008000\">╭─────────────────────────────────────────────────────────────────────────────────────────────────╮</span> <span style=\"color: #000080; text-decoration-color: #000080\">│</span>\n",
       "<span style=\"color: #000080; text-decoration-color: #000080\">│</span> <span style=\"color: #008000; text-decoration-color: #008000\">│</span> <span style=\"font-weight: bold\">[</span>                                                                                               <span style=\"color: #008000; text-decoration-color: #008000\">│</span> <span style=\"color: #000080; text-decoration-color: #000080\">│</span>\n",
       "<span style=\"color: #000080; text-decoration-color: #000080\">│</span> <span style=\"color: #008000; text-decoration-color: #008000\">│</span> <span style=\"color: #7fbf7f; text-decoration-color: #7fbf7f\">│   </span><span style=\"font-weight: bold\">{</span><span style=\"color: #008000; text-decoration-color: #008000\">'id'</span>: <span style=\"color: #008000; text-decoration-color: #008000\">'endpoints_compatible'</span>, <span style=\"color: #008000; text-decoration-color: #008000\">'label'</span>: <span style=\"color: #008000; text-decoration-color: #008000\">'Inference Endpoints'</span>, <span style=\"color: #008000; text-decoration-color: #008000\">'type'</span>: <span style=\"color: #008000; text-decoration-color: #008000\">'other'</span><span style=\"font-weight: bold\">}</span>,            <span style=\"color: #008000; text-decoration-color: #008000\">│</span> <span style=\"color: #000080; text-decoration-color: #000080\">│</span>\n",
       "<span style=\"color: #000080; text-decoration-color: #000080\">│</span> <span style=\"color: #008000; text-decoration-color: #008000\">│</span> <span style=\"color: #7fbf7f; text-decoration-color: #7fbf7f\">│   </span><span style=\"font-weight: bold\">{</span><span style=\"color: #008000; text-decoration-color: #008000\">'id'</span>: <span style=\"color: #008000; text-decoration-color: #008000\">'autotrain_compatible'</span>, <span style=\"color: #008000; text-decoration-color: #008000\">'label'</span>: <span style=\"color: #008000; text-decoration-color: #008000\">'AutoTrain Compatible'</span>, <span style=\"color: #008000; text-decoration-color: #008000\">'type'</span>: <span style=\"color: #008000; text-decoration-color: #008000\">'other'</span><span style=\"font-weight: bold\">}</span>,           <span style=\"color: #008000; text-decoration-color: #008000\">│</span> <span style=\"color: #000080; text-decoration-color: #000080\">│</span>\n",
       "<span style=\"color: #000080; text-decoration-color: #000080\">│</span> <span style=\"color: #008000; text-decoration-color: #008000\">│</span> <span style=\"color: #7fbf7f; text-decoration-color: #7fbf7f\">│   </span><span style=\"font-weight: bold\">{</span>                                                                                           <span style=\"color: #008000; text-decoration-color: #008000\">│</span> <span style=\"color: #000080; text-decoration-color: #000080\">│</span>\n",
       "<span style=\"color: #000080; text-decoration-color: #000080\">│</span> <span style=\"color: #008000; text-decoration-color: #008000\">│</span> <span style=\"color: #7fbf7f; text-decoration-color: #7fbf7f\">│   │   </span><span style=\"color: #008000; text-decoration-color: #008000\">'id'</span>: <span style=\"color: #008000; text-decoration-color: #008000\">'text-generation-inference'</span>,                                                      <span style=\"color: #008000; text-decoration-color: #008000\">│</span> <span style=\"color: #000080; text-decoration-color: #000080\">│</span>\n",
       "<span style=\"color: #000080; text-decoration-color: #000080\">│</span> <span style=\"color: #008000; text-decoration-color: #008000\">│</span> <span style=\"color: #7fbf7f; text-decoration-color: #7fbf7f\">│   │   </span><span style=\"color: #008000; text-decoration-color: #008000\">'label'</span>: <span style=\"color: #008000; text-decoration-color: #008000\">'text-generation-inference'</span>,                                                   <span style=\"color: #008000; text-decoration-color: #008000\">│</span> <span style=\"color: #000080; text-decoration-color: #000080\">│</span>\n",
       "<span style=\"color: #000080; text-decoration-color: #000080\">│</span> <span style=\"color: #008000; text-decoration-color: #008000\">│</span> <span style=\"color: #7fbf7f; text-decoration-color: #7fbf7f\">│   │   </span><span style=\"color: #008000; text-decoration-color: #008000\">'type'</span>: <span style=\"color: #008000; text-decoration-color: #008000\">'other'</span>                                                                         <span style=\"color: #008000; text-decoration-color: #008000\">│</span> <span style=\"color: #000080; text-decoration-color: #000080\">│</span>\n",
       "<span style=\"color: #000080; text-decoration-color: #000080\">│</span> <span style=\"color: #008000; text-decoration-color: #008000\">│</span> <span style=\"color: #7fbf7f; text-decoration-color: #7fbf7f\">│   </span><span style=\"font-weight: bold\">}</span>,                                                                                          <span style=\"color: #008000; text-decoration-color: #008000\">│</span> <span style=\"color: #000080; text-decoration-color: #000080\">│</span>\n",
       "<span style=\"color: #000080; text-decoration-color: #000080\">│</span> <span style=\"color: #008000; text-decoration-color: #008000\">│</span> <span style=\"color: #7fbf7f; text-decoration-color: #7fbf7f\">│   </span><span style=\"font-weight: bold\">{</span><span style=\"color: #008000; text-decoration-color: #008000\">'id'</span>: <span style=\"color: #008000; text-decoration-color: #008000\">'model-index'</span>, <span style=\"color: #008000; text-decoration-color: #008000\">'label'</span>: <span style=\"color: #008000; text-decoration-color: #008000\">'Eval Results'</span>, <span style=\"color: #008000; text-decoration-color: #008000\">'type'</span>: <span style=\"color: #008000; text-decoration-color: #008000\">'other'</span><span style=\"font-weight: bold\">}</span>,                            <span style=\"color: #008000; text-decoration-color: #008000\">│</span> <span style=\"color: #000080; text-decoration-color: #000080\">│</span>\n",
       "<span style=\"color: #000080; text-decoration-color: #000080\">│</span> <span style=\"color: #008000; text-decoration-color: #008000\">│</span> <span style=\"color: #7fbf7f; text-decoration-color: #7fbf7f\">│   </span><span style=\"font-weight: bold\">{</span><span style=\"color: #008000; text-decoration-color: #008000\">'id'</span>: <span style=\"color: #008000; text-decoration-color: #008000\">'4-bit'</span>, <span style=\"color: #008000; text-decoration-color: #008000\">'label'</span>: <span style=\"color: #008000; text-decoration-color: #008000\">'4-bit precision'</span>, <span style=\"color: #008000; text-decoration-color: #008000\">'type'</span>: <span style=\"color: #008000; text-decoration-color: #008000\">'other'</span><span style=\"font-weight: bold\">}</span>,                               <span style=\"color: #008000; text-decoration-color: #008000\">│</span> <span style=\"color: #000080; text-decoration-color: #000080\">│</span>\n",
       "<span style=\"color: #000080; text-decoration-color: #000080\">│</span> <span style=\"color: #008000; text-decoration-color: #008000\">│</span> <span style=\"color: #7fbf7f; text-decoration-color: #7fbf7f\">│   </span><span style=\"font-weight: bold\">{</span><span style=\"color: #008000; text-decoration-color: #008000\">'id'</span>: <span style=\"color: #008000; text-decoration-color: #008000\">'merge'</span>, <span style=\"color: #008000; text-decoration-color: #008000\">'label'</span>: <span style=\"color: #008000; text-decoration-color: #008000\">'Merge'</span>, <span style=\"color: #008000; text-decoration-color: #008000\">'type'</span>: <span style=\"color: #008000; text-decoration-color: #008000\">'other'</span><span style=\"font-weight: bold\">}</span>,                                         <span style=\"color: #008000; text-decoration-color: #008000\">│</span> <span style=\"color: #000080; text-decoration-color: #000080\">│</span>\n",
       "<span style=\"color: #000080; text-decoration-color: #000080\">│</span> <span style=\"color: #008000; text-decoration-color: #008000\">│</span> <span style=\"color: #7fbf7f; text-decoration-color: #7fbf7f\">│   </span><span style=\"font-weight: bold\">{</span>                                                                                           <span style=\"color: #008000; text-decoration-color: #008000\">│</span> <span style=\"color: #000080; text-decoration-color: #000080\">│</span>\n",
       "<span style=\"color: #000080; text-decoration-color: #000080\">│</span> <span style=\"color: #008000; text-decoration-color: #008000\">│</span> <span style=\"color: #7fbf7f; text-decoration-color: #7fbf7f\">│   │   </span><span style=\"color: #008000; text-decoration-color: #008000\">'id'</span>: <span style=\"color: #008000; text-decoration-color: #008000\">'text-embeddings-inference'</span>,                                                      <span style=\"color: #008000; text-decoration-color: #008000\">│</span> <span style=\"color: #000080; text-decoration-color: #000080\">│</span>\n",
       "<span style=\"color: #000080; text-decoration-color: #000080\">│</span> <span style=\"color: #008000; text-decoration-color: #008000\">│</span> <span style=\"color: #7fbf7f; text-decoration-color: #7fbf7f\">│   │   </span><span style=\"color: #008000; text-decoration-color: #008000\">'label'</span>: <span style=\"color: #008000; text-decoration-color: #008000\">'text-embeddings-inference'</span>,                                                   <span style=\"color: #008000; text-decoration-color: #008000\">│</span> <span style=\"color: #000080; text-decoration-color: #000080\">│</span>\n",
       "<span style=\"color: #000080; text-decoration-color: #000080\">│</span> <span style=\"color: #008000; text-decoration-color: #008000\">│</span> <span style=\"color: #7fbf7f; text-decoration-color: #7fbf7f\">│   │   </span><span style=\"color: #008000; text-decoration-color: #008000\">'type'</span>: <span style=\"color: #008000; text-decoration-color: #008000\">'other'</span>                                                                         <span style=\"color: #008000; text-decoration-color: #008000\">│</span> <span style=\"color: #000080; text-decoration-color: #000080\">│</span>\n",
       "<span style=\"color: #000080; text-decoration-color: #000080\">│</span> <span style=\"color: #008000; text-decoration-color: #008000\">│</span> <span style=\"color: #7fbf7f; text-decoration-color: #7fbf7f\">│   </span><span style=\"font-weight: bold\">}</span>,                                                                                          <span style=\"color: #008000; text-decoration-color: #008000\">│</span> <span style=\"color: #000080; text-decoration-color: #000080\">│</span>\n",
       "<span style=\"color: #000080; text-decoration-color: #000080\">│</span> <span style=\"color: #008000; text-decoration-color: #008000\">│</span> <span style=\"color: #7fbf7f; text-decoration-color: #7fbf7f\">│   </span><span style=\"font-weight: bold\">{</span><span style=\"color: #008000; text-decoration-color: #008000\">'id'</span>: <span style=\"color: #008000; text-decoration-color: #008000\">'custom_code'</span>, <span style=\"color: #008000; text-decoration-color: #008000\">'label'</span>: <span style=\"color: #008000; text-decoration-color: #008000\">'custom_code'</span>, <span style=\"color: #008000; text-decoration-color: #008000\">'type'</span>: <span style=\"color: #008000; text-decoration-color: #008000\">'other'</span><span style=\"font-weight: bold\">}</span>,                             <span style=\"color: #008000; text-decoration-color: #008000\">│</span> <span style=\"color: #000080; text-decoration-color: #000080\">│</span>\n",
       "<span style=\"color: #000080; text-decoration-color: #000080\">│</span> <span style=\"color: #008000; text-decoration-color: #008000\">│</span> <span style=\"color: #7fbf7f; text-decoration-color: #7fbf7f\">│   </span><span style=\"font-weight: bold\">{</span><span style=\"color: #008000; text-decoration-color: #008000\">'id'</span>: <span style=\"color: #008000; text-decoration-color: #008000\">'8-bit'</span>, <span style=\"color: #008000; text-decoration-color: #008000\">'label'</span>: <span style=\"color: #008000; text-decoration-color: #008000\">'8-bit precision'</span>, <span style=\"color: #008000; text-decoration-color: #008000\">'type'</span>: <span style=\"color: #008000; text-decoration-color: #008000\">'other'</span><span style=\"font-weight: bold\">}</span>,                               <span style=\"color: #008000; text-decoration-color: #008000\">│</span> <span style=\"color: #000080; text-decoration-color: #000080\">│</span>\n",
       "<span style=\"color: #000080; text-decoration-color: #000080\">│</span> <span style=\"color: #008000; text-decoration-color: #008000\">│</span> <span style=\"color: #7fbf7f; text-decoration-color: #7fbf7f\">│   </span><span style=\"font-weight: bold\">{</span><span style=\"color: #008000; text-decoration-color: #008000\">'id'</span>: <span style=\"color: #008000; text-decoration-color: #008000\">'co2_eq_emissions'</span>, <span style=\"color: #008000; text-decoration-color: #008000\">'label'</span>: <span style=\"color: #008000; text-decoration-color: #008000\">'Carbon Emissions'</span>, <span style=\"color: #008000; text-decoration-color: #008000\">'type'</span>: <span style=\"color: #008000; text-decoration-color: #008000\">'other'</span><span style=\"font-weight: bold\">}</span>,                   <span style=\"color: #008000; text-decoration-color: #008000\">│</span> <span style=\"color: #000080; text-decoration-color: #000080\">│</span>\n",
       "<span style=\"color: #000080; text-decoration-color: #000080\">│</span> <span style=\"color: #008000; text-decoration-color: #008000\">│</span> <span style=\"color: #7fbf7f; text-decoration-color: #7fbf7f\">│   </span><span style=\"color: #808000; text-decoration-color: #808000\">...</span> +<span style=\"color: #008080; text-decoration-color: #008080; font-weight: bold\">1</span>                                                                                      <span style=\"color: #008000; text-decoration-color: #008000\">│</span> <span style=\"color: #000080; text-decoration-color: #000080\">│</span>\n",
       "<span style=\"color: #000080; text-decoration-color: #000080\">│</span> <span style=\"color: #008000; text-decoration-color: #008000\">│</span> <span style=\"font-weight: bold\">]</span>                                                                                               <span style=\"color: #008000; text-decoration-color: #008000\">│</span> <span style=\"color: #000080; text-decoration-color: #000080\">│</span>\n",
       "<span style=\"color: #000080; text-decoration-color: #000080\">│</span> <span style=\"color: #008000; text-decoration-color: #008000\">╰─────────────────────────────────────────────────────────────────────────────────────────────────╯</span> <span style=\"color: #000080; text-decoration-color: #000080\">│</span>\n",
       "<span style=\"color: #000080; text-decoration-color: #000080\">│</span>                                                                                                     <span style=\"color: #000080; text-decoration-color: #000080\">│</span>\n",
       "<span style=\"color: #000080; text-decoration-color: #000080\">│</span> <span style=\"color: #008080; text-decoration-color: #008080; font-weight: bold\">35</span><span style=\"font-style: italic\"> attribute(s) not shown.</span> Run <span style=\"color: #800080; text-decoration-color: #800080; font-weight: bold\">inspect</span><span style=\"font-weight: bold\">(</span>inspect<span style=\"font-weight: bold\">)</span> for options.                                        <span style=\"color: #000080; text-decoration-color: #000080\">│</span>\n",
       "<span style=\"color: #000080; text-decoration-color: #000080\">╰─────────────────────────────────────────────────────────────────────────────────────────────────────╯</span>\n",
       "</pre>\n"
      ],
      "text/plain": [
       "\u001b[34m╭─\u001b[0m\u001b[34m─────────────────────────────────────────\u001b[0m\u001b[34m \u001b[0m\u001b[1;34m<\u001b[0m\u001b[1;95mclass\u001b[0m\u001b[39m \u001b[0m\u001b[32m'list'\u001b[0m\u001b[1;34m>\u001b[0m\u001b[34m \u001b[0m\u001b[34m──────────────────────────────────────────\u001b[0m\u001b[34m─╮\u001b[0m\n",
       "\u001b[34m│\u001b[0m \u001b[36mBuilt-in mutable sequence.\u001b[0m                                                                          \u001b[34m│\u001b[0m\n",
       "\u001b[34m│\u001b[0m                                                                                                     \u001b[34m│\u001b[0m\n",
       "\u001b[34m│\u001b[0m \u001b[32m╭─────────────────────────────────────────────────────────────────────────────────────────────────╮\u001b[0m \u001b[34m│\u001b[0m\n",
       "\u001b[34m│\u001b[0m \u001b[32m│\u001b[0m \u001b[1m[\u001b[0m                                                                                               \u001b[32m│\u001b[0m \u001b[34m│\u001b[0m\n",
       "\u001b[34m│\u001b[0m \u001b[32m│\u001b[0m \u001b[2;32m│   \u001b[0m\u001b[1m{\u001b[0m\u001b[32m'id'\u001b[0m: \u001b[32m'endpoints_compatible'\u001b[0m, \u001b[32m'label'\u001b[0m: \u001b[32m'Inference Endpoints'\u001b[0m, \u001b[32m'type'\u001b[0m: \u001b[32m'other'\u001b[0m\u001b[1m}\u001b[0m,            \u001b[32m│\u001b[0m \u001b[34m│\u001b[0m\n",
       "\u001b[34m│\u001b[0m \u001b[32m│\u001b[0m \u001b[2;32m│   \u001b[0m\u001b[1m{\u001b[0m\u001b[32m'id'\u001b[0m: \u001b[32m'autotrain_compatible'\u001b[0m, \u001b[32m'label'\u001b[0m: \u001b[32m'AutoTrain Compatible'\u001b[0m, \u001b[32m'type'\u001b[0m: \u001b[32m'other'\u001b[0m\u001b[1m}\u001b[0m,           \u001b[32m│\u001b[0m \u001b[34m│\u001b[0m\n",
       "\u001b[34m│\u001b[0m \u001b[32m│\u001b[0m \u001b[2;32m│   \u001b[0m\u001b[1m{\u001b[0m                                                                                           \u001b[32m│\u001b[0m \u001b[34m│\u001b[0m\n",
       "\u001b[34m│\u001b[0m \u001b[32m│\u001b[0m \u001b[2;32m│   │   \u001b[0m\u001b[32m'id'\u001b[0m: \u001b[32m'text-generation-inference'\u001b[0m,                                                      \u001b[32m│\u001b[0m \u001b[34m│\u001b[0m\n",
       "\u001b[34m│\u001b[0m \u001b[32m│\u001b[0m \u001b[2;32m│   │   \u001b[0m\u001b[32m'label'\u001b[0m: \u001b[32m'text-generation-inference'\u001b[0m,                                                   \u001b[32m│\u001b[0m \u001b[34m│\u001b[0m\n",
       "\u001b[34m│\u001b[0m \u001b[32m│\u001b[0m \u001b[2;32m│   │   \u001b[0m\u001b[32m'type'\u001b[0m: \u001b[32m'other'\u001b[0m                                                                         \u001b[32m│\u001b[0m \u001b[34m│\u001b[0m\n",
       "\u001b[34m│\u001b[0m \u001b[32m│\u001b[0m \u001b[2;32m│   \u001b[0m\u001b[1m}\u001b[0m,                                                                                          \u001b[32m│\u001b[0m \u001b[34m│\u001b[0m\n",
       "\u001b[34m│\u001b[0m \u001b[32m│\u001b[0m \u001b[2;32m│   \u001b[0m\u001b[1m{\u001b[0m\u001b[32m'id'\u001b[0m: \u001b[32m'model-index'\u001b[0m, \u001b[32m'label'\u001b[0m: \u001b[32m'Eval Results'\u001b[0m, \u001b[32m'type'\u001b[0m: \u001b[32m'other'\u001b[0m\u001b[1m}\u001b[0m,                            \u001b[32m│\u001b[0m \u001b[34m│\u001b[0m\n",
       "\u001b[34m│\u001b[0m \u001b[32m│\u001b[0m \u001b[2;32m│   \u001b[0m\u001b[1m{\u001b[0m\u001b[32m'id'\u001b[0m: \u001b[32m'4-bit'\u001b[0m, \u001b[32m'label'\u001b[0m: \u001b[32m'4-bit precision'\u001b[0m, \u001b[32m'type'\u001b[0m: \u001b[32m'other'\u001b[0m\u001b[1m}\u001b[0m,                               \u001b[32m│\u001b[0m \u001b[34m│\u001b[0m\n",
       "\u001b[34m│\u001b[0m \u001b[32m│\u001b[0m \u001b[2;32m│   \u001b[0m\u001b[1m{\u001b[0m\u001b[32m'id'\u001b[0m: \u001b[32m'merge'\u001b[0m, \u001b[32m'label'\u001b[0m: \u001b[32m'Merge'\u001b[0m, \u001b[32m'type'\u001b[0m: \u001b[32m'other'\u001b[0m\u001b[1m}\u001b[0m,                                         \u001b[32m│\u001b[0m \u001b[34m│\u001b[0m\n",
       "\u001b[34m│\u001b[0m \u001b[32m│\u001b[0m \u001b[2;32m│   \u001b[0m\u001b[1m{\u001b[0m                                                                                           \u001b[32m│\u001b[0m \u001b[34m│\u001b[0m\n",
       "\u001b[34m│\u001b[0m \u001b[32m│\u001b[0m \u001b[2;32m│   │   \u001b[0m\u001b[32m'id'\u001b[0m: \u001b[32m'text-embeddings-inference'\u001b[0m,                                                      \u001b[32m│\u001b[0m \u001b[34m│\u001b[0m\n",
       "\u001b[34m│\u001b[0m \u001b[32m│\u001b[0m \u001b[2;32m│   │   \u001b[0m\u001b[32m'label'\u001b[0m: \u001b[32m'text-embeddings-inference'\u001b[0m,                                                   \u001b[32m│\u001b[0m \u001b[34m│\u001b[0m\n",
       "\u001b[34m│\u001b[0m \u001b[32m│\u001b[0m \u001b[2;32m│   │   \u001b[0m\u001b[32m'type'\u001b[0m: \u001b[32m'other'\u001b[0m                                                                         \u001b[32m│\u001b[0m \u001b[34m│\u001b[0m\n",
       "\u001b[34m│\u001b[0m \u001b[32m│\u001b[0m \u001b[2;32m│   \u001b[0m\u001b[1m}\u001b[0m,                                                                                          \u001b[32m│\u001b[0m \u001b[34m│\u001b[0m\n",
       "\u001b[34m│\u001b[0m \u001b[32m│\u001b[0m \u001b[2;32m│   \u001b[0m\u001b[1m{\u001b[0m\u001b[32m'id'\u001b[0m: \u001b[32m'custom_code'\u001b[0m, \u001b[32m'label'\u001b[0m: \u001b[32m'custom_code'\u001b[0m, \u001b[32m'type'\u001b[0m: \u001b[32m'other'\u001b[0m\u001b[1m}\u001b[0m,                             \u001b[32m│\u001b[0m \u001b[34m│\u001b[0m\n",
       "\u001b[34m│\u001b[0m \u001b[32m│\u001b[0m \u001b[2;32m│   \u001b[0m\u001b[1m{\u001b[0m\u001b[32m'id'\u001b[0m: \u001b[32m'8-bit'\u001b[0m, \u001b[32m'label'\u001b[0m: \u001b[32m'8-bit precision'\u001b[0m, \u001b[32m'type'\u001b[0m: \u001b[32m'other'\u001b[0m\u001b[1m}\u001b[0m,                               \u001b[32m│\u001b[0m \u001b[34m│\u001b[0m\n",
       "\u001b[34m│\u001b[0m \u001b[32m│\u001b[0m \u001b[2;32m│   \u001b[0m\u001b[1m{\u001b[0m\u001b[32m'id'\u001b[0m: \u001b[32m'co2_eq_emissions'\u001b[0m, \u001b[32m'label'\u001b[0m: \u001b[32m'Carbon Emissions'\u001b[0m, \u001b[32m'type'\u001b[0m: \u001b[32m'other'\u001b[0m\u001b[1m}\u001b[0m,                   \u001b[32m│\u001b[0m \u001b[34m│\u001b[0m\n",
       "\u001b[34m│\u001b[0m \u001b[32m│\u001b[0m \u001b[2;32m│   \u001b[0m\u001b[33m...\u001b[0m +\u001b[1;36m1\u001b[0m                                                                                      \u001b[32m│\u001b[0m \u001b[34m│\u001b[0m\n",
       "\u001b[34m│\u001b[0m \u001b[32m│\u001b[0m \u001b[1m]\u001b[0m                                                                                               \u001b[32m│\u001b[0m \u001b[34m│\u001b[0m\n",
       "\u001b[34m│\u001b[0m \u001b[32m╰─────────────────────────────────────────────────────────────────────────────────────────────────╯\u001b[0m \u001b[34m│\u001b[0m\n",
       "\u001b[34m│\u001b[0m                                                                                                     \u001b[34m│\u001b[0m\n",
       "\u001b[34m│\u001b[0m \u001b[1;36m35\u001b[0m\u001b[3m attribute(s) not shown.\u001b[0m Run \u001b[1;35minspect\u001b[0m\u001b[1m(\u001b[0minspect\u001b[1m)\u001b[0m for options.                                        \u001b[34m│\u001b[0m\n",
       "\u001b[34m╰─────────────────────────────────────────────────────────────────────────────────────────────────────╯\u001b[0m\n"
      ]
     },
     "metadata": {},
     "output_type": "display_data"
    },
    {
     "name": "stdout",
     "output_type": "stream",
     "text": [
      "None\n"
     ]
    }
   ],
   "source": [
    "print(rich.inspect(tags))"
   ]
  },
  {
   "cell_type": "code",
   "execution_count": null,
   "metadata": {},
   "outputs": [],
   "source": []
  }
 ],
 "metadata": {
  "kernelspec": {
   "display_name": "Python 3 (ipykernel)",
   "language": "python",
   "name": "python3"
  },
  "language_info": {
   "codemirror_mode": {
    "name": "ipython",
    "version": 3
   },
   "file_extension": ".py",
   "mimetype": "text/x-python",
   "name": "python",
   "nbconvert_exporter": "python",
   "pygments_lexer": "ipython3",
   "version": "3.8.10"
  }
 },
 "nbformat": 4,
 "nbformat_minor": 4
}
