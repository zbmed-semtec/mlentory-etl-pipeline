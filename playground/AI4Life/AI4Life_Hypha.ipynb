{
 "cells": [
  {
   "cell_type": "code",
   "execution_count": 1,
   "id": "273e737f-bd4e-49d7-a11c-cdb4f6b09450",
   "metadata": {},
   "outputs": [
    {
     "name": "stdout",
     "output_type": "stream",
     "text": [
      "Collecting hypha-rpc\n",
      "  Obtaining dependency information for hypha-rpc from https://files.pythonhosted.org/packages/04/2f/aef96b01318d2842a33318f7e53b05505a37316e950b8b7e22faae246da1/hypha_rpc-0.20.55-py3-none-any.whl.metadata\n",
      "  Downloading hypha_rpc-0.20.55-py3-none-any.whl.metadata (858 bytes)\n",
      "Requirement already satisfied: numpy in c:\\users\\solanki\\appdata\\local\\programs\\python\\python312\\lib\\site-packages (from hypha-rpc) (2.2.5)\n",
      "Collecting msgpack>=1.0.2 (from hypha-rpc)\n",
      "  Obtaining dependency information for msgpack>=1.0.2 from https://files.pythonhosted.org/packages/73/80/2708a4641f7d553a63bc934a3eb7214806b5b39d200133ca7f7afb0a53e8/msgpack-1.1.0-cp312-cp312-win_amd64.whl.metadata\n",
      "  Downloading msgpack-1.1.0-cp312-cp312-win_amd64.whl.metadata (8.6 kB)\n",
      "Collecting shortuuid>=1.0.8 (from hypha-rpc)\n",
      "  Obtaining dependency information for shortuuid>=1.0.8 from https://files.pythonhosted.org/packages/c0/44/21d6bf170bf40b41396480d8d49ad640bca3f2b02139cd52aa1e272830a5/shortuuid-1.0.13-py3-none-any.whl.metadata\n",
      "  Downloading shortuuid-1.0.13-py3-none-any.whl.metadata (5.8 kB)\n",
      "Collecting websockets>=14.0 (from hypha-rpc)\n",
      "  Obtaining dependency information for websockets>=14.0 from https://files.pythonhosted.org/packages/7d/71/abf2ebc3bbfa40f391ce1428c7168fb20582d0ff57019b69ea20fa698043/websockets-15.0.1-cp312-cp312-win_amd64.whl.metadata\n",
      "  Downloading websockets-15.0.1-cp312-cp312-win_amd64.whl.metadata (7.0 kB)\n",
      "Collecting munch (from hypha-rpc)\n",
      "  Obtaining dependency information for munch from https://files.pythonhosted.org/packages/56/b3/7c69b37f03260a061883bec0e7b05be7117c1b1c85f5212c72c8c2bc3c8c/munch-4.0.0-py2.py3-none-any.whl.metadata\n",
      "  Downloading munch-4.0.0-py2.py3-none-any.whl.metadata (5.9 kB)\n",
      "Downloading hypha_rpc-0.20.55-py3-none-any.whl (55 kB)\n",
      "   ---------------------------------------- 0.0/55.7 kB ? eta -:--:--\n",
      "   ---------------------------------------- 55.7/55.7 kB 3.0 MB/s eta 0:00:00\n",
      "Downloading msgpack-1.1.0-cp312-cp312-win_amd64.whl (75 kB)\n",
      "   ---------------------------------------- 0.0/75.3 kB ? eta -:--:--\n",
      "   ---------------------------------------- 75.3/75.3 kB 4.3 MB/s eta 0:00:00\n",
      "Downloading shortuuid-1.0.13-py3-none-any.whl (10 kB)\n",
      "Downloading websockets-15.0.1-cp312-cp312-win_amd64.whl (176 kB)\n",
      "   ---------------------------------------- 0.0/176.8 kB ? eta -:--:--\n",
      "   ---------------------------------------  174.1/176.8 kB 5.3 MB/s eta 0:00:01\n",
      "   ---------------------------------------- 176.8/176.8 kB 1.5 MB/s eta 0:00:00\n",
      "Downloading munch-4.0.0-py2.py3-none-any.whl (9.9 kB)\n",
      "Installing collected packages: websockets, shortuuid, munch, msgpack, hypha-rpc\n",
      "Successfully installed hypha-rpc-0.20.55 msgpack-1.1.0 munch-4.0.0 shortuuid-1.0.13 websockets-15.0.1\n"
     ]
    },
    {
     "name": "stderr",
     "output_type": "stream",
     "text": [
      "\n",
      "[notice] A new release of pip is available: 23.2.1 -> 25.1.1\n",
      "[notice] To update, run: python.exe -m pip install --upgrade pip\n"
     ]
    }
   ],
   "source": [
    "!pip install -U hypha-rpc\n"
   ]
  },
  {
   "cell_type": "code",
   "execution_count": 2,
   "id": "b2f361fe-5883-4b87-8267-beb51ca88589",
   "metadata": {},
   "outputs": [
    {
     "name": "stdout",
     "output_type": "stream",
     "text": [
      "Requirement already satisfied: hypha-rpc in c:\\users\\solanki\\appdata\\local\\programs\\python\\python312\\lib\\site-packages (0.20.55)\n",
      "Requirement already satisfied: numpy in c:\\users\\solanki\\appdata\\local\\programs\\python\\python312\\lib\\site-packages (from hypha-rpc) (2.2.5)\n",
      "Requirement already satisfied: msgpack>=1.0.2 in c:\\users\\solanki\\appdata\\local\\programs\\python\\python312\\lib\\site-packages (from hypha-rpc) (1.1.0)\n",
      "Requirement already satisfied: shortuuid>=1.0.8 in c:\\users\\solanki\\appdata\\local\\programs\\python\\python312\\lib\\site-packages (from hypha-rpc) (1.0.13)\n",
      "Requirement already satisfied: websockets>=14.0 in c:\\users\\solanki\\appdata\\local\\programs\\python\\python312\\lib\\site-packages (from hypha-rpc) (15.0.1)\n",
      "Requirement already satisfied: munch in c:\\users\\solanki\\appdata\\local\\programs\\python\\python312\\lib\\site-packages (from hypha-rpc) (4.0.0)\n"
     ]
    },
    {
     "name": "stderr",
     "output_type": "stream",
     "text": [
      "\n",
      "[notice] A new release of pip is available: 23.2.1 -> 25.1.1\n",
      "[notice] To update, run: python.exe -m pip install --upgrade pip\n"
     ]
    }
   ],
   "source": [
    "!python -m pip install hypha-rpc"
   ]
  },
  {
   "cell_type": "code",
   "execution_count": 3,
   "id": "17a0ab0f-a237-4157-bedc-dcf44bb8f9dc",
   "metadata": {},
   "outputs": [
    {
     "ename": "ModuleNotFoundError",
     "evalue": "No module named 'hypha'",
     "output_type": "error",
     "traceback": [
      "\u001b[1;31m---------------------------------------------------------------------------\u001b[0m",
      "\u001b[1;31mModuleNotFoundError\u001b[0m                       Traceback (most recent call last)",
      "Cell \u001b[1;32mIn[3], line 1\u001b[0m\n\u001b[1;32m----> 1\u001b[0m \u001b[38;5;28;01mfrom\u001b[39;00m \u001b[38;5;21;01mhypha\u001b[39;00m \u001b[38;5;28;01mimport\u001b[39;00m rpc\n",
      "\u001b[1;31mModuleNotFoundError\u001b[0m: No module named 'hypha'"
     ]
    }
   ],
   "source": [
    "from hypha import rpc\n"
   ]
  },
  {
   "cell_type": "code",
   "execution_count": 5,
   "id": "bd308c4a-a23f-4c09-8ca7-44a17b18a907",
   "metadata": {},
   "outputs": [],
   "source": [
    "import hypha_rpc\n",
    "\n"
   ]
  },
  {
   "cell_type": "code",
   "execution_count": 5,
   "id": "b8b7f70b-3de2-406d-8458-4149b2ccec13",
   "metadata": {},
   "outputs": [
    {
     "name": "stdout",
     "output_type": "stream",
     "text": [
      "Collecting hypha-rpc\n",
      "  Downloading hypha_rpc-0.20.55-py3-none-any.whl.metadata (858 bytes)\n",
      "Requirement already satisfied: numpy in c:\\users\\solanki\\appdata\\local\\programs\\python\\python311\\lib\\site-packages (from hypha-rpc) (1.26.4)\n",
      "Collecting msgpack>=1.0.2 (from hypha-rpc)\n",
      "  Downloading msgpack-1.1.0-cp311-cp311-win_amd64.whl.metadata (8.6 kB)\n",
      "Collecting shortuuid>=1.0.8 (from hypha-rpc)\n",
      "  Downloading shortuuid-1.0.13-py3-none-any.whl.metadata (5.8 kB)\n",
      "Collecting websockets>=14.0 (from hypha-rpc)\n",
      "  Downloading websockets-15.0.1-cp311-cp311-win_amd64.whl.metadata (7.0 kB)\n",
      "Collecting munch (from hypha-rpc)\n",
      "  Downloading munch-4.0.0-py2.py3-none-any.whl.metadata (5.9 kB)\n",
      "Downloading hypha_rpc-0.20.55-py3-none-any.whl (55 kB)\n",
      "   ---------------------------------------- 0.0/55.7 kB ? eta -:--:--\n",
      "   ---------------------------------------- 55.7/55.7 kB 3.0 MB/s eta 0:00:00\n",
      "Downloading msgpack-1.1.0-cp311-cp311-win_amd64.whl (74 kB)\n",
      "   ---------------------------------------- 0.0/74.9 kB ? eta -:--:--\n",
      "   -------------------------------------- - 71.7/74.9 kB ? eta -:--:--\n",
      "   ---------------------------------------- 74.9/74.9 kB 592.9 kB/s eta 0:00:00\n",
      "Downloading shortuuid-1.0.13-py3-none-any.whl (10 kB)\n",
      "Downloading websockets-15.0.1-cp311-cp311-win_amd64.whl (176 kB)\n",
      "   ---------------------------------------- 0.0/176.8 kB ? eta -:--:--\n",
      "   --------------------------------------  174.1/176.8 kB 10.2 MB/s eta 0:00:01\n",
      "   ---------------------------------------- 176.8/176.8 kB 1.2 MB/s eta 0:00:00\n",
      "Downloading munch-4.0.0-py2.py3-none-any.whl (9.9 kB)\n",
      "Installing collected packages: websockets, shortuuid, munch, msgpack, hypha-rpc\n",
      "Successfully installed hypha-rpc-0.20.55 msgpack-1.1.0 munch-4.0.0 shortuuid-1.0.13 websockets-15.0.1\n"
     ]
    },
    {
     "name": "stderr",
     "output_type": "stream",
     "text": [
      "  WARNING: The script websockets.exe is installed in 'C:\\Users\\Solanki\\AppData\\Local\\Programs\\Python\\Python311\\Scripts' which is not on PATH.\n",
      "  Consider adding this directory to PATH or, if you prefer to suppress this warning, use --no-warn-script-location.\n",
      "  WARNING: The script shortuuid.exe is installed in 'C:\\Users\\Solanki\\AppData\\Local\\Programs\\Python\\Python311\\Scripts' which is not on PATH.\n",
      "  Consider adding this directory to PATH or, if you prefer to suppress this warning, use --no-warn-script-location.\n",
      "\n",
      "[notice] A new release of pip is available: 24.0 -> 25.1.1\n",
      "[notice] To update, run: C:\\Users\\Solanki\\AppData\\Local\\Programs\\Python\\Python311\\python.exe -m pip install --upgrade pip\n"
     ]
    }
   ],
   "source": [
    "import sys\n",
    "!{sys.executable} -m pip install hypha-rpc"
   ]
  },
  {
   "cell_type": "code",
   "execution_count": 15,
   "id": "92b0c7ef-68db-454c-b6f8-b4cd47caae02",
   "metadata": {},
   "outputs": [
    {
     "name": "stdout",
     "output_type": "stream",
     "text": [
      "Requirement already satisfied: hypha-rpc in c:\\users\\solanki\\appdata\\local\\programs\\python\\python312\\lib\\site-packages (0.20.55)\n",
      "Requirement already satisfied: numpy in c:\\users\\solanki\\appdata\\local\\programs\\python\\python312\\lib\\site-packages (from hypha-rpc) (2.2.5)\n",
      "Requirement already satisfied: msgpack>=1.0.2 in c:\\users\\solanki\\appdata\\local\\programs\\python\\python312\\lib\\site-packages (from hypha-rpc) (1.1.0)\n",
      "Requirement already satisfied: shortuuid>=1.0.8 in c:\\users\\solanki\\appdata\\local\\programs\\python\\python312\\lib\\site-packages (from hypha-rpc) (1.0.13)\n",
      "Requirement already satisfied: websockets>=14.0 in c:\\users\\solanki\\appdata\\local\\programs\\python\\python312\\lib\\site-packages (from hypha-rpc) (15.0.1)\n",
      "Requirement already satisfied: munch in c:\\users\\solanki\\appdata\\local\\programs\\python\\python312\\lib\\site-packages (from hypha-rpc) (4.0.0)\n"
     ]
    },
    {
     "name": "stderr",
     "output_type": "stream",
     "text": [
      "\n",
      "[notice] A new release of pip is available: 23.2.1 -> 25.1.1\n",
      "[notice] To update, run: python.exe -m pip install --upgrade pip\n"
     ]
    },
    {
     "name": "stdout",
     "output_type": "stream",
     "text": [
      "Requirement already satisfied: imjoy-rpc in c:\\users\\solanki\\appdata\\local\\programs\\python\\python312\\lib\\site-packages (0.5.59)\n",
      "Requirement already satisfied: msgpack>=1.0.2 in c:\\users\\solanki\\appdata\\local\\programs\\python\\python312\\lib\\site-packages (from imjoy-rpc) (1.1.0)\n",
      "Requirement already satisfied: shortuuid>=1.0.8 in c:\\users\\solanki\\appdata\\local\\programs\\python\\python312\\lib\\site-packages (from imjoy-rpc) (1.0.13)\n",
      "Requirement already satisfied: websockets in c:\\users\\solanki\\appdata\\local\\programs\\python\\python312\\lib\\site-packages (from imjoy-rpc) (15.0.1)\n"
     ]
    },
    {
     "name": "stderr",
     "output_type": "stream",
     "text": [
      "\n",
      "[notice] A new release of pip is available: 23.2.1 -> 25.1.1\n",
      "[notice] To update, run: python.exe -m pip install --upgrade pip\n"
     ]
    },
    {
     "name": "stdout",
     "output_type": "stream",
     "text": [
      "Requirement already satisfied: hypha in c:\\users\\solanki\\appdata\\local\\programs\\python\\python312\\lib\\site-packages (0.20.54.post7)"
     ]
    },
    {
     "name": "stderr",
     "output_type": "stream",
     "text": [
      "\n",
      "[notice] A new release of pip is available: 23.2.1 -> 25.1.1\n",
      "[notice] To update, run: python.exe -m pip install --upgrade pip\n"
     ]
    },
    {
     "name": "stdout",
     "output_type": "stream",
     "text": [
      "\n",
      "Collecting hypha\n",
      "  Obtaining dependency information for hypha from https://files.pythonhosted.org/packages/d7/af/c71b7a93eb8457b73d33e7a8cfa1f80c98fa2a0eddff03de5669b6073120/hypha-0.20.54.post8-py3-none-any.whl.metadata\n",
      "  Downloading hypha-0.20.54.post8-py3-none-any.whl.metadata (5.3 kB)\n",
      "Requirement already satisfied: websockets>=14.0 in c:\\users\\solanki\\appdata\\local\\programs\\python\\python312\\lib\\site-packages (from hypha) (15.0.1)\n",
      "Requirement already satisfied: aiofiles in c:\\users\\solanki\\appdata\\local\\programs\\python\\python312\\lib\\site-packages (from hypha) (24.1.0)\n",
      "Requirement already satisfied: fastapi<=0.106.0,>=0.70.0 in c:\\users\\solanki\\appdata\\local\\programs\\python\\python312\\lib\\site-packages (from hypha) (0.106.0)\n",
      "Requirement already satisfied: hypha-rpc>=0.20.54 in c:\\users\\solanki\\appdata\\local\\programs\\python\\python312\\lib\\site-packages (from hypha) (0.20.55)\n",
      "Requirement already satisfied: msgpack>=1.0.2 in c:\\users\\solanki\\appdata\\local\\programs\\python\\python312\\lib\\site-packages (from hypha) (1.1.0)\n",
      "Requirement already satisfied: numpy in c:\\users\\solanki\\appdata\\local\\programs\\python\\python312\\lib\\site-packages (from hypha) (2.2.5)\n",
      "Requirement already satisfied: pydantic[email]>=2.6.1 in c:\\users\\solanki\\appdata\\local\\programs\\python\\python312\\lib\\site-packages (from hypha) (2.9.2)\n",
      "Requirement already satisfied: typing-extensions>=3.7.4.3 in c:\\users\\solanki\\appdata\\local\\programs\\python\\python312\\lib\\site-packages (from hypha) (4.13.2)\n",
      "Requirement already satisfied: jinja2>=3 in c:\\users\\solanki\\appdata\\local\\programs\\python\\python312\\lib\\site-packages (from hypha) (3.1.6)\n",
      "Requirement already satisfied: lxml in c:\\users\\solanki\\appdata\\local\\programs\\python\\python312\\lib\\site-packages (from hypha) (5.4.0)\n",
      "Requirement already satisfied: python-dotenv>=0.19.0 in c:\\users\\solanki\\appdata\\local\\programs\\python\\python312\\lib\\site-packages (from hypha) (1.1.0)\n",
      "Requirement already satisfied: python-jose>=3.3.0 in c:\\users\\solanki\\appdata\\local\\programs\\python\\python312\\lib\\site-packages (from hypha) (3.5.0)\n",
      "Requirement already satisfied: python-multipart>=0.0.6 in c:\\users\\solanki\\appdata\\local\\programs\\python\\python312\\lib\\site-packages (from hypha) (0.0.20)\n",
      "Requirement already satisfied: pyyaml in c:\\users\\solanki\\appdata\\local\\programs\\python\\python312\\lib\\site-packages (from hypha) (6.0.2)\n",
      "Requirement already satisfied: fakeredis>=2.14.1 in c:\\users\\solanki\\appdata\\local\\programs\\python\\python312\\lib\\site-packages (from hypha) (2.29.0)\n",
      "Requirement already satisfied: shortuuid>=1.0.1 in c:\\users\\solanki\\appdata\\local\\programs\\python\\python312\\lib\\site-packages (from hypha) (1.0.13)\n",
      "Requirement already satisfied: uvicorn>=0.23.2 in c:\\users\\solanki\\appdata\\local\\programs\\python\\python312\\lib\\site-packages (from hypha) (0.34.2)\n",
      "Requirement already satisfied: httpx>=0.21.1 in c:\\users\\solanki\\appdata\\local\\programs\\python\\python312\\lib\\site-packages (from hypha) (0.28.1)\n",
      "Requirement already satisfied: pyotritonclient>=0.2.4 in c:\\users\\solanki\\appdata\\local\\programs\\python\\python312\\lib\\site-packages (from hypha) (0.2.6)\n",
      "Requirement already satisfied: friendlywords>=1.1.3 in c:\\users\\solanki\\appdata\\local\\programs\\python\\python312\\lib\\site-packages (from hypha) (1.2.0)\n",
      "Requirement already satisfied: aiocache>=0.12.2 in c:\\users\\solanki\\appdata\\local\\programs\\python\\python312\\lib\\site-packages (from hypha) (0.12.3)\n",
      "Requirement already satisfied: jsonschema>=3.2.0 in c:\\users\\solanki\\appdata\\local\\programs\\python\\python312\\lib\\site-packages (from hypha) (4.24.0)\n",
      "Requirement already satisfied: sqlalchemy>=2.0.35 in c:\\users\\solanki\\appdata\\local\\programs\\python\\python312\\lib\\site-packages (from hypha) (2.0.41)\n",
      "Requirement already satisfied: greenlet>=3.1.1 in c:\\users\\solanki\\appdata\\local\\programs\\python\\python312\\lib\\site-packages (from hypha) (3.2.2)\n",
      "Requirement already satisfied: aiosqlite>=0.20.0 in c:\\users\\solanki\\appdata\\local\\programs\\python\\python312\\lib\\site-packages (from hypha) (0.21.0)\n",
      "Requirement already satisfied: prometheus-client>=0.21.0 in c:\\users\\solanki\\appdata\\local\\programs\\python\\python312\\lib\\site-packages (from hypha) (0.22.0)\n",
      "Requirement already satisfied: uuid-utils>=0.9.0 in c:\\users\\solanki\\appdata\\local\\programs\\python\\python312\\lib\\site-packages (from hypha) (0.11.0)\n",
      "Requirement already satisfied: sqlmodel>=0.0.22 in c:\\users\\solanki\\appdata\\local\\programs\\python\\python312\\lib\\site-packages (from hypha) (0.0.24)\n",
      "Requirement already satisfied: alembic>=1.14.0 in c:\\users\\solanki\\appdata\\local\\programs\\python\\python312\\lib\\site-packages (from hypha) (1.16.1)\n",
      "Requirement already satisfied: hrid>=0.2.4 in c:\\users\\solanki\\appdata\\local\\programs\\python\\python312\\lib\\site-packages (from hypha) (0.3.0)\n",
      "Requirement already satisfied: stream-zip>=0.0.83 in c:\\users\\solanki\\appdata\\local\\programs\\python\\python312\\lib\\site-packages (from hypha) (0.0.83)\n",
      "Requirement already satisfied: prompt-toolkit>=3.0.50 in c:\\users\\solanki\\appdata\\local\\programs\\python\\python312\\lib\\site-packages (from hypha) (3.0.51)\n",
      "Requirement already satisfied: ptpython>=3.0.29 in c:\\users\\solanki\\appdata\\local\\programs\\python\\python312\\lib\\site-packages (from hypha) (3.0.30)\n",
      "Requirement already satisfied: Mako in c:\\users\\solanki\\appdata\\local\\programs\\python\\python312\\lib\\site-packages (from alembic>=1.14.0->hypha) (1.3.10)\n",
      "Requirement already satisfied: redis>=4.3 in c:\\users\\solanki\\appdata\\local\\programs\\python\\python312\\lib\\site-packages (from fakeredis>=2.14.1->hypha) (6.2.0)\n",
      "Requirement already satisfied: sortedcontainers<3,>=2 in c:\\users\\solanki\\appdata\\local\\programs\\python\\python312\\lib\\site-packages (from fakeredis>=2.14.1->hypha) (2.4.0)\n",
      "Requirement already satisfied: anyio<4.0.0,>=3.7.1 in c:\\users\\solanki\\appdata\\local\\programs\\python\\python312\\lib\\site-packages (from fastapi<=0.106.0,>=0.70.0->hypha) (3.7.1)\n",
      "Requirement already satisfied: starlette<0.28.0,>=0.27.0 in c:\\users\\solanki\\appdata\\local\\programs\\python\\python312\\lib\\site-packages (from fastapi<=0.106.0,>=0.70.0->hypha) (0.27.0)\n",
      "Requirement already satisfied: certifi in c:\\users\\solanki\\appdata\\local\\programs\\python\\python312\\lib\\site-packages (from httpx>=0.21.1->hypha) (2025.1.31)\n",
      "Requirement already satisfied: httpcore==1.* in c:\\users\\solanki\\appdata\\local\\programs\\python\\python312\\lib\\site-packages (from httpx>=0.21.1->hypha) (1.0.9)\n",
      "Requirement already satisfied: idna in c:\\users\\solanki\\appdata\\local\\programs\\python\\python312\\lib\\site-packages (from httpx>=0.21.1->hypha) (3.10)\n",
      "Requirement already satisfied: h11>=0.16 in c:\\users\\solanki\\appdata\\local\\programs\\python\\python312\\lib\\site-packages (from httpcore==1.*->httpx>=0.21.1->hypha) (0.16.0)\n",
      "Requirement already satisfied: munch in c:\\users\\solanki\\appdata\\local\\programs\\python\\python312\\lib\\site-packages (from hypha-rpc>=0.20.54->hypha) (4.0.0)\n",
      "Requirement already satisfied: MarkupSafe>=2.0 in c:\\users\\solanki\\appdata\\local\\programs\\python\\python312\\lib\\site-packages (from jinja2>=3->hypha) (3.0.2)\n",
      "Requirement already satisfied: attrs>=22.2.0 in c:\\users\\solanki\\appdata\\local\\programs\\python\\python312\\lib\\site-packages (from jsonschema>=3.2.0->hypha) (25.3.0)\n",
      "Requirement already satisfied: jsonschema-specifications>=2023.03.6 in c:\\users\\solanki\\appdata\\local\\programs\\python\\python312\\lib\\site-packages (from jsonschema>=3.2.0->hypha) (2025.4.1)\n",
      "Requirement already satisfied: referencing>=0.28.4 in c:\\users\\solanki\\appdata\\local\\programs\\python\\python312\\lib\\site-packages (from jsonschema>=3.2.0->hypha) (0.36.2)\n",
      "Requirement already satisfied: rpds-py>=0.7.1 in c:\\users\\solanki\\appdata\\local\\programs\\python\\python312\\lib\\site-packages (from jsonschema>=3.2.0->hypha) (0.25.1)\n",
      "Requirement already satisfied: wcwidth in c:\\users\\solanki\\appdata\\roaming\\python\\python312\\site-packages (from prompt-toolkit>=3.0.50->hypha) (0.2.13)\n",
      "Requirement already satisfied: appdirs in c:\\users\\solanki\\appdata\\local\\programs\\python\\python312\\lib\\site-packages (from ptpython>=3.0.29->hypha) (1.4.4)\n",
      "Requirement already satisfied: jedi>=0.16.0 in c:\\users\\solanki\\appdata\\roaming\\python\\python312\\site-packages (from ptpython>=3.0.29->hypha) (0.19.1)\n",
      "Requirement already satisfied: pygments in c:\\users\\solanki\\appdata\\roaming\\python\\python312\\site-packages (from ptpython>=3.0.29->hypha) (2.18.0)\n",
      "Requirement already satisfied: annotated-types>=0.6.0 in c:\\users\\solanki\\appdata\\local\\programs\\python\\python312\\lib\\site-packages (from pydantic[email]>=2.6.1->hypha) (0.7.0)\n",
      "Requirement already satisfied: pydantic-core==2.23.4 in c:\\users\\solanki\\appdata\\local\\programs\\python\\python312\\lib\\site-packages (from pydantic[email]>=2.6.1->hypha) (2.23.4)\n",
      "Requirement already satisfied: email-validator>=2.0.0 in c:\\users\\solanki\\appdata\\local\\programs\\python\\python312\\lib\\site-packages (from pydantic[email]>=2.6.1->hypha) (2.2.0)\n",
      "Requirement already satisfied: six in c:\\users\\solanki\\appdata\\roaming\\python\\python312\\site-packages (from pyotritonclient>=0.2.4->hypha) (1.16.0)\n",
      "Requirement already satisfied: imjoy-rpc in c:\\users\\solanki\\appdata\\local\\programs\\python\\python312\\lib\\site-packages (from pyotritonclient>=0.2.4->hypha) (0.5.59)\n",
      "Requirement already satisfied: requests in c:\\users\\solanki\\appdata\\local\\programs\\python\\python312\\lib\\site-packages (from pyotritonclient>=0.2.4->hypha) (2.32.3)\n",
      "Requirement already satisfied: python-rapidjson>=0.9.1 in c:\\users\\solanki\\appdata\\local\\programs\\python\\python312\\lib\\site-packages (from pyotritonclient>=0.2.4->hypha) (1.20)\n",
      "Requirement already satisfied: ecdsa!=0.15 in c:\\users\\solanki\\appdata\\local\\programs\\python\\python312\\lib\\site-packages (from python-jose>=3.3.0->hypha) (0.19.1)\n",
      "Requirement already satisfied: rsa!=4.1.1,!=4.4,<5.0,>=4.0 in c:\\users\\solanki\\appdata\\local\\programs\\python\\python312\\lib\\site-packages (from python-jose>=3.3.0->hypha) (4.9.1)\n",
      "Requirement already satisfied: pyasn1>=0.5.0 in c:\\users\\solanki\\appdata\\local\\programs\\python\\python312\\lib\\site-packages (from python-jose>=3.3.0->hypha) (0.6.1)\n",
      "Requirement already satisfied: pycryptodome>=3.10.1 in c:\\users\\solanki\\appdata\\local\\programs\\python\\python312\\lib\\site-packages (from stream-zip>=0.0.83->hypha) (3.23.0)\n",
      "Requirement already satisfied: click>=7.0 in c:\\users\\solanki\\appdata\\local\\programs\\python\\python312\\lib\\site-packages (from uvicorn>=0.23.2->hypha) (8.2.1)\n",
      "Requirement already satisfied: sniffio>=1.1 in c:\\users\\solanki\\appdata\\local\\programs\\python\\python312\\lib\\site-packages (from anyio<4.0.0,>=3.7.1->fastapi<=0.106.0,>=0.70.0->hypha) (1.3.1)\n",
      "Requirement already satisfied: colorama in c:\\users\\solanki\\appdata\\roaming\\python\\python312\\site-packages (from click>=7.0->uvicorn>=0.23.2->hypha) (0.4.6)\n",
      "Requirement already satisfied: dnspython>=2.0.0 in c:\\users\\solanki\\appdata\\local\\programs\\python\\python312\\lib\\site-packages (from email-validator>=2.0.0->pydantic[email]>=2.6.1->hypha) (2.7.0)\n",
      "Requirement already satisfied: parso<0.9.0,>=0.8.3 in c:\\users\\solanki\\appdata\\roaming\\python\\python312\\site-packages (from jedi>=0.16.0->ptpython>=3.0.29->hypha) (0.8.4)\n",
      "Requirement already satisfied: charset-normalizer<4,>=2 in c:\\users\\solanki\\appdata\\local\\programs\\python\\python312\\lib\\site-packages (from requests->pyotritonclient>=0.2.4->hypha) (3.4.1)\n",
      "Requirement already satisfied: urllib3<3,>=1.21.1 in c:\\users\\solanki\\appdata\\local\\programs\\python\\python312\\lib\\site-packages (from requests->pyotritonclient>=0.2.4->hypha) (2.4.0)\n",
      "Downloading hypha-0.20.54.post8-py3-none-any.whl (237 kB)\n",
      "   ---------------------------------------- 0.0/237.9 kB ? eta -:--:--\n",
      "   ---------------------------------------- 237.9/237.9 kB 7.1 MB/s eta 0:00:00\n",
      "Installing collected packages: hypha\n",
      "  Attempting uninstall: hypha\n",
      "    Found existing installation: hypha 0.20.54.post7\n",
      "    Uninstalling hypha-0.20.54.post7:\n",
      "      Successfully uninstalled hypha-0.20.54.post7\n",
      "Successfully installed hypha-0.20.54.post8\n"
     ]
    }
   ],
   "source": [
    "! pip install hypha-rpc --upgrade\n",
    "! pip install imjoy-rpc --upgrade\n",
    "! pip install -U hypha"
   ]
  },
  {
   "cell_type": "code",
   "execution_count": 10,
   "id": "5c3fd1a7-43d7-4a52-be11-24de2b361ef3",
   "metadata": {},
   "outputs": [],
   "source": [
    "import asyncio\n",
    "from hypha_rpc import login, connect_to_server"
   ]
  },
  {
   "cell_type": "code",
   "execution_count": 16,
   "id": "1cfb91e0-5557-4984-838e-cbbc184b5130",
   "metadata": {},
   "outputs": [
    {
     "name": "stdout",
     "output_type": "stream",
     "text": [
      "ERROR:websocket-client:Failed to connect to wss://hypha.bioimage.io/ws\n"
     ]
    },
    {
     "ename": "InvalidStatus",
     "evalue": "server rejected WebSocket connection: HTTP 403",
     "output_type": "error",
     "traceback": [
      "\u001b[1;31m---------------------------------------------------------------------------\u001b[0m",
      "\u001b[1;31mInvalidStatus\u001b[0m                             Traceback (most recent call last)",
      "Cell \u001b[1;32mIn[16], line 25\u001b[0m\n\u001b[0;32m     21\u001b[0m         \u001b[38;5;28mprint\u001b[39m(\u001b[38;5;124mf\u001b[39m\u001b[38;5;124m\"\u001b[39m\u001b[38;5;124mSaved \u001b[39m\u001b[38;5;132;01m{\u001b[39;00mmodel_id\u001b[38;5;132;01m}\u001b[39;00m\u001b[38;5;124m.rdf.yaml\u001b[39m\u001b[38;5;124m\"\u001b[39m)\n\u001b[0;32m     23\u001b[0m \u001b[38;5;28;01mif\u001b[39;00m \u001b[38;5;18m__name__\u001b[39m \u001b[38;5;241m==\u001b[39m \u001b[38;5;124m\"\u001b[39m\u001b[38;5;124m__main__\u001b[39m\u001b[38;5;124m\"\u001b[39m:\n\u001b[0;32m     24\u001b[0m     \u001b[38;5;66;03m# simply await your coroutine instead of using asyncio.run\u001b[39;00m\n\u001b[1;32m---> 25\u001b[0m     result \u001b[38;5;241m=\u001b[39m \u001b[38;5;28;01mawait\u001b[39;00m download_all_rdfs(\u001b[38;5;124m\"\u001b[39m\u001b[38;5;124mhttps://hypha.bioimage.io\u001b[39m\u001b[38;5;124m\"\u001b[39m,\u001b[38;5;241m20000\u001b[39m)\n\u001b[0;32m     26\u001b[0m     \u001b[38;5;28mprint\u001b[39m(\u001b[38;5;124m\"\u001b[39m\u001b[38;5;124mDone, result:\u001b[39m\u001b[38;5;124m\"\u001b[39m, result)\n",
      "Cell \u001b[1;32mIn[16], line 6\u001b[0m, in \u001b[0;36mdownload_all_rdfs\u001b[1;34m(server_url, workspace_name)\u001b[0m\n\u001b[0;32m      4\u001b[0m \u001b[38;5;28;01masync\u001b[39;00m \u001b[38;5;28;01mdef\u001b[39;00m \u001b[38;5;21mdownload_all_rdfs\u001b[39m(server_url, workspace_name):\n\u001b[0;32m      5\u001b[0m     \u001b[38;5;66;03m# 1) log in (uses your default auth flow)\u001b[39;00m\n\u001b[1;32m----> 6\u001b[0m     token \u001b[38;5;241m=\u001b[39m \u001b[38;5;28;01mawait\u001b[39;00m login({\u001b[38;5;124m\"\u001b[39m\u001b[38;5;124mserver_url\u001b[39m\u001b[38;5;124m\"\u001b[39m: server_url})\n\u001b[0;32m      7\u001b[0m     client \u001b[38;5;241m=\u001b[39m \u001b[38;5;28;01mawait\u001b[39;00m connect_to_server({\u001b[38;5;124m\"\u001b[39m\u001b[38;5;124mserver_url\u001b[39m\u001b[38;5;124m\"\u001b[39m: server_url,  \u001b[38;5;124m\"\u001b[39m\u001b[38;5;124mmethod_timeout\u001b[39m\u001b[38;5;124m\"\u001b[39m: \u001b[38;5;241m3000\u001b[39m})\n\u001b[0;32m     10\u001b[0m     \u001b[38;5;66;03m# 2) select the BioModel Zoo workspace/service\u001b[39;00m\n",
      "File \u001b[1;32m~\\AppData\\Local\\Programs\\Python\\Python311\\Lib\\site-packages\\hypha_rpc\\websocket_client.py:479\u001b[0m, in \u001b[0;36mlogin\u001b[1;34m(config)\u001b[0m\n\u001b[0;32m    476\u001b[0m profile \u001b[38;5;241m=\u001b[39m config\u001b[38;5;241m.\u001b[39mget(\u001b[38;5;124m\"\u001b[39m\u001b[38;5;124mprofile\u001b[39m\u001b[38;5;124m\"\u001b[39m, \u001b[38;5;28;01mFalse\u001b[39;00m)\n\u001b[0;32m    477\u001b[0m ssl \u001b[38;5;241m=\u001b[39m config\u001b[38;5;241m.\u001b[39mget(\u001b[38;5;124m\"\u001b[39m\u001b[38;5;124mssl\u001b[39m\u001b[38;5;124m\"\u001b[39m)\n\u001b[1;32m--> 479\u001b[0m server \u001b[38;5;241m=\u001b[39m \u001b[38;5;28;01mawait\u001b[39;00m connect_to_server(\n\u001b[0;32m    480\u001b[0m     {\n\u001b[0;32m    481\u001b[0m         \u001b[38;5;124m\"\u001b[39m\u001b[38;5;124mname\u001b[39m\u001b[38;5;124m\"\u001b[39m: \u001b[38;5;124m\"\u001b[39m\u001b[38;5;124minitial login client\u001b[39m\u001b[38;5;124m\"\u001b[39m,\n\u001b[0;32m    482\u001b[0m         \u001b[38;5;124m\"\u001b[39m\u001b[38;5;124mserver_url\u001b[39m\u001b[38;5;124m\"\u001b[39m: server_url,\n\u001b[0;32m    483\u001b[0m         \u001b[38;5;124m\"\u001b[39m\u001b[38;5;124mmethod_timeout\u001b[39m\u001b[38;5;124m\"\u001b[39m: timeout,\n\u001b[0;32m    484\u001b[0m         \u001b[38;5;124m\"\u001b[39m\u001b[38;5;124mssl\u001b[39m\u001b[38;5;124m\"\u001b[39m: ssl,\n\u001b[0;32m    485\u001b[0m     }\n\u001b[0;32m    486\u001b[0m )\n\u001b[0;32m    487\u001b[0m \u001b[38;5;28;01mtry\u001b[39;00m:\n\u001b[0;32m    488\u001b[0m     svc \u001b[38;5;241m=\u001b[39m \u001b[38;5;28;01mawait\u001b[39;00m server\u001b[38;5;241m.\u001b[39mget_service(service_id)\n",
      "File \u001b[1;32m~\\AppData\\Local\\Programs\\Python\\Python311\\Lib\\site-packages\\hypha_rpc\\websocket_client.py:516\u001b[0m, in \u001b[0;36mServerContextManager.__aenter__\u001b[1;34m(self)\u001b[0m\n\u001b[0;32m    515\u001b[0m \u001b[38;5;28;01masync\u001b[39;00m \u001b[38;5;28;01mdef\u001b[39;00m \u001b[38;5;21m__aenter__\u001b[39m(\u001b[38;5;28mself\u001b[39m):\n\u001b[1;32m--> 516\u001b[0m     \u001b[38;5;28mself\u001b[39m\u001b[38;5;241m.\u001b[39mwm \u001b[38;5;241m=\u001b[39m \u001b[38;5;28;01mawait\u001b[39;00m _connect_to_server(\u001b[38;5;28mself\u001b[39m\u001b[38;5;241m.\u001b[39mconfig)\n\u001b[0;32m    517\u001b[0m     \u001b[38;5;28;01mif\u001b[39;00m \u001b[38;5;28mself\u001b[39m\u001b[38;5;241m.\u001b[39m_service_id:\n\u001b[0;32m    518\u001b[0m         \u001b[38;5;28;01mreturn\u001b[39;00m \u001b[38;5;28;01mawait\u001b[39;00m \u001b[38;5;28mself\u001b[39m\u001b[38;5;241m.\u001b[39mwm\u001b[38;5;241m.\u001b[39mget_service(\n\u001b[0;32m    519\u001b[0m             \u001b[38;5;28mself\u001b[39m\u001b[38;5;241m.\u001b[39m_service_id,\n\u001b[0;32m    520\u001b[0m             {\u001b[38;5;124m\"\u001b[39m\u001b[38;5;124mcase_conversion\u001b[39m\u001b[38;5;124m\"\u001b[39m: \u001b[38;5;28mself\u001b[39m\u001b[38;5;241m.\u001b[39mconfig\u001b[38;5;241m.\u001b[39mget(\u001b[38;5;124m\"\u001b[39m\u001b[38;5;124mcase_conversion\u001b[39m\u001b[38;5;124m\"\u001b[39m)},\n\u001b[0;32m    521\u001b[0m         )\n",
      "File \u001b[1;32m~\\AppData\\Local\\Programs\\Python\\Python311\\Lib\\site-packages\\hypha_rpc\\websocket_client.py:621\u001b[0m, in \u001b[0;36m_connect_to_server\u001b[1;34m(config)\u001b[0m\n\u001b[0;32m    606\u001b[0m     Connection \u001b[38;5;241m=\u001b[39m WebsocketRPCConnection\n\u001b[0;32m    608\u001b[0m connection \u001b[38;5;241m=\u001b[39m Connection(\n\u001b[0;32m    609\u001b[0m     server_url,\n\u001b[0;32m    610\u001b[0m     client_id,\n\u001b[1;32m   (...)\u001b[0m\n\u001b[0;32m    619\u001b[0m     additional_headers\u001b[38;5;241m=\u001b[39mconfig\u001b[38;5;241m.\u001b[39mget(\u001b[38;5;124m\"\u001b[39m\u001b[38;5;124madditional_headers\u001b[39m\u001b[38;5;124m\"\u001b[39m),\n\u001b[0;32m    620\u001b[0m )\n\u001b[1;32m--> 621\u001b[0m connection_info \u001b[38;5;241m=\u001b[39m \u001b[38;5;28;01mawait\u001b[39;00m connection\u001b[38;5;241m.\u001b[39mopen()\n\u001b[0;32m    622\u001b[0m \u001b[38;5;28;01massert\u001b[39;00m connection_info, (\n\u001b[0;32m    623\u001b[0m     \u001b[38;5;124m\"\u001b[39m\u001b[38;5;124mFailed to connect to the server, no connection info obtained.\u001b[39m\u001b[38;5;124m\"\u001b[39m\n\u001b[0;32m    624\u001b[0m     \u001b[38;5;124m\"\u001b[39m\u001b[38;5;124m This issue is most likely due to an outdated Hypha server version. \u001b[39m\u001b[38;5;124m\"\u001b[39m\n\u001b[0;32m    625\u001b[0m     \u001b[38;5;124m\"\u001b[39m\u001b[38;5;124mPlease use `imjoy-rpc` for compatibility, or upgrade the Hypha server to the latest version.\u001b[39m\u001b[38;5;124m\"\u001b[39m\n\u001b[0;32m    626\u001b[0m )\n\u001b[0;32m    627\u001b[0m \u001b[38;5;28;01mawait\u001b[39;00m asyncio\u001b[38;5;241m.\u001b[39msleep(\u001b[38;5;241m0.1\u001b[39m)\n",
      "File \u001b[1;32m~\\AppData\\Local\\Programs\\Python\\Python311\\Lib\\site-packages\\hypha_rpc\\websocket_client.py:287\u001b[0m, in \u001b[0;36mWebsocketRPCConnection.open\u001b[1;34m(self)\u001b[0m\n\u001b[0;32m    285\u001b[0m \u001b[38;5;28;01mexcept\u001b[39;00m \u001b[38;5;167;01mException\u001b[39;00m \u001b[38;5;28;01mas\u001b[39;00m exp:\n\u001b[0;32m    286\u001b[0m     logger\u001b[38;5;241m.\u001b[39merror(\u001b[38;5;124m\"\u001b[39m\u001b[38;5;124mFailed to connect to \u001b[39m\u001b[38;5;132;01m%s\u001b[39;00m\u001b[38;5;124m\"\u001b[39m, \u001b[38;5;28mself\u001b[39m\u001b[38;5;241m.\u001b[39m_server_url\u001b[38;5;241m.\u001b[39msplit(\u001b[38;5;124m\"\u001b[39m\u001b[38;5;124m?\u001b[39m\u001b[38;5;124m\"\u001b[39m)[\u001b[38;5;241m0\u001b[39m])\n\u001b[1;32m--> 287\u001b[0m     \u001b[38;5;28;01mraise\u001b[39;00m exp\n",
      "File \u001b[1;32m~\\AppData\\Local\\Programs\\Python\\Python311\\Lib\\site-packages\\hypha_rpc\\websocket_client.py:223\u001b[0m, in \u001b[0;36mWebsocketRPCConnection.open\u001b[1;34m(self)\u001b[0m\n\u001b[0;32m    219\u001b[0m logger\u001b[38;5;241m.\u001b[39minfo(\n\u001b[0;32m    220\u001b[0m     \u001b[38;5;124m\"\u001b[39m\u001b[38;5;124mCreating a new websocket connection to \u001b[39m\u001b[38;5;132;01m%s\u001b[39;00m\u001b[38;5;124m\"\u001b[39m, \u001b[38;5;28mself\u001b[39m\u001b[38;5;241m.\u001b[39m_server_url\u001b[38;5;241m.\u001b[39msplit(\u001b[38;5;124m\"\u001b[39m\u001b[38;5;124m?\u001b[39m\u001b[38;5;124m\"\u001b[39m)[\u001b[38;5;241m0\u001b[39m]\n\u001b[0;32m    221\u001b[0m )\n\u001b[0;32m    222\u001b[0m \u001b[38;5;28;01mtry\u001b[39;00m:\n\u001b[1;32m--> 223\u001b[0m     \u001b[38;5;28mself\u001b[39m\u001b[38;5;241m.\u001b[39m_websocket \u001b[38;5;241m=\u001b[39m \u001b[38;5;28;01mawait\u001b[39;00m \u001b[38;5;28mself\u001b[39m\u001b[38;5;241m.\u001b[39m_attempt_connection(\u001b[38;5;28mself\u001b[39m\u001b[38;5;241m.\u001b[39m_server_url)\n\u001b[0;32m    224\u001b[0m     \u001b[38;5;66;03m# Send authentication info as the first message if connected without query params\u001b[39;00m\n\u001b[0;32m    225\u001b[0m     \u001b[38;5;28;01mif\u001b[39;00m \u001b[38;5;28mself\u001b[39m\u001b[38;5;241m.\u001b[39m_legacy_auth:\n",
      "File \u001b[1;32m~\\AppData\\Local\\Programs\\Python\\Python311\\Lib\\site-packages\\hypha_rpc\\websocket_client.py:121\u001b[0m, in \u001b[0;36mWebsocketRPCConnection._attempt_connection\u001b[1;34m(self, server_url, attempt_fallback)\u001b[0m\n\u001b[0;32m    119\u001b[0m \u001b[38;5;66;03m# Only pass ssl if it's not None\u001b[39;00m\n\u001b[0;32m    120\u001b[0m \u001b[38;5;28;01mif\u001b[39;00m \u001b[38;5;28mself\u001b[39m\u001b[38;5;241m.\u001b[39m_ssl \u001b[38;5;129;01mis\u001b[39;00m \u001b[38;5;28;01mNone\u001b[39;00m:\n\u001b[1;32m--> 121\u001b[0m     websocket \u001b[38;5;241m=\u001b[39m \u001b[38;5;28;01mawait\u001b[39;00m asyncio\u001b[38;5;241m.\u001b[39mwait_for(\n\u001b[0;32m    122\u001b[0m         websockets\u001b[38;5;241m.\u001b[39mconnect(\n\u001b[0;32m    123\u001b[0m             server_url,\n\u001b[0;32m    124\u001b[0m             ping_interval\u001b[38;5;241m=\u001b[39m\u001b[38;5;28mself\u001b[39m\u001b[38;5;241m.\u001b[39m_ping_interval,\n\u001b[0;32m    125\u001b[0m             ping_timeout\u001b[38;5;241m=\u001b[39m\u001b[38;5;28mself\u001b[39m\u001b[38;5;241m.\u001b[39m_ping_timeout,\n\u001b[0;32m    126\u001b[0m             additional_headers\u001b[38;5;241m=\u001b[39m\u001b[38;5;28mself\u001b[39m\u001b[38;5;241m.\u001b[39m_additional_headers,\n\u001b[0;32m    127\u001b[0m         ),\n\u001b[0;32m    128\u001b[0m         \u001b[38;5;28mself\u001b[39m\u001b[38;5;241m.\u001b[39m_timeout,\n\u001b[0;32m    129\u001b[0m     )\n\u001b[0;32m    130\u001b[0m \u001b[38;5;28;01melse\u001b[39;00m:\n\u001b[0;32m    131\u001b[0m     websocket \u001b[38;5;241m=\u001b[39m \u001b[38;5;28;01mawait\u001b[39;00m asyncio\u001b[38;5;241m.\u001b[39mwait_for(\n\u001b[0;32m    132\u001b[0m         websockets\u001b[38;5;241m.\u001b[39mconnect(\n\u001b[0;32m    133\u001b[0m             server_url,\n\u001b[1;32m   (...)\u001b[0m\n\u001b[0;32m    139\u001b[0m         \u001b[38;5;28mself\u001b[39m\u001b[38;5;241m.\u001b[39m_timeout,\n\u001b[0;32m    140\u001b[0m     )\n",
      "File \u001b[1;32m~\\AppData\\Local\\Programs\\Python\\Python311\\Lib\\asyncio\\tasks.py:489\u001b[0m, in \u001b[0;36mwait_for\u001b[1;34m(fut, timeout)\u001b[0m\n\u001b[0;32m    486\u001b[0m         \u001b[38;5;28;01mraise\u001b[39;00m\n\u001b[0;32m    488\u001b[0m \u001b[38;5;28;01mif\u001b[39;00m fut\u001b[38;5;241m.\u001b[39mdone():\n\u001b[1;32m--> 489\u001b[0m     \u001b[38;5;28;01mreturn\u001b[39;00m fut\u001b[38;5;241m.\u001b[39mresult()\n\u001b[0;32m    490\u001b[0m \u001b[38;5;28;01melse\u001b[39;00m:\n\u001b[0;32m    491\u001b[0m     fut\u001b[38;5;241m.\u001b[39mremove_done_callback(cb)\n",
      "File \u001b[1;32m~\\AppData\\Local\\Programs\\Python\\Python311\\Lib\\asyncio\\tasks.py:694\u001b[0m, in \u001b[0;36m_wrap_awaitable\u001b[1;34m(awaitable)\u001b[0m\n\u001b[0;32m    687\u001b[0m \u001b[38;5;129m@types\u001b[39m\u001b[38;5;241m.\u001b[39mcoroutine\n\u001b[0;32m    688\u001b[0m \u001b[38;5;28;01mdef\u001b[39;00m \u001b[38;5;21m_wrap_awaitable\u001b[39m(awaitable):\n\u001b[0;32m    689\u001b[0m \u001b[38;5;250m    \u001b[39m\u001b[38;5;124;03m\"\"\"Helper for asyncio.ensure_future().\u001b[39;00m\n\u001b[0;32m    690\u001b[0m \n\u001b[0;32m    691\u001b[0m \u001b[38;5;124;03m    Wraps awaitable (an object with __await__) into a coroutine\u001b[39;00m\n\u001b[0;32m    692\u001b[0m \u001b[38;5;124;03m    that will later be wrapped in a Task by ensure_future().\u001b[39;00m\n\u001b[0;32m    693\u001b[0m \u001b[38;5;124;03m    \"\"\"\u001b[39;00m\n\u001b[1;32m--> 694\u001b[0m     \u001b[38;5;28;01mreturn\u001b[39;00m (\u001b[38;5;28;01myield from\u001b[39;00m awaitable\u001b[38;5;241m.\u001b[39m\u001b[38;5;21m__await__\u001b[39m())\n",
      "File \u001b[1;32m~\\AppData\\Local\\Programs\\Python\\Python311\\Lib\\site-packages\\websockets\\asyncio\\client.py:543\u001b[0m, in \u001b[0;36mconnect.__await_impl__\u001b[1;34m(self)\u001b[0m\n\u001b[0;32m    541\u001b[0m \u001b[38;5;28mself\u001b[39m\u001b[38;5;241m.\u001b[39mconnection \u001b[38;5;241m=\u001b[39m \u001b[38;5;28;01mawait\u001b[39;00m \u001b[38;5;28mself\u001b[39m\u001b[38;5;241m.\u001b[39mcreate_connection()\n\u001b[0;32m    542\u001b[0m \u001b[38;5;28;01mtry\u001b[39;00m:\n\u001b[1;32m--> 543\u001b[0m     \u001b[38;5;28;01mawait\u001b[39;00m \u001b[38;5;28mself\u001b[39m\u001b[38;5;241m.\u001b[39mconnection\u001b[38;5;241m.\u001b[39mhandshake(\n\u001b[0;32m    544\u001b[0m         \u001b[38;5;28mself\u001b[39m\u001b[38;5;241m.\u001b[39madditional_headers,\n\u001b[0;32m    545\u001b[0m         \u001b[38;5;28mself\u001b[39m\u001b[38;5;241m.\u001b[39muser_agent_header,\n\u001b[0;32m    546\u001b[0m     )\n\u001b[0;32m    547\u001b[0m \u001b[38;5;28;01mexcept\u001b[39;00m asyncio\u001b[38;5;241m.\u001b[39mCancelledError:\n\u001b[0;32m    548\u001b[0m     \u001b[38;5;28mself\u001b[39m\u001b[38;5;241m.\u001b[39mconnection\u001b[38;5;241m.\u001b[39mtransport\u001b[38;5;241m.\u001b[39mabort()\n",
      "File \u001b[1;32m~\\AppData\\Local\\Programs\\Python\\Python311\\Lib\\site-packages\\websockets\\asyncio\\client.py:114\u001b[0m, in \u001b[0;36mClientConnection.handshake\u001b[1;34m(self, additional_headers, user_agent_header)\u001b[0m\n\u001b[0;32m    109\u001b[0m \u001b[38;5;66;03m# self.protocol.handshake_exc is set when the connection is lost before\u001b[39;00m\n\u001b[0;32m    110\u001b[0m \u001b[38;5;66;03m# receiving a response, when the response cannot be parsed, or when the\u001b[39;00m\n\u001b[0;32m    111\u001b[0m \u001b[38;5;66;03m# response fails the handshake.\u001b[39;00m\n\u001b[0;32m    113\u001b[0m \u001b[38;5;28;01mif\u001b[39;00m \u001b[38;5;28mself\u001b[39m\u001b[38;5;241m.\u001b[39mprotocol\u001b[38;5;241m.\u001b[39mhandshake_exc \u001b[38;5;129;01mis\u001b[39;00m \u001b[38;5;129;01mnot\u001b[39;00m \u001b[38;5;28;01mNone\u001b[39;00m:\n\u001b[1;32m--> 114\u001b[0m     \u001b[38;5;28;01mraise\u001b[39;00m \u001b[38;5;28mself\u001b[39m\u001b[38;5;241m.\u001b[39mprotocol\u001b[38;5;241m.\u001b[39mhandshake_exc\n",
      "File \u001b[1;32m~\\AppData\\Local\\Programs\\Python\\Python311\\Lib\\site-packages\\websockets\\client.py:325\u001b[0m, in \u001b[0;36mClientProtocol.parse\u001b[1;34m(self)\u001b[0m\n\u001b[0;32m    322\u001b[0m         \u001b[38;5;28mself\u001b[39m\u001b[38;5;241m.\u001b[39mlogger\u001b[38;5;241m.\u001b[39mdebug(\u001b[38;5;124m\"\u001b[39m\u001b[38;5;124m< [body] (\u001b[39m\u001b[38;5;132;01m%d\u001b[39;00m\u001b[38;5;124m bytes)\u001b[39m\u001b[38;5;124m\"\u001b[39m, \u001b[38;5;28mlen\u001b[39m(response\u001b[38;5;241m.\u001b[39mbody))\n\u001b[0;32m    324\u001b[0m \u001b[38;5;28;01mtry\u001b[39;00m:\n\u001b[1;32m--> 325\u001b[0m     \u001b[38;5;28;43mself\u001b[39;49m\u001b[38;5;241;43m.\u001b[39;49m\u001b[43mprocess_response\u001b[49m\u001b[43m(\u001b[49m\u001b[43mresponse\u001b[49m\u001b[43m)\u001b[49m\n\u001b[0;32m    326\u001b[0m \u001b[38;5;28;01mexcept\u001b[39;00m InvalidHandshake \u001b[38;5;28;01mas\u001b[39;00m exc:\n\u001b[0;32m    327\u001b[0m     response\u001b[38;5;241m.\u001b[39m_exception \u001b[38;5;241m=\u001b[39m exc\n",
      "File \u001b[1;32m~\\AppData\\Local\\Programs\\Python\\Python311\\Lib\\site-packages\\websockets\\client.py:142\u001b[0m, in \u001b[0;36mClientProtocol.process_response\u001b[1;34m(self, response)\u001b[0m\n\u001b[0;32m    130\u001b[0m \u001b[38;5;250m\u001b[39m\u001b[38;5;124;03m\"\"\"\u001b[39;00m\n\u001b[0;32m    131\u001b[0m \u001b[38;5;124;03mCheck a handshake response.\u001b[39;00m\n\u001b[0;32m    132\u001b[0m \n\u001b[1;32m   (...)\u001b[0m\n\u001b[0;32m    138\u001b[0m \n\u001b[0;32m    139\u001b[0m \u001b[38;5;124;03m\"\"\"\u001b[39;00m\n\u001b[0;32m    141\u001b[0m \u001b[38;5;28;01mif\u001b[39;00m response\u001b[38;5;241m.\u001b[39mstatus_code \u001b[38;5;241m!=\u001b[39m \u001b[38;5;241m101\u001b[39m:\n\u001b[1;32m--> 142\u001b[0m     \u001b[38;5;28;01mraise\u001b[39;00m InvalidStatus(response)\n\u001b[0;32m    144\u001b[0m headers \u001b[38;5;241m=\u001b[39m response\u001b[38;5;241m.\u001b[39mheaders\n\u001b[0;32m    146\u001b[0m connection: \u001b[38;5;28mlist\u001b[39m[ConnectionOption] \u001b[38;5;241m=\u001b[39m \u001b[38;5;28msum\u001b[39m(\n\u001b[0;32m    147\u001b[0m     [parse_connection(value) \u001b[38;5;28;01mfor\u001b[39;00m value \u001b[38;5;129;01min\u001b[39;00m headers\u001b[38;5;241m.\u001b[39mget_all(\u001b[38;5;124m\"\u001b[39m\u001b[38;5;124mConnection\u001b[39m\u001b[38;5;124m\"\u001b[39m)], []\n\u001b[0;32m    148\u001b[0m )\n",
      "\u001b[1;31mInvalidStatus\u001b[0m: server rejected WebSocket connection: HTTP 403"
     ]
    }
   ],
   "source": [
    "import asyncio\n",
    "from hypha_rpc import connect_to_server, login\n",
    "\n",
    "async def download_all_rdfs(server_url, workspace_name):\n",
    "    # 1) log in (uses your default auth flow)\n",
    "    token = await login({\"server_url\": server_url})\n",
    "    client = await connect_to_server({\"server_url\": server_url,  \"method_timeout\": 3000})\n",
    "    \n",
    "\n",
    "    # 2) select the BioModel Zoo workspace/service\n",
    "    ws = client.workspace(workspace_name)\n",
    "\n",
    "    # 3) list all model IDs\n",
    "    model_list = await ws.call(\"list_models\")   # e.g. returns ['powerful-chipmunk', 'serene-squirrel', ...]\n",
    "    \n",
    "    # 4) fetch and save only the RDF YAML for each\n",
    "    for model_id in model_list:\n",
    "        rdf_yaml = await ws.call(\"get_model_rdf\", {\"model_id\": model_id})\n",
    "        with open(f\"{model_id}.rdf.yaml\", \"w\") as f:\n",
    "            f.write(rdf_yaml)\n",
    "        print(f\"Saved {model_id}.rdf.yaml\")\n",
    "\n",
    "if __name__ == \"__main__\":\n",
    "    # simply await your coroutine instead of using asyncio.run\n",
    "    result = await download_all_rdfs(\"https://hypha.bioimage.io\",20000)\n",
    "    print(\"Done, result:\", result)\n",
    "    \n"
   ]
  },
  {
   "cell_type": "code",
   "execution_count": 12,
   "id": "61ae5cea-e91c-464d-8c7d-282fd824ece7",
   "metadata": {},
   "outputs": [
    {
     "name": "stdout",
     "output_type": "stream",
     "text": [
      "ERROR:websocket-client:Failed to connect to wss://hypha.bioimage.io/ws\n"
     ]
    },
    {
     "ename": "InvalidStatus",
     "evalue": "server rejected WebSocket connection: HTTP 403",
     "output_type": "error",
     "traceback": [
      "\u001b[1;31m---------------------------------------------------------------------------\u001b[0m",
      "\u001b[1;31mInvalidStatus\u001b[0m                             Traceback (most recent call last)",
      "Cell \u001b[1;32mIn[12], line 8\u001b[0m\n\u001b[0;32m      4\u001b[0m config \u001b[38;5;241m=\u001b[39m {\u001b[38;5;124m\"\u001b[39m\u001b[38;5;124mserver_url\u001b[39m\u001b[38;5;124m\"\u001b[39m: \u001b[38;5;124m\"\u001b[39m\u001b[38;5;124mhttps://hypha.bioimage.io\u001b[39m\u001b[38;5;124m\"\u001b[39m}\n\u001b[0;32m      6\u001b[0m \u001b[38;5;66;03m# 2) this will print (or, if you provide a callback, open) the one-time login URL\u001b[39;00m\n\u001b[0;32m      7\u001b[0m \u001b[38;5;66;03m#    open that URL in your browser, complete the Auth0 flow\u001b[39;00m\n\u001b[1;32m----> 8\u001b[0m token \u001b[38;5;241m=\u001b[39m \u001b[43mlogin\u001b[49m\u001b[43m(\u001b[49m\u001b[43mconfig\u001b[49m\u001b[43m)\u001b[49m\n\u001b[0;32m     10\u001b[0m \u001b[38;5;66;03m# 3) once login() returns, `token` is your JWT\u001b[39;00m\n\u001b[0;32m     11\u001b[0m \u001b[38;5;28mprint\u001b[39m(\u001b[38;5;124m\"\u001b[39m\u001b[38;5;124mYour Hypha token is:\u001b[39m\u001b[38;5;124m\"\u001b[39m, token)\n",
      "File \u001b[1;32m~\\AppData\\Local\\Programs\\Python\\Python311\\Lib\\site-packages\\hypha_rpc\\sync.py:221\u001b[0m, in \u001b[0;36mlogin\u001b[1;34m(config)\u001b[0m\n\u001b[0;32m    218\u001b[0m profile \u001b[38;5;241m=\u001b[39m config\u001b[38;5;241m.\u001b[39mget(\u001b[38;5;124m\"\u001b[39m\u001b[38;5;124mprofile\u001b[39m\u001b[38;5;124m\"\u001b[39m, \u001b[38;5;28;01mFalse\u001b[39;00m)\n\u001b[0;32m    219\u001b[0m ssl \u001b[38;5;241m=\u001b[39m config\u001b[38;5;241m.\u001b[39mget(\u001b[38;5;124m\"\u001b[39m\u001b[38;5;124mssl\u001b[39m\u001b[38;5;124m\"\u001b[39m)\n\u001b[1;32m--> 221\u001b[0m server \u001b[38;5;241m=\u001b[39m \u001b[43mconnect_to_server\u001b[49m\u001b[43m(\u001b[49m\n\u001b[0;32m    222\u001b[0m \u001b[43m    \u001b[49m\u001b[43m{\u001b[49m\u001b[38;5;124;43m\"\u001b[39;49m\u001b[38;5;124;43mname\u001b[39;49m\u001b[38;5;124;43m\"\u001b[39;49m\u001b[43m:\u001b[49m\u001b[43m \u001b[49m\u001b[38;5;124;43m\"\u001b[39;49m\u001b[38;5;124;43minitial login client\u001b[39;49m\u001b[38;5;124;43m\"\u001b[39;49m\u001b[43m,\u001b[49m\u001b[43m \u001b[49m\u001b[38;5;124;43m\"\u001b[39;49m\u001b[38;5;124;43mserver_url\u001b[39;49m\u001b[38;5;124;43m\"\u001b[39;49m\u001b[43m:\u001b[49m\u001b[43m \u001b[49m\u001b[43mserver_url\u001b[49m\u001b[43m,\u001b[49m\u001b[43m \u001b[49m\u001b[38;5;124;43m\"\u001b[39;49m\u001b[38;5;124;43mssl\u001b[39;49m\u001b[38;5;124;43m\"\u001b[39;49m\u001b[43m:\u001b[49m\u001b[43m \u001b[49m\u001b[43mssl\u001b[49m\u001b[43m}\u001b[49m\n\u001b[0;32m    223\u001b[0m \u001b[43m\u001b[49m\u001b[43m)\u001b[49m\n\u001b[0;32m    224\u001b[0m \u001b[38;5;28;01mtry\u001b[39;00m:\n\u001b[0;32m    225\u001b[0m     svc \u001b[38;5;241m=\u001b[39m server\u001b[38;5;241m.\u001b[39mget_service(service_id)\n",
      "File \u001b[1;32m~\\AppData\\Local\\Programs\\Python\\Python311\\Lib\\site-packages\\hypha_rpc\\sync.py:189\u001b[0m, in \u001b[0;36mconnect_to_server\u001b[1;34m(config, **kwargs)\u001b[0m\n\u001b[0;32m    187\u001b[0m \u001b[38;5;28;01mdef\u001b[39;00m \u001b[38;5;21mconnect_to_server\u001b[39m(config\u001b[38;5;241m=\u001b[39m\u001b[38;5;28;01mNone\u001b[39;00m, \u001b[38;5;241m*\u001b[39m\u001b[38;5;241m*\u001b[39mkwargs):\n\u001b[0;32m    188\u001b[0m \u001b[38;5;250m    \u001b[39m\u001b[38;5;124;03m\"\"\"Connect to the Hypha server synchronously.\"\"\"\u001b[39;00m\n\u001b[1;32m--> 189\u001b[0m     server \u001b[38;5;241m=\u001b[39m \u001b[43mSyncHyphaServer\u001b[49m\u001b[43m(\u001b[49m\u001b[43mconfig\u001b[49m\u001b[38;5;241;43m=\u001b[39;49m\u001b[43mconfig\u001b[49m\u001b[43m,\u001b[49m\u001b[43m \u001b[49m\u001b[38;5;241;43m*\u001b[39;49m\u001b[38;5;241;43m*\u001b[39;49m\u001b[43mkwargs\u001b[49m\u001b[43m)\u001b[49m\n\u001b[0;32m    190\u001b[0m     \u001b[38;5;28;01mreturn\u001b[39;00m server\n",
      "File \u001b[1;32m~\\AppData\\Local\\Programs\\Python\\Python311\\Lib\\site-packages\\hypha_rpc\\sync.py:133\u001b[0m, in \u001b[0;36mSyncHyphaServer.__init__\u001b[1;34m(self, config, service_id, **kwargs)\u001b[0m\n\u001b[0;32m    130\u001b[0m     \u001b[38;5;28;01mpass\u001b[39;00m\n\u001b[0;32m    132\u001b[0m future \u001b[38;5;241m=\u001b[39m asyncio\u001b[38;5;241m.\u001b[39mrun_coroutine_threadsafe(\u001b[38;5;28mself\u001b[39m\u001b[38;5;241m.\u001b[39m_connect(config), \u001b[38;5;28mself\u001b[39m\u001b[38;5;241m.\u001b[39m_loop)\n\u001b[1;32m--> 133\u001b[0m \u001b[43mfuture\u001b[49m\u001b[38;5;241;43m.\u001b[39;49m\u001b[43mresult\u001b[49m\u001b[43m(\u001b[49m\u001b[43m)\u001b[49m\n",
      "File \u001b[1;32m~\\AppData\\Local\\Programs\\Python\\Python311\\Lib\\concurrent\\futures\\_base.py:456\u001b[0m, in \u001b[0;36mFuture.result\u001b[1;34m(self, timeout)\u001b[0m\n\u001b[0;32m    454\u001b[0m     \u001b[38;5;28;01mraise\u001b[39;00m CancelledError()\n\u001b[0;32m    455\u001b[0m \u001b[38;5;28;01melif\u001b[39;00m \u001b[38;5;28mself\u001b[39m\u001b[38;5;241m.\u001b[39m_state \u001b[38;5;241m==\u001b[39m FINISHED:\n\u001b[1;32m--> 456\u001b[0m     \u001b[38;5;28;01mreturn\u001b[39;00m \u001b[38;5;28;43mself\u001b[39;49m\u001b[38;5;241;43m.\u001b[39;49m\u001b[43m__get_result\u001b[49m\u001b[43m(\u001b[49m\u001b[43m)\u001b[49m\n\u001b[0;32m    457\u001b[0m \u001b[38;5;28;01melse\u001b[39;00m:\n\u001b[0;32m    458\u001b[0m     \u001b[38;5;28;01mraise\u001b[39;00m \u001b[38;5;167;01mTimeoutError\u001b[39;00m()\n",
      "File \u001b[1;32m~\\AppData\\Local\\Programs\\Python\\Python311\\Lib\\concurrent\\futures\\_base.py:401\u001b[0m, in \u001b[0;36mFuture.__get_result\u001b[1;34m(self)\u001b[0m\n\u001b[0;32m    399\u001b[0m \u001b[38;5;28;01mif\u001b[39;00m \u001b[38;5;28mself\u001b[39m\u001b[38;5;241m.\u001b[39m_exception:\n\u001b[0;32m    400\u001b[0m     \u001b[38;5;28;01mtry\u001b[39;00m:\n\u001b[1;32m--> 401\u001b[0m         \u001b[38;5;28;01mraise\u001b[39;00m \u001b[38;5;28mself\u001b[39m\u001b[38;5;241m.\u001b[39m_exception\n\u001b[0;32m    402\u001b[0m     \u001b[38;5;28;01mfinally\u001b[39;00m:\n\u001b[0;32m    403\u001b[0m         \u001b[38;5;66;03m# Break a reference cycle with the exception in self._exception\u001b[39;00m\n\u001b[0;32m    404\u001b[0m         \u001b[38;5;28mself\u001b[39m \u001b[38;5;241m=\u001b[39m \u001b[38;5;28;01mNone\u001b[39;00m\n",
      "File \u001b[1;32m~\\AppData\\Local\\Programs\\Python\\Python311\\Lib\\site-packages\\hypha_rpc\\sync.py:146\u001b[0m, in \u001b[0;36mSyncHyphaServer._connect\u001b[1;34m(self, config)\u001b[0m\n\u001b[0;32m    144\u001b[0m \u001b[38;5;66;03m# get the a config to see if we need to convert\u001b[39;00m\n\u001b[0;32m    145\u001b[0m mix_async \u001b[38;5;241m=\u001b[39m config\u001b[38;5;241m.\u001b[39mget(\u001b[38;5;124m\"\u001b[39m\u001b[38;5;124mmix_async\u001b[39m\u001b[38;5;124m\"\u001b[39m, \u001b[38;5;28;01mFalse\u001b[39;00m)\n\u001b[1;32m--> 146\u001b[0m \u001b[38;5;28mself\u001b[39m\u001b[38;5;241m.\u001b[39m_server \u001b[38;5;241m=\u001b[39m \u001b[38;5;28;01mawait\u001b[39;00m connect_to_server_async(config)\n\u001b[0;32m    147\u001b[0m \u001b[38;5;28;01mif\u001b[39;00m \u001b[38;5;28mself\u001b[39m\u001b[38;5;241m.\u001b[39m_service_id:\n\u001b[0;32m    148\u001b[0m     service \u001b[38;5;241m=\u001b[39m \u001b[38;5;28;01mawait\u001b[39;00m \u001b[38;5;28mself\u001b[39m\u001b[38;5;241m.\u001b[39m_server\u001b[38;5;241m.\u001b[39mget_service(\u001b[38;5;28mself\u001b[39m\u001b[38;5;241m.\u001b[39m_service_id)\n",
      "File \u001b[1;32m~\\AppData\\Local\\Programs\\Python\\Python311\\Lib\\site-packages\\hypha_rpc\\websocket_client.py:516\u001b[0m, in \u001b[0;36mServerContextManager.__aenter__\u001b[1;34m(self)\u001b[0m\n\u001b[0;32m    515\u001b[0m \u001b[38;5;28;01masync\u001b[39;00m \u001b[38;5;28;01mdef\u001b[39;00m \u001b[38;5;21m__aenter__\u001b[39m(\u001b[38;5;28mself\u001b[39m):\n\u001b[1;32m--> 516\u001b[0m     \u001b[38;5;28mself\u001b[39m\u001b[38;5;241m.\u001b[39mwm \u001b[38;5;241m=\u001b[39m \u001b[38;5;28;01mawait\u001b[39;00m _connect_to_server(\u001b[38;5;28mself\u001b[39m\u001b[38;5;241m.\u001b[39mconfig)\n\u001b[0;32m    517\u001b[0m     \u001b[38;5;28;01mif\u001b[39;00m \u001b[38;5;28mself\u001b[39m\u001b[38;5;241m.\u001b[39m_service_id:\n\u001b[0;32m    518\u001b[0m         \u001b[38;5;28;01mreturn\u001b[39;00m \u001b[38;5;28;01mawait\u001b[39;00m \u001b[38;5;28mself\u001b[39m\u001b[38;5;241m.\u001b[39mwm\u001b[38;5;241m.\u001b[39mget_service(\n\u001b[0;32m    519\u001b[0m             \u001b[38;5;28mself\u001b[39m\u001b[38;5;241m.\u001b[39m_service_id,\n\u001b[0;32m    520\u001b[0m             {\u001b[38;5;124m\"\u001b[39m\u001b[38;5;124mcase_conversion\u001b[39m\u001b[38;5;124m\"\u001b[39m: \u001b[38;5;28mself\u001b[39m\u001b[38;5;241m.\u001b[39mconfig\u001b[38;5;241m.\u001b[39mget(\u001b[38;5;124m\"\u001b[39m\u001b[38;5;124mcase_conversion\u001b[39m\u001b[38;5;124m\"\u001b[39m)},\n\u001b[0;32m    521\u001b[0m         )\n",
      "File \u001b[1;32m~\\AppData\\Local\\Programs\\Python\\Python311\\Lib\\site-packages\\hypha_rpc\\websocket_client.py:621\u001b[0m, in \u001b[0;36m_connect_to_server\u001b[1;34m(config)\u001b[0m\n\u001b[0;32m    606\u001b[0m     Connection \u001b[38;5;241m=\u001b[39m WebsocketRPCConnection\n\u001b[0;32m    608\u001b[0m connection \u001b[38;5;241m=\u001b[39m Connection(\n\u001b[0;32m    609\u001b[0m     server_url,\n\u001b[0;32m    610\u001b[0m     client_id,\n\u001b[1;32m   (...)\u001b[0m\n\u001b[0;32m    619\u001b[0m     additional_headers\u001b[38;5;241m=\u001b[39mconfig\u001b[38;5;241m.\u001b[39mget(\u001b[38;5;124m\"\u001b[39m\u001b[38;5;124madditional_headers\u001b[39m\u001b[38;5;124m\"\u001b[39m),\n\u001b[0;32m    620\u001b[0m )\n\u001b[1;32m--> 621\u001b[0m connection_info \u001b[38;5;241m=\u001b[39m \u001b[38;5;28;01mawait\u001b[39;00m connection\u001b[38;5;241m.\u001b[39mopen()\n\u001b[0;32m    622\u001b[0m \u001b[38;5;28;01massert\u001b[39;00m connection_info, (\n\u001b[0;32m    623\u001b[0m     \u001b[38;5;124m\"\u001b[39m\u001b[38;5;124mFailed to connect to the server, no connection info obtained.\u001b[39m\u001b[38;5;124m\"\u001b[39m\n\u001b[0;32m    624\u001b[0m     \u001b[38;5;124m\"\u001b[39m\u001b[38;5;124m This issue is most likely due to an outdated Hypha server version. \u001b[39m\u001b[38;5;124m\"\u001b[39m\n\u001b[0;32m    625\u001b[0m     \u001b[38;5;124m\"\u001b[39m\u001b[38;5;124mPlease use `imjoy-rpc` for compatibility, or upgrade the Hypha server to the latest version.\u001b[39m\u001b[38;5;124m\"\u001b[39m\n\u001b[0;32m    626\u001b[0m )\n\u001b[0;32m    627\u001b[0m \u001b[38;5;28;01mawait\u001b[39;00m asyncio\u001b[38;5;241m.\u001b[39msleep(\u001b[38;5;241m0.1\u001b[39m)\n",
      "File \u001b[1;32m~\\AppData\\Local\\Programs\\Python\\Python311\\Lib\\site-packages\\hypha_rpc\\websocket_client.py:287\u001b[0m, in \u001b[0;36mWebsocketRPCConnection.open\u001b[1;34m(self)\u001b[0m\n\u001b[0;32m    285\u001b[0m \u001b[38;5;28;01mexcept\u001b[39;00m \u001b[38;5;167;01mException\u001b[39;00m \u001b[38;5;28;01mas\u001b[39;00m exp:\n\u001b[0;32m    286\u001b[0m     logger\u001b[38;5;241m.\u001b[39merror(\u001b[38;5;124m\"\u001b[39m\u001b[38;5;124mFailed to connect to \u001b[39m\u001b[38;5;132;01m%s\u001b[39;00m\u001b[38;5;124m\"\u001b[39m, \u001b[38;5;28mself\u001b[39m\u001b[38;5;241m.\u001b[39m_server_url\u001b[38;5;241m.\u001b[39msplit(\u001b[38;5;124m\"\u001b[39m\u001b[38;5;124m?\u001b[39m\u001b[38;5;124m\"\u001b[39m)[\u001b[38;5;241m0\u001b[39m])\n\u001b[1;32m--> 287\u001b[0m     \u001b[38;5;28;01mraise\u001b[39;00m exp\n",
      "File \u001b[1;32m~\\AppData\\Local\\Programs\\Python\\Python311\\Lib\\site-packages\\hypha_rpc\\websocket_client.py:223\u001b[0m, in \u001b[0;36mWebsocketRPCConnection.open\u001b[1;34m(self)\u001b[0m\n\u001b[0;32m    219\u001b[0m logger\u001b[38;5;241m.\u001b[39minfo(\n\u001b[0;32m    220\u001b[0m     \u001b[38;5;124m\"\u001b[39m\u001b[38;5;124mCreating a new websocket connection to \u001b[39m\u001b[38;5;132;01m%s\u001b[39;00m\u001b[38;5;124m\"\u001b[39m, \u001b[38;5;28mself\u001b[39m\u001b[38;5;241m.\u001b[39m_server_url\u001b[38;5;241m.\u001b[39msplit(\u001b[38;5;124m\"\u001b[39m\u001b[38;5;124m?\u001b[39m\u001b[38;5;124m\"\u001b[39m)[\u001b[38;5;241m0\u001b[39m]\n\u001b[0;32m    221\u001b[0m )\n\u001b[0;32m    222\u001b[0m \u001b[38;5;28;01mtry\u001b[39;00m:\n\u001b[1;32m--> 223\u001b[0m     \u001b[38;5;28mself\u001b[39m\u001b[38;5;241m.\u001b[39m_websocket \u001b[38;5;241m=\u001b[39m \u001b[38;5;28;01mawait\u001b[39;00m \u001b[38;5;28mself\u001b[39m\u001b[38;5;241m.\u001b[39m_attempt_connection(\u001b[38;5;28mself\u001b[39m\u001b[38;5;241m.\u001b[39m_server_url)\n\u001b[0;32m    224\u001b[0m     \u001b[38;5;66;03m# Send authentication info as the first message if connected without query params\u001b[39;00m\n\u001b[0;32m    225\u001b[0m     \u001b[38;5;28;01mif\u001b[39;00m \u001b[38;5;28mself\u001b[39m\u001b[38;5;241m.\u001b[39m_legacy_auth:\n",
      "File \u001b[1;32m~\\AppData\\Local\\Programs\\Python\\Python311\\Lib\\site-packages\\hypha_rpc\\websocket_client.py:121\u001b[0m, in \u001b[0;36mWebsocketRPCConnection._attempt_connection\u001b[1;34m(self, server_url, attempt_fallback)\u001b[0m\n\u001b[0;32m    119\u001b[0m \u001b[38;5;66;03m# Only pass ssl if it's not None\u001b[39;00m\n\u001b[0;32m    120\u001b[0m \u001b[38;5;28;01mif\u001b[39;00m \u001b[38;5;28mself\u001b[39m\u001b[38;5;241m.\u001b[39m_ssl \u001b[38;5;129;01mis\u001b[39;00m \u001b[38;5;28;01mNone\u001b[39;00m:\n\u001b[1;32m--> 121\u001b[0m     websocket \u001b[38;5;241m=\u001b[39m \u001b[38;5;28;01mawait\u001b[39;00m asyncio\u001b[38;5;241m.\u001b[39mwait_for(\n\u001b[0;32m    122\u001b[0m         websockets\u001b[38;5;241m.\u001b[39mconnect(\n\u001b[0;32m    123\u001b[0m             server_url,\n\u001b[0;32m    124\u001b[0m             ping_interval\u001b[38;5;241m=\u001b[39m\u001b[38;5;28mself\u001b[39m\u001b[38;5;241m.\u001b[39m_ping_interval,\n\u001b[0;32m    125\u001b[0m             ping_timeout\u001b[38;5;241m=\u001b[39m\u001b[38;5;28mself\u001b[39m\u001b[38;5;241m.\u001b[39m_ping_timeout,\n\u001b[0;32m    126\u001b[0m             additional_headers\u001b[38;5;241m=\u001b[39m\u001b[38;5;28mself\u001b[39m\u001b[38;5;241m.\u001b[39m_additional_headers,\n\u001b[0;32m    127\u001b[0m         ),\n\u001b[0;32m    128\u001b[0m         \u001b[38;5;28mself\u001b[39m\u001b[38;5;241m.\u001b[39m_timeout,\n\u001b[0;32m    129\u001b[0m     )\n\u001b[0;32m    130\u001b[0m \u001b[38;5;28;01melse\u001b[39;00m:\n\u001b[0;32m    131\u001b[0m     websocket \u001b[38;5;241m=\u001b[39m \u001b[38;5;28;01mawait\u001b[39;00m asyncio\u001b[38;5;241m.\u001b[39mwait_for(\n\u001b[0;32m    132\u001b[0m         websockets\u001b[38;5;241m.\u001b[39mconnect(\n\u001b[0;32m    133\u001b[0m             server_url,\n\u001b[1;32m   (...)\u001b[0m\n\u001b[0;32m    139\u001b[0m         \u001b[38;5;28mself\u001b[39m\u001b[38;5;241m.\u001b[39m_timeout,\n\u001b[0;32m    140\u001b[0m     )\n",
      "File \u001b[1;32m~\\AppData\\Local\\Programs\\Python\\Python311\\Lib\\asyncio\\tasks.py:489\u001b[0m, in \u001b[0;36mwait_for\u001b[1;34m(fut, timeout)\u001b[0m\n\u001b[0;32m    486\u001b[0m         \u001b[38;5;28;01mraise\u001b[39;00m\n\u001b[0;32m    488\u001b[0m \u001b[38;5;28;01mif\u001b[39;00m fut\u001b[38;5;241m.\u001b[39mdone():\n\u001b[1;32m--> 489\u001b[0m     \u001b[38;5;28;01mreturn\u001b[39;00m fut\u001b[38;5;241m.\u001b[39mresult()\n\u001b[0;32m    490\u001b[0m \u001b[38;5;28;01melse\u001b[39;00m:\n\u001b[0;32m    491\u001b[0m     fut\u001b[38;5;241m.\u001b[39mremove_done_callback(cb)\n",
      "File \u001b[1;32m~\\AppData\\Local\\Programs\\Python\\Python311\\Lib\\asyncio\\tasks.py:694\u001b[0m, in \u001b[0;36m_wrap_awaitable\u001b[1;34m(awaitable)\u001b[0m\n\u001b[0;32m    687\u001b[0m \u001b[38;5;129m@types\u001b[39m\u001b[38;5;241m.\u001b[39mcoroutine\n\u001b[0;32m    688\u001b[0m \u001b[38;5;28;01mdef\u001b[39;00m \u001b[38;5;21m_wrap_awaitable\u001b[39m(awaitable):\n\u001b[0;32m    689\u001b[0m \u001b[38;5;250m    \u001b[39m\u001b[38;5;124;03m\"\"\"Helper for asyncio.ensure_future().\u001b[39;00m\n\u001b[0;32m    690\u001b[0m \n\u001b[0;32m    691\u001b[0m \u001b[38;5;124;03m    Wraps awaitable (an object with __await__) into a coroutine\u001b[39;00m\n\u001b[0;32m    692\u001b[0m \u001b[38;5;124;03m    that will later be wrapped in a Task by ensure_future().\u001b[39;00m\n\u001b[0;32m    693\u001b[0m \u001b[38;5;124;03m    \"\"\"\u001b[39;00m\n\u001b[1;32m--> 694\u001b[0m     \u001b[38;5;28;01mreturn\u001b[39;00m (\u001b[38;5;28;01myield from\u001b[39;00m awaitable\u001b[38;5;241m.\u001b[39m\u001b[38;5;21m__await__\u001b[39m())\n",
      "File \u001b[1;32m~\\AppData\\Local\\Programs\\Python\\Python311\\Lib\\site-packages\\websockets\\asyncio\\client.py:543\u001b[0m, in \u001b[0;36mconnect.__await_impl__\u001b[1;34m(self)\u001b[0m\n\u001b[0;32m    541\u001b[0m \u001b[38;5;28mself\u001b[39m\u001b[38;5;241m.\u001b[39mconnection \u001b[38;5;241m=\u001b[39m \u001b[38;5;28;01mawait\u001b[39;00m \u001b[38;5;28mself\u001b[39m\u001b[38;5;241m.\u001b[39mcreate_connection()\n\u001b[0;32m    542\u001b[0m \u001b[38;5;28;01mtry\u001b[39;00m:\n\u001b[1;32m--> 543\u001b[0m     \u001b[38;5;28;01mawait\u001b[39;00m \u001b[38;5;28mself\u001b[39m\u001b[38;5;241m.\u001b[39mconnection\u001b[38;5;241m.\u001b[39mhandshake(\n\u001b[0;32m    544\u001b[0m         \u001b[38;5;28mself\u001b[39m\u001b[38;5;241m.\u001b[39madditional_headers,\n\u001b[0;32m    545\u001b[0m         \u001b[38;5;28mself\u001b[39m\u001b[38;5;241m.\u001b[39muser_agent_header,\n\u001b[0;32m    546\u001b[0m     )\n\u001b[0;32m    547\u001b[0m \u001b[38;5;28;01mexcept\u001b[39;00m asyncio\u001b[38;5;241m.\u001b[39mCancelledError:\n\u001b[0;32m    548\u001b[0m     \u001b[38;5;28mself\u001b[39m\u001b[38;5;241m.\u001b[39mconnection\u001b[38;5;241m.\u001b[39mtransport\u001b[38;5;241m.\u001b[39mabort()\n",
      "File \u001b[1;32m~\\AppData\\Local\\Programs\\Python\\Python311\\Lib\\site-packages\\websockets\\asyncio\\client.py:114\u001b[0m, in \u001b[0;36mClientConnection.handshake\u001b[1;34m(self, additional_headers, user_agent_header)\u001b[0m\n\u001b[0;32m    109\u001b[0m \u001b[38;5;66;03m# self.protocol.handshake_exc is set when the connection is lost before\u001b[39;00m\n\u001b[0;32m    110\u001b[0m \u001b[38;5;66;03m# receiving a response, when the response cannot be parsed, or when the\u001b[39;00m\n\u001b[0;32m    111\u001b[0m \u001b[38;5;66;03m# response fails the handshake.\u001b[39;00m\n\u001b[0;32m    113\u001b[0m \u001b[38;5;28;01mif\u001b[39;00m \u001b[38;5;28mself\u001b[39m\u001b[38;5;241m.\u001b[39mprotocol\u001b[38;5;241m.\u001b[39mhandshake_exc \u001b[38;5;129;01mis\u001b[39;00m \u001b[38;5;129;01mnot\u001b[39;00m \u001b[38;5;28;01mNone\u001b[39;00m:\n\u001b[1;32m--> 114\u001b[0m     \u001b[38;5;28;01mraise\u001b[39;00m \u001b[38;5;28mself\u001b[39m\u001b[38;5;241m.\u001b[39mprotocol\u001b[38;5;241m.\u001b[39mhandshake_exc\n",
      "File \u001b[1;32m~\\AppData\\Local\\Programs\\Python\\Python311\\Lib\\site-packages\\websockets\\client.py:325\u001b[0m, in \u001b[0;36mClientProtocol.parse\u001b[1;34m(self)\u001b[0m\n\u001b[0;32m    322\u001b[0m         \u001b[38;5;28mself\u001b[39m\u001b[38;5;241m.\u001b[39mlogger\u001b[38;5;241m.\u001b[39mdebug(\u001b[38;5;124m\"\u001b[39m\u001b[38;5;124m< [body] (\u001b[39m\u001b[38;5;132;01m%d\u001b[39;00m\u001b[38;5;124m bytes)\u001b[39m\u001b[38;5;124m\"\u001b[39m, \u001b[38;5;28mlen\u001b[39m(response\u001b[38;5;241m.\u001b[39mbody))\n\u001b[0;32m    324\u001b[0m \u001b[38;5;28;01mtry\u001b[39;00m:\n\u001b[1;32m--> 325\u001b[0m     \u001b[38;5;28;43mself\u001b[39;49m\u001b[38;5;241;43m.\u001b[39;49m\u001b[43mprocess_response\u001b[49m\u001b[43m(\u001b[49m\u001b[43mresponse\u001b[49m\u001b[43m)\u001b[49m\n\u001b[0;32m    326\u001b[0m \u001b[38;5;28;01mexcept\u001b[39;00m InvalidHandshake \u001b[38;5;28;01mas\u001b[39;00m exc:\n\u001b[0;32m    327\u001b[0m     response\u001b[38;5;241m.\u001b[39m_exception \u001b[38;5;241m=\u001b[39m exc\n",
      "File \u001b[1;32m~\\AppData\\Local\\Programs\\Python\\Python311\\Lib\\site-packages\\websockets\\client.py:142\u001b[0m, in \u001b[0;36mClientProtocol.process_response\u001b[1;34m(self, response)\u001b[0m\n\u001b[0;32m    130\u001b[0m \u001b[38;5;250m\u001b[39m\u001b[38;5;124;03m\"\"\"\u001b[39;00m\n\u001b[0;32m    131\u001b[0m \u001b[38;5;124;03mCheck a handshake response.\u001b[39;00m\n\u001b[0;32m    132\u001b[0m \n\u001b[1;32m   (...)\u001b[0m\n\u001b[0;32m    138\u001b[0m \n\u001b[0;32m    139\u001b[0m \u001b[38;5;124;03m\"\"\"\u001b[39;00m\n\u001b[0;32m    141\u001b[0m \u001b[38;5;28;01mif\u001b[39;00m response\u001b[38;5;241m.\u001b[39mstatus_code \u001b[38;5;241m!=\u001b[39m \u001b[38;5;241m101\u001b[39m:\n\u001b[1;32m--> 142\u001b[0m     \u001b[38;5;28;01mraise\u001b[39;00m InvalidStatus(response)\n\u001b[0;32m    144\u001b[0m headers \u001b[38;5;241m=\u001b[39m response\u001b[38;5;241m.\u001b[39mheaders\n\u001b[0;32m    146\u001b[0m connection: \u001b[38;5;28mlist\u001b[39m[ConnectionOption] \u001b[38;5;241m=\u001b[39m \u001b[38;5;28msum\u001b[39m(\n\u001b[0;32m    147\u001b[0m     [parse_connection(value) \u001b[38;5;28;01mfor\u001b[39;00m value \u001b[38;5;129;01min\u001b[39;00m headers\u001b[38;5;241m.\u001b[39mget_all(\u001b[38;5;124m\"\u001b[39m\u001b[38;5;124mConnection\u001b[39m\u001b[38;5;124m\"\u001b[39m)], []\n\u001b[0;32m    148\u001b[0m )\n",
      "\u001b[1;31mInvalidStatus\u001b[0m: server rejected WebSocket connection: HTTP 403"
     ]
    }
   ],
   "source": [
    "from hypha_rpc.sync import login, connect_to_server\n",
    "\n",
    "# 1) point at the HTTPS URL of your Hypha server\n",
    "config = {\"server_url\": \"https://hypha.bioimage.io\"}\n",
    "\n",
    "# 2) this will print (or, if you provide a callback, open) the one-time login URL\n",
    "#    open that URL in your browser, complete the Auth0 flow\n",
    "token = login(config)\n",
    "\n",
    "# 3) once login() returns, `token` is your JWT\n",
    "print(\"Your Hypha token is:\", token)\n",
    "\n",
    "# 4) you can now pass it into connect_to_server()\n",
    "client = connect_to_server({**config, \"token\": token})\n"
   ]
  },
  {
   "cell_type": "code",
   "execution_count": 18,
   "id": "25550c71-1426-4a9c-ac0a-9e2b8afb3c62",
   "metadata": {},
   "outputs": [
    {
     "name": "stdout",
     "output_type": "stream",
     "text": [
      "ERROR:websocket-client:Failed to connect to wss://hypha.bioimage.io/ws\n"
     ]
    },
    {
     "ename": "InvalidStatus",
     "evalue": "server rejected WebSocket connection: HTTP 403",
     "output_type": "error",
     "traceback": [
      "\u001b[1;31m---------------------------------------------------------------------------\u001b[0m",
      "\u001b[1;31mInvalidStatus\u001b[0m                             Traceback (most recent call last)",
      "Cell \u001b[1;32mIn[18], line 5\u001b[0m\n\u001b[0;32m      1\u001b[0m \u001b[38;5;28;01mfrom\u001b[39;00m \u001b[38;5;21;01mhypha_rpc\u001b[39;00m \u001b[38;5;28;01mimport\u001b[39;00m login, connect_to_server\n\u001b[0;32m      3\u001b[0m config \u001b[38;5;241m=\u001b[39m {\u001b[38;5;124m\"\u001b[39m\u001b[38;5;124mserver_url\u001b[39m\u001b[38;5;124m\"\u001b[39m: \u001b[38;5;124m\"\u001b[39m\u001b[38;5;124mhttps://hypha.bioimage.io\u001b[39m\u001b[38;5;124m\"\u001b[39m}  \u001b[38;5;66;03m# verified\u001b[39;00m\n\u001b[1;32m----> 5\u001b[0m token  \u001b[38;5;241m=\u001b[39m \u001b[38;5;28;01mawait\u001b[39;00m login(config)\n\u001b[0;32m      6\u001b[0m client \u001b[38;5;241m=\u001b[39m \u001b[38;5;28;01mawait\u001b[39;00m connect_to_server({\u001b[38;5;241m*\u001b[39m\u001b[38;5;241m*\u001b[39mconfig, \u001b[38;5;124m\"\u001b[39m\u001b[38;5;124mtoken\u001b[39m\u001b[38;5;124m\"\u001b[39m: token})\n\u001b[0;32m      8\u001b[0m \u001b[38;5;28mprint\u001b[39m(\u001b[38;5;124m\"\u001b[39m\u001b[38;5;124mConnected, client ID:\u001b[39m\u001b[38;5;124m\"\u001b[39m, client\u001b[38;5;241m.\u001b[39mclient_id)\n",
      "File \u001b[1;32m~\\AppData\\Local\\Programs\\Python\\Python311\\Lib\\site-packages\\hypha_rpc\\websocket_client.py:479\u001b[0m, in \u001b[0;36mlogin\u001b[1;34m(config)\u001b[0m\n\u001b[0;32m    476\u001b[0m profile \u001b[38;5;241m=\u001b[39m config\u001b[38;5;241m.\u001b[39mget(\u001b[38;5;124m\"\u001b[39m\u001b[38;5;124mprofile\u001b[39m\u001b[38;5;124m\"\u001b[39m, \u001b[38;5;28;01mFalse\u001b[39;00m)\n\u001b[0;32m    477\u001b[0m ssl \u001b[38;5;241m=\u001b[39m config\u001b[38;5;241m.\u001b[39mget(\u001b[38;5;124m\"\u001b[39m\u001b[38;5;124mssl\u001b[39m\u001b[38;5;124m\"\u001b[39m)\n\u001b[1;32m--> 479\u001b[0m server \u001b[38;5;241m=\u001b[39m \u001b[38;5;28;01mawait\u001b[39;00m connect_to_server(\n\u001b[0;32m    480\u001b[0m     {\n\u001b[0;32m    481\u001b[0m         \u001b[38;5;124m\"\u001b[39m\u001b[38;5;124mname\u001b[39m\u001b[38;5;124m\"\u001b[39m: \u001b[38;5;124m\"\u001b[39m\u001b[38;5;124minitial login client\u001b[39m\u001b[38;5;124m\"\u001b[39m,\n\u001b[0;32m    482\u001b[0m         \u001b[38;5;124m\"\u001b[39m\u001b[38;5;124mserver_url\u001b[39m\u001b[38;5;124m\"\u001b[39m: server_url,\n\u001b[0;32m    483\u001b[0m         \u001b[38;5;124m\"\u001b[39m\u001b[38;5;124mmethod_timeout\u001b[39m\u001b[38;5;124m\"\u001b[39m: timeout,\n\u001b[0;32m    484\u001b[0m         \u001b[38;5;124m\"\u001b[39m\u001b[38;5;124mssl\u001b[39m\u001b[38;5;124m\"\u001b[39m: ssl,\n\u001b[0;32m    485\u001b[0m     }\n\u001b[0;32m    486\u001b[0m )\n\u001b[0;32m    487\u001b[0m \u001b[38;5;28;01mtry\u001b[39;00m:\n\u001b[0;32m    488\u001b[0m     svc \u001b[38;5;241m=\u001b[39m \u001b[38;5;28;01mawait\u001b[39;00m server\u001b[38;5;241m.\u001b[39mget_service(service_id)\n",
      "File \u001b[1;32m~\\AppData\\Local\\Programs\\Python\\Python311\\Lib\\site-packages\\hypha_rpc\\websocket_client.py:516\u001b[0m, in \u001b[0;36mServerContextManager.__aenter__\u001b[1;34m(self)\u001b[0m\n\u001b[0;32m    515\u001b[0m \u001b[38;5;28;01masync\u001b[39;00m \u001b[38;5;28;01mdef\u001b[39;00m \u001b[38;5;21m__aenter__\u001b[39m(\u001b[38;5;28mself\u001b[39m):\n\u001b[1;32m--> 516\u001b[0m     \u001b[38;5;28mself\u001b[39m\u001b[38;5;241m.\u001b[39mwm \u001b[38;5;241m=\u001b[39m \u001b[38;5;28;01mawait\u001b[39;00m _connect_to_server(\u001b[38;5;28mself\u001b[39m\u001b[38;5;241m.\u001b[39mconfig)\n\u001b[0;32m    517\u001b[0m     \u001b[38;5;28;01mif\u001b[39;00m \u001b[38;5;28mself\u001b[39m\u001b[38;5;241m.\u001b[39m_service_id:\n\u001b[0;32m    518\u001b[0m         \u001b[38;5;28;01mreturn\u001b[39;00m \u001b[38;5;28;01mawait\u001b[39;00m \u001b[38;5;28mself\u001b[39m\u001b[38;5;241m.\u001b[39mwm\u001b[38;5;241m.\u001b[39mget_service(\n\u001b[0;32m    519\u001b[0m             \u001b[38;5;28mself\u001b[39m\u001b[38;5;241m.\u001b[39m_service_id,\n\u001b[0;32m    520\u001b[0m             {\u001b[38;5;124m\"\u001b[39m\u001b[38;5;124mcase_conversion\u001b[39m\u001b[38;5;124m\"\u001b[39m: \u001b[38;5;28mself\u001b[39m\u001b[38;5;241m.\u001b[39mconfig\u001b[38;5;241m.\u001b[39mget(\u001b[38;5;124m\"\u001b[39m\u001b[38;5;124mcase_conversion\u001b[39m\u001b[38;5;124m\"\u001b[39m)},\n\u001b[0;32m    521\u001b[0m         )\n",
      "File \u001b[1;32m~\\AppData\\Local\\Programs\\Python\\Python311\\Lib\\site-packages\\hypha_rpc\\websocket_client.py:621\u001b[0m, in \u001b[0;36m_connect_to_server\u001b[1;34m(config)\u001b[0m\n\u001b[0;32m    606\u001b[0m     Connection \u001b[38;5;241m=\u001b[39m WebsocketRPCConnection\n\u001b[0;32m    608\u001b[0m connection \u001b[38;5;241m=\u001b[39m Connection(\n\u001b[0;32m    609\u001b[0m     server_url,\n\u001b[0;32m    610\u001b[0m     client_id,\n\u001b[1;32m   (...)\u001b[0m\n\u001b[0;32m    619\u001b[0m     additional_headers\u001b[38;5;241m=\u001b[39mconfig\u001b[38;5;241m.\u001b[39mget(\u001b[38;5;124m\"\u001b[39m\u001b[38;5;124madditional_headers\u001b[39m\u001b[38;5;124m\"\u001b[39m),\n\u001b[0;32m    620\u001b[0m )\n\u001b[1;32m--> 621\u001b[0m connection_info \u001b[38;5;241m=\u001b[39m \u001b[38;5;28;01mawait\u001b[39;00m connection\u001b[38;5;241m.\u001b[39mopen()\n\u001b[0;32m    622\u001b[0m \u001b[38;5;28;01massert\u001b[39;00m connection_info, (\n\u001b[0;32m    623\u001b[0m     \u001b[38;5;124m\"\u001b[39m\u001b[38;5;124mFailed to connect to the server, no connection info obtained.\u001b[39m\u001b[38;5;124m\"\u001b[39m\n\u001b[0;32m    624\u001b[0m     \u001b[38;5;124m\"\u001b[39m\u001b[38;5;124m This issue is most likely due to an outdated Hypha server version. \u001b[39m\u001b[38;5;124m\"\u001b[39m\n\u001b[0;32m    625\u001b[0m     \u001b[38;5;124m\"\u001b[39m\u001b[38;5;124mPlease use `imjoy-rpc` for compatibility, or upgrade the Hypha server to the latest version.\u001b[39m\u001b[38;5;124m\"\u001b[39m\n\u001b[0;32m    626\u001b[0m )\n\u001b[0;32m    627\u001b[0m \u001b[38;5;28;01mawait\u001b[39;00m asyncio\u001b[38;5;241m.\u001b[39msleep(\u001b[38;5;241m0.1\u001b[39m)\n",
      "File \u001b[1;32m~\\AppData\\Local\\Programs\\Python\\Python311\\Lib\\site-packages\\hypha_rpc\\websocket_client.py:287\u001b[0m, in \u001b[0;36mWebsocketRPCConnection.open\u001b[1;34m(self)\u001b[0m\n\u001b[0;32m    285\u001b[0m \u001b[38;5;28;01mexcept\u001b[39;00m \u001b[38;5;167;01mException\u001b[39;00m \u001b[38;5;28;01mas\u001b[39;00m exp:\n\u001b[0;32m    286\u001b[0m     logger\u001b[38;5;241m.\u001b[39merror(\u001b[38;5;124m\"\u001b[39m\u001b[38;5;124mFailed to connect to \u001b[39m\u001b[38;5;132;01m%s\u001b[39;00m\u001b[38;5;124m\"\u001b[39m, \u001b[38;5;28mself\u001b[39m\u001b[38;5;241m.\u001b[39m_server_url\u001b[38;5;241m.\u001b[39msplit(\u001b[38;5;124m\"\u001b[39m\u001b[38;5;124m?\u001b[39m\u001b[38;5;124m\"\u001b[39m)[\u001b[38;5;241m0\u001b[39m])\n\u001b[1;32m--> 287\u001b[0m     \u001b[38;5;28;01mraise\u001b[39;00m exp\n",
      "File \u001b[1;32m~\\AppData\\Local\\Programs\\Python\\Python311\\Lib\\site-packages\\hypha_rpc\\websocket_client.py:223\u001b[0m, in \u001b[0;36mWebsocketRPCConnection.open\u001b[1;34m(self)\u001b[0m\n\u001b[0;32m    219\u001b[0m logger\u001b[38;5;241m.\u001b[39minfo(\n\u001b[0;32m    220\u001b[0m     \u001b[38;5;124m\"\u001b[39m\u001b[38;5;124mCreating a new websocket connection to \u001b[39m\u001b[38;5;132;01m%s\u001b[39;00m\u001b[38;5;124m\"\u001b[39m, \u001b[38;5;28mself\u001b[39m\u001b[38;5;241m.\u001b[39m_server_url\u001b[38;5;241m.\u001b[39msplit(\u001b[38;5;124m\"\u001b[39m\u001b[38;5;124m?\u001b[39m\u001b[38;5;124m\"\u001b[39m)[\u001b[38;5;241m0\u001b[39m]\n\u001b[0;32m    221\u001b[0m )\n\u001b[0;32m    222\u001b[0m \u001b[38;5;28;01mtry\u001b[39;00m:\n\u001b[1;32m--> 223\u001b[0m     \u001b[38;5;28mself\u001b[39m\u001b[38;5;241m.\u001b[39m_websocket \u001b[38;5;241m=\u001b[39m \u001b[38;5;28;01mawait\u001b[39;00m \u001b[38;5;28mself\u001b[39m\u001b[38;5;241m.\u001b[39m_attempt_connection(\u001b[38;5;28mself\u001b[39m\u001b[38;5;241m.\u001b[39m_server_url)\n\u001b[0;32m    224\u001b[0m     \u001b[38;5;66;03m# Send authentication info as the first message if connected without query params\u001b[39;00m\n\u001b[0;32m    225\u001b[0m     \u001b[38;5;28;01mif\u001b[39;00m \u001b[38;5;28mself\u001b[39m\u001b[38;5;241m.\u001b[39m_legacy_auth:\n",
      "File \u001b[1;32m~\\AppData\\Local\\Programs\\Python\\Python311\\Lib\\site-packages\\hypha_rpc\\websocket_client.py:121\u001b[0m, in \u001b[0;36mWebsocketRPCConnection._attempt_connection\u001b[1;34m(self, server_url, attempt_fallback)\u001b[0m\n\u001b[0;32m    119\u001b[0m \u001b[38;5;66;03m# Only pass ssl if it's not None\u001b[39;00m\n\u001b[0;32m    120\u001b[0m \u001b[38;5;28;01mif\u001b[39;00m \u001b[38;5;28mself\u001b[39m\u001b[38;5;241m.\u001b[39m_ssl \u001b[38;5;129;01mis\u001b[39;00m \u001b[38;5;28;01mNone\u001b[39;00m:\n\u001b[1;32m--> 121\u001b[0m     websocket \u001b[38;5;241m=\u001b[39m \u001b[38;5;28;01mawait\u001b[39;00m asyncio\u001b[38;5;241m.\u001b[39mwait_for(\n\u001b[0;32m    122\u001b[0m         websockets\u001b[38;5;241m.\u001b[39mconnect(\n\u001b[0;32m    123\u001b[0m             server_url,\n\u001b[0;32m    124\u001b[0m             ping_interval\u001b[38;5;241m=\u001b[39m\u001b[38;5;28mself\u001b[39m\u001b[38;5;241m.\u001b[39m_ping_interval,\n\u001b[0;32m    125\u001b[0m             ping_timeout\u001b[38;5;241m=\u001b[39m\u001b[38;5;28mself\u001b[39m\u001b[38;5;241m.\u001b[39m_ping_timeout,\n\u001b[0;32m    126\u001b[0m             additional_headers\u001b[38;5;241m=\u001b[39m\u001b[38;5;28mself\u001b[39m\u001b[38;5;241m.\u001b[39m_additional_headers,\n\u001b[0;32m    127\u001b[0m         ),\n\u001b[0;32m    128\u001b[0m         \u001b[38;5;28mself\u001b[39m\u001b[38;5;241m.\u001b[39m_timeout,\n\u001b[0;32m    129\u001b[0m     )\n\u001b[0;32m    130\u001b[0m \u001b[38;5;28;01melse\u001b[39;00m:\n\u001b[0;32m    131\u001b[0m     websocket \u001b[38;5;241m=\u001b[39m \u001b[38;5;28;01mawait\u001b[39;00m asyncio\u001b[38;5;241m.\u001b[39mwait_for(\n\u001b[0;32m    132\u001b[0m         websockets\u001b[38;5;241m.\u001b[39mconnect(\n\u001b[0;32m    133\u001b[0m             server_url,\n\u001b[1;32m   (...)\u001b[0m\n\u001b[0;32m    139\u001b[0m         \u001b[38;5;28mself\u001b[39m\u001b[38;5;241m.\u001b[39m_timeout,\n\u001b[0;32m    140\u001b[0m     )\n",
      "File \u001b[1;32m~\\AppData\\Local\\Programs\\Python\\Python311\\Lib\\asyncio\\tasks.py:489\u001b[0m, in \u001b[0;36mwait_for\u001b[1;34m(fut, timeout)\u001b[0m\n\u001b[0;32m    486\u001b[0m         \u001b[38;5;28;01mraise\u001b[39;00m\n\u001b[0;32m    488\u001b[0m \u001b[38;5;28;01mif\u001b[39;00m fut\u001b[38;5;241m.\u001b[39mdone():\n\u001b[1;32m--> 489\u001b[0m     \u001b[38;5;28;01mreturn\u001b[39;00m fut\u001b[38;5;241m.\u001b[39mresult()\n\u001b[0;32m    490\u001b[0m \u001b[38;5;28;01melse\u001b[39;00m:\n\u001b[0;32m    491\u001b[0m     fut\u001b[38;5;241m.\u001b[39mremove_done_callback(cb)\n",
      "File \u001b[1;32m~\\AppData\\Local\\Programs\\Python\\Python311\\Lib\\asyncio\\tasks.py:694\u001b[0m, in \u001b[0;36m_wrap_awaitable\u001b[1;34m(awaitable)\u001b[0m\n\u001b[0;32m    687\u001b[0m \u001b[38;5;129m@types\u001b[39m\u001b[38;5;241m.\u001b[39mcoroutine\n\u001b[0;32m    688\u001b[0m \u001b[38;5;28;01mdef\u001b[39;00m \u001b[38;5;21m_wrap_awaitable\u001b[39m(awaitable):\n\u001b[0;32m    689\u001b[0m \u001b[38;5;250m    \u001b[39m\u001b[38;5;124;03m\"\"\"Helper for asyncio.ensure_future().\u001b[39;00m\n\u001b[0;32m    690\u001b[0m \n\u001b[0;32m    691\u001b[0m \u001b[38;5;124;03m    Wraps awaitable (an object with __await__) into a coroutine\u001b[39;00m\n\u001b[0;32m    692\u001b[0m \u001b[38;5;124;03m    that will later be wrapped in a Task by ensure_future().\u001b[39;00m\n\u001b[0;32m    693\u001b[0m \u001b[38;5;124;03m    \"\"\"\u001b[39;00m\n\u001b[1;32m--> 694\u001b[0m     \u001b[38;5;28;01mreturn\u001b[39;00m (\u001b[38;5;28;01myield from\u001b[39;00m awaitable\u001b[38;5;241m.\u001b[39m\u001b[38;5;21m__await__\u001b[39m())\n",
      "File \u001b[1;32m~\\AppData\\Local\\Programs\\Python\\Python311\\Lib\\site-packages\\websockets\\asyncio\\client.py:543\u001b[0m, in \u001b[0;36mconnect.__await_impl__\u001b[1;34m(self)\u001b[0m\n\u001b[0;32m    541\u001b[0m \u001b[38;5;28mself\u001b[39m\u001b[38;5;241m.\u001b[39mconnection \u001b[38;5;241m=\u001b[39m \u001b[38;5;28;01mawait\u001b[39;00m \u001b[38;5;28mself\u001b[39m\u001b[38;5;241m.\u001b[39mcreate_connection()\n\u001b[0;32m    542\u001b[0m \u001b[38;5;28;01mtry\u001b[39;00m:\n\u001b[1;32m--> 543\u001b[0m     \u001b[38;5;28;01mawait\u001b[39;00m \u001b[38;5;28mself\u001b[39m\u001b[38;5;241m.\u001b[39mconnection\u001b[38;5;241m.\u001b[39mhandshake(\n\u001b[0;32m    544\u001b[0m         \u001b[38;5;28mself\u001b[39m\u001b[38;5;241m.\u001b[39madditional_headers,\n\u001b[0;32m    545\u001b[0m         \u001b[38;5;28mself\u001b[39m\u001b[38;5;241m.\u001b[39muser_agent_header,\n\u001b[0;32m    546\u001b[0m     )\n\u001b[0;32m    547\u001b[0m \u001b[38;5;28;01mexcept\u001b[39;00m asyncio\u001b[38;5;241m.\u001b[39mCancelledError:\n\u001b[0;32m    548\u001b[0m     \u001b[38;5;28mself\u001b[39m\u001b[38;5;241m.\u001b[39mconnection\u001b[38;5;241m.\u001b[39mtransport\u001b[38;5;241m.\u001b[39mabort()\n",
      "File \u001b[1;32m~\\AppData\\Local\\Programs\\Python\\Python311\\Lib\\site-packages\\websockets\\asyncio\\client.py:114\u001b[0m, in \u001b[0;36mClientConnection.handshake\u001b[1;34m(self, additional_headers, user_agent_header)\u001b[0m\n\u001b[0;32m    109\u001b[0m \u001b[38;5;66;03m# self.protocol.handshake_exc is set when the connection is lost before\u001b[39;00m\n\u001b[0;32m    110\u001b[0m \u001b[38;5;66;03m# receiving a response, when the response cannot be parsed, or when the\u001b[39;00m\n\u001b[0;32m    111\u001b[0m \u001b[38;5;66;03m# response fails the handshake.\u001b[39;00m\n\u001b[0;32m    113\u001b[0m \u001b[38;5;28;01mif\u001b[39;00m \u001b[38;5;28mself\u001b[39m\u001b[38;5;241m.\u001b[39mprotocol\u001b[38;5;241m.\u001b[39mhandshake_exc \u001b[38;5;129;01mis\u001b[39;00m \u001b[38;5;129;01mnot\u001b[39;00m \u001b[38;5;28;01mNone\u001b[39;00m:\n\u001b[1;32m--> 114\u001b[0m     \u001b[38;5;28;01mraise\u001b[39;00m \u001b[38;5;28mself\u001b[39m\u001b[38;5;241m.\u001b[39mprotocol\u001b[38;5;241m.\u001b[39mhandshake_exc\n",
      "File \u001b[1;32m~\\AppData\\Local\\Programs\\Python\\Python311\\Lib\\site-packages\\websockets\\client.py:325\u001b[0m, in \u001b[0;36mClientProtocol.parse\u001b[1;34m(self)\u001b[0m\n\u001b[0;32m    322\u001b[0m         \u001b[38;5;28mself\u001b[39m\u001b[38;5;241m.\u001b[39mlogger\u001b[38;5;241m.\u001b[39mdebug(\u001b[38;5;124m\"\u001b[39m\u001b[38;5;124m< [body] (\u001b[39m\u001b[38;5;132;01m%d\u001b[39;00m\u001b[38;5;124m bytes)\u001b[39m\u001b[38;5;124m\"\u001b[39m, \u001b[38;5;28mlen\u001b[39m(response\u001b[38;5;241m.\u001b[39mbody))\n\u001b[0;32m    324\u001b[0m \u001b[38;5;28;01mtry\u001b[39;00m:\n\u001b[1;32m--> 325\u001b[0m     \u001b[38;5;28;43mself\u001b[39;49m\u001b[38;5;241;43m.\u001b[39;49m\u001b[43mprocess_response\u001b[49m\u001b[43m(\u001b[49m\u001b[43mresponse\u001b[49m\u001b[43m)\u001b[49m\n\u001b[0;32m    326\u001b[0m \u001b[38;5;28;01mexcept\u001b[39;00m InvalidHandshake \u001b[38;5;28;01mas\u001b[39;00m exc:\n\u001b[0;32m    327\u001b[0m     response\u001b[38;5;241m.\u001b[39m_exception \u001b[38;5;241m=\u001b[39m exc\n",
      "File \u001b[1;32m~\\AppData\\Local\\Programs\\Python\\Python311\\Lib\\site-packages\\websockets\\client.py:142\u001b[0m, in \u001b[0;36mClientProtocol.process_response\u001b[1;34m(self, response)\u001b[0m\n\u001b[0;32m    130\u001b[0m \u001b[38;5;250m\u001b[39m\u001b[38;5;124;03m\"\"\"\u001b[39;00m\n\u001b[0;32m    131\u001b[0m \u001b[38;5;124;03mCheck a handshake response.\u001b[39;00m\n\u001b[0;32m    132\u001b[0m \n\u001b[1;32m   (...)\u001b[0m\n\u001b[0;32m    138\u001b[0m \n\u001b[0;32m    139\u001b[0m \u001b[38;5;124;03m\"\"\"\u001b[39;00m\n\u001b[0;32m    141\u001b[0m \u001b[38;5;28;01mif\u001b[39;00m response\u001b[38;5;241m.\u001b[39mstatus_code \u001b[38;5;241m!=\u001b[39m \u001b[38;5;241m101\u001b[39m:\n\u001b[1;32m--> 142\u001b[0m     \u001b[38;5;28;01mraise\u001b[39;00m InvalidStatus(response)\n\u001b[0;32m    144\u001b[0m headers \u001b[38;5;241m=\u001b[39m response\u001b[38;5;241m.\u001b[39mheaders\n\u001b[0;32m    146\u001b[0m connection: \u001b[38;5;28mlist\u001b[39m[ConnectionOption] \u001b[38;5;241m=\u001b[39m \u001b[38;5;28msum\u001b[39m(\n\u001b[0;32m    147\u001b[0m     [parse_connection(value) \u001b[38;5;28;01mfor\u001b[39;00m value \u001b[38;5;129;01min\u001b[39;00m headers\u001b[38;5;241m.\u001b[39mget_all(\u001b[38;5;124m\"\u001b[39m\u001b[38;5;124mConnection\u001b[39m\u001b[38;5;124m\"\u001b[39m)], []\n\u001b[0;32m    148\u001b[0m )\n",
      "\u001b[1;31mInvalidStatus\u001b[0m: server rejected WebSocket connection: HTTP 403"
     ]
    }
   ],
   "source": [
    "from hypha_rpc import login, connect_to_server\n",
    "\n",
    "config = {\"server_url\": \"https://hypha.bioimage.io\"}  # verified\n",
    "\n",
    "token  = await login(config)\n",
    "client = await connect_to_server({**config, \"token\": token})\n",
    "\n",
    "print(\"Connected, client ID:\", client.client_id)\n"
   ]
  },
  {
   "cell_type": "code",
   "execution_count": 20,
   "id": "6331b882-c0aa-4270-b426-b68f50438935",
   "metadata": {},
   "outputs": [
    {
     "name": "stdout",
     "output_type": "stream",
     "text": [
      "ERROR:websocket-client:Failed to connect to wss://hypha.bioimage.io/ws\n"
     ]
    },
    {
     "ename": "InvalidStatus",
     "evalue": "server rejected WebSocket connection: HTTP 403",
     "output_type": "error",
     "traceback": [
      "\u001b[1;31m---------------------------------------------------------------------------\u001b[0m",
      "\u001b[1;31mInvalidStatus\u001b[0m                             Traceback (most recent call last)",
      "Cell \u001b[1;32mIn[20], line 27\u001b[0m\n\u001b[0;32m     24\u001b[0m     \u001b[38;5;28;01mreturn\u001b[39;00m mask\n\u001b[0;32m     26\u001b[0m \u001b[38;5;28;01mif\u001b[39;00m \u001b[38;5;18m__name__\u001b[39m \u001b[38;5;241m==\u001b[39m \u001b[38;5;124m\"\u001b[39m\u001b[38;5;124m__main__\u001b[39m\u001b[38;5;124m\"\u001b[39m:\n\u001b[1;32m---> 27\u001b[0m     \u001b[43mmain\u001b[49m\u001b[43m(\u001b[49m\u001b[43m)\u001b[49m\n",
      "Cell \u001b[1;32mIn[20], line 5\u001b[0m, in \u001b[0;36mmain\u001b[1;34m()\u001b[0m\n\u001b[0;32m      4\u001b[0m \u001b[38;5;28;01mdef\u001b[39;00m \u001b[38;5;21mmain\u001b[39m():\n\u001b[1;32m----> 5\u001b[0m     server \u001b[38;5;241m=\u001b[39m \u001b[43mconnect_to_server\u001b[49m\u001b[43m(\u001b[49m\n\u001b[0;32m      6\u001b[0m \u001b[43m        \u001b[49m\u001b[43m{\u001b[49m\u001b[38;5;124;43m\"\u001b[39;49m\u001b[38;5;124;43mname\u001b[39;49m\u001b[38;5;124;43m\"\u001b[39;49m\u001b[43m:\u001b[49m\u001b[43m \u001b[49m\u001b[38;5;124;43m\"\u001b[39;49m\u001b[38;5;124;43mtest client\u001b[39;49m\u001b[38;5;124;43m\"\u001b[39;49m\u001b[43m,\u001b[49m\u001b[43m \u001b[49m\u001b[38;5;124;43m\"\u001b[39;49m\u001b[38;5;124;43mserver_url\u001b[39;49m\u001b[38;5;124;43m\"\u001b[39;49m\u001b[43m:\u001b[49m\u001b[43m \u001b[49m\u001b[38;5;124;43m\"\u001b[39;49m\u001b[38;5;124;43mhttps://hypha.bioimage.io\u001b[39;49m\u001b[38;5;124;43m\"\u001b[39;49m\u001b[43m,\u001b[49m\u001b[43m \u001b[49m\u001b[38;5;124;43m\"\u001b[39;49m\u001b[38;5;124;43mmethod_timeout\u001b[39;49m\u001b[38;5;124;43m\"\u001b[39;49m\u001b[43m:\u001b[49m\u001b[43m \u001b[49m\u001b[38;5;241;43m3000\u001b[39;49m\u001b[43m}\u001b[49m\n\u001b[0;32m      7\u001b[0m \u001b[43m    \u001b[49m\u001b[43m)\u001b[49m\n\u001b[0;32m      8\u001b[0m     \u001b[38;5;66;03m# If you are using your own BioEngine worker, please replace `triton-client` to your own BioEngine worker service ID.\u001b[39;00m\n\u001b[0;32m      9\u001b[0m     triton \u001b[38;5;241m=\u001b[39m server\u001b[38;5;241m.\u001b[39mget_service(\u001b[38;5;124m\"\u001b[39m\u001b[38;5;124mtriton-client\u001b[39m\u001b[38;5;124m\"\u001b[39m)\n",
      "File \u001b[1;32m~\\AppData\\Local\\Programs\\Python\\Python311\\Lib\\site-packages\\hypha_rpc\\sync.py:189\u001b[0m, in \u001b[0;36mconnect_to_server\u001b[1;34m(config, **kwargs)\u001b[0m\n\u001b[0;32m    187\u001b[0m \u001b[38;5;28;01mdef\u001b[39;00m \u001b[38;5;21mconnect_to_server\u001b[39m(config\u001b[38;5;241m=\u001b[39m\u001b[38;5;28;01mNone\u001b[39;00m, \u001b[38;5;241m*\u001b[39m\u001b[38;5;241m*\u001b[39mkwargs):\n\u001b[0;32m    188\u001b[0m \u001b[38;5;250m    \u001b[39m\u001b[38;5;124;03m\"\"\"Connect to the Hypha server synchronously.\"\"\"\u001b[39;00m\n\u001b[1;32m--> 189\u001b[0m     server \u001b[38;5;241m=\u001b[39m \u001b[43mSyncHyphaServer\u001b[49m\u001b[43m(\u001b[49m\u001b[43mconfig\u001b[49m\u001b[38;5;241;43m=\u001b[39;49m\u001b[43mconfig\u001b[49m\u001b[43m,\u001b[49m\u001b[43m \u001b[49m\u001b[38;5;241;43m*\u001b[39;49m\u001b[38;5;241;43m*\u001b[39;49m\u001b[43mkwargs\u001b[49m\u001b[43m)\u001b[49m\n\u001b[0;32m    190\u001b[0m     \u001b[38;5;28;01mreturn\u001b[39;00m server\n",
      "File \u001b[1;32m~\\AppData\\Local\\Programs\\Python\\Python311\\Lib\\site-packages\\hypha_rpc\\sync.py:133\u001b[0m, in \u001b[0;36mSyncHyphaServer.__init__\u001b[1;34m(self, config, service_id, **kwargs)\u001b[0m\n\u001b[0;32m    130\u001b[0m     \u001b[38;5;28;01mpass\u001b[39;00m\n\u001b[0;32m    132\u001b[0m future \u001b[38;5;241m=\u001b[39m asyncio\u001b[38;5;241m.\u001b[39mrun_coroutine_threadsafe(\u001b[38;5;28mself\u001b[39m\u001b[38;5;241m.\u001b[39m_connect(config), \u001b[38;5;28mself\u001b[39m\u001b[38;5;241m.\u001b[39m_loop)\n\u001b[1;32m--> 133\u001b[0m \u001b[43mfuture\u001b[49m\u001b[38;5;241;43m.\u001b[39;49m\u001b[43mresult\u001b[49m\u001b[43m(\u001b[49m\u001b[43m)\u001b[49m\n",
      "File \u001b[1;32m~\\AppData\\Local\\Programs\\Python\\Python311\\Lib\\concurrent\\futures\\_base.py:456\u001b[0m, in \u001b[0;36mFuture.result\u001b[1;34m(self, timeout)\u001b[0m\n\u001b[0;32m    454\u001b[0m     \u001b[38;5;28;01mraise\u001b[39;00m CancelledError()\n\u001b[0;32m    455\u001b[0m \u001b[38;5;28;01melif\u001b[39;00m \u001b[38;5;28mself\u001b[39m\u001b[38;5;241m.\u001b[39m_state \u001b[38;5;241m==\u001b[39m FINISHED:\n\u001b[1;32m--> 456\u001b[0m     \u001b[38;5;28;01mreturn\u001b[39;00m \u001b[38;5;28;43mself\u001b[39;49m\u001b[38;5;241;43m.\u001b[39;49m\u001b[43m__get_result\u001b[49m\u001b[43m(\u001b[49m\u001b[43m)\u001b[49m\n\u001b[0;32m    457\u001b[0m \u001b[38;5;28;01melse\u001b[39;00m:\n\u001b[0;32m    458\u001b[0m     \u001b[38;5;28;01mraise\u001b[39;00m \u001b[38;5;167;01mTimeoutError\u001b[39;00m()\n",
      "File \u001b[1;32m~\\AppData\\Local\\Programs\\Python\\Python311\\Lib\\concurrent\\futures\\_base.py:401\u001b[0m, in \u001b[0;36mFuture.__get_result\u001b[1;34m(self)\u001b[0m\n\u001b[0;32m    399\u001b[0m \u001b[38;5;28;01mif\u001b[39;00m \u001b[38;5;28mself\u001b[39m\u001b[38;5;241m.\u001b[39m_exception:\n\u001b[0;32m    400\u001b[0m     \u001b[38;5;28;01mtry\u001b[39;00m:\n\u001b[1;32m--> 401\u001b[0m         \u001b[38;5;28;01mraise\u001b[39;00m \u001b[38;5;28mself\u001b[39m\u001b[38;5;241m.\u001b[39m_exception\n\u001b[0;32m    402\u001b[0m     \u001b[38;5;28;01mfinally\u001b[39;00m:\n\u001b[0;32m    403\u001b[0m         \u001b[38;5;66;03m# Break a reference cycle with the exception in self._exception\u001b[39;00m\n\u001b[0;32m    404\u001b[0m         \u001b[38;5;28mself\u001b[39m \u001b[38;5;241m=\u001b[39m \u001b[38;5;28;01mNone\u001b[39;00m\n",
      "File \u001b[1;32m~\\AppData\\Local\\Programs\\Python\\Python311\\Lib\\site-packages\\hypha_rpc\\sync.py:146\u001b[0m, in \u001b[0;36mSyncHyphaServer._connect\u001b[1;34m(self, config)\u001b[0m\n\u001b[0;32m    144\u001b[0m \u001b[38;5;66;03m# get the a config to see if we need to convert\u001b[39;00m\n\u001b[0;32m    145\u001b[0m mix_async \u001b[38;5;241m=\u001b[39m config\u001b[38;5;241m.\u001b[39mget(\u001b[38;5;124m\"\u001b[39m\u001b[38;5;124mmix_async\u001b[39m\u001b[38;5;124m\"\u001b[39m, \u001b[38;5;28;01mFalse\u001b[39;00m)\n\u001b[1;32m--> 146\u001b[0m \u001b[38;5;28mself\u001b[39m\u001b[38;5;241m.\u001b[39m_server \u001b[38;5;241m=\u001b[39m \u001b[38;5;28;01mawait\u001b[39;00m connect_to_server_async(config)\n\u001b[0;32m    147\u001b[0m \u001b[38;5;28;01mif\u001b[39;00m \u001b[38;5;28mself\u001b[39m\u001b[38;5;241m.\u001b[39m_service_id:\n\u001b[0;32m    148\u001b[0m     service \u001b[38;5;241m=\u001b[39m \u001b[38;5;28;01mawait\u001b[39;00m \u001b[38;5;28mself\u001b[39m\u001b[38;5;241m.\u001b[39m_server\u001b[38;5;241m.\u001b[39mget_service(\u001b[38;5;28mself\u001b[39m\u001b[38;5;241m.\u001b[39m_service_id)\n",
      "File \u001b[1;32m~\\AppData\\Local\\Programs\\Python\\Python311\\Lib\\site-packages\\hypha_rpc\\websocket_client.py:516\u001b[0m, in \u001b[0;36mServerContextManager.__aenter__\u001b[1;34m(self)\u001b[0m\n\u001b[0;32m    515\u001b[0m \u001b[38;5;28;01masync\u001b[39;00m \u001b[38;5;28;01mdef\u001b[39;00m \u001b[38;5;21m__aenter__\u001b[39m(\u001b[38;5;28mself\u001b[39m):\n\u001b[1;32m--> 516\u001b[0m     \u001b[38;5;28mself\u001b[39m\u001b[38;5;241m.\u001b[39mwm \u001b[38;5;241m=\u001b[39m \u001b[38;5;28;01mawait\u001b[39;00m _connect_to_server(\u001b[38;5;28mself\u001b[39m\u001b[38;5;241m.\u001b[39mconfig)\n\u001b[0;32m    517\u001b[0m     \u001b[38;5;28;01mif\u001b[39;00m \u001b[38;5;28mself\u001b[39m\u001b[38;5;241m.\u001b[39m_service_id:\n\u001b[0;32m    518\u001b[0m         \u001b[38;5;28;01mreturn\u001b[39;00m \u001b[38;5;28;01mawait\u001b[39;00m \u001b[38;5;28mself\u001b[39m\u001b[38;5;241m.\u001b[39mwm\u001b[38;5;241m.\u001b[39mget_service(\n\u001b[0;32m    519\u001b[0m             \u001b[38;5;28mself\u001b[39m\u001b[38;5;241m.\u001b[39m_service_id,\n\u001b[0;32m    520\u001b[0m             {\u001b[38;5;124m\"\u001b[39m\u001b[38;5;124mcase_conversion\u001b[39m\u001b[38;5;124m\"\u001b[39m: \u001b[38;5;28mself\u001b[39m\u001b[38;5;241m.\u001b[39mconfig\u001b[38;5;241m.\u001b[39mget(\u001b[38;5;124m\"\u001b[39m\u001b[38;5;124mcase_conversion\u001b[39m\u001b[38;5;124m\"\u001b[39m)},\n\u001b[0;32m    521\u001b[0m         )\n",
      "File \u001b[1;32m~\\AppData\\Local\\Programs\\Python\\Python311\\Lib\\site-packages\\hypha_rpc\\websocket_client.py:621\u001b[0m, in \u001b[0;36m_connect_to_server\u001b[1;34m(config)\u001b[0m\n\u001b[0;32m    606\u001b[0m     Connection \u001b[38;5;241m=\u001b[39m WebsocketRPCConnection\n\u001b[0;32m    608\u001b[0m connection \u001b[38;5;241m=\u001b[39m Connection(\n\u001b[0;32m    609\u001b[0m     server_url,\n\u001b[0;32m    610\u001b[0m     client_id,\n\u001b[1;32m   (...)\u001b[0m\n\u001b[0;32m    619\u001b[0m     additional_headers\u001b[38;5;241m=\u001b[39mconfig\u001b[38;5;241m.\u001b[39mget(\u001b[38;5;124m\"\u001b[39m\u001b[38;5;124madditional_headers\u001b[39m\u001b[38;5;124m\"\u001b[39m),\n\u001b[0;32m    620\u001b[0m )\n\u001b[1;32m--> 621\u001b[0m connection_info \u001b[38;5;241m=\u001b[39m \u001b[38;5;28;01mawait\u001b[39;00m connection\u001b[38;5;241m.\u001b[39mopen()\n\u001b[0;32m    622\u001b[0m \u001b[38;5;28;01massert\u001b[39;00m connection_info, (\n\u001b[0;32m    623\u001b[0m     \u001b[38;5;124m\"\u001b[39m\u001b[38;5;124mFailed to connect to the server, no connection info obtained.\u001b[39m\u001b[38;5;124m\"\u001b[39m\n\u001b[0;32m    624\u001b[0m     \u001b[38;5;124m\"\u001b[39m\u001b[38;5;124m This issue is most likely due to an outdated Hypha server version. \u001b[39m\u001b[38;5;124m\"\u001b[39m\n\u001b[0;32m    625\u001b[0m     \u001b[38;5;124m\"\u001b[39m\u001b[38;5;124mPlease use `imjoy-rpc` for compatibility, or upgrade the Hypha server to the latest version.\u001b[39m\u001b[38;5;124m\"\u001b[39m\n\u001b[0;32m    626\u001b[0m )\n\u001b[0;32m    627\u001b[0m \u001b[38;5;28;01mawait\u001b[39;00m asyncio\u001b[38;5;241m.\u001b[39msleep(\u001b[38;5;241m0.1\u001b[39m)\n",
      "File \u001b[1;32m~\\AppData\\Local\\Programs\\Python\\Python311\\Lib\\site-packages\\hypha_rpc\\websocket_client.py:287\u001b[0m, in \u001b[0;36mWebsocketRPCConnection.open\u001b[1;34m(self)\u001b[0m\n\u001b[0;32m    285\u001b[0m \u001b[38;5;28;01mexcept\u001b[39;00m \u001b[38;5;167;01mException\u001b[39;00m \u001b[38;5;28;01mas\u001b[39;00m exp:\n\u001b[0;32m    286\u001b[0m     logger\u001b[38;5;241m.\u001b[39merror(\u001b[38;5;124m\"\u001b[39m\u001b[38;5;124mFailed to connect to \u001b[39m\u001b[38;5;132;01m%s\u001b[39;00m\u001b[38;5;124m\"\u001b[39m, \u001b[38;5;28mself\u001b[39m\u001b[38;5;241m.\u001b[39m_server_url\u001b[38;5;241m.\u001b[39msplit(\u001b[38;5;124m\"\u001b[39m\u001b[38;5;124m?\u001b[39m\u001b[38;5;124m\"\u001b[39m)[\u001b[38;5;241m0\u001b[39m])\n\u001b[1;32m--> 287\u001b[0m     \u001b[38;5;28;01mraise\u001b[39;00m exp\n",
      "File \u001b[1;32m~\\AppData\\Local\\Programs\\Python\\Python311\\Lib\\site-packages\\hypha_rpc\\websocket_client.py:223\u001b[0m, in \u001b[0;36mWebsocketRPCConnection.open\u001b[1;34m(self)\u001b[0m\n\u001b[0;32m    219\u001b[0m logger\u001b[38;5;241m.\u001b[39minfo(\n\u001b[0;32m    220\u001b[0m     \u001b[38;5;124m\"\u001b[39m\u001b[38;5;124mCreating a new websocket connection to \u001b[39m\u001b[38;5;132;01m%s\u001b[39;00m\u001b[38;5;124m\"\u001b[39m, \u001b[38;5;28mself\u001b[39m\u001b[38;5;241m.\u001b[39m_server_url\u001b[38;5;241m.\u001b[39msplit(\u001b[38;5;124m\"\u001b[39m\u001b[38;5;124m?\u001b[39m\u001b[38;5;124m\"\u001b[39m)[\u001b[38;5;241m0\u001b[39m]\n\u001b[0;32m    221\u001b[0m )\n\u001b[0;32m    222\u001b[0m \u001b[38;5;28;01mtry\u001b[39;00m:\n\u001b[1;32m--> 223\u001b[0m     \u001b[38;5;28mself\u001b[39m\u001b[38;5;241m.\u001b[39m_websocket \u001b[38;5;241m=\u001b[39m \u001b[38;5;28;01mawait\u001b[39;00m \u001b[38;5;28mself\u001b[39m\u001b[38;5;241m.\u001b[39m_attempt_connection(\u001b[38;5;28mself\u001b[39m\u001b[38;5;241m.\u001b[39m_server_url)\n\u001b[0;32m    224\u001b[0m     \u001b[38;5;66;03m# Send authentication info as the first message if connected without query params\u001b[39;00m\n\u001b[0;32m    225\u001b[0m     \u001b[38;5;28;01mif\u001b[39;00m \u001b[38;5;28mself\u001b[39m\u001b[38;5;241m.\u001b[39m_legacy_auth:\n",
      "File \u001b[1;32m~\\AppData\\Local\\Programs\\Python\\Python311\\Lib\\site-packages\\hypha_rpc\\websocket_client.py:121\u001b[0m, in \u001b[0;36mWebsocketRPCConnection._attempt_connection\u001b[1;34m(self, server_url, attempt_fallback)\u001b[0m\n\u001b[0;32m    119\u001b[0m \u001b[38;5;66;03m# Only pass ssl if it's not None\u001b[39;00m\n\u001b[0;32m    120\u001b[0m \u001b[38;5;28;01mif\u001b[39;00m \u001b[38;5;28mself\u001b[39m\u001b[38;5;241m.\u001b[39m_ssl \u001b[38;5;129;01mis\u001b[39;00m \u001b[38;5;28;01mNone\u001b[39;00m:\n\u001b[1;32m--> 121\u001b[0m     websocket \u001b[38;5;241m=\u001b[39m \u001b[38;5;28;01mawait\u001b[39;00m asyncio\u001b[38;5;241m.\u001b[39mwait_for(\n\u001b[0;32m    122\u001b[0m         websockets\u001b[38;5;241m.\u001b[39mconnect(\n\u001b[0;32m    123\u001b[0m             server_url,\n\u001b[0;32m    124\u001b[0m             ping_interval\u001b[38;5;241m=\u001b[39m\u001b[38;5;28mself\u001b[39m\u001b[38;5;241m.\u001b[39m_ping_interval,\n\u001b[0;32m    125\u001b[0m             ping_timeout\u001b[38;5;241m=\u001b[39m\u001b[38;5;28mself\u001b[39m\u001b[38;5;241m.\u001b[39m_ping_timeout,\n\u001b[0;32m    126\u001b[0m             additional_headers\u001b[38;5;241m=\u001b[39m\u001b[38;5;28mself\u001b[39m\u001b[38;5;241m.\u001b[39m_additional_headers,\n\u001b[0;32m    127\u001b[0m         ),\n\u001b[0;32m    128\u001b[0m         \u001b[38;5;28mself\u001b[39m\u001b[38;5;241m.\u001b[39m_timeout,\n\u001b[0;32m    129\u001b[0m     )\n\u001b[0;32m    130\u001b[0m \u001b[38;5;28;01melse\u001b[39;00m:\n\u001b[0;32m    131\u001b[0m     websocket \u001b[38;5;241m=\u001b[39m \u001b[38;5;28;01mawait\u001b[39;00m asyncio\u001b[38;5;241m.\u001b[39mwait_for(\n\u001b[0;32m    132\u001b[0m         websockets\u001b[38;5;241m.\u001b[39mconnect(\n\u001b[0;32m    133\u001b[0m             server_url,\n\u001b[1;32m   (...)\u001b[0m\n\u001b[0;32m    139\u001b[0m         \u001b[38;5;28mself\u001b[39m\u001b[38;5;241m.\u001b[39m_timeout,\n\u001b[0;32m    140\u001b[0m     )\n",
      "File \u001b[1;32m~\\AppData\\Local\\Programs\\Python\\Python311\\Lib\\asyncio\\tasks.py:489\u001b[0m, in \u001b[0;36mwait_for\u001b[1;34m(fut, timeout)\u001b[0m\n\u001b[0;32m    486\u001b[0m         \u001b[38;5;28;01mraise\u001b[39;00m\n\u001b[0;32m    488\u001b[0m \u001b[38;5;28;01mif\u001b[39;00m fut\u001b[38;5;241m.\u001b[39mdone():\n\u001b[1;32m--> 489\u001b[0m     \u001b[38;5;28;01mreturn\u001b[39;00m fut\u001b[38;5;241m.\u001b[39mresult()\n\u001b[0;32m    490\u001b[0m \u001b[38;5;28;01melse\u001b[39;00m:\n\u001b[0;32m    491\u001b[0m     fut\u001b[38;5;241m.\u001b[39mremove_done_callback(cb)\n",
      "File \u001b[1;32m~\\AppData\\Local\\Programs\\Python\\Python311\\Lib\\asyncio\\tasks.py:694\u001b[0m, in \u001b[0;36m_wrap_awaitable\u001b[1;34m(awaitable)\u001b[0m\n\u001b[0;32m    687\u001b[0m \u001b[38;5;129m@types\u001b[39m\u001b[38;5;241m.\u001b[39mcoroutine\n\u001b[0;32m    688\u001b[0m \u001b[38;5;28;01mdef\u001b[39;00m \u001b[38;5;21m_wrap_awaitable\u001b[39m(awaitable):\n\u001b[0;32m    689\u001b[0m \u001b[38;5;250m    \u001b[39m\u001b[38;5;124;03m\"\"\"Helper for asyncio.ensure_future().\u001b[39;00m\n\u001b[0;32m    690\u001b[0m \n\u001b[0;32m    691\u001b[0m \u001b[38;5;124;03m    Wraps awaitable (an object with __await__) into a coroutine\u001b[39;00m\n\u001b[0;32m    692\u001b[0m \u001b[38;5;124;03m    that will later be wrapped in a Task by ensure_future().\u001b[39;00m\n\u001b[0;32m    693\u001b[0m \u001b[38;5;124;03m    \"\"\"\u001b[39;00m\n\u001b[1;32m--> 694\u001b[0m     \u001b[38;5;28;01mreturn\u001b[39;00m (\u001b[38;5;28;01myield from\u001b[39;00m awaitable\u001b[38;5;241m.\u001b[39m\u001b[38;5;21m__await__\u001b[39m())\n",
      "File \u001b[1;32m~\\AppData\\Local\\Programs\\Python\\Python311\\Lib\\site-packages\\websockets\\asyncio\\client.py:543\u001b[0m, in \u001b[0;36mconnect.__await_impl__\u001b[1;34m(self)\u001b[0m\n\u001b[0;32m    541\u001b[0m \u001b[38;5;28mself\u001b[39m\u001b[38;5;241m.\u001b[39mconnection \u001b[38;5;241m=\u001b[39m \u001b[38;5;28;01mawait\u001b[39;00m \u001b[38;5;28mself\u001b[39m\u001b[38;5;241m.\u001b[39mcreate_connection()\n\u001b[0;32m    542\u001b[0m \u001b[38;5;28;01mtry\u001b[39;00m:\n\u001b[1;32m--> 543\u001b[0m     \u001b[38;5;28;01mawait\u001b[39;00m \u001b[38;5;28mself\u001b[39m\u001b[38;5;241m.\u001b[39mconnection\u001b[38;5;241m.\u001b[39mhandshake(\n\u001b[0;32m    544\u001b[0m         \u001b[38;5;28mself\u001b[39m\u001b[38;5;241m.\u001b[39madditional_headers,\n\u001b[0;32m    545\u001b[0m         \u001b[38;5;28mself\u001b[39m\u001b[38;5;241m.\u001b[39muser_agent_header,\n\u001b[0;32m    546\u001b[0m     )\n\u001b[0;32m    547\u001b[0m \u001b[38;5;28;01mexcept\u001b[39;00m asyncio\u001b[38;5;241m.\u001b[39mCancelledError:\n\u001b[0;32m    548\u001b[0m     \u001b[38;5;28mself\u001b[39m\u001b[38;5;241m.\u001b[39mconnection\u001b[38;5;241m.\u001b[39mtransport\u001b[38;5;241m.\u001b[39mabort()\n",
      "File \u001b[1;32m~\\AppData\\Local\\Programs\\Python\\Python311\\Lib\\site-packages\\websockets\\asyncio\\client.py:114\u001b[0m, in \u001b[0;36mClientConnection.handshake\u001b[1;34m(self, additional_headers, user_agent_header)\u001b[0m\n\u001b[0;32m    109\u001b[0m \u001b[38;5;66;03m# self.protocol.handshake_exc is set when the connection is lost before\u001b[39;00m\n\u001b[0;32m    110\u001b[0m \u001b[38;5;66;03m# receiving a response, when the response cannot be parsed, or when the\u001b[39;00m\n\u001b[0;32m    111\u001b[0m \u001b[38;5;66;03m# response fails the handshake.\u001b[39;00m\n\u001b[0;32m    113\u001b[0m \u001b[38;5;28;01mif\u001b[39;00m \u001b[38;5;28mself\u001b[39m\u001b[38;5;241m.\u001b[39mprotocol\u001b[38;5;241m.\u001b[39mhandshake_exc \u001b[38;5;129;01mis\u001b[39;00m \u001b[38;5;129;01mnot\u001b[39;00m \u001b[38;5;28;01mNone\u001b[39;00m:\n\u001b[1;32m--> 114\u001b[0m     \u001b[38;5;28;01mraise\u001b[39;00m \u001b[38;5;28mself\u001b[39m\u001b[38;5;241m.\u001b[39mprotocol\u001b[38;5;241m.\u001b[39mhandshake_exc\n",
      "File \u001b[1;32m~\\AppData\\Local\\Programs\\Python\\Python311\\Lib\\site-packages\\websockets\\client.py:325\u001b[0m, in \u001b[0;36mClientProtocol.parse\u001b[1;34m(self)\u001b[0m\n\u001b[0;32m    322\u001b[0m         \u001b[38;5;28mself\u001b[39m\u001b[38;5;241m.\u001b[39mlogger\u001b[38;5;241m.\u001b[39mdebug(\u001b[38;5;124m\"\u001b[39m\u001b[38;5;124m< [body] (\u001b[39m\u001b[38;5;132;01m%d\u001b[39;00m\u001b[38;5;124m bytes)\u001b[39m\u001b[38;5;124m\"\u001b[39m, \u001b[38;5;28mlen\u001b[39m(response\u001b[38;5;241m.\u001b[39mbody))\n\u001b[0;32m    324\u001b[0m \u001b[38;5;28;01mtry\u001b[39;00m:\n\u001b[1;32m--> 325\u001b[0m     \u001b[38;5;28;43mself\u001b[39;49m\u001b[38;5;241;43m.\u001b[39;49m\u001b[43mprocess_response\u001b[49m\u001b[43m(\u001b[49m\u001b[43mresponse\u001b[49m\u001b[43m)\u001b[49m\n\u001b[0;32m    326\u001b[0m \u001b[38;5;28;01mexcept\u001b[39;00m InvalidHandshake \u001b[38;5;28;01mas\u001b[39;00m exc:\n\u001b[0;32m    327\u001b[0m     response\u001b[38;5;241m.\u001b[39m_exception \u001b[38;5;241m=\u001b[39m exc\n",
      "File \u001b[1;32m~\\AppData\\Local\\Programs\\Python\\Python311\\Lib\\site-packages\\websockets\\client.py:142\u001b[0m, in \u001b[0;36mClientProtocol.process_response\u001b[1;34m(self, response)\u001b[0m\n\u001b[0;32m    130\u001b[0m \u001b[38;5;250m\u001b[39m\u001b[38;5;124;03m\"\"\"\u001b[39;00m\n\u001b[0;32m    131\u001b[0m \u001b[38;5;124;03mCheck a handshake response.\u001b[39;00m\n\u001b[0;32m    132\u001b[0m \n\u001b[1;32m   (...)\u001b[0m\n\u001b[0;32m    138\u001b[0m \n\u001b[0;32m    139\u001b[0m \u001b[38;5;124;03m\"\"\"\u001b[39;00m\n\u001b[0;32m    141\u001b[0m \u001b[38;5;28;01mif\u001b[39;00m response\u001b[38;5;241m.\u001b[39mstatus_code \u001b[38;5;241m!=\u001b[39m \u001b[38;5;241m101\u001b[39m:\n\u001b[1;32m--> 142\u001b[0m     \u001b[38;5;28;01mraise\u001b[39;00m InvalidStatus(response)\n\u001b[0;32m    144\u001b[0m headers \u001b[38;5;241m=\u001b[39m response\u001b[38;5;241m.\u001b[39mheaders\n\u001b[0;32m    146\u001b[0m connection: \u001b[38;5;28mlist\u001b[39m[ConnectionOption] \u001b[38;5;241m=\u001b[39m \u001b[38;5;28msum\u001b[39m(\n\u001b[0;32m    147\u001b[0m     [parse_connection(value) \u001b[38;5;28;01mfor\u001b[39;00m value \u001b[38;5;129;01min\u001b[39;00m headers\u001b[38;5;241m.\u001b[39mget_all(\u001b[38;5;124m\"\u001b[39m\u001b[38;5;124mConnection\u001b[39m\u001b[38;5;124m\"\u001b[39m)], []\n\u001b[0;32m    148\u001b[0m )\n",
      "\u001b[1;31mInvalidStatus\u001b[0m: server rejected WebSocket connection: HTTP 403"
     ]
    }
   ],
   "source": [
    "import numpy as np\n",
    "from hypha_rpc.sync import connect_to_server\n",
    "\n",
    "def main():\n",
    "    server = connect_to_server(\n",
    "        {\"name\": \"test client\", \"server_url\": \"https://hypha.bioimage.io\", \"method_timeout\": 3000}\n",
    "    )\n",
    "    # If you are using your own BioEngine worker, please replace `triton-client` to your own BioEngine worker service ID.\n",
    "    triton = server.get_service(\"triton-client\")\n",
    "\n",
    "    # Create a fake image\n",
    "    image = np.random.randint(0, 255, (1, 3, 256, 256))\n",
    "\n",
    "    # Run inference\n",
    "    ret = triton.execute(\n",
    "        inputs=[{\"inputs\": [image], \"model_id\": \"conscientious-seashell\"}],\n",
    "        model_name=\"bioengine-model-runner\",\n",
    "        serialization=\"imjoy\",\n",
    "    )\n",
    "    result = ret[\"result\"]\n",
    "\n",
    "\n",
    "    mask = result['outputs'][0]\n",
    "    return mask\n",
    "\n",
    "if __name__ == \"__main__\":\n",
    "    main()"
   ]
  },
  {
   "cell_type": "code",
   "execution_count": 22,
   "id": "0ffafbcb-6996-4dbf-b499-514e8e6ff1e2",
   "metadata": {},
   "outputs": [
    {
     "name": "stdout",
     "output_type": "stream",
     "text": [
      "Resolved addresses: [(<AddressFamily.AF_INET: 2>, 0, 0, '', ('185.199.109.153', 0)), (<AddressFamily.AF_INET: 2>, 0, 0, '', ('185.199.110.153', 0)), (<AddressFamily.AF_INET: 2>, 0, 0, '', ('185.199.108.153', 0)), (<AddressFamily.AF_INET: 2>, 0, 0, '', ('185.199.111.153', 0))]\n"
     ]
    }
   ],
   "source": [
    "import socket\n",
    "\n",
    "host = \"bioimage.io\"  # replace with your server_url’s host\n",
    "try:\n",
    "    infos = socket.getaddrinfo(host, None)\n",
    "    print(\"Resolved addresses:\", infos)\n",
    "except socket.gaierror as e:\n",
    "    print(\"DNS lookup failed:\", e)\n"
   ]
  },
  {
   "cell_type": "code",
   "execution_count": 23,
   "id": "bcdd49ae-f261-42bb-a7f6-6fef0fbeefa2",
   "metadata": {},
   "outputs": [
    {
     "name": "stdout",
     "output_type": "stream",
     "text": [
      "ERROR:websocket-client:Failed to connect to wss://hypha.bioimage.io/ws\n"
     ]
    },
    {
     "name": "stderr",
     "output_type": "stream",
     "text": [
      "<frozen genericpath>:77: RuntimeWarning: coroutine 'main' was never awaited\n",
      "RuntimeWarning: Enable tracemalloc to get the object allocation traceback\n"
     ]
    },
    {
     "ename": "InvalidStatus",
     "evalue": "server rejected WebSocket connection: HTTP 403",
     "output_type": "error",
     "traceback": [
      "\u001b[1;31m---------------------------------------------------------------------------\u001b[0m",
      "\u001b[1;31mInvalidStatus\u001b[0m                             Traceback (most recent call last)",
      "Cell \u001b[1;32mIn[23], line 5\u001b[0m\n\u001b[0;32m      1\u001b[0m \u001b[38;5;28;01mfrom\u001b[39;00m \u001b[38;5;21;01mhypha_rpc\u001b[39;00m \u001b[38;5;28;01mimport\u001b[39;00m login, connect_to_server\n\u001b[0;32m      3\u001b[0m config \u001b[38;5;241m=\u001b[39m {\u001b[38;5;124m\"\u001b[39m\u001b[38;5;124mserver_url\u001b[39m\u001b[38;5;124m\"\u001b[39m: \u001b[38;5;124m\"\u001b[39m\u001b[38;5;124mhttps://hypha.bioimage.io\u001b[39m\u001b[38;5;124m\"\u001b[39m}  \u001b[38;5;66;03m# verified\u001b[39;00m\n\u001b[1;32m----> 5\u001b[0m token  \u001b[38;5;241m=\u001b[39m \u001b[38;5;28;01mawait\u001b[39;00m login(config)\n\u001b[0;32m      6\u001b[0m client \u001b[38;5;241m=\u001b[39m \u001b[38;5;28;01mawait\u001b[39;00m connect_to_server({\u001b[38;5;241m*\u001b[39m\u001b[38;5;241m*\u001b[39mconfig, \u001b[38;5;124m\"\u001b[39m\u001b[38;5;124mtoken\u001b[39m\u001b[38;5;124m\"\u001b[39m: token})\n\u001b[0;32m      8\u001b[0m \u001b[38;5;28mprint\u001b[39m(\u001b[38;5;124m\"\u001b[39m\u001b[38;5;124mConnected, client ID:\u001b[39m\u001b[38;5;124m\"\u001b[39m, client\u001b[38;5;241m.\u001b[39mclient_id)\n",
      "File \u001b[1;32m~\\AppData\\Local\\Programs\\Python\\Python311\\Lib\\site-packages\\hypha_rpc\\websocket_client.py:479\u001b[0m, in \u001b[0;36mlogin\u001b[1;34m(config)\u001b[0m\n\u001b[0;32m    476\u001b[0m profile \u001b[38;5;241m=\u001b[39m config\u001b[38;5;241m.\u001b[39mget(\u001b[38;5;124m\"\u001b[39m\u001b[38;5;124mprofile\u001b[39m\u001b[38;5;124m\"\u001b[39m, \u001b[38;5;28;01mFalse\u001b[39;00m)\n\u001b[0;32m    477\u001b[0m ssl \u001b[38;5;241m=\u001b[39m config\u001b[38;5;241m.\u001b[39mget(\u001b[38;5;124m\"\u001b[39m\u001b[38;5;124mssl\u001b[39m\u001b[38;5;124m\"\u001b[39m)\n\u001b[1;32m--> 479\u001b[0m server \u001b[38;5;241m=\u001b[39m \u001b[38;5;28;01mawait\u001b[39;00m connect_to_server(\n\u001b[0;32m    480\u001b[0m     {\n\u001b[0;32m    481\u001b[0m         \u001b[38;5;124m\"\u001b[39m\u001b[38;5;124mname\u001b[39m\u001b[38;5;124m\"\u001b[39m: \u001b[38;5;124m\"\u001b[39m\u001b[38;5;124minitial login client\u001b[39m\u001b[38;5;124m\"\u001b[39m,\n\u001b[0;32m    482\u001b[0m         \u001b[38;5;124m\"\u001b[39m\u001b[38;5;124mserver_url\u001b[39m\u001b[38;5;124m\"\u001b[39m: server_url,\n\u001b[0;32m    483\u001b[0m         \u001b[38;5;124m\"\u001b[39m\u001b[38;5;124mmethod_timeout\u001b[39m\u001b[38;5;124m\"\u001b[39m: timeout,\n\u001b[0;32m    484\u001b[0m         \u001b[38;5;124m\"\u001b[39m\u001b[38;5;124mssl\u001b[39m\u001b[38;5;124m\"\u001b[39m: ssl,\n\u001b[0;32m    485\u001b[0m     }\n\u001b[0;32m    486\u001b[0m )\n\u001b[0;32m    487\u001b[0m \u001b[38;5;28;01mtry\u001b[39;00m:\n\u001b[0;32m    488\u001b[0m     svc \u001b[38;5;241m=\u001b[39m \u001b[38;5;28;01mawait\u001b[39;00m server\u001b[38;5;241m.\u001b[39mget_service(service_id)\n",
      "File \u001b[1;32m~\\AppData\\Local\\Programs\\Python\\Python311\\Lib\\site-packages\\hypha_rpc\\websocket_client.py:516\u001b[0m, in \u001b[0;36mServerContextManager.__aenter__\u001b[1;34m(self)\u001b[0m\n\u001b[0;32m    515\u001b[0m \u001b[38;5;28;01masync\u001b[39;00m \u001b[38;5;28;01mdef\u001b[39;00m \u001b[38;5;21m__aenter__\u001b[39m(\u001b[38;5;28mself\u001b[39m):\n\u001b[1;32m--> 516\u001b[0m     \u001b[38;5;28mself\u001b[39m\u001b[38;5;241m.\u001b[39mwm \u001b[38;5;241m=\u001b[39m \u001b[38;5;28;01mawait\u001b[39;00m _connect_to_server(\u001b[38;5;28mself\u001b[39m\u001b[38;5;241m.\u001b[39mconfig)\n\u001b[0;32m    517\u001b[0m     \u001b[38;5;28;01mif\u001b[39;00m \u001b[38;5;28mself\u001b[39m\u001b[38;5;241m.\u001b[39m_service_id:\n\u001b[0;32m    518\u001b[0m         \u001b[38;5;28;01mreturn\u001b[39;00m \u001b[38;5;28;01mawait\u001b[39;00m \u001b[38;5;28mself\u001b[39m\u001b[38;5;241m.\u001b[39mwm\u001b[38;5;241m.\u001b[39mget_service(\n\u001b[0;32m    519\u001b[0m             \u001b[38;5;28mself\u001b[39m\u001b[38;5;241m.\u001b[39m_service_id,\n\u001b[0;32m    520\u001b[0m             {\u001b[38;5;124m\"\u001b[39m\u001b[38;5;124mcase_conversion\u001b[39m\u001b[38;5;124m\"\u001b[39m: \u001b[38;5;28mself\u001b[39m\u001b[38;5;241m.\u001b[39mconfig\u001b[38;5;241m.\u001b[39mget(\u001b[38;5;124m\"\u001b[39m\u001b[38;5;124mcase_conversion\u001b[39m\u001b[38;5;124m\"\u001b[39m)},\n\u001b[0;32m    521\u001b[0m         )\n",
      "File \u001b[1;32m~\\AppData\\Local\\Programs\\Python\\Python311\\Lib\\site-packages\\hypha_rpc\\websocket_client.py:621\u001b[0m, in \u001b[0;36m_connect_to_server\u001b[1;34m(config)\u001b[0m\n\u001b[0;32m    606\u001b[0m     Connection \u001b[38;5;241m=\u001b[39m WebsocketRPCConnection\n\u001b[0;32m    608\u001b[0m connection \u001b[38;5;241m=\u001b[39m Connection(\n\u001b[0;32m    609\u001b[0m     server_url,\n\u001b[0;32m    610\u001b[0m     client_id,\n\u001b[1;32m   (...)\u001b[0m\n\u001b[0;32m    619\u001b[0m     additional_headers\u001b[38;5;241m=\u001b[39mconfig\u001b[38;5;241m.\u001b[39mget(\u001b[38;5;124m\"\u001b[39m\u001b[38;5;124madditional_headers\u001b[39m\u001b[38;5;124m\"\u001b[39m),\n\u001b[0;32m    620\u001b[0m )\n\u001b[1;32m--> 621\u001b[0m connection_info \u001b[38;5;241m=\u001b[39m \u001b[38;5;28;01mawait\u001b[39;00m connection\u001b[38;5;241m.\u001b[39mopen()\n\u001b[0;32m    622\u001b[0m \u001b[38;5;28;01massert\u001b[39;00m connection_info, (\n\u001b[0;32m    623\u001b[0m     \u001b[38;5;124m\"\u001b[39m\u001b[38;5;124mFailed to connect to the server, no connection info obtained.\u001b[39m\u001b[38;5;124m\"\u001b[39m\n\u001b[0;32m    624\u001b[0m     \u001b[38;5;124m\"\u001b[39m\u001b[38;5;124m This issue is most likely due to an outdated Hypha server version. \u001b[39m\u001b[38;5;124m\"\u001b[39m\n\u001b[0;32m    625\u001b[0m     \u001b[38;5;124m\"\u001b[39m\u001b[38;5;124mPlease use `imjoy-rpc` for compatibility, or upgrade the Hypha server to the latest version.\u001b[39m\u001b[38;5;124m\"\u001b[39m\n\u001b[0;32m    626\u001b[0m )\n\u001b[0;32m    627\u001b[0m \u001b[38;5;28;01mawait\u001b[39;00m asyncio\u001b[38;5;241m.\u001b[39msleep(\u001b[38;5;241m0.1\u001b[39m)\n",
      "File \u001b[1;32m~\\AppData\\Local\\Programs\\Python\\Python311\\Lib\\site-packages\\hypha_rpc\\websocket_client.py:287\u001b[0m, in \u001b[0;36mWebsocketRPCConnection.open\u001b[1;34m(self)\u001b[0m\n\u001b[0;32m    285\u001b[0m \u001b[38;5;28;01mexcept\u001b[39;00m \u001b[38;5;167;01mException\u001b[39;00m \u001b[38;5;28;01mas\u001b[39;00m exp:\n\u001b[0;32m    286\u001b[0m     logger\u001b[38;5;241m.\u001b[39merror(\u001b[38;5;124m\"\u001b[39m\u001b[38;5;124mFailed to connect to \u001b[39m\u001b[38;5;132;01m%s\u001b[39;00m\u001b[38;5;124m\"\u001b[39m, \u001b[38;5;28mself\u001b[39m\u001b[38;5;241m.\u001b[39m_server_url\u001b[38;5;241m.\u001b[39msplit(\u001b[38;5;124m\"\u001b[39m\u001b[38;5;124m?\u001b[39m\u001b[38;5;124m\"\u001b[39m)[\u001b[38;5;241m0\u001b[39m])\n\u001b[1;32m--> 287\u001b[0m     \u001b[38;5;28;01mraise\u001b[39;00m exp\n",
      "File \u001b[1;32m~\\AppData\\Local\\Programs\\Python\\Python311\\Lib\\site-packages\\hypha_rpc\\websocket_client.py:223\u001b[0m, in \u001b[0;36mWebsocketRPCConnection.open\u001b[1;34m(self)\u001b[0m\n\u001b[0;32m    219\u001b[0m logger\u001b[38;5;241m.\u001b[39minfo(\n\u001b[0;32m    220\u001b[0m     \u001b[38;5;124m\"\u001b[39m\u001b[38;5;124mCreating a new websocket connection to \u001b[39m\u001b[38;5;132;01m%s\u001b[39;00m\u001b[38;5;124m\"\u001b[39m, \u001b[38;5;28mself\u001b[39m\u001b[38;5;241m.\u001b[39m_server_url\u001b[38;5;241m.\u001b[39msplit(\u001b[38;5;124m\"\u001b[39m\u001b[38;5;124m?\u001b[39m\u001b[38;5;124m\"\u001b[39m)[\u001b[38;5;241m0\u001b[39m]\n\u001b[0;32m    221\u001b[0m )\n\u001b[0;32m    222\u001b[0m \u001b[38;5;28;01mtry\u001b[39;00m:\n\u001b[1;32m--> 223\u001b[0m     \u001b[38;5;28mself\u001b[39m\u001b[38;5;241m.\u001b[39m_websocket \u001b[38;5;241m=\u001b[39m \u001b[38;5;28;01mawait\u001b[39;00m \u001b[38;5;28mself\u001b[39m\u001b[38;5;241m.\u001b[39m_attempt_connection(\u001b[38;5;28mself\u001b[39m\u001b[38;5;241m.\u001b[39m_server_url)\n\u001b[0;32m    224\u001b[0m     \u001b[38;5;66;03m# Send authentication info as the first message if connected without query params\u001b[39;00m\n\u001b[0;32m    225\u001b[0m     \u001b[38;5;28;01mif\u001b[39;00m \u001b[38;5;28mself\u001b[39m\u001b[38;5;241m.\u001b[39m_legacy_auth:\n",
      "File \u001b[1;32m~\\AppData\\Local\\Programs\\Python\\Python311\\Lib\\site-packages\\hypha_rpc\\websocket_client.py:121\u001b[0m, in \u001b[0;36mWebsocketRPCConnection._attempt_connection\u001b[1;34m(self, server_url, attempt_fallback)\u001b[0m\n\u001b[0;32m    119\u001b[0m \u001b[38;5;66;03m# Only pass ssl if it's not None\u001b[39;00m\n\u001b[0;32m    120\u001b[0m \u001b[38;5;28;01mif\u001b[39;00m \u001b[38;5;28mself\u001b[39m\u001b[38;5;241m.\u001b[39m_ssl \u001b[38;5;129;01mis\u001b[39;00m \u001b[38;5;28;01mNone\u001b[39;00m:\n\u001b[1;32m--> 121\u001b[0m     websocket \u001b[38;5;241m=\u001b[39m \u001b[38;5;28;01mawait\u001b[39;00m asyncio\u001b[38;5;241m.\u001b[39mwait_for(\n\u001b[0;32m    122\u001b[0m         websockets\u001b[38;5;241m.\u001b[39mconnect(\n\u001b[0;32m    123\u001b[0m             server_url,\n\u001b[0;32m    124\u001b[0m             ping_interval\u001b[38;5;241m=\u001b[39m\u001b[38;5;28mself\u001b[39m\u001b[38;5;241m.\u001b[39m_ping_interval,\n\u001b[0;32m    125\u001b[0m             ping_timeout\u001b[38;5;241m=\u001b[39m\u001b[38;5;28mself\u001b[39m\u001b[38;5;241m.\u001b[39m_ping_timeout,\n\u001b[0;32m    126\u001b[0m             additional_headers\u001b[38;5;241m=\u001b[39m\u001b[38;5;28mself\u001b[39m\u001b[38;5;241m.\u001b[39m_additional_headers,\n\u001b[0;32m    127\u001b[0m         ),\n\u001b[0;32m    128\u001b[0m         \u001b[38;5;28mself\u001b[39m\u001b[38;5;241m.\u001b[39m_timeout,\n\u001b[0;32m    129\u001b[0m     )\n\u001b[0;32m    130\u001b[0m \u001b[38;5;28;01melse\u001b[39;00m:\n\u001b[0;32m    131\u001b[0m     websocket \u001b[38;5;241m=\u001b[39m \u001b[38;5;28;01mawait\u001b[39;00m asyncio\u001b[38;5;241m.\u001b[39mwait_for(\n\u001b[0;32m    132\u001b[0m         websockets\u001b[38;5;241m.\u001b[39mconnect(\n\u001b[0;32m    133\u001b[0m             server_url,\n\u001b[1;32m   (...)\u001b[0m\n\u001b[0;32m    139\u001b[0m         \u001b[38;5;28mself\u001b[39m\u001b[38;5;241m.\u001b[39m_timeout,\n\u001b[0;32m    140\u001b[0m     )\n",
      "File \u001b[1;32m~\\AppData\\Local\\Programs\\Python\\Python311\\Lib\\asyncio\\tasks.py:489\u001b[0m, in \u001b[0;36mwait_for\u001b[1;34m(fut, timeout)\u001b[0m\n\u001b[0;32m    486\u001b[0m         \u001b[38;5;28;01mraise\u001b[39;00m\n\u001b[0;32m    488\u001b[0m \u001b[38;5;28;01mif\u001b[39;00m fut\u001b[38;5;241m.\u001b[39mdone():\n\u001b[1;32m--> 489\u001b[0m     \u001b[38;5;28;01mreturn\u001b[39;00m fut\u001b[38;5;241m.\u001b[39mresult()\n\u001b[0;32m    490\u001b[0m \u001b[38;5;28;01melse\u001b[39;00m:\n\u001b[0;32m    491\u001b[0m     fut\u001b[38;5;241m.\u001b[39mremove_done_callback(cb)\n",
      "File \u001b[1;32m~\\AppData\\Local\\Programs\\Python\\Python311\\Lib\\asyncio\\tasks.py:694\u001b[0m, in \u001b[0;36m_wrap_awaitable\u001b[1;34m(awaitable)\u001b[0m\n\u001b[0;32m    687\u001b[0m \u001b[38;5;129m@types\u001b[39m\u001b[38;5;241m.\u001b[39mcoroutine\n\u001b[0;32m    688\u001b[0m \u001b[38;5;28;01mdef\u001b[39;00m \u001b[38;5;21m_wrap_awaitable\u001b[39m(awaitable):\n\u001b[0;32m    689\u001b[0m \u001b[38;5;250m    \u001b[39m\u001b[38;5;124;03m\"\"\"Helper for asyncio.ensure_future().\u001b[39;00m\n\u001b[0;32m    690\u001b[0m \n\u001b[0;32m    691\u001b[0m \u001b[38;5;124;03m    Wraps awaitable (an object with __await__) into a coroutine\u001b[39;00m\n\u001b[0;32m    692\u001b[0m \u001b[38;5;124;03m    that will later be wrapped in a Task by ensure_future().\u001b[39;00m\n\u001b[0;32m    693\u001b[0m \u001b[38;5;124;03m    \"\"\"\u001b[39;00m\n\u001b[1;32m--> 694\u001b[0m     \u001b[38;5;28;01mreturn\u001b[39;00m (\u001b[38;5;28;01myield from\u001b[39;00m awaitable\u001b[38;5;241m.\u001b[39m\u001b[38;5;21m__await__\u001b[39m())\n",
      "File \u001b[1;32m~\\AppData\\Local\\Programs\\Python\\Python311\\Lib\\site-packages\\websockets\\asyncio\\client.py:543\u001b[0m, in \u001b[0;36mconnect.__await_impl__\u001b[1;34m(self)\u001b[0m\n\u001b[0;32m    541\u001b[0m \u001b[38;5;28mself\u001b[39m\u001b[38;5;241m.\u001b[39mconnection \u001b[38;5;241m=\u001b[39m \u001b[38;5;28;01mawait\u001b[39;00m \u001b[38;5;28mself\u001b[39m\u001b[38;5;241m.\u001b[39mcreate_connection()\n\u001b[0;32m    542\u001b[0m \u001b[38;5;28;01mtry\u001b[39;00m:\n\u001b[1;32m--> 543\u001b[0m     \u001b[38;5;28;01mawait\u001b[39;00m \u001b[38;5;28mself\u001b[39m\u001b[38;5;241m.\u001b[39mconnection\u001b[38;5;241m.\u001b[39mhandshake(\n\u001b[0;32m    544\u001b[0m         \u001b[38;5;28mself\u001b[39m\u001b[38;5;241m.\u001b[39madditional_headers,\n\u001b[0;32m    545\u001b[0m         \u001b[38;5;28mself\u001b[39m\u001b[38;5;241m.\u001b[39muser_agent_header,\n\u001b[0;32m    546\u001b[0m     )\n\u001b[0;32m    547\u001b[0m \u001b[38;5;28;01mexcept\u001b[39;00m asyncio\u001b[38;5;241m.\u001b[39mCancelledError:\n\u001b[0;32m    548\u001b[0m     \u001b[38;5;28mself\u001b[39m\u001b[38;5;241m.\u001b[39mconnection\u001b[38;5;241m.\u001b[39mtransport\u001b[38;5;241m.\u001b[39mabort()\n",
      "File \u001b[1;32m~\\AppData\\Local\\Programs\\Python\\Python311\\Lib\\site-packages\\websockets\\asyncio\\client.py:114\u001b[0m, in \u001b[0;36mClientConnection.handshake\u001b[1;34m(self, additional_headers, user_agent_header)\u001b[0m\n\u001b[0;32m    109\u001b[0m \u001b[38;5;66;03m# self.protocol.handshake_exc is set when the connection is lost before\u001b[39;00m\n\u001b[0;32m    110\u001b[0m \u001b[38;5;66;03m# receiving a response, when the response cannot be parsed, or when the\u001b[39;00m\n\u001b[0;32m    111\u001b[0m \u001b[38;5;66;03m# response fails the handshake.\u001b[39;00m\n\u001b[0;32m    113\u001b[0m \u001b[38;5;28;01mif\u001b[39;00m \u001b[38;5;28mself\u001b[39m\u001b[38;5;241m.\u001b[39mprotocol\u001b[38;5;241m.\u001b[39mhandshake_exc \u001b[38;5;129;01mis\u001b[39;00m \u001b[38;5;129;01mnot\u001b[39;00m \u001b[38;5;28;01mNone\u001b[39;00m:\n\u001b[1;32m--> 114\u001b[0m     \u001b[38;5;28;01mraise\u001b[39;00m \u001b[38;5;28mself\u001b[39m\u001b[38;5;241m.\u001b[39mprotocol\u001b[38;5;241m.\u001b[39mhandshake_exc\n",
      "File \u001b[1;32m~\\AppData\\Local\\Programs\\Python\\Python311\\Lib\\site-packages\\websockets\\client.py:325\u001b[0m, in \u001b[0;36mClientProtocol.parse\u001b[1;34m(self)\u001b[0m\n\u001b[0;32m    322\u001b[0m         \u001b[38;5;28mself\u001b[39m\u001b[38;5;241m.\u001b[39mlogger\u001b[38;5;241m.\u001b[39mdebug(\u001b[38;5;124m\"\u001b[39m\u001b[38;5;124m< [body] (\u001b[39m\u001b[38;5;132;01m%d\u001b[39;00m\u001b[38;5;124m bytes)\u001b[39m\u001b[38;5;124m\"\u001b[39m, \u001b[38;5;28mlen\u001b[39m(response\u001b[38;5;241m.\u001b[39mbody))\n\u001b[0;32m    324\u001b[0m \u001b[38;5;28;01mtry\u001b[39;00m:\n\u001b[1;32m--> 325\u001b[0m     \u001b[38;5;28;43mself\u001b[39;49m\u001b[38;5;241;43m.\u001b[39;49m\u001b[43mprocess_response\u001b[49m\u001b[43m(\u001b[49m\u001b[43mresponse\u001b[49m\u001b[43m)\u001b[49m\n\u001b[0;32m    326\u001b[0m \u001b[38;5;28;01mexcept\u001b[39;00m InvalidHandshake \u001b[38;5;28;01mas\u001b[39;00m exc:\n\u001b[0;32m    327\u001b[0m     response\u001b[38;5;241m.\u001b[39m_exception \u001b[38;5;241m=\u001b[39m exc\n",
      "File \u001b[1;32m~\\AppData\\Local\\Programs\\Python\\Python311\\Lib\\site-packages\\websockets\\client.py:142\u001b[0m, in \u001b[0;36mClientProtocol.process_response\u001b[1;34m(self, response)\u001b[0m\n\u001b[0;32m    130\u001b[0m \u001b[38;5;250m\u001b[39m\u001b[38;5;124;03m\"\"\"\u001b[39;00m\n\u001b[0;32m    131\u001b[0m \u001b[38;5;124;03mCheck a handshake response.\u001b[39;00m\n\u001b[0;32m    132\u001b[0m \n\u001b[1;32m   (...)\u001b[0m\n\u001b[0;32m    138\u001b[0m \n\u001b[0;32m    139\u001b[0m \u001b[38;5;124;03m\"\"\"\u001b[39;00m\n\u001b[0;32m    141\u001b[0m \u001b[38;5;28;01mif\u001b[39;00m response\u001b[38;5;241m.\u001b[39mstatus_code \u001b[38;5;241m!=\u001b[39m \u001b[38;5;241m101\u001b[39m:\n\u001b[1;32m--> 142\u001b[0m     \u001b[38;5;28;01mraise\u001b[39;00m InvalidStatus(response)\n\u001b[0;32m    144\u001b[0m headers \u001b[38;5;241m=\u001b[39m response\u001b[38;5;241m.\u001b[39mheaders\n\u001b[0;32m    146\u001b[0m connection: \u001b[38;5;28mlist\u001b[39m[ConnectionOption] \u001b[38;5;241m=\u001b[39m \u001b[38;5;28msum\u001b[39m(\n\u001b[0;32m    147\u001b[0m     [parse_connection(value) \u001b[38;5;28;01mfor\u001b[39;00m value \u001b[38;5;129;01min\u001b[39;00m headers\u001b[38;5;241m.\u001b[39mget_all(\u001b[38;5;124m\"\u001b[39m\u001b[38;5;124mConnection\u001b[39m\u001b[38;5;124m\"\u001b[39m)], []\n\u001b[0;32m    148\u001b[0m )\n",
      "\u001b[1;31mInvalidStatus\u001b[0m: server rejected WebSocket connection: HTTP 403"
     ]
    }
   ],
   "source": [
    "from hypha_rpc import login, connect_to_server\n",
    "\n",
    "config = {\"server_url\": \"https://hypha.bioimage.io\"}  # verified\n",
    "\n",
    "token  = await login(config)\n",
    "client = await connect_to_server({**config, \"token\": token})\n",
    "\n",
    "print(\"Connected, client ID:\", client.client_id)"
   ]
  },
  {
   "cell_type": "code",
   "execution_count": 24,
   "id": "600a9de7-bb5e-42a4-8f98-72b62cfbfae0",
   "metadata": {},
   "outputs": [
    {
     "name": "stdout",
     "output_type": "stream",
     "text": [
      "ERROR:websocket-client:Failed to connect to wss://hypha.bioimage.io/ws\n"
     ]
    },
    {
     "ename": "InvalidStatus",
     "evalue": "server rejected WebSocket connection: HTTP 403",
     "output_type": "error",
     "traceback": [
      "\u001b[1;31m---------------------------------------------------------------------------\u001b[0m",
      "\u001b[1;31mInvalidStatus\u001b[0m                             Traceback (most recent call last)",
      "Cell \u001b[1;32mIn[24], line 4\u001b[0m\n\u001b[0;32m      1\u001b[0m \u001b[38;5;28;01mfrom\u001b[39;00m \u001b[38;5;21;01mhypha_rpc\u001b[39;00m \u001b[38;5;28;01mimport\u001b[39;00m login, connect_to_server\n\u001b[0;32m      3\u001b[0m \u001b[38;5;66;03m# Step 1: fetch a login token (this will print or call back a URL you must open)\u001b[39;00m\n\u001b[1;32m----> 4\u001b[0m token \u001b[38;5;241m=\u001b[39m \u001b[38;5;28;01mawait\u001b[39;00m login({\n\u001b[0;32m      5\u001b[0m     \u001b[38;5;124m\"\u001b[39m\u001b[38;5;124mserver_url\u001b[39m\u001b[38;5;124m\"\u001b[39m: \u001b[38;5;124m\"\u001b[39m\u001b[38;5;124mhttps://hypha.bioimage.io\u001b[39m\u001b[38;5;124m\"\u001b[39m,\n\u001b[0;32m      6\u001b[0m })\n\u001b[0;32m      8\u001b[0m \u001b[38;5;66;03m# Step 2: connect, passing that token\u001b[39;00m\n\u001b[0;32m      9\u001b[0m server \u001b[38;5;241m=\u001b[39m \u001b[38;5;28;01mawait\u001b[39;00m connect_to_server({\n\u001b[0;32m     10\u001b[0m     \u001b[38;5;124m\"\u001b[39m\u001b[38;5;124mserver_url\u001b[39m\u001b[38;5;124m\"\u001b[39m: \u001b[38;5;124m\"\u001b[39m\u001b[38;5;124mhttps://hypha.bioimage.io\u001b[39m\u001b[38;5;124m\"\u001b[39m,\n\u001b[0;32m     11\u001b[0m     \u001b[38;5;124m\"\u001b[39m\u001b[38;5;124mtoken\u001b[39m\u001b[38;5;124m\"\u001b[39m: token\n\u001b[0;32m     12\u001b[0m })\n",
      "File \u001b[1;32m~\\AppData\\Local\\Programs\\Python\\Python311\\Lib\\site-packages\\hypha_rpc\\websocket_client.py:479\u001b[0m, in \u001b[0;36mlogin\u001b[1;34m(config)\u001b[0m\n\u001b[0;32m    476\u001b[0m profile \u001b[38;5;241m=\u001b[39m config\u001b[38;5;241m.\u001b[39mget(\u001b[38;5;124m\"\u001b[39m\u001b[38;5;124mprofile\u001b[39m\u001b[38;5;124m\"\u001b[39m, \u001b[38;5;28;01mFalse\u001b[39;00m)\n\u001b[0;32m    477\u001b[0m ssl \u001b[38;5;241m=\u001b[39m config\u001b[38;5;241m.\u001b[39mget(\u001b[38;5;124m\"\u001b[39m\u001b[38;5;124mssl\u001b[39m\u001b[38;5;124m\"\u001b[39m)\n\u001b[1;32m--> 479\u001b[0m server \u001b[38;5;241m=\u001b[39m \u001b[38;5;28;01mawait\u001b[39;00m connect_to_server(\n\u001b[0;32m    480\u001b[0m     {\n\u001b[0;32m    481\u001b[0m         \u001b[38;5;124m\"\u001b[39m\u001b[38;5;124mname\u001b[39m\u001b[38;5;124m\"\u001b[39m: \u001b[38;5;124m\"\u001b[39m\u001b[38;5;124minitial login client\u001b[39m\u001b[38;5;124m\"\u001b[39m,\n\u001b[0;32m    482\u001b[0m         \u001b[38;5;124m\"\u001b[39m\u001b[38;5;124mserver_url\u001b[39m\u001b[38;5;124m\"\u001b[39m: server_url,\n\u001b[0;32m    483\u001b[0m         \u001b[38;5;124m\"\u001b[39m\u001b[38;5;124mmethod_timeout\u001b[39m\u001b[38;5;124m\"\u001b[39m: timeout,\n\u001b[0;32m    484\u001b[0m         \u001b[38;5;124m\"\u001b[39m\u001b[38;5;124mssl\u001b[39m\u001b[38;5;124m\"\u001b[39m: ssl,\n\u001b[0;32m    485\u001b[0m     }\n\u001b[0;32m    486\u001b[0m )\n\u001b[0;32m    487\u001b[0m \u001b[38;5;28;01mtry\u001b[39;00m:\n\u001b[0;32m    488\u001b[0m     svc \u001b[38;5;241m=\u001b[39m \u001b[38;5;28;01mawait\u001b[39;00m server\u001b[38;5;241m.\u001b[39mget_service(service_id)\n",
      "File \u001b[1;32m~\\AppData\\Local\\Programs\\Python\\Python311\\Lib\\site-packages\\hypha_rpc\\websocket_client.py:516\u001b[0m, in \u001b[0;36mServerContextManager.__aenter__\u001b[1;34m(self)\u001b[0m\n\u001b[0;32m    515\u001b[0m \u001b[38;5;28;01masync\u001b[39;00m \u001b[38;5;28;01mdef\u001b[39;00m \u001b[38;5;21m__aenter__\u001b[39m(\u001b[38;5;28mself\u001b[39m):\n\u001b[1;32m--> 516\u001b[0m     \u001b[38;5;28mself\u001b[39m\u001b[38;5;241m.\u001b[39mwm \u001b[38;5;241m=\u001b[39m \u001b[38;5;28;01mawait\u001b[39;00m _connect_to_server(\u001b[38;5;28mself\u001b[39m\u001b[38;5;241m.\u001b[39mconfig)\n\u001b[0;32m    517\u001b[0m     \u001b[38;5;28;01mif\u001b[39;00m \u001b[38;5;28mself\u001b[39m\u001b[38;5;241m.\u001b[39m_service_id:\n\u001b[0;32m    518\u001b[0m         \u001b[38;5;28;01mreturn\u001b[39;00m \u001b[38;5;28;01mawait\u001b[39;00m \u001b[38;5;28mself\u001b[39m\u001b[38;5;241m.\u001b[39mwm\u001b[38;5;241m.\u001b[39mget_service(\n\u001b[0;32m    519\u001b[0m             \u001b[38;5;28mself\u001b[39m\u001b[38;5;241m.\u001b[39m_service_id,\n\u001b[0;32m    520\u001b[0m             {\u001b[38;5;124m\"\u001b[39m\u001b[38;5;124mcase_conversion\u001b[39m\u001b[38;5;124m\"\u001b[39m: \u001b[38;5;28mself\u001b[39m\u001b[38;5;241m.\u001b[39mconfig\u001b[38;5;241m.\u001b[39mget(\u001b[38;5;124m\"\u001b[39m\u001b[38;5;124mcase_conversion\u001b[39m\u001b[38;5;124m\"\u001b[39m)},\n\u001b[0;32m    521\u001b[0m         )\n",
      "File \u001b[1;32m~\\AppData\\Local\\Programs\\Python\\Python311\\Lib\\site-packages\\hypha_rpc\\websocket_client.py:621\u001b[0m, in \u001b[0;36m_connect_to_server\u001b[1;34m(config)\u001b[0m\n\u001b[0;32m    606\u001b[0m     Connection \u001b[38;5;241m=\u001b[39m WebsocketRPCConnection\n\u001b[0;32m    608\u001b[0m connection \u001b[38;5;241m=\u001b[39m Connection(\n\u001b[0;32m    609\u001b[0m     server_url,\n\u001b[0;32m    610\u001b[0m     client_id,\n\u001b[1;32m   (...)\u001b[0m\n\u001b[0;32m    619\u001b[0m     additional_headers\u001b[38;5;241m=\u001b[39mconfig\u001b[38;5;241m.\u001b[39mget(\u001b[38;5;124m\"\u001b[39m\u001b[38;5;124madditional_headers\u001b[39m\u001b[38;5;124m\"\u001b[39m),\n\u001b[0;32m    620\u001b[0m )\n\u001b[1;32m--> 621\u001b[0m connection_info \u001b[38;5;241m=\u001b[39m \u001b[38;5;28;01mawait\u001b[39;00m connection\u001b[38;5;241m.\u001b[39mopen()\n\u001b[0;32m    622\u001b[0m \u001b[38;5;28;01massert\u001b[39;00m connection_info, (\n\u001b[0;32m    623\u001b[0m     \u001b[38;5;124m\"\u001b[39m\u001b[38;5;124mFailed to connect to the server, no connection info obtained.\u001b[39m\u001b[38;5;124m\"\u001b[39m\n\u001b[0;32m    624\u001b[0m     \u001b[38;5;124m\"\u001b[39m\u001b[38;5;124m This issue is most likely due to an outdated Hypha server version. \u001b[39m\u001b[38;5;124m\"\u001b[39m\n\u001b[0;32m    625\u001b[0m     \u001b[38;5;124m\"\u001b[39m\u001b[38;5;124mPlease use `imjoy-rpc` for compatibility, or upgrade the Hypha server to the latest version.\u001b[39m\u001b[38;5;124m\"\u001b[39m\n\u001b[0;32m    626\u001b[0m )\n\u001b[0;32m    627\u001b[0m \u001b[38;5;28;01mawait\u001b[39;00m asyncio\u001b[38;5;241m.\u001b[39msleep(\u001b[38;5;241m0.1\u001b[39m)\n",
      "File \u001b[1;32m~\\AppData\\Local\\Programs\\Python\\Python311\\Lib\\site-packages\\hypha_rpc\\websocket_client.py:287\u001b[0m, in \u001b[0;36mWebsocketRPCConnection.open\u001b[1;34m(self)\u001b[0m\n\u001b[0;32m    285\u001b[0m \u001b[38;5;28;01mexcept\u001b[39;00m \u001b[38;5;167;01mException\u001b[39;00m \u001b[38;5;28;01mas\u001b[39;00m exp:\n\u001b[0;32m    286\u001b[0m     logger\u001b[38;5;241m.\u001b[39merror(\u001b[38;5;124m\"\u001b[39m\u001b[38;5;124mFailed to connect to \u001b[39m\u001b[38;5;132;01m%s\u001b[39;00m\u001b[38;5;124m\"\u001b[39m, \u001b[38;5;28mself\u001b[39m\u001b[38;5;241m.\u001b[39m_server_url\u001b[38;5;241m.\u001b[39msplit(\u001b[38;5;124m\"\u001b[39m\u001b[38;5;124m?\u001b[39m\u001b[38;5;124m\"\u001b[39m)[\u001b[38;5;241m0\u001b[39m])\n\u001b[1;32m--> 287\u001b[0m     \u001b[38;5;28;01mraise\u001b[39;00m exp\n",
      "File \u001b[1;32m~\\AppData\\Local\\Programs\\Python\\Python311\\Lib\\site-packages\\hypha_rpc\\websocket_client.py:223\u001b[0m, in \u001b[0;36mWebsocketRPCConnection.open\u001b[1;34m(self)\u001b[0m\n\u001b[0;32m    219\u001b[0m logger\u001b[38;5;241m.\u001b[39minfo(\n\u001b[0;32m    220\u001b[0m     \u001b[38;5;124m\"\u001b[39m\u001b[38;5;124mCreating a new websocket connection to \u001b[39m\u001b[38;5;132;01m%s\u001b[39;00m\u001b[38;5;124m\"\u001b[39m, \u001b[38;5;28mself\u001b[39m\u001b[38;5;241m.\u001b[39m_server_url\u001b[38;5;241m.\u001b[39msplit(\u001b[38;5;124m\"\u001b[39m\u001b[38;5;124m?\u001b[39m\u001b[38;5;124m\"\u001b[39m)[\u001b[38;5;241m0\u001b[39m]\n\u001b[0;32m    221\u001b[0m )\n\u001b[0;32m    222\u001b[0m \u001b[38;5;28;01mtry\u001b[39;00m:\n\u001b[1;32m--> 223\u001b[0m     \u001b[38;5;28mself\u001b[39m\u001b[38;5;241m.\u001b[39m_websocket \u001b[38;5;241m=\u001b[39m \u001b[38;5;28;01mawait\u001b[39;00m \u001b[38;5;28mself\u001b[39m\u001b[38;5;241m.\u001b[39m_attempt_connection(\u001b[38;5;28mself\u001b[39m\u001b[38;5;241m.\u001b[39m_server_url)\n\u001b[0;32m    224\u001b[0m     \u001b[38;5;66;03m# Send authentication info as the first message if connected without query params\u001b[39;00m\n\u001b[0;32m    225\u001b[0m     \u001b[38;5;28;01mif\u001b[39;00m \u001b[38;5;28mself\u001b[39m\u001b[38;5;241m.\u001b[39m_legacy_auth:\n",
      "File \u001b[1;32m~\\AppData\\Local\\Programs\\Python\\Python311\\Lib\\site-packages\\hypha_rpc\\websocket_client.py:121\u001b[0m, in \u001b[0;36mWebsocketRPCConnection._attempt_connection\u001b[1;34m(self, server_url, attempt_fallback)\u001b[0m\n\u001b[0;32m    119\u001b[0m \u001b[38;5;66;03m# Only pass ssl if it's not None\u001b[39;00m\n\u001b[0;32m    120\u001b[0m \u001b[38;5;28;01mif\u001b[39;00m \u001b[38;5;28mself\u001b[39m\u001b[38;5;241m.\u001b[39m_ssl \u001b[38;5;129;01mis\u001b[39;00m \u001b[38;5;28;01mNone\u001b[39;00m:\n\u001b[1;32m--> 121\u001b[0m     websocket \u001b[38;5;241m=\u001b[39m \u001b[38;5;28;01mawait\u001b[39;00m asyncio\u001b[38;5;241m.\u001b[39mwait_for(\n\u001b[0;32m    122\u001b[0m         websockets\u001b[38;5;241m.\u001b[39mconnect(\n\u001b[0;32m    123\u001b[0m             server_url,\n\u001b[0;32m    124\u001b[0m             ping_interval\u001b[38;5;241m=\u001b[39m\u001b[38;5;28mself\u001b[39m\u001b[38;5;241m.\u001b[39m_ping_interval,\n\u001b[0;32m    125\u001b[0m             ping_timeout\u001b[38;5;241m=\u001b[39m\u001b[38;5;28mself\u001b[39m\u001b[38;5;241m.\u001b[39m_ping_timeout,\n\u001b[0;32m    126\u001b[0m             additional_headers\u001b[38;5;241m=\u001b[39m\u001b[38;5;28mself\u001b[39m\u001b[38;5;241m.\u001b[39m_additional_headers,\n\u001b[0;32m    127\u001b[0m         ),\n\u001b[0;32m    128\u001b[0m         \u001b[38;5;28mself\u001b[39m\u001b[38;5;241m.\u001b[39m_timeout,\n\u001b[0;32m    129\u001b[0m     )\n\u001b[0;32m    130\u001b[0m \u001b[38;5;28;01melse\u001b[39;00m:\n\u001b[0;32m    131\u001b[0m     websocket \u001b[38;5;241m=\u001b[39m \u001b[38;5;28;01mawait\u001b[39;00m asyncio\u001b[38;5;241m.\u001b[39mwait_for(\n\u001b[0;32m    132\u001b[0m         websockets\u001b[38;5;241m.\u001b[39mconnect(\n\u001b[0;32m    133\u001b[0m             server_url,\n\u001b[1;32m   (...)\u001b[0m\n\u001b[0;32m    139\u001b[0m         \u001b[38;5;28mself\u001b[39m\u001b[38;5;241m.\u001b[39m_timeout,\n\u001b[0;32m    140\u001b[0m     )\n",
      "File \u001b[1;32m~\\AppData\\Local\\Programs\\Python\\Python311\\Lib\\asyncio\\tasks.py:489\u001b[0m, in \u001b[0;36mwait_for\u001b[1;34m(fut, timeout)\u001b[0m\n\u001b[0;32m    486\u001b[0m         \u001b[38;5;28;01mraise\u001b[39;00m\n\u001b[0;32m    488\u001b[0m \u001b[38;5;28;01mif\u001b[39;00m fut\u001b[38;5;241m.\u001b[39mdone():\n\u001b[1;32m--> 489\u001b[0m     \u001b[38;5;28;01mreturn\u001b[39;00m fut\u001b[38;5;241m.\u001b[39mresult()\n\u001b[0;32m    490\u001b[0m \u001b[38;5;28;01melse\u001b[39;00m:\n\u001b[0;32m    491\u001b[0m     fut\u001b[38;5;241m.\u001b[39mremove_done_callback(cb)\n",
      "File \u001b[1;32m~\\AppData\\Local\\Programs\\Python\\Python311\\Lib\\asyncio\\tasks.py:694\u001b[0m, in \u001b[0;36m_wrap_awaitable\u001b[1;34m(awaitable)\u001b[0m\n\u001b[0;32m    687\u001b[0m \u001b[38;5;129m@types\u001b[39m\u001b[38;5;241m.\u001b[39mcoroutine\n\u001b[0;32m    688\u001b[0m \u001b[38;5;28;01mdef\u001b[39;00m \u001b[38;5;21m_wrap_awaitable\u001b[39m(awaitable):\n\u001b[0;32m    689\u001b[0m \u001b[38;5;250m    \u001b[39m\u001b[38;5;124;03m\"\"\"Helper for asyncio.ensure_future().\u001b[39;00m\n\u001b[0;32m    690\u001b[0m \n\u001b[0;32m    691\u001b[0m \u001b[38;5;124;03m    Wraps awaitable (an object with __await__) into a coroutine\u001b[39;00m\n\u001b[0;32m    692\u001b[0m \u001b[38;5;124;03m    that will later be wrapped in a Task by ensure_future().\u001b[39;00m\n\u001b[0;32m    693\u001b[0m \u001b[38;5;124;03m    \"\"\"\u001b[39;00m\n\u001b[1;32m--> 694\u001b[0m     \u001b[38;5;28;01mreturn\u001b[39;00m (\u001b[38;5;28;01myield from\u001b[39;00m awaitable\u001b[38;5;241m.\u001b[39m\u001b[38;5;21m__await__\u001b[39m())\n",
      "File \u001b[1;32m~\\AppData\\Local\\Programs\\Python\\Python311\\Lib\\site-packages\\websockets\\asyncio\\client.py:543\u001b[0m, in \u001b[0;36mconnect.__await_impl__\u001b[1;34m(self)\u001b[0m\n\u001b[0;32m    541\u001b[0m \u001b[38;5;28mself\u001b[39m\u001b[38;5;241m.\u001b[39mconnection \u001b[38;5;241m=\u001b[39m \u001b[38;5;28;01mawait\u001b[39;00m \u001b[38;5;28mself\u001b[39m\u001b[38;5;241m.\u001b[39mcreate_connection()\n\u001b[0;32m    542\u001b[0m \u001b[38;5;28;01mtry\u001b[39;00m:\n\u001b[1;32m--> 543\u001b[0m     \u001b[38;5;28;01mawait\u001b[39;00m \u001b[38;5;28mself\u001b[39m\u001b[38;5;241m.\u001b[39mconnection\u001b[38;5;241m.\u001b[39mhandshake(\n\u001b[0;32m    544\u001b[0m         \u001b[38;5;28mself\u001b[39m\u001b[38;5;241m.\u001b[39madditional_headers,\n\u001b[0;32m    545\u001b[0m         \u001b[38;5;28mself\u001b[39m\u001b[38;5;241m.\u001b[39muser_agent_header,\n\u001b[0;32m    546\u001b[0m     )\n\u001b[0;32m    547\u001b[0m \u001b[38;5;28;01mexcept\u001b[39;00m asyncio\u001b[38;5;241m.\u001b[39mCancelledError:\n\u001b[0;32m    548\u001b[0m     \u001b[38;5;28mself\u001b[39m\u001b[38;5;241m.\u001b[39mconnection\u001b[38;5;241m.\u001b[39mtransport\u001b[38;5;241m.\u001b[39mabort()\n",
      "File \u001b[1;32m~\\AppData\\Local\\Programs\\Python\\Python311\\Lib\\site-packages\\websockets\\asyncio\\client.py:114\u001b[0m, in \u001b[0;36mClientConnection.handshake\u001b[1;34m(self, additional_headers, user_agent_header)\u001b[0m\n\u001b[0;32m    109\u001b[0m \u001b[38;5;66;03m# self.protocol.handshake_exc is set when the connection is lost before\u001b[39;00m\n\u001b[0;32m    110\u001b[0m \u001b[38;5;66;03m# receiving a response, when the response cannot be parsed, or when the\u001b[39;00m\n\u001b[0;32m    111\u001b[0m \u001b[38;5;66;03m# response fails the handshake.\u001b[39;00m\n\u001b[0;32m    113\u001b[0m \u001b[38;5;28;01mif\u001b[39;00m \u001b[38;5;28mself\u001b[39m\u001b[38;5;241m.\u001b[39mprotocol\u001b[38;5;241m.\u001b[39mhandshake_exc \u001b[38;5;129;01mis\u001b[39;00m \u001b[38;5;129;01mnot\u001b[39;00m \u001b[38;5;28;01mNone\u001b[39;00m:\n\u001b[1;32m--> 114\u001b[0m     \u001b[38;5;28;01mraise\u001b[39;00m \u001b[38;5;28mself\u001b[39m\u001b[38;5;241m.\u001b[39mprotocol\u001b[38;5;241m.\u001b[39mhandshake_exc\n",
      "File \u001b[1;32m~\\AppData\\Local\\Programs\\Python\\Python311\\Lib\\site-packages\\websockets\\client.py:325\u001b[0m, in \u001b[0;36mClientProtocol.parse\u001b[1;34m(self)\u001b[0m\n\u001b[0;32m    322\u001b[0m         \u001b[38;5;28mself\u001b[39m\u001b[38;5;241m.\u001b[39mlogger\u001b[38;5;241m.\u001b[39mdebug(\u001b[38;5;124m\"\u001b[39m\u001b[38;5;124m< [body] (\u001b[39m\u001b[38;5;132;01m%d\u001b[39;00m\u001b[38;5;124m bytes)\u001b[39m\u001b[38;5;124m\"\u001b[39m, \u001b[38;5;28mlen\u001b[39m(response\u001b[38;5;241m.\u001b[39mbody))\n\u001b[0;32m    324\u001b[0m \u001b[38;5;28;01mtry\u001b[39;00m:\n\u001b[1;32m--> 325\u001b[0m     \u001b[38;5;28;43mself\u001b[39;49m\u001b[38;5;241;43m.\u001b[39;49m\u001b[43mprocess_response\u001b[49m\u001b[43m(\u001b[49m\u001b[43mresponse\u001b[49m\u001b[43m)\u001b[49m\n\u001b[0;32m    326\u001b[0m \u001b[38;5;28;01mexcept\u001b[39;00m InvalidHandshake \u001b[38;5;28;01mas\u001b[39;00m exc:\n\u001b[0;32m    327\u001b[0m     response\u001b[38;5;241m.\u001b[39m_exception \u001b[38;5;241m=\u001b[39m exc\n",
      "File \u001b[1;32m~\\AppData\\Local\\Programs\\Python\\Python311\\Lib\\site-packages\\websockets\\client.py:142\u001b[0m, in \u001b[0;36mClientProtocol.process_response\u001b[1;34m(self, response)\u001b[0m\n\u001b[0;32m    130\u001b[0m \u001b[38;5;250m\u001b[39m\u001b[38;5;124;03m\"\"\"\u001b[39;00m\n\u001b[0;32m    131\u001b[0m \u001b[38;5;124;03mCheck a handshake response.\u001b[39;00m\n\u001b[0;32m    132\u001b[0m \n\u001b[1;32m   (...)\u001b[0m\n\u001b[0;32m    138\u001b[0m \n\u001b[0;32m    139\u001b[0m \u001b[38;5;124;03m\"\"\"\u001b[39;00m\n\u001b[0;32m    141\u001b[0m \u001b[38;5;28;01mif\u001b[39;00m response\u001b[38;5;241m.\u001b[39mstatus_code \u001b[38;5;241m!=\u001b[39m \u001b[38;5;241m101\u001b[39m:\n\u001b[1;32m--> 142\u001b[0m     \u001b[38;5;28;01mraise\u001b[39;00m InvalidStatus(response)\n\u001b[0;32m    144\u001b[0m headers \u001b[38;5;241m=\u001b[39m response\u001b[38;5;241m.\u001b[39mheaders\n\u001b[0;32m    146\u001b[0m connection: \u001b[38;5;28mlist\u001b[39m[ConnectionOption] \u001b[38;5;241m=\u001b[39m \u001b[38;5;28msum\u001b[39m(\n\u001b[0;32m    147\u001b[0m     [parse_connection(value) \u001b[38;5;28;01mfor\u001b[39;00m value \u001b[38;5;129;01min\u001b[39;00m headers\u001b[38;5;241m.\u001b[39mget_all(\u001b[38;5;124m\"\u001b[39m\u001b[38;5;124mConnection\u001b[39m\u001b[38;5;124m\"\u001b[39m)], []\n\u001b[0;32m    148\u001b[0m )\n",
      "\u001b[1;31mInvalidStatus\u001b[0m: server rejected WebSocket connection: HTTP 403"
     ]
    }
   ],
   "source": [
    "from hypha_rpc import login, connect_to_server\n",
    "\n",
    "# Step 1: fetch a login token (this will print or call back a URL you must open)\n",
    "token = await login({\n",
    "    \"server_url\": \"https://hypha.bioimage.io\",\n",
    "})\n",
    "\n",
    "# Step 2: connect, passing that token\n",
    "server = await connect_to_server({\n",
    "    \"server_url\": \"https://hypha.bioimage.io\",\n",
    "    \"token\": token\n",
    "})\n"
   ]
  },
  {
   "cell_type": "code",
   "execution_count": 2,
   "id": "ea7f02c1-c54f-44c8-b031-3457daadd6ba",
   "metadata": {},
   "outputs": [
    {
     "name": "stdout",
     "output_type": "stream",
     "text": [
      "ERROR:websocket-client:Failed to connect to wss://hypha.bioimage.io/ws\n"
     ]
    },
    {
     "ename": "InvalidStatus",
     "evalue": "server rejected WebSocket connection: HTTP 403",
     "output_type": "error",
     "traceback": [
      "\u001b[1;31m---------------------------------------------------------------------------\u001b[0m",
      "\u001b[1;31mInvalidStatus\u001b[0m                             Traceback (most recent call last)",
      "Cell \u001b[1;32mIn[2], line 6\u001b[0m\n\u001b[0;32m      3\u001b[0m \u001b[38;5;28;01mdef\u001b[39;00m \u001b[38;5;21mcallback\u001b[39m(ctx):\n\u001b[0;32m      4\u001b[0m     \u001b[38;5;28mprint\u001b[39m(\u001b[38;5;124m\"\u001b[39m\u001b[38;5;124mOpen this URL and authenticate:\u001b[39m\u001b[38;5;124m\"\u001b[39m, ctx[\u001b[38;5;124m\"\u001b[39m\u001b[38;5;124mlogin_url\u001b[39m\u001b[38;5;124m\"\u001b[39m])\n\u001b[1;32m----> 6\u001b[0m token \u001b[38;5;241m=\u001b[39m \u001b[43mlogin\u001b[49m\u001b[43m(\u001b[49m\u001b[43m{\u001b[49m\n\u001b[0;32m      7\u001b[0m \u001b[43m    \u001b[49m\u001b[38;5;124;43m\"\u001b[39;49m\u001b[38;5;124;43mserver_url\u001b[39;49m\u001b[38;5;124;43m\"\u001b[39;49m\u001b[43m:\u001b[49m\u001b[43m \u001b[49m\u001b[38;5;124;43m\"\u001b[39;49m\u001b[38;5;124;43mhttps://hypha.bioimage.io\u001b[39;49m\u001b[38;5;124;43m\"\u001b[39;49m\u001b[43m,\u001b[49m\n\u001b[0;32m      8\u001b[0m \u001b[43m    \u001b[49m\u001b[38;5;124;43m\"\u001b[39;49m\u001b[38;5;124;43mlogin_callback\u001b[39;49m\u001b[38;5;124;43m\"\u001b[39;49m\u001b[43m:\u001b[49m\u001b[43m \u001b[49m\u001b[43mcallback\u001b[49m\n\u001b[0;32m      9\u001b[0m \u001b[43m}\u001b[49m\u001b[43m)\u001b[49m\n\u001b[0;32m     10\u001b[0m server \u001b[38;5;241m=\u001b[39m connect_to_server({\n\u001b[0;32m     11\u001b[0m     \u001b[38;5;124m\"\u001b[39m\u001b[38;5;124mserver_url\u001b[39m\u001b[38;5;124m\"\u001b[39m: \u001b[38;5;124m\"\u001b[39m\u001b[38;5;124mhttps://hypha.bioimage.io\u001b[39m\u001b[38;5;124m\"\u001b[39m,\n\u001b[0;32m     12\u001b[0m     \u001b[38;5;124m\"\u001b[39m\u001b[38;5;124mtoken\u001b[39m\u001b[38;5;124m\"\u001b[39m: token\n\u001b[0;32m     13\u001b[0m })\n",
      "File \u001b[1;32m~\\AppData\\Local\\Programs\\Python\\Python311\\Lib\\site-packages\\hypha_rpc\\sync.py:221\u001b[0m, in \u001b[0;36mlogin\u001b[1;34m(config)\u001b[0m\n\u001b[0;32m    218\u001b[0m profile \u001b[38;5;241m=\u001b[39m config\u001b[38;5;241m.\u001b[39mget(\u001b[38;5;124m\"\u001b[39m\u001b[38;5;124mprofile\u001b[39m\u001b[38;5;124m\"\u001b[39m, \u001b[38;5;28;01mFalse\u001b[39;00m)\n\u001b[0;32m    219\u001b[0m ssl \u001b[38;5;241m=\u001b[39m config\u001b[38;5;241m.\u001b[39mget(\u001b[38;5;124m\"\u001b[39m\u001b[38;5;124mssl\u001b[39m\u001b[38;5;124m\"\u001b[39m)\n\u001b[1;32m--> 221\u001b[0m server \u001b[38;5;241m=\u001b[39m \u001b[43mconnect_to_server\u001b[49m\u001b[43m(\u001b[49m\n\u001b[0;32m    222\u001b[0m \u001b[43m    \u001b[49m\u001b[43m{\u001b[49m\u001b[38;5;124;43m\"\u001b[39;49m\u001b[38;5;124;43mname\u001b[39;49m\u001b[38;5;124;43m\"\u001b[39;49m\u001b[43m:\u001b[49m\u001b[43m \u001b[49m\u001b[38;5;124;43m\"\u001b[39;49m\u001b[38;5;124;43minitial login client\u001b[39;49m\u001b[38;5;124;43m\"\u001b[39;49m\u001b[43m,\u001b[49m\u001b[43m \u001b[49m\u001b[38;5;124;43m\"\u001b[39;49m\u001b[38;5;124;43mserver_url\u001b[39;49m\u001b[38;5;124;43m\"\u001b[39;49m\u001b[43m:\u001b[49m\u001b[43m \u001b[49m\u001b[43mserver_url\u001b[49m\u001b[43m,\u001b[49m\u001b[43m \u001b[49m\u001b[38;5;124;43m\"\u001b[39;49m\u001b[38;5;124;43mssl\u001b[39;49m\u001b[38;5;124;43m\"\u001b[39;49m\u001b[43m:\u001b[49m\u001b[43m \u001b[49m\u001b[43mssl\u001b[49m\u001b[43m}\u001b[49m\n\u001b[0;32m    223\u001b[0m \u001b[43m\u001b[49m\u001b[43m)\u001b[49m\n\u001b[0;32m    224\u001b[0m \u001b[38;5;28;01mtry\u001b[39;00m:\n\u001b[0;32m    225\u001b[0m     svc \u001b[38;5;241m=\u001b[39m server\u001b[38;5;241m.\u001b[39mget_service(service_id)\n",
      "File \u001b[1;32m~\\AppData\\Local\\Programs\\Python\\Python311\\Lib\\site-packages\\hypha_rpc\\sync.py:189\u001b[0m, in \u001b[0;36mconnect_to_server\u001b[1;34m(config, **kwargs)\u001b[0m\n\u001b[0;32m    187\u001b[0m \u001b[38;5;28;01mdef\u001b[39;00m \u001b[38;5;21mconnect_to_server\u001b[39m(config\u001b[38;5;241m=\u001b[39m\u001b[38;5;28;01mNone\u001b[39;00m, \u001b[38;5;241m*\u001b[39m\u001b[38;5;241m*\u001b[39mkwargs):\n\u001b[0;32m    188\u001b[0m \u001b[38;5;250m    \u001b[39m\u001b[38;5;124;03m\"\"\"Connect to the Hypha server synchronously.\"\"\"\u001b[39;00m\n\u001b[1;32m--> 189\u001b[0m     server \u001b[38;5;241m=\u001b[39m \u001b[43mSyncHyphaServer\u001b[49m\u001b[43m(\u001b[49m\u001b[43mconfig\u001b[49m\u001b[38;5;241;43m=\u001b[39;49m\u001b[43mconfig\u001b[49m\u001b[43m,\u001b[49m\u001b[43m \u001b[49m\u001b[38;5;241;43m*\u001b[39;49m\u001b[38;5;241;43m*\u001b[39;49m\u001b[43mkwargs\u001b[49m\u001b[43m)\u001b[49m\n\u001b[0;32m    190\u001b[0m     \u001b[38;5;28;01mreturn\u001b[39;00m server\n",
      "File \u001b[1;32m~\\AppData\\Local\\Programs\\Python\\Python311\\Lib\\site-packages\\hypha_rpc\\sync.py:133\u001b[0m, in \u001b[0;36mSyncHyphaServer.__init__\u001b[1;34m(self, config, service_id, **kwargs)\u001b[0m\n\u001b[0;32m    130\u001b[0m     \u001b[38;5;28;01mpass\u001b[39;00m\n\u001b[0;32m    132\u001b[0m future \u001b[38;5;241m=\u001b[39m asyncio\u001b[38;5;241m.\u001b[39mrun_coroutine_threadsafe(\u001b[38;5;28mself\u001b[39m\u001b[38;5;241m.\u001b[39m_connect(config), \u001b[38;5;28mself\u001b[39m\u001b[38;5;241m.\u001b[39m_loop)\n\u001b[1;32m--> 133\u001b[0m \u001b[43mfuture\u001b[49m\u001b[38;5;241;43m.\u001b[39;49m\u001b[43mresult\u001b[49m\u001b[43m(\u001b[49m\u001b[43m)\u001b[49m\n",
      "File \u001b[1;32m~\\AppData\\Local\\Programs\\Python\\Python311\\Lib\\concurrent\\futures\\_base.py:456\u001b[0m, in \u001b[0;36mFuture.result\u001b[1;34m(self, timeout)\u001b[0m\n\u001b[0;32m    454\u001b[0m     \u001b[38;5;28;01mraise\u001b[39;00m CancelledError()\n\u001b[0;32m    455\u001b[0m \u001b[38;5;28;01melif\u001b[39;00m \u001b[38;5;28mself\u001b[39m\u001b[38;5;241m.\u001b[39m_state \u001b[38;5;241m==\u001b[39m FINISHED:\n\u001b[1;32m--> 456\u001b[0m     \u001b[38;5;28;01mreturn\u001b[39;00m \u001b[38;5;28;43mself\u001b[39;49m\u001b[38;5;241;43m.\u001b[39;49m\u001b[43m__get_result\u001b[49m\u001b[43m(\u001b[49m\u001b[43m)\u001b[49m\n\u001b[0;32m    457\u001b[0m \u001b[38;5;28;01melse\u001b[39;00m:\n\u001b[0;32m    458\u001b[0m     \u001b[38;5;28;01mraise\u001b[39;00m \u001b[38;5;167;01mTimeoutError\u001b[39;00m()\n",
      "File \u001b[1;32m~\\AppData\\Local\\Programs\\Python\\Python311\\Lib\\concurrent\\futures\\_base.py:401\u001b[0m, in \u001b[0;36mFuture.__get_result\u001b[1;34m(self)\u001b[0m\n\u001b[0;32m    399\u001b[0m \u001b[38;5;28;01mif\u001b[39;00m \u001b[38;5;28mself\u001b[39m\u001b[38;5;241m.\u001b[39m_exception:\n\u001b[0;32m    400\u001b[0m     \u001b[38;5;28;01mtry\u001b[39;00m:\n\u001b[1;32m--> 401\u001b[0m         \u001b[38;5;28;01mraise\u001b[39;00m \u001b[38;5;28mself\u001b[39m\u001b[38;5;241m.\u001b[39m_exception\n\u001b[0;32m    402\u001b[0m     \u001b[38;5;28;01mfinally\u001b[39;00m:\n\u001b[0;32m    403\u001b[0m         \u001b[38;5;66;03m# Break a reference cycle with the exception in self._exception\u001b[39;00m\n\u001b[0;32m    404\u001b[0m         \u001b[38;5;28mself\u001b[39m \u001b[38;5;241m=\u001b[39m \u001b[38;5;28;01mNone\u001b[39;00m\n",
      "File \u001b[1;32m~\\AppData\\Local\\Programs\\Python\\Python311\\Lib\\site-packages\\hypha_rpc\\sync.py:146\u001b[0m, in \u001b[0;36mSyncHyphaServer._connect\u001b[1;34m(self, config)\u001b[0m\n\u001b[0;32m    144\u001b[0m \u001b[38;5;66;03m# get the a config to see if we need to convert\u001b[39;00m\n\u001b[0;32m    145\u001b[0m mix_async \u001b[38;5;241m=\u001b[39m config\u001b[38;5;241m.\u001b[39mget(\u001b[38;5;124m\"\u001b[39m\u001b[38;5;124mmix_async\u001b[39m\u001b[38;5;124m\"\u001b[39m, \u001b[38;5;28;01mFalse\u001b[39;00m)\n\u001b[1;32m--> 146\u001b[0m \u001b[38;5;28mself\u001b[39m\u001b[38;5;241m.\u001b[39m_server \u001b[38;5;241m=\u001b[39m \u001b[38;5;28;01mawait\u001b[39;00m connect_to_server_async(config)\n\u001b[0;32m    147\u001b[0m \u001b[38;5;28;01mif\u001b[39;00m \u001b[38;5;28mself\u001b[39m\u001b[38;5;241m.\u001b[39m_service_id:\n\u001b[0;32m    148\u001b[0m     service \u001b[38;5;241m=\u001b[39m \u001b[38;5;28;01mawait\u001b[39;00m \u001b[38;5;28mself\u001b[39m\u001b[38;5;241m.\u001b[39m_server\u001b[38;5;241m.\u001b[39mget_service(\u001b[38;5;28mself\u001b[39m\u001b[38;5;241m.\u001b[39m_service_id)\n",
      "File \u001b[1;32m~\\AppData\\Local\\Programs\\Python\\Python311\\Lib\\site-packages\\hypha_rpc\\websocket_client.py:516\u001b[0m, in \u001b[0;36mServerContextManager.__aenter__\u001b[1;34m(self)\u001b[0m\n\u001b[0;32m    515\u001b[0m \u001b[38;5;28;01masync\u001b[39;00m \u001b[38;5;28;01mdef\u001b[39;00m \u001b[38;5;21m__aenter__\u001b[39m(\u001b[38;5;28mself\u001b[39m):\n\u001b[1;32m--> 516\u001b[0m     \u001b[38;5;28mself\u001b[39m\u001b[38;5;241m.\u001b[39mwm \u001b[38;5;241m=\u001b[39m \u001b[38;5;28;01mawait\u001b[39;00m _connect_to_server(\u001b[38;5;28mself\u001b[39m\u001b[38;5;241m.\u001b[39mconfig)\n\u001b[0;32m    517\u001b[0m     \u001b[38;5;28;01mif\u001b[39;00m \u001b[38;5;28mself\u001b[39m\u001b[38;5;241m.\u001b[39m_service_id:\n\u001b[0;32m    518\u001b[0m         \u001b[38;5;28;01mreturn\u001b[39;00m \u001b[38;5;28;01mawait\u001b[39;00m \u001b[38;5;28mself\u001b[39m\u001b[38;5;241m.\u001b[39mwm\u001b[38;5;241m.\u001b[39mget_service(\n\u001b[0;32m    519\u001b[0m             \u001b[38;5;28mself\u001b[39m\u001b[38;5;241m.\u001b[39m_service_id,\n\u001b[0;32m    520\u001b[0m             {\u001b[38;5;124m\"\u001b[39m\u001b[38;5;124mcase_conversion\u001b[39m\u001b[38;5;124m\"\u001b[39m: \u001b[38;5;28mself\u001b[39m\u001b[38;5;241m.\u001b[39mconfig\u001b[38;5;241m.\u001b[39mget(\u001b[38;5;124m\"\u001b[39m\u001b[38;5;124mcase_conversion\u001b[39m\u001b[38;5;124m\"\u001b[39m)},\n\u001b[0;32m    521\u001b[0m         )\n",
      "File \u001b[1;32m~\\AppData\\Local\\Programs\\Python\\Python311\\Lib\\site-packages\\hypha_rpc\\websocket_client.py:621\u001b[0m, in \u001b[0;36m_connect_to_server\u001b[1;34m(config)\u001b[0m\n\u001b[0;32m    606\u001b[0m     Connection \u001b[38;5;241m=\u001b[39m WebsocketRPCConnection\n\u001b[0;32m    608\u001b[0m connection \u001b[38;5;241m=\u001b[39m Connection(\n\u001b[0;32m    609\u001b[0m     server_url,\n\u001b[0;32m    610\u001b[0m     client_id,\n\u001b[1;32m   (...)\u001b[0m\n\u001b[0;32m    619\u001b[0m     additional_headers\u001b[38;5;241m=\u001b[39mconfig\u001b[38;5;241m.\u001b[39mget(\u001b[38;5;124m\"\u001b[39m\u001b[38;5;124madditional_headers\u001b[39m\u001b[38;5;124m\"\u001b[39m),\n\u001b[0;32m    620\u001b[0m )\n\u001b[1;32m--> 621\u001b[0m connection_info \u001b[38;5;241m=\u001b[39m \u001b[38;5;28;01mawait\u001b[39;00m connection\u001b[38;5;241m.\u001b[39mopen()\n\u001b[0;32m    622\u001b[0m \u001b[38;5;28;01massert\u001b[39;00m connection_info, (\n\u001b[0;32m    623\u001b[0m     \u001b[38;5;124m\"\u001b[39m\u001b[38;5;124mFailed to connect to the server, no connection info obtained.\u001b[39m\u001b[38;5;124m\"\u001b[39m\n\u001b[0;32m    624\u001b[0m     \u001b[38;5;124m\"\u001b[39m\u001b[38;5;124m This issue is most likely due to an outdated Hypha server version. \u001b[39m\u001b[38;5;124m\"\u001b[39m\n\u001b[0;32m    625\u001b[0m     \u001b[38;5;124m\"\u001b[39m\u001b[38;5;124mPlease use `imjoy-rpc` for compatibility, or upgrade the Hypha server to the latest version.\u001b[39m\u001b[38;5;124m\"\u001b[39m\n\u001b[0;32m    626\u001b[0m )\n\u001b[0;32m    627\u001b[0m \u001b[38;5;28;01mawait\u001b[39;00m asyncio\u001b[38;5;241m.\u001b[39msleep(\u001b[38;5;241m0.1\u001b[39m)\n",
      "File \u001b[1;32m~\\AppData\\Local\\Programs\\Python\\Python311\\Lib\\site-packages\\hypha_rpc\\websocket_client.py:287\u001b[0m, in \u001b[0;36mWebsocketRPCConnection.open\u001b[1;34m(self)\u001b[0m\n\u001b[0;32m    285\u001b[0m \u001b[38;5;28;01mexcept\u001b[39;00m \u001b[38;5;167;01mException\u001b[39;00m \u001b[38;5;28;01mas\u001b[39;00m exp:\n\u001b[0;32m    286\u001b[0m     logger\u001b[38;5;241m.\u001b[39merror(\u001b[38;5;124m\"\u001b[39m\u001b[38;5;124mFailed to connect to \u001b[39m\u001b[38;5;132;01m%s\u001b[39;00m\u001b[38;5;124m\"\u001b[39m, \u001b[38;5;28mself\u001b[39m\u001b[38;5;241m.\u001b[39m_server_url\u001b[38;5;241m.\u001b[39msplit(\u001b[38;5;124m\"\u001b[39m\u001b[38;5;124m?\u001b[39m\u001b[38;5;124m\"\u001b[39m)[\u001b[38;5;241m0\u001b[39m])\n\u001b[1;32m--> 287\u001b[0m     \u001b[38;5;28;01mraise\u001b[39;00m exp\n",
      "File \u001b[1;32m~\\AppData\\Local\\Programs\\Python\\Python311\\Lib\\site-packages\\hypha_rpc\\websocket_client.py:223\u001b[0m, in \u001b[0;36mWebsocketRPCConnection.open\u001b[1;34m(self)\u001b[0m\n\u001b[0;32m    219\u001b[0m logger\u001b[38;5;241m.\u001b[39minfo(\n\u001b[0;32m    220\u001b[0m     \u001b[38;5;124m\"\u001b[39m\u001b[38;5;124mCreating a new websocket connection to \u001b[39m\u001b[38;5;132;01m%s\u001b[39;00m\u001b[38;5;124m\"\u001b[39m, \u001b[38;5;28mself\u001b[39m\u001b[38;5;241m.\u001b[39m_server_url\u001b[38;5;241m.\u001b[39msplit(\u001b[38;5;124m\"\u001b[39m\u001b[38;5;124m?\u001b[39m\u001b[38;5;124m\"\u001b[39m)[\u001b[38;5;241m0\u001b[39m]\n\u001b[0;32m    221\u001b[0m )\n\u001b[0;32m    222\u001b[0m \u001b[38;5;28;01mtry\u001b[39;00m:\n\u001b[1;32m--> 223\u001b[0m     \u001b[38;5;28mself\u001b[39m\u001b[38;5;241m.\u001b[39m_websocket \u001b[38;5;241m=\u001b[39m \u001b[38;5;28;01mawait\u001b[39;00m \u001b[38;5;28mself\u001b[39m\u001b[38;5;241m.\u001b[39m_attempt_connection(\u001b[38;5;28mself\u001b[39m\u001b[38;5;241m.\u001b[39m_server_url)\n\u001b[0;32m    224\u001b[0m     \u001b[38;5;66;03m# Send authentication info as the first message if connected without query params\u001b[39;00m\n\u001b[0;32m    225\u001b[0m     \u001b[38;5;28;01mif\u001b[39;00m \u001b[38;5;28mself\u001b[39m\u001b[38;5;241m.\u001b[39m_legacy_auth:\n",
      "File \u001b[1;32m~\\AppData\\Local\\Programs\\Python\\Python311\\Lib\\site-packages\\hypha_rpc\\websocket_client.py:121\u001b[0m, in \u001b[0;36mWebsocketRPCConnection._attempt_connection\u001b[1;34m(self, server_url, attempt_fallback)\u001b[0m\n\u001b[0;32m    119\u001b[0m \u001b[38;5;66;03m# Only pass ssl if it's not None\u001b[39;00m\n\u001b[0;32m    120\u001b[0m \u001b[38;5;28;01mif\u001b[39;00m \u001b[38;5;28mself\u001b[39m\u001b[38;5;241m.\u001b[39m_ssl \u001b[38;5;129;01mis\u001b[39;00m \u001b[38;5;28;01mNone\u001b[39;00m:\n\u001b[1;32m--> 121\u001b[0m     websocket \u001b[38;5;241m=\u001b[39m \u001b[38;5;28;01mawait\u001b[39;00m asyncio\u001b[38;5;241m.\u001b[39mwait_for(\n\u001b[0;32m    122\u001b[0m         websockets\u001b[38;5;241m.\u001b[39mconnect(\n\u001b[0;32m    123\u001b[0m             server_url,\n\u001b[0;32m    124\u001b[0m             ping_interval\u001b[38;5;241m=\u001b[39m\u001b[38;5;28mself\u001b[39m\u001b[38;5;241m.\u001b[39m_ping_interval,\n\u001b[0;32m    125\u001b[0m             ping_timeout\u001b[38;5;241m=\u001b[39m\u001b[38;5;28mself\u001b[39m\u001b[38;5;241m.\u001b[39m_ping_timeout,\n\u001b[0;32m    126\u001b[0m             additional_headers\u001b[38;5;241m=\u001b[39m\u001b[38;5;28mself\u001b[39m\u001b[38;5;241m.\u001b[39m_additional_headers,\n\u001b[0;32m    127\u001b[0m         ),\n\u001b[0;32m    128\u001b[0m         \u001b[38;5;28mself\u001b[39m\u001b[38;5;241m.\u001b[39m_timeout,\n\u001b[0;32m    129\u001b[0m     )\n\u001b[0;32m    130\u001b[0m \u001b[38;5;28;01melse\u001b[39;00m:\n\u001b[0;32m    131\u001b[0m     websocket \u001b[38;5;241m=\u001b[39m \u001b[38;5;28;01mawait\u001b[39;00m asyncio\u001b[38;5;241m.\u001b[39mwait_for(\n\u001b[0;32m    132\u001b[0m         websockets\u001b[38;5;241m.\u001b[39mconnect(\n\u001b[0;32m    133\u001b[0m             server_url,\n\u001b[1;32m   (...)\u001b[0m\n\u001b[0;32m    139\u001b[0m         \u001b[38;5;28mself\u001b[39m\u001b[38;5;241m.\u001b[39m_timeout,\n\u001b[0;32m    140\u001b[0m     )\n",
      "File \u001b[1;32m~\\AppData\\Local\\Programs\\Python\\Python311\\Lib\\asyncio\\tasks.py:489\u001b[0m, in \u001b[0;36mwait_for\u001b[1;34m(fut, timeout)\u001b[0m\n\u001b[0;32m    486\u001b[0m         \u001b[38;5;28;01mraise\u001b[39;00m\n\u001b[0;32m    488\u001b[0m \u001b[38;5;28;01mif\u001b[39;00m fut\u001b[38;5;241m.\u001b[39mdone():\n\u001b[1;32m--> 489\u001b[0m     \u001b[38;5;28;01mreturn\u001b[39;00m \u001b[43mfut\u001b[49m\u001b[38;5;241;43m.\u001b[39;49m\u001b[43mresult\u001b[49m\u001b[43m(\u001b[49m\u001b[43m)\u001b[49m\n\u001b[0;32m    490\u001b[0m \u001b[38;5;28;01melse\u001b[39;00m:\n\u001b[0;32m    491\u001b[0m     fut\u001b[38;5;241m.\u001b[39mremove_done_callback(cb)\n",
      "File \u001b[1;32m~\\AppData\\Local\\Programs\\Python\\Python311\\Lib\\asyncio\\tasks.py:694\u001b[0m, in \u001b[0;36m_wrap_awaitable\u001b[1;34m(awaitable)\u001b[0m\n\u001b[0;32m    687\u001b[0m \u001b[38;5;129m@types\u001b[39m\u001b[38;5;241m.\u001b[39mcoroutine\n\u001b[0;32m    688\u001b[0m \u001b[38;5;28;01mdef\u001b[39;00m \u001b[38;5;21m_wrap_awaitable\u001b[39m(awaitable):\n\u001b[0;32m    689\u001b[0m \u001b[38;5;250m    \u001b[39m\u001b[38;5;124;03m\"\"\"Helper for asyncio.ensure_future().\u001b[39;00m\n\u001b[0;32m    690\u001b[0m \n\u001b[0;32m    691\u001b[0m \u001b[38;5;124;03m    Wraps awaitable (an object with __await__) into a coroutine\u001b[39;00m\n\u001b[0;32m    692\u001b[0m \u001b[38;5;124;03m    that will later be wrapped in a Task by ensure_future().\u001b[39;00m\n\u001b[0;32m    693\u001b[0m \u001b[38;5;124;03m    \"\"\"\u001b[39;00m\n\u001b[1;32m--> 694\u001b[0m     \u001b[38;5;28;01mreturn\u001b[39;00m (\u001b[38;5;28;01myield from\u001b[39;00m awaitable\u001b[38;5;241m.\u001b[39m\u001b[38;5;21m__await__\u001b[39m())\n",
      "File \u001b[1;32m~\\AppData\\Local\\Programs\\Python\\Python311\\Lib\\site-packages\\websockets\\asyncio\\client.py:543\u001b[0m, in \u001b[0;36mconnect.__await_impl__\u001b[1;34m(self)\u001b[0m\n\u001b[0;32m    541\u001b[0m \u001b[38;5;28mself\u001b[39m\u001b[38;5;241m.\u001b[39mconnection \u001b[38;5;241m=\u001b[39m \u001b[38;5;28;01mawait\u001b[39;00m \u001b[38;5;28mself\u001b[39m\u001b[38;5;241m.\u001b[39mcreate_connection()\n\u001b[0;32m    542\u001b[0m \u001b[38;5;28;01mtry\u001b[39;00m:\n\u001b[1;32m--> 543\u001b[0m     \u001b[38;5;28;01mawait\u001b[39;00m \u001b[38;5;28mself\u001b[39m\u001b[38;5;241m.\u001b[39mconnection\u001b[38;5;241m.\u001b[39mhandshake(\n\u001b[0;32m    544\u001b[0m         \u001b[38;5;28mself\u001b[39m\u001b[38;5;241m.\u001b[39madditional_headers,\n\u001b[0;32m    545\u001b[0m         \u001b[38;5;28mself\u001b[39m\u001b[38;5;241m.\u001b[39muser_agent_header,\n\u001b[0;32m    546\u001b[0m     )\n\u001b[0;32m    547\u001b[0m \u001b[38;5;28;01mexcept\u001b[39;00m asyncio\u001b[38;5;241m.\u001b[39mCancelledError:\n\u001b[0;32m    548\u001b[0m     \u001b[38;5;28mself\u001b[39m\u001b[38;5;241m.\u001b[39mconnection\u001b[38;5;241m.\u001b[39mtransport\u001b[38;5;241m.\u001b[39mabort()\n",
      "File \u001b[1;32m~\\AppData\\Local\\Programs\\Python\\Python311\\Lib\\site-packages\\websockets\\asyncio\\client.py:114\u001b[0m, in \u001b[0;36mClientConnection.handshake\u001b[1;34m(self, additional_headers, user_agent_header)\u001b[0m\n\u001b[0;32m    109\u001b[0m \u001b[38;5;66;03m# self.protocol.handshake_exc is set when the connection is lost before\u001b[39;00m\n\u001b[0;32m    110\u001b[0m \u001b[38;5;66;03m# receiving a response, when the response cannot be parsed, or when the\u001b[39;00m\n\u001b[0;32m    111\u001b[0m \u001b[38;5;66;03m# response fails the handshake.\u001b[39;00m\n\u001b[0;32m    113\u001b[0m \u001b[38;5;28;01mif\u001b[39;00m \u001b[38;5;28mself\u001b[39m\u001b[38;5;241m.\u001b[39mprotocol\u001b[38;5;241m.\u001b[39mhandshake_exc \u001b[38;5;129;01mis\u001b[39;00m \u001b[38;5;129;01mnot\u001b[39;00m \u001b[38;5;28;01mNone\u001b[39;00m:\n\u001b[1;32m--> 114\u001b[0m     \u001b[38;5;28;01mraise\u001b[39;00m \u001b[38;5;28mself\u001b[39m\u001b[38;5;241m.\u001b[39mprotocol\u001b[38;5;241m.\u001b[39mhandshake_exc\n",
      "File \u001b[1;32m~\\AppData\\Local\\Programs\\Python\\Python311\\Lib\\site-packages\\websockets\\client.py:325\u001b[0m, in \u001b[0;36mClientProtocol.parse\u001b[1;34m(self)\u001b[0m\n\u001b[0;32m    322\u001b[0m         \u001b[38;5;28mself\u001b[39m\u001b[38;5;241m.\u001b[39mlogger\u001b[38;5;241m.\u001b[39mdebug(\u001b[38;5;124m\"\u001b[39m\u001b[38;5;124m< [body] (\u001b[39m\u001b[38;5;132;01m%d\u001b[39;00m\u001b[38;5;124m bytes)\u001b[39m\u001b[38;5;124m\"\u001b[39m, \u001b[38;5;28mlen\u001b[39m(response\u001b[38;5;241m.\u001b[39mbody))\n\u001b[0;32m    324\u001b[0m \u001b[38;5;28;01mtry\u001b[39;00m:\n\u001b[1;32m--> 325\u001b[0m     \u001b[38;5;28;43mself\u001b[39;49m\u001b[38;5;241;43m.\u001b[39;49m\u001b[43mprocess_response\u001b[49m\u001b[43m(\u001b[49m\u001b[43mresponse\u001b[49m\u001b[43m)\u001b[49m\n\u001b[0;32m    326\u001b[0m \u001b[38;5;28;01mexcept\u001b[39;00m InvalidHandshake \u001b[38;5;28;01mas\u001b[39;00m exc:\n\u001b[0;32m    327\u001b[0m     response\u001b[38;5;241m.\u001b[39m_exception \u001b[38;5;241m=\u001b[39m exc\n",
      "File \u001b[1;32m~\\AppData\\Local\\Programs\\Python\\Python311\\Lib\\site-packages\\websockets\\client.py:142\u001b[0m, in \u001b[0;36mClientProtocol.process_response\u001b[1;34m(self, response)\u001b[0m\n\u001b[0;32m    130\u001b[0m \u001b[38;5;250m\u001b[39m\u001b[38;5;124;03m\"\"\"\u001b[39;00m\n\u001b[0;32m    131\u001b[0m \u001b[38;5;124;03mCheck a handshake response.\u001b[39;00m\n\u001b[0;32m    132\u001b[0m \n\u001b[1;32m   (...)\u001b[0m\n\u001b[0;32m    138\u001b[0m \n\u001b[0;32m    139\u001b[0m \u001b[38;5;124;03m\"\"\"\u001b[39;00m\n\u001b[0;32m    141\u001b[0m \u001b[38;5;28;01mif\u001b[39;00m response\u001b[38;5;241m.\u001b[39mstatus_code \u001b[38;5;241m!=\u001b[39m \u001b[38;5;241m101\u001b[39m:\n\u001b[1;32m--> 142\u001b[0m     \u001b[38;5;28;01mraise\u001b[39;00m InvalidStatus(response)\n\u001b[0;32m    144\u001b[0m headers \u001b[38;5;241m=\u001b[39m response\u001b[38;5;241m.\u001b[39mheaders\n\u001b[0;32m    146\u001b[0m connection: \u001b[38;5;28mlist\u001b[39m[ConnectionOption] \u001b[38;5;241m=\u001b[39m \u001b[38;5;28msum\u001b[39m(\n\u001b[0;32m    147\u001b[0m     [parse_connection(value) \u001b[38;5;28;01mfor\u001b[39;00m value \u001b[38;5;129;01min\u001b[39;00m headers\u001b[38;5;241m.\u001b[39mget_all(\u001b[38;5;124m\"\u001b[39m\u001b[38;5;124mConnection\u001b[39m\u001b[38;5;124m\"\u001b[39m)], []\n\u001b[0;32m    148\u001b[0m )\n",
      "\u001b[1;31mInvalidStatus\u001b[0m: server rejected WebSocket connection: HTTP 403"
     ]
    }
   ],
   "source": [
    "from hypha_rpc.sync import login, connect_to_server\n",
    "\n",
    "def callback(ctx):\n",
    "    print(\"Open this URL and authenticate:\", ctx[\"login_url\"])\n",
    "\n",
    "token = login({\n",
    "    \"server_url\": \"https://hypha.bioimage.io\",\n",
    "    \"login_callback\": callback\n",
    "})\n",
    "server = connect_to_server({\n",
    "    \"server_url\": \"https://hypha.bioimage.io\",\n",
    "    \"token\": token\n",
    "})\n"
   ]
  },
  {
   "cell_type": "code",
   "execution_count": 31,
   "id": "0725c46d-88fe-4aaa-a070-58a573066865",
   "metadata": {},
   "outputs": [
    {
     "name": "stdout",
     "output_type": "stream",
     "text": [
      "Requirement already satisfied: websocket-client in c:\\users\\solanki\\appdata\\local\\programs\\python\\python312\\lib\\site-packages (1.8.0)\n"
     ]
    },
    {
     "name": "stderr",
     "output_type": "stream",
     "text": [
      "\n",
      "[notice] A new release of pip is available: 23.2.1 -> 25.1.1\n",
      "[notice] To update, run: python.exe -m pip install --upgrade pip\n"
     ]
    }
   ],
   "source": [
    "!pip install --upgrade websocket-client\n"
   ]
  },
  {
   "cell_type": "code",
   "execution_count": 3,
   "id": "fcc05f4e-f961-4287-9c6e-1b2f32ec228f",
   "metadata": {},
   "outputs": [
    {
     "ename": "SyntaxError",
     "evalue": "invalid syntax (414311259.py, line 2)",
     "output_type": "error",
     "traceback": [
      "\u001b[1;36m  Cell \u001b[1;32mIn[3], line 2\u001b[1;36m\u001b[0m\n\u001b[1;33m    telnet hypha.bioimage.io 443\u001b[0m\n\u001b[1;37m           ^\u001b[0m\n\u001b[1;31mSyntaxError\u001b[0m\u001b[1;31m:\u001b[0m invalid syntax\n"
     ]
    }
   ],
   "source": [
    "# Can you reach port 443?\n",
    "telnet hypha.bioimage.io 443\n",
    "\n",
    "# Or inspect the certificate:\n",
    "openssl s_client -connect hypha.bioimage.io:443 \n"
   ]
  },
  {
   "cell_type": "code",
   "execution_count": null,
   "id": "16bd1c14-d747-45a5-af37-c0a265451e83",
   "metadata": {},
   "outputs": [],
   "source": []
  }
 ],
 "metadata": {
  "kernelspec": {
   "display_name": "Python 3 (ipykernel)",
   "language": "python",
   "name": "python3"
  },
  "language_info": {
   "codemirror_mode": {
    "name": "ipython",
    "version": 3
   },
   "file_extension": ".py",
   "mimetype": "text/x-python",
   "name": "python",
   "nbconvert_exporter": "python",
   "pygments_lexer": "ipython3",
   "version": "3.11.9"
  }
 },
 "nbformat": 4,
 "nbformat_minor": 5
}
